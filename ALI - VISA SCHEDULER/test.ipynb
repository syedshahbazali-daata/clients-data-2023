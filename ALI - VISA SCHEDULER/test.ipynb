{
 "cells": [
  {
   "cell_type": "code",
   "execution_count": 1,
   "metadata": {
    "collapsed": true,
    "ExecuteTime": {
     "end_time": "2023-07-02T10:09:44.541964300Z",
     "start_time": "2023-07-02T10:09:34.224907500Z"
    }
   },
   "outputs": [],
   "source": [
    "import requests\n",
    "import time\n",
    "import csv\n",
    "from selenium import webdriver\n",
    "from selenium.webdriver.chrome.options import Options\n",
    "\n",
    "# Set up Chrome options to open the developer tools\n",
    "chrome_options = Options()\n",
    "chrome_options.add_argument(\"--auto-open-devtools-for-tabs\")\n",
    "\n",
    "# Set up the Chrome driver\n",
    "\n",
    "driver = webdriver.Chrome(options=chrome_options)\n",
    "driver.get('https://ais.usvisa-info.com/en-ae/niv/users/sign_in')\n",
    "driver.maximize_window()"
   ]
  },
  {
   "cell_type": "code",
   "execution_count": 2,
   "outputs": [],
   "source": [
    "def get_file_data(file):\n",
    "    with open(file) as f:\n",
    "        data = f.read().strip()\n",
    "        my_file_data = data.split('\\n')\n",
    "\n",
    "    return my_file_data\n",
    "\n",
    "\n",
    "def find_element_click(location_of_the_element):\n",
    "    \"\"\"\n",
    "    :param location_of_the_element: XPATH of te any web element.\n",
    "    :return: Find element until it present on webpage and click on it.\n",
    "    \"\"\"\n",
    "    while True:\n",
    "        try:\n",
    "            driver.find_element(By.XPATH, location_of_the_element).click()\n",
    "            break\n",
    "        except Exception as e:\n",
    "            # print(e)\n",
    "            pass\n",
    "\n",
    "\n",
    "def find_element_send_text(location_of_the_element, type_message):\n",
    "    \"\"\"\n",
    "        :param location_of_the_element: XPATH of te any web element.\n",
    "        :return: Find element until it present on webpage and click on it.\n",
    "        \"\"\"\n",
    "    while True:\n",
    "        try:\n",
    "            driver.find_element(By.XPATH, location_of_the_element).clear()\n",
    "\n",
    "            driver.find_element(By.XPATH, location_of_the_element).send_keys(type_message)\n",
    "            break\n",
    "        except Exception as e:\n",
    "            print(e)\n",
    "        pass\n",
    "\n",
    "\n",
    "def specific_clicker(ele):\n",
    "    while True:\n",
    "        try:\n",
    "            element = driver.find_element(By.XPATH, ele)\n",
    "            webdriver.ActionChains(driver).move_to_element_with_offset(element, 1, 0).click(element).perform()\n",
    "\n",
    "            break\n",
    "        except Exception as e:\n",
    "            # print(e)\n",
    "            pass\n",
    "\n",
    "\n",
    "def specific_clicker_pass(ele):\n",
    "    try:\n",
    "        element = driver.find_element(By.XPATH, ele)\n",
    "        webdriver.ActionChains(driver).move_to_element_with_offset(element, 1, 0).click(element).perform()\n",
    "\n",
    "\n",
    "    except Exception as e:\n",
    "        # print(e)\n",
    "        pass\n",
    "\n",
    "\n",
    "def specific_clicker_with_direct(element):\n",
    "    while True:\n",
    "        try:\n",
    "\n",
    "            webdriver.ActionChains(driver).move_to_element_with_offset(element, 1, 0).click(element).perform()\n",
    "\n",
    "            break\n",
    "        except Exception as e:\n",
    "            print(e)\n",
    "            pass\n"
   ],
   "metadata": {
    "collapsed": false,
    "ExecuteTime": {
     "end_time": "2023-07-02T10:09:44.577263800Z",
     "start_time": "2023-07-02T10:09:44.557921100Z"
    }
   }
  },
  {
   "cell_type": "code",
   "execution_count": 3,
   "outputs": [
    {
     "name": "stdout",
     "output_type": "stream",
     "text": [
      "waiting for LOGIN\n",
      "waiting for LOGIN\n"
     ]
    }
   ],
   "source": [
    "from selenium.webdriver.common.by import By\n",
    "\n",
    "\n",
    "def login(email, pwd):\n",
    "    find_element_send_text('//*[@id=\"user_email\"]', email)\n",
    "    time.sleep(1)\n",
    "    find_element_send_text('//*[@id=\"user_password\"]', pwd)\n",
    "    time.sleep(1)\n",
    "    specific_clicker('//*[@id=\"policy_confirmed\"]')\n",
    "    current_url = str(driver.current_url)\n",
    "    specific_clicker('//*[@value=\"Sign In\"]')\n",
    "    while True:\n",
    "        if current_url != str(driver.current_url):\n",
    "\n",
    "            break\n",
    "        else:\n",
    "            print(\"waiting for LOGIN\")\n",
    "            time.sleep(1)\n",
    "\n",
    "login(\"Comandodelgolfojomalonper@gmail.com\", \"Jose141218.\")\n",
    "\n",
    "\n"
   ],
   "metadata": {
    "collapsed": false,
    "ExecuteTime": {
     "end_time": "2023-07-02T10:11:26.856411400Z",
     "start_time": "2023-07-02T10:10:00.263286900Z"
    }
   }
  },
  {
   "cell_type": "code",
   "execution_count": 3,
   "outputs": [],
   "source": [],
   "metadata": {
    "collapsed": false,
    "ExecuteTime": {
     "end_time": "2023-07-02T10:11:26.868378600Z",
     "start_time": "2023-07-02T10:11:26.866384400Z"
    }
   }
  },
  {
   "cell_type": "code",
   "execution_count": 7,
   "outputs": [
    {
     "name": "stdout",
     "output_type": "stream",
     "text": [
      "Searched page no: 1\n",
      "Searched page no: 2\n",
      "Searched page no: 3\n",
      "Searched page no: 4\n",
      "Searched page no: 5\n"
     ]
    }
   ],
   "source": [
    "def get_applicants_data():\n",
    "    applicants_data = {}\n",
    "\n",
    "    applicants_card = driver.find_elements(By.XPATH, \"//div[contains(@class, 'application')]\")\n",
    "    if len(applicants_card) == 0:\n",
    "        return None\n",
    "    for applicant_card_no in range(1, len(applicants_card)+1):\n",
    "        xpath = f\"(//div[contains(@class, 'application')])[{applicant_card_no}]\"\n",
    "        passport_id = str(driver.find_element(By.XPATH, xpath + \"//tbody//td[2]\").text)\n",
    "        applicant_link = str(driver.find_element(By.XPATH, xpath + \"//a[text()='Continue']\").get_attribute('href')).replace(\"continue_actions\", \"appointment\")\n",
    "        applicants_data[passport_id] = applicant_link\n",
    "\n",
    "    return applicants_data\n",
    "\n",
    "page_no = 1\n",
    "all_applicants_data = {}\n",
    "page_url= str(driver.current_url)\n",
    "while True:\n",
    "    print(f\"Searched page no: {page_no}\")\n",
    "\n",
    "    driver.get(page_url+ f\"?page={page_no}\")\n",
    "    time.sleep(2)\n",
    "    applicants_d = get_applicants_data()\n",
    "    if applicants_d is None:\n",
    "        break\n",
    "    else:\n",
    "        all_applicants_data.update(applicants_d)\n",
    "\n",
    "    page_no += 1\n"
   ],
   "metadata": {
    "collapsed": false,
    "ExecuteTime": {
     "end_time": "2023-07-02T10:14:01.705716600Z",
     "start_time": "2023-07-02T10:13:29.126607300Z"
    }
   }
  },
  {
   "cell_type": "code",
   "execution_count": 8,
   "outputs": [],
   "source": [
    "def get_appointments_data(applicant_url, cookies_):\n",
    "    url = f\"{applicant_url}/days/49.json\"\n",
    "\n",
    "    querystring = {\"appointments^\\\\[expedite^\\\\]\":\"false\"}\n",
    "\n",
    "    payload = \"\"\n",
    "    headers = {\n",
    "\n",
    "        \"Accept\": \"application/json, text/javascript, */*; q=0.01\",\n",
    "        \"Accept-Language\": \"en-US,en;q=0.9\",\n",
    "        \"Connection\": \"keep-alive\",\n",
    "        \"Cookie\": f\"{cookies_}\",\n",
    "        \"If-None-Match\": \"W/^\\^cd68d9a2b5c306e5fa0eadf994eb8154^^\",\n",
    "        \"Referer\": \"https://ais.usvisa-info.com/en-ae/niv/schedule/49718829/appointment\",\n",
    "        \"Sec-Fetch-Dest\": \"empty\",\n",
    "        \"Sec-Fetch-Mode\": \"cors\",\n",
    "        \"Sec-Fetch-Site\": \"same-origin\",\n",
    "        \"User-Agent\": \"Mozilla/5.0 (Windows NT 10.0; Win64; x64) AppleWebKit/537.36 (KHTML, like Gecko) Chrome/114.0.0.0 Safari/537.36\",\n",
    "        \"X-CSRF-Token\": \"BgTdyPY+9EL4kTNUYOUI/uru2SdSb7Hwm/RUIX4XgMzntg/7vJtJAy3N+GjYbFQfGezbpcCNSHh3szA2pPnFEA==\",\n",
    "        \"X-Requested-With\": \"XMLHttpRequest\",\n",
    "        \"sec-ch-ua\": \"^\\^Not.A/Brand^^;v=^\\^8^^, ^\\^Chromium^^;v=^\\^114^^, ^\\^Google\",\n",
    "        \"sec-ch-ua-mobile\": \"?0\",\n",
    "        \"sec-ch-ua-platform\": \"^\\^Windows^^\"\n",
    "    }\n",
    "\n",
    "    response = requests.request(\"GET\", url, data=payload, headers=headers, params=querystring)\n",
    "    try:\n",
    "        response_data = response.json()\n",
    "    except:\n",
    "        response_data = response.text\n",
    "    return response_data"
   ],
   "metadata": {
    "collapsed": false,
    "ExecuteTime": {
     "end_time": "2023-07-02T10:20:45.144524600Z",
     "start_time": "2023-07-02T10:20:45.140534200Z"
    }
   }
  },
  {
   "cell_type": "code",
   "execution_count": 9,
   "outputs": [],
   "source": [
    "applicant_url_x = all_applicants_data['RD5898910']\n",
    "driver.get(applicant_url_x)\n",
    "time.sleep(2)\n",
    "# Retrieve the network requests\n",
    "cookies_data = driver.get_cookies()\n",
    "cookies_string = \"\"\n",
    "for i in cookies_data:\n",
    "    cookies_string += i[\"name\"] + \"=\" + i[\"value\"] + \"; \"\n",
    "\n",
    "appointments_dates = get_appointments_data(applicant_url_x, cookies_string)\n",
    "appointments_dates_data = [x['date'] for x in appointments_dates]"
   ],
   "metadata": {
    "collapsed": false,
    "ExecuteTime": {
     "end_time": "2023-07-02T10:21:01.190555700Z",
     "start_time": "2023-07-02T10:20:55.199920900Z"
    }
   }
  },
  {
   "cell_type": "code",
   "execution_count": 10,
   "outputs": [
    {
     "data": {
      "text/plain": "['2024-10-09',\n '2024-10-16',\n '2024-10-21',\n '2024-10-22',\n '2024-10-23',\n '2024-10-24',\n '2024-10-28',\n '2024-10-29',\n '2024-10-30',\n '2024-10-31',\n '2024-11-04',\n '2024-11-05',\n '2024-11-06',\n '2024-11-07',\n '2024-11-11',\n '2024-11-12',\n '2024-11-13',\n '2024-11-14',\n '2024-11-18',\n '2024-11-19',\n '2024-11-20']"
     },
     "execution_count": 10,
     "metadata": {},
     "output_type": "execute_result"
    }
   ],
   "source": [],
   "metadata": {
    "collapsed": false,
    "ExecuteTime": {
     "end_time": "2023-07-02T10:21:05.371388400Z",
     "start_time": "2023-07-02T10:21:05.335330Z"
    }
   }
  },
  {
   "cell_type": "code",
   "execution_count": 15,
   "outputs": [],
   "source": [],
   "metadata": {
    "collapsed": false,
    "ExecuteTime": {
     "end_time": "2023-07-02T10:24:41.583682Z",
     "start_time": "2023-07-02T10:24:41.562626900Z"
    }
   }
  },
  {
   "cell_type": "code",
   "execution_count": 18,
   "outputs": [],
   "source": [],
   "metadata": {
    "collapsed": false,
    "ExecuteTime": {
     "end_time": "2023-07-02T10:26:14.582509300Z",
     "start_time": "2023-07-02T10:26:10.735424700Z"
    }
   }
  },
  {
   "cell_type": "code",
   "execution_count": 19,
   "outputs": [],
   "source": [],
   "metadata": {
    "collapsed": false,
    "ExecuteTime": {
     "end_time": "2023-07-02T10:27:20.919243700Z",
     "start_time": "2023-07-02T10:27:20.821194200Z"
    }
   }
  },
  {
   "cell_type": "code",
   "execution_count": 25,
   "outputs": [
    {
     "data": {
      "text/plain": "True"
     },
     "execution_count": 25,
     "metadata": {},
     "output_type": "execute_result"
    }
   ],
   "source": [
    "def select_available_datetime(datetime_x):\n",
    "    # execute a script to change input value\n",
    "    driver.execute_script(f\"document.getElementById('appointments_consulate_appointment_date').value = '{datetime_x}'\")\n",
    "\n",
    "    specific_clicker('//input[@id=\"appointments_consulate_appointment_date\"]')\n",
    "    while True:\n",
    "        try:\n",
    "            driver.find_element(By.XPATH, '//a[@class=\"ui-state-default ui-state-active\"]')\n",
    "            specific_clicker('//a[@class=\"ui-state-default ui-state-active\"]')\n",
    "        except:\n",
    "            break\n",
    "    time.sleep(2)\n",
    "    try:\n",
    "        driver.find_element(By.XPATH, '//select[@id=\"appointments_consulate_appointment_time\"]/option[@value]').click()\n",
    "    except:\n",
    "        return False\n",
    "\n",
    "    return True\n",
    "\n",
    "\n",
    "\n"
   ],
   "metadata": {
    "collapsed": false,
    "ExecuteTime": {
     "end_time": "2023-07-02T10:34:59.491911300Z",
     "start_time": "2023-07-02T10:34:55.339246200Z"
    }
   }
  },
  {
   "cell_type": "code",
   "execution_count": 26,
   "outputs": [],
   "source": [],
   "metadata": {
    "collapsed": false,
    "ExecuteTime": {
     "end_time": "2023-07-02T10:50:20.260480900Z",
     "start_time": "2023-07-02T10:50:18.628227100Z"
    }
   }
  },
  {
   "cell_type": "code",
   "execution_count": null,
   "outputs": [],
   "source": [],
   "metadata": {
    "collapsed": false
   }
  }
 ],
 "metadata": {
  "kernelspec": {
   "display_name": "Python 3",
   "language": "python",
   "name": "python3"
  },
  "language_info": {
   "codemirror_mode": {
    "name": "ipython",
    "version": 2
   },
   "file_extension": ".py",
   "mimetype": "text/x-python",
   "name": "python",
   "nbconvert_exporter": "python",
   "pygments_lexer": "ipython2",
   "version": "2.7.6"
  }
 },
 "nbformat": 4,
 "nbformat_minor": 0
}
