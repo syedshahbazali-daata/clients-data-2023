{
 "cells": [
  {
   "cell_type": "code",
   "execution_count": 20,
   "metadata": {
    "collapsed": true,
    "ExecuteTime": {
     "start_time": "2023-04-14T19:54:54.640183Z",
     "end_time": "2023-04-14T19:54:54.685695Z"
    }
   },
   "outputs": [],
   "source": [
    "import csv\n",
    "import json\n",
    "\n",
    "def read_json(path):\n",
    "    with open(path, 'r', encoding='utf-8') as f:\n",
    "        return json.load(f)\n",
    "\n",
    "\n",
    "json_file_1 = read_json('100.json')\n",
    "json_file_2 = read_json('200.json')\n",
    "json_file_3 = read_json('289.json')\n",
    "\n",
    "# marge all json files into one list\n",
    "json_file = json_file_1 + json_file_2 + json_file_3\n",
    "\n"
   ]
  },
  {
   "cell_type": "code",
   "execution_count": 24,
   "outputs": [
    {
     "name": "stdout",
     "output_type": "stream",
     "text": [
      "<class 'list'>\n"
     ]
    }
   ],
   "source": [
    "print(type(json_file))\n",
    "for single_row in json_file:\n",
    "    try:\n",
    "        url = single_row['url']\n",
    "        asin = single_row['asin']\n",
    "        title = single_row['title']\n",
    "        brand = single_row['brand']\n",
    "        images = single_row['images']\n",
    "        images = \", \".join(images)\n",
    "        price = single_row['price']['priceAmount']\n",
    "        description = single_row['description']\n",
    "        variants = single_row['variants']\n",
    "\n",
    "        record = [url, asin, title, brand, images, price, description]\n",
    "\n",
    "        with open('output.csv', 'a', encoding='utf-8',newline='') as f:\n",
    "                writer = csv.writer(f)\n",
    "                writer.writerow(record)\n",
    "        for single_variant in variants:\n",
    "            variant_url = single_variant['url']\n",
    "            variant_asin = single_variant['asin']\n",
    "            variant_title = single_variant['title']\n",
    "            # title str replace anything inside the brackets with variant_title\n",
    "            try:\n",
    "                new_variant_title = title.split('(')[0] + '(' + variant_title + ')'\n",
    "            except:\n",
    "                new_variant_title = title + '(' + variant_title + ')'\n",
    "\n",
    "            record_variant = [variant_url, variant_asin, new_variant_title, brand, images, price, description]\n",
    "            with open('output.csv', 'a', encoding='utf-8',newline='') as f:\n",
    "                writer = csv.writer(f)\n",
    "                writer.writerow(record_variant)\n",
    "    except:\n",
    "        pass\n",
    "\n",
    "\n"
   ],
   "metadata": {
    "collapsed": false,
    "ExecuteTime": {
     "start_time": "2023-04-14T19:55:58.188067Z",
     "end_time": "2023-04-14T19:55:58.816451Z"
    }
   }
  },
  {
   "cell_type": "code",
   "execution_count": 12,
   "outputs": [],
   "source": [],
   "metadata": {
    "collapsed": false,
    "ExecuteTime": {
     "start_time": "2023-04-14T19:38:31.840969Z",
     "end_time": "2023-04-14T19:38:31.847944Z"
    }
   }
  },
  {
   "cell_type": "code",
   "execution_count": 13,
   "outputs": [
    {
     "name": "stdout",
     "output_type": "stream",
     "text": [
      "289\n"
     ]
    }
   ],
   "source": [],
   "metadata": {
    "collapsed": false,
    "ExecuteTime": {
     "start_time": "2023-04-14T19:38:37.902065Z",
     "end_time": "2023-04-14T19:38:37.940193Z"
    }
   }
  },
  {
   "cell_type": "code",
   "execution_count": 25,
   "outputs": [],
   "source": [
    "import pandas as pd"
   ],
   "metadata": {
    "collapsed": false,
    "ExecuteTime": {
     "start_time": "2023-04-14T23:18:40.601685Z",
     "end_time": "2023-04-14T23:18:43.312215Z"
    }
   }
  },
  {
   "cell_type": "code",
   "execution_count": 26,
   "outputs": [],
   "source": [
    "df_1 = pd.read_csv('output.csv')\n",
    "df_2 = pd.read_csv('prices.csv')"
   ],
   "metadata": {
    "collapsed": false,
    "ExecuteTime": {
     "start_time": "2023-04-14T23:19:30.232935Z",
     "end_time": "2023-04-14T23:19:30.310880Z"
    }
   }
  },
  {
   "cell_type": "code",
   "execution_count": 27,
   "outputs": [],
   "source": [
    "# remove PRICE column from df_1\n",
    "df_1.drop('PRICE', axis=1, inplace=True)"
   ],
   "metadata": {
    "collapsed": false,
    "ExecuteTime": {
     "start_time": "2023-04-14T23:19:50.621253Z",
     "end_time": "2023-04-14T23:19:50.676109Z"
    }
   }
  },
  {
   "cell_type": "code",
   "execution_count": 29,
   "outputs": [],
   "source": [
    "# merge df_1 and df_2 on URL column and if there is no match, fill NaN with 0\n",
    "df_3 = pd.merge(df_1, df_2, on='URL', how='left').fillna(0)"
   ],
   "metadata": {
    "collapsed": false,
    "ExecuteTime": {
     "start_time": "2023-04-14T23:20:48.453006Z",
     "end_time": "2023-04-14T23:20:48.485232Z"
    }
   }
  },
  {
   "cell_type": "code",
   "execution_count": 31,
   "outputs": [],
   "source": [
    "\n",
    "\n",
    "# save df_3 to csv\n",
    "df_3.to_csv('new_output.csv', index=False)\n"
   ],
   "metadata": {
    "collapsed": false,
    "ExecuteTime": {
     "start_time": "2023-04-14T23:21:15.051562Z",
     "end_time": "2023-04-14T23:21:15.199796Z"
    }
   }
  },
  {
   "cell_type": "code",
   "execution_count": null,
   "outputs": [],
   "source": [],
   "metadata": {
    "collapsed": false
   }
  }
 ],
 "metadata": {
  "kernelspec": {
   "display_name": "Python 3",
   "language": "python",
   "name": "python3"
  },
  "language_info": {
   "codemirror_mode": {
    "name": "ipython",
    "version": 2
   },
   "file_extension": ".py",
   "mimetype": "text/x-python",
   "name": "python",
   "nbconvert_exporter": "python",
   "pygments_lexer": "ipython2",
   "version": "2.7.6"
  }
 },
 "nbformat": 4,
 "nbformat_minor": 0
}
