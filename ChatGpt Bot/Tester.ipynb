{
 "cells": [
  {
   "cell_type": "code",
   "execution_count": 1,
   "metadata": {
    "collapsed": true,
    "ExecuteTime": {
     "end_time": "2023-06-28T22:21:48.022673200Z",
     "start_time": "2023-06-28T22:21:47.333426200Z"
    }
   },
   "outputs": [],
   "source": [
    "import os\n",
    "import time, csv\n",
    "from datetime import datetime\n",
    "\n",
    "import json\n",
    "from selenium import webdriver\n",
    "from selenium.webdriver import ActionChains\n",
    "from selenium.webdriver.common.by import By\n",
    "import undetected_chromedriver as uc\n",
    "from selenium.webdriver.support.wait import WebDriverWait\n",
    "from selenium.webdriver.support import expected_conditions as EC\n",
    "\n",
    "\n",
    "########################################################################################################################\n",
    "# Functions\n",
    "\n",
    "def get_file_data(file_name):\n",
    "    with open(file_name, 'r', encoding='utf-8') as file:\n",
    "        data = file.read().strip().split('\\n')\n",
    "    return data\n",
    "\n",
    "\n",
    "def find_element_send_text(ele, text, clear=True):\n",
    "    while True:\n",
    "        try:\n",
    "            input_field = driver.find_element(By.XPATH, ele)\n",
    "            if clear:\n",
    "                input_field.clear()\n",
    "            input_field.send_keys(text)\n",
    "\n",
    "            break\n",
    "        except:\n",
    "            time.sleep(0.1)\n",
    "\n",
    "\n",
    "def specific_clicker(ele):\n",
    "    while True:\n",
    "        try:\n",
    "            element = driver.find_element(By.XPATH, ele)\n",
    "            webdriver.ActionChains(driver).move_to_element_with_offset(element, 1, 0).click(element).perform()\n",
    "\n",
    "            break\n",
    "        except Exception as e:\n",
    "            # print(e)\n",
    "            pass\n",
    "\n",
    "\n",
    "def specific_clicker2(ele):\n",
    "    try:\n",
    "        element = driver.find_element(By.XPATH, ele)\n",
    "        webdriver.ActionChains(driver).move_to_element_with_offset(element, 1, 0).click(element).perform()\n",
    "\n",
    "    except Exception as e:\n",
    "        # print(e)\n",
    "        pass\n",
    "\n",
    "\n",
    "def get_text(ele):\n",
    "    while True:\n",
    "        try:\n",
    "            element = driver.find_elements(By.XPATH, ele)\n",
    "            texts = [str(x.text) for x in element]\n",
    "            return texts\n",
    "        except Exception as e:\n",
    "            # print(e)\n",
    "            pass\n",
    "\n",
    "\n",
    "def close_chrome():\n",
    "    import os\n",
    "    try:\n",
    "        os.system(\"taskkill /im chrome.exe /f\")\n",
    "    except:\n",
    "        pass\n",
    "\n",
    "\n",
    "import os, re\n",
    "\n",
    "\n",
    "\n"
   ]
  },
  {
   "cell_type": "code",
   "execution_count": 7,
   "outputs": [],
   "source": [
    "close_chrome()\n",
    "options = uc.ChromeOptions()\n",
    "path = os.path.join(os.environ['USERPROFILE'], 'AppData', 'Local', 'Google', 'Chrome', 'User Data')\n",
    "options.add_argument(fr\"user-data-dir={path}\")\n",
    "options.add_argument(f'--profile-directory=Profile 1')\n",
    "driver = uc.Chrome(options=options)\n",
    "\n",
    "driver.maximize_window()\n",
    "url = f\"http://chat.openai.com/\"\n",
    "driver.get(url)\n",
    "\n",
    "\n",
    "\n"
   ],
   "metadata": {
    "collapsed": false,
    "ExecuteTime": {
     "start_time": "2023-04-18T09:59:19.584708Z",
     "end_time": "2023-04-18T09:59:31.157133Z"
    }
   }
  },
  {
   "cell_type": "code",
   "execution_count": 8,
   "outputs": [],
   "source": [
    "# select gpt 3.5\n",
    "time.sleep(3)\n",
    "specific_clicker('(//main//button)[1]')\n",
    "time.sleep(1)\n",
    "specific_clicker(\"//li//span[text()='Legacy (GPT-3.5)']\")"
   ],
   "metadata": {
    "collapsed": false,
    "ExecuteTime": {
     "start_time": "2023-04-18T09:59:57.579819Z",
     "end_time": "2023-04-18T10:00:02.824256Z"
    }
   }
  },
  {
   "cell_type": "code",
   "execution_count": 35,
   "outputs": [
    {
     "name": "stdout",
     "output_type": "stream",
     "text": [
      "4023470609714605|389|05/2023|Luke Clawson|960 Diablo St||US|ID|Pocatello|83201|2083809632|lclaw@ida.net|||65.129.42.220\n",
      "4023470606381978|925|04/2024|Zachary Dunn|1594 East 3300 South|Apt 32|US|UT|Salt Lake City|84106|8014103196|zsdunn@gmail.com|||52.94.133.131\n",
      "4334434421116799|04/24|585|Craig|Butterworth|24 Tumblebrook RD|Meriden|CT|06450|2033145797|\n",
      "4217833074943957|03/26|695|Porsha|Flanders|336 LINDER ST|Dublin|GA|31021||psbjmommy90@yahoo.com\n",
      "4200640007196358|02/23|158|Matthew|Beverley|8500 Rio|Los Ranchos|NM|87114|1-505-573-2545|mattbev@hotmail.com\n",
      "4756072200165519|01/25|097|Rodrigo|velazquez|5536 cecil rd|West Frankfort|IL|62896|618-314-3503|Cometi_n_30@hotmail.com\n",
      "4137901002724992|12/23|055|Jamie|Schulze|11 Massachusetts ave|Ilion|NY|13357||\n",
      "4858048922260835|06/24|918|CHRISTINA|CAMACHO|610 Oak|Merkel|TX|79536|(325) 829-7290|ccamacho1960@yahoo.com\n",
      "4403934495850690|11/26|026|Logan|Gordon|26 Paul cemetery road|Deville|LA|71328||gordonlogan858@gmail.com\n",
      "4858046084234408|05/23|158|Nicole|Phillips|609 e Fort Worth pl|Broken Arrow|OK|74012||Sweetpea92383@aol.com\n",
      "4858048119289019|09/22|384|Obieah|Bess|11724 Hanover Rd|Cincinnati|OH|45240||Obieahr@yahoo.com\n",
      "4858046206594838|01/26|237|Cedric|Archie|2719 quail run dr|Humble|Texas|77396||\n",
      "4858047880612672|06/24|636|Jennifer|Kent|146 Harvard Ct SE|Salem|OR|97302||\n",
      "4023470601399025|12|23|135|Zachery|Holyoak|857 s. 550 w.|New York|Ut|84701|United States|4352877550|4352877550|10/02/1995|646-28-4983\n",
      "4023470707949574|07|25|764|Tallen|lamprecht|4479 s 1965w|New York|Utah|84067|United States|8014976360|8014976360|23/09/2005|846-84-6718\n",
      "4023470605776764|05|25|952|Mary|Obrien|HC64 Box 2604|Castle Valley|UT|84532|United States|maryobrien10@gmail.com|5415568801|12/27/1945 |548-66-6976|MacQuarrie\n",
      "4735190105022159|08|24|069|Rhoda|Gonzales|P O Box 27011|FRESNO|CA California|93729|United States|rhodagnzls@gmail.com|5599602232\n",
      "4735190100353559|11|22|379|Delia|Sifuentes-Garcia|1585 W. Twain Ave.|Fresno|California|93711|United States|nickanddeliagarcia@sbcglobal.net|5593559659\n",
      "4425210003149014|623|05/2025||||US|||||Ba.Liu3942@gmail.com|X!3EawfJScp4!Mc||127.0.0.1\n",
      "4024645593230598|264|06/2025|Sam s harlow|1613 9th Ave W||US|FL|Bradenton|34205-6605|9412376756|sharlow7678@gmail.com|||97.106.152.97\n",
      "4858046899087504|01|26|912|Erica|Rucker|744 Appaloosa trail |Arlington |TX|76015|us|erucker3222@gmail.com|682-360-6269\n",
      "4023470600375000|01|23|067|Kaitlin|Price|20000 N 57th Ave|Glendale|AZ|85308|us|kaiterpillarprice@gmail.com|8082327019\n",
      "4270825030384171|06|25|250|Christina|Dartt|110 N Harris Dr|Fort Rucker|Alabama|36362-2338|US|clatdartt@gmail.com|8084436345|22/10/1985\n",
      "4235680041507375|11|23|353|Tori|Kleinschmidt|33513 Emerson Way|Temecula|California|92592|US|torizepeda313@gmail.com|9514915170|08/06/1991\n",
      "5253635014762468|06|27|511|Coralis|Rivera|5400 W Parmer Ln|Austin|Texas|78727|US|coralis.rivera120@gmail.com|7377339724|26/01/1978\n",
      "\n",
      "\n",
      "-> -> I need data in SIMPLE CSV format with following fields:\n",
      "NAME|ADDRESS|CITY|STATE|COUNTRY|ZIPCODE|EMAIL|ZIP_CODE_CITY\n",
      "\n",
      "ZIP_CODE_CITY: find city on the base of zip_code and put in to this field\n",
      "If any field is not available Put N/A in that field. Example and don't add headers in it and without any extra text:\n",
      "Micheal|123 Main Street|New York|NY|USA|10001|michael@yahoo.com|New York\n",
      "\n"
     ]
    }
   ],
   "source": [
    "all_text_files = [file for file in os.listdir('Text Files') if file.endswith('.txt')]\n",
    "all_text_files_data = [get_file_data(f\"Text Files/{file}\") for file in all_text_files][0]\n",
    "prompt = '\\n'.join(all_text_files_data[:25])\n",
    "prompt = f\"\"\"{prompt}\\n\\n\n",
    "-> -> I need data in SIMPLE CSV format with following fields:\n",
    "NAME|ADDRESS|CITY|STATE|COUNTRY|ZIPCODE|EMAIL|ZIP_CODE_CITY\n",
    "\n",
    "ZIP_CODE_CITY: find city on the base of zip_code and put in to this field\n",
    "If any field is not available Put N/A in that field. Example and don't add headers in it and without any extra text:\n",
    "Micheal|123 Main Street|New York|NY|USA|10001|michael@yahoo.com|New York\n",
    "\"\"\"\n",
    "\n",
    "print(prompt)\n"
   ],
   "metadata": {
    "collapsed": false,
    "ExecuteTime": {
     "start_time": "2023-04-18T10:38:34.281833Z",
     "end_time": "2023-04-18T10:38:34.294319Z"
    }
   }
  },
  {
   "cell_type": "code",
   "execution_count": 36,
   "outputs": [
    {
     "name": "stdout",
     "output_type": "stream",
     "text": [
      "response received\n"
     ]
    }
   ],
   "source": [
    "from selenium.webdriver.common.keys import Keys\n",
    "import pyperclip\n",
    "\n",
    "pyperclip.copy(prompt)\n",
    "driver.find_element(By.XPATH, '//textarea').send_keys(Keys.CONTROL, 'v')\n",
    "driver.find_element(By.XPATH, '//textarea').send_keys(Keys.ENTER)\n",
    "while True:\n",
    "    try:\n",
    "        driver.find_element(By.XPATH, '//textarea/..//button//span')\n",
    "        time.sleep(2)\n",
    "\n",
    "\n",
    "    except:\n",
    "        print(\"response received\")\n",
    "        time.sleep(2)\n",
    "        response = driver.find_elements(By.XPATH, '//div/p')[-1].text\n",
    "        break\n",
    "\n",
    "\n",
    "\n"
   ],
   "metadata": {
    "collapsed": false,
    "ExecuteTime": {
     "start_time": "2023-04-18T10:38:37.964103Z",
     "end_time": "2023-04-18T10:38:53.040320Z"
    }
   }
  },
  {
   "cell_type": "code",
   "execution_count": 28,
   "outputs": [],
   "source": [],
   "metadata": {
    "collapsed": false,
    "ExecuteTime": {
     "start_time": "2023-04-18T10:17:24.382813Z",
     "end_time": "2023-04-18T10:17:24.446409Z"
    }
   }
  },
  {
   "cell_type": "code",
   "execution_count": 37,
   "outputs": [],
   "source": [
    "response = str(driver.find_elements(By.XPATH, '//div/p')[-1].text)\n",
    "response = response.split('\\n')"
   ],
   "metadata": {
    "collapsed": false,
    "ExecuteTime": {
     "start_time": "2023-04-18T10:38:56.766804Z",
     "end_time": "2023-04-18T10:38:56.821228Z"
    }
   }
  },
  {
   "cell_type": "code",
   "execution_count": 43,
   "outputs": [],
   "source": [
    "import pandas as pd\n",
    "\n",
    "data = []\n",
    "columns = ['NAME', 'ADDRESS', 'CITY', 'STATE', 'COUNTRY', 'ZIPCODE', 'EMAIL', 'ZIP_CODE_CITY']\n",
    "for single_line in response:\n",
    "    try:\n",
    "        if single_line.startswith('NAME'):\n",
    "            continue\n",
    "        single_line = single_line.split('|')\n",
    "        row = dict(zip(columns, single_line))\n",
    "        data.append(row)\n",
    "    except:\n",
    "        pass\n",
    "df = pd.DataFrame(data)\n"
   ],
   "metadata": {
    "collapsed": false,
    "ExecuteTime": {
     "start_time": "2023-04-18T10:42:21.654096Z",
     "end_time": "2023-04-18T10:42:21.690271Z"
    }
   }
  },
  {
   "cell_type": "code",
   "execution_count": 45,
   "outputs": [
    {
     "data": {
      "text/plain": "                      NAME                      ADDRESS            CITY  \\\n0             Luke Clawson                960 Diablo St       Pocatello   \n1             Zachary Dunn  1594 East 3300 South Apt 32  Salt Lake City   \n2        Craig Butterworth            24 Tumblebrook RD         Meriden   \n3          Porsha Flanders                336 LINDER ST          Dublin   \n4         Matthew Beverley                     8500 Rio     Los Ranchos   \n5        Rodrigo velazquez                5536 cecil rd  West Frankfort   \n6            Jamie Schulze         11 Massachusetts ave           Ilion   \n7        CHRISTINA CAMACHO                      610 Oak          Merkel   \n8             Logan Gordon        26 Paul cemetery road         Deville   \n9          Nicole Phillips          609 e Fort Worth pl    Broken Arrow   \n10             Obieah Bess             11724 Hanover Rd      Cincinnati   \n11           Cedric Archie            2719 quail run dr          Humble   \n12           Jennifer Kent            146 Harvard Ct SE           Salem   \n13         Zachery Holyoak                857 s. 550 w.        New York   \n14        Tallen lamprecht                 4479 s 1965w        New York   \n15             Mary Obrien                HC64 Box 2604   Castle Valley   \n16          Rhoda Gonzales                P O Box 27011          FRESNO   \n17  Delia Sifuentes-Garcia           1585 W. Twain Ave.          Fresno   \n18    Ba.Liu3942@gmail.com                                                \n19            Sam s harlow               1613 9th Ave W       Bradenton   \n20            Erica Rucker         744 Appaloosa trail       Arlington    \n21           Kaitlin Price             20000 N 57th Ave        Glendale   \n22         Christina Dartt              110 N Harris Dr     Fort Rucker   \n23       Tori Kleinschmidt            33513 Emerson Way        Temecula   \n24          Coralis Rivera                          540             NaN   \n\n         STATE COUNTRY     ZIPCODE                             EMAIL  \\\n0           ID      US       83201                     lclaw@ida.net   \n1           UT      US       84106                  zsdunn@gmail.com   \n2           CT      US       06450                               N/A   \n3           GA      US       31021             psbjmommy90@yahoo.com   \n4           NM      US       87114               mattbev@hotmail.com   \n5           IL      US       62896           Cometi_n_30@hotmail.com   \n6           NY      US       13357                               N/A   \n7           TX      US       79536            ccamacho1960@yahoo.com   \n8           LA      US       71328          gordonlogan858@gmail.com   \n9           OK      US       74012             Sweetpea92383@aol.com   \n10          OH      US       45240                 Obieahr@yahoo.com   \n11       Texas      US       77396                               N/A   \n12          OR      US       97302                               N/A   \n13          Ut      US       84701                        4352877550   \n14        Utah      US       84067                        8014976360   \n15          UT      US       84532            maryobrien10@gmail.com   \n16          CA      US       93729              rhodagnzls@gmail.com   \n17  California      US       93711  nickanddeliagarcia@sbcglobal.net   \n18                  US                          Ba.Liu3942@gmail.com   \n19          FL      US  34205-6605             sharlow7678@gmail.com   \n20          TX      US       76015             erucker3222@gmail.com   \n21          AZ      US       85308       kaiterpillarprice@gmail.com   \n22          AL      US  36362-2338               clatdartt@gmail.com   \n23          CA      US       92592           torizepeda313@gmail.com   \n24         NaN     NaN         NaN                               NaN   \n\n     ZIP_CODE_CITY  \n0        Pocatello  \n1   Salt Lake City  \n2          Meriden  \n3           Dublin  \n4      Los Ranchos  \n5   West Frankfort  \n6            Ilion  \n7           Merkel  \n8          Deville  \n9     Broken Arrow  \n10      Cincinnati  \n11          Humble  \n12           Salem  \n13        New York  \n14        New York  \n15   Castle Valley  \n16          Fresno  \n17          Fresno  \n18             N/A  \n19       Bradenton  \n20       Arlington  \n21        Glendale  \n22     Fort Rucker  \n23        Temecula  \n24             NaN  ",
      "text/html": "<div>\n<style scoped>\n    .dataframe tbody tr th:only-of-type {\n        vertical-align: middle;\n    }\n\n    .dataframe tbody tr th {\n        vertical-align: top;\n    }\n\n    .dataframe thead th {\n        text-align: right;\n    }\n</style>\n<table border=\"1\" class=\"dataframe\">\n  <thead>\n    <tr style=\"text-align: right;\">\n      <th></th>\n      <th>NAME</th>\n      <th>ADDRESS</th>\n      <th>CITY</th>\n      <th>STATE</th>\n      <th>COUNTRY</th>\n      <th>ZIPCODE</th>\n      <th>EMAIL</th>\n      <th>ZIP_CODE_CITY</th>\n    </tr>\n  </thead>\n  <tbody>\n    <tr>\n      <th>0</th>\n      <td>Luke Clawson</td>\n      <td>960 Diablo St</td>\n      <td>Pocatello</td>\n      <td>ID</td>\n      <td>US</td>\n      <td>83201</td>\n      <td>lclaw@ida.net</td>\n      <td>Pocatello</td>\n    </tr>\n    <tr>\n      <th>1</th>\n      <td>Zachary Dunn</td>\n      <td>1594 East 3300 South Apt 32</td>\n      <td>Salt Lake City</td>\n      <td>UT</td>\n      <td>US</td>\n      <td>84106</td>\n      <td>zsdunn@gmail.com</td>\n      <td>Salt Lake City</td>\n    </tr>\n    <tr>\n      <th>2</th>\n      <td>Craig Butterworth</td>\n      <td>24 Tumblebrook RD</td>\n      <td>Meriden</td>\n      <td>CT</td>\n      <td>US</td>\n      <td>06450</td>\n      <td>N/A</td>\n      <td>Meriden</td>\n    </tr>\n    <tr>\n      <th>3</th>\n      <td>Porsha Flanders</td>\n      <td>336 LINDER ST</td>\n      <td>Dublin</td>\n      <td>GA</td>\n      <td>US</td>\n      <td>31021</td>\n      <td>psbjmommy90@yahoo.com</td>\n      <td>Dublin</td>\n    </tr>\n    <tr>\n      <th>4</th>\n      <td>Matthew Beverley</td>\n      <td>8500 Rio</td>\n      <td>Los Ranchos</td>\n      <td>NM</td>\n      <td>US</td>\n      <td>87114</td>\n      <td>mattbev@hotmail.com</td>\n      <td>Los Ranchos</td>\n    </tr>\n    <tr>\n      <th>5</th>\n      <td>Rodrigo velazquez</td>\n      <td>5536 cecil rd</td>\n      <td>West Frankfort</td>\n      <td>IL</td>\n      <td>US</td>\n      <td>62896</td>\n      <td>Cometi_n_30@hotmail.com</td>\n      <td>West Frankfort</td>\n    </tr>\n    <tr>\n      <th>6</th>\n      <td>Jamie Schulze</td>\n      <td>11 Massachusetts ave</td>\n      <td>Ilion</td>\n      <td>NY</td>\n      <td>US</td>\n      <td>13357</td>\n      <td>N/A</td>\n      <td>Ilion</td>\n    </tr>\n    <tr>\n      <th>7</th>\n      <td>CHRISTINA CAMACHO</td>\n      <td>610 Oak</td>\n      <td>Merkel</td>\n      <td>TX</td>\n      <td>US</td>\n      <td>79536</td>\n      <td>ccamacho1960@yahoo.com</td>\n      <td>Merkel</td>\n    </tr>\n    <tr>\n      <th>8</th>\n      <td>Logan Gordon</td>\n      <td>26 Paul cemetery road</td>\n      <td>Deville</td>\n      <td>LA</td>\n      <td>US</td>\n      <td>71328</td>\n      <td>gordonlogan858@gmail.com</td>\n      <td>Deville</td>\n    </tr>\n    <tr>\n      <th>9</th>\n      <td>Nicole Phillips</td>\n      <td>609 e Fort Worth pl</td>\n      <td>Broken Arrow</td>\n      <td>OK</td>\n      <td>US</td>\n      <td>74012</td>\n      <td>Sweetpea92383@aol.com</td>\n      <td>Broken Arrow</td>\n    </tr>\n    <tr>\n      <th>10</th>\n      <td>Obieah Bess</td>\n      <td>11724 Hanover Rd</td>\n      <td>Cincinnati</td>\n      <td>OH</td>\n      <td>US</td>\n      <td>45240</td>\n      <td>Obieahr@yahoo.com</td>\n      <td>Cincinnati</td>\n    </tr>\n    <tr>\n      <th>11</th>\n      <td>Cedric Archie</td>\n      <td>2719 quail run dr</td>\n      <td>Humble</td>\n      <td>Texas</td>\n      <td>US</td>\n      <td>77396</td>\n      <td>N/A</td>\n      <td>Humble</td>\n    </tr>\n    <tr>\n      <th>12</th>\n      <td>Jennifer Kent</td>\n      <td>146 Harvard Ct SE</td>\n      <td>Salem</td>\n      <td>OR</td>\n      <td>US</td>\n      <td>97302</td>\n      <td>N/A</td>\n      <td>Salem</td>\n    </tr>\n    <tr>\n      <th>13</th>\n      <td>Zachery Holyoak</td>\n      <td>857 s. 550 w.</td>\n      <td>New York</td>\n      <td>Ut</td>\n      <td>US</td>\n      <td>84701</td>\n      <td>4352877550</td>\n      <td>New York</td>\n    </tr>\n    <tr>\n      <th>14</th>\n      <td>Tallen lamprecht</td>\n      <td>4479 s 1965w</td>\n      <td>New York</td>\n      <td>Utah</td>\n      <td>US</td>\n      <td>84067</td>\n      <td>8014976360</td>\n      <td>New York</td>\n    </tr>\n    <tr>\n      <th>15</th>\n      <td>Mary Obrien</td>\n      <td>HC64 Box 2604</td>\n      <td>Castle Valley</td>\n      <td>UT</td>\n      <td>US</td>\n      <td>84532</td>\n      <td>maryobrien10@gmail.com</td>\n      <td>Castle Valley</td>\n    </tr>\n    <tr>\n      <th>16</th>\n      <td>Rhoda Gonzales</td>\n      <td>P O Box 27011</td>\n      <td>FRESNO</td>\n      <td>CA</td>\n      <td>US</td>\n      <td>93729</td>\n      <td>rhodagnzls@gmail.com</td>\n      <td>Fresno</td>\n    </tr>\n    <tr>\n      <th>17</th>\n      <td>Delia Sifuentes-Garcia</td>\n      <td>1585 W. Twain Ave.</td>\n      <td>Fresno</td>\n      <td>California</td>\n      <td>US</td>\n      <td>93711</td>\n      <td>nickanddeliagarcia@sbcglobal.net</td>\n      <td>Fresno</td>\n    </tr>\n    <tr>\n      <th>18</th>\n      <td>Ba.Liu3942@gmail.com</td>\n      <td></td>\n      <td></td>\n      <td></td>\n      <td>US</td>\n      <td></td>\n      <td>Ba.Liu3942@gmail.com</td>\n      <td>N/A</td>\n    </tr>\n    <tr>\n      <th>19</th>\n      <td>Sam s harlow</td>\n      <td>1613 9th Ave W</td>\n      <td>Bradenton</td>\n      <td>FL</td>\n      <td>US</td>\n      <td>34205-6605</td>\n      <td>sharlow7678@gmail.com</td>\n      <td>Bradenton</td>\n    </tr>\n    <tr>\n      <th>20</th>\n      <td>Erica Rucker</td>\n      <td>744 Appaloosa trail</td>\n      <td>Arlington</td>\n      <td>TX</td>\n      <td>US</td>\n      <td>76015</td>\n      <td>erucker3222@gmail.com</td>\n      <td>Arlington</td>\n    </tr>\n    <tr>\n      <th>21</th>\n      <td>Kaitlin Price</td>\n      <td>20000 N 57th Ave</td>\n      <td>Glendale</td>\n      <td>AZ</td>\n      <td>US</td>\n      <td>85308</td>\n      <td>kaiterpillarprice@gmail.com</td>\n      <td>Glendale</td>\n    </tr>\n    <tr>\n      <th>22</th>\n      <td>Christina Dartt</td>\n      <td>110 N Harris Dr</td>\n      <td>Fort Rucker</td>\n      <td>AL</td>\n      <td>US</td>\n      <td>36362-2338</td>\n      <td>clatdartt@gmail.com</td>\n      <td>Fort Rucker</td>\n    </tr>\n    <tr>\n      <th>23</th>\n      <td>Tori Kleinschmidt</td>\n      <td>33513 Emerson Way</td>\n      <td>Temecula</td>\n      <td>CA</td>\n      <td>US</td>\n      <td>92592</td>\n      <td>torizepeda313@gmail.com</td>\n      <td>Temecula</td>\n    </tr>\n    <tr>\n      <th>24</th>\n      <td>Coralis Rivera</td>\n      <td>540</td>\n      <td>NaN</td>\n      <td>NaN</td>\n      <td>NaN</td>\n      <td>NaN</td>\n      <td>NaN</td>\n      <td>NaN</td>\n    </tr>\n  </tbody>\n</table>\n</div>"
     },
     "execution_count": 45,
     "metadata": {},
     "output_type": "execute_result"
    }
   ],
   "source": [
    "df"
   ],
   "metadata": {
    "collapsed": false,
    "ExecuteTime": {
     "start_time": "2023-04-18T11:08:08.302386Z",
     "end_time": "2023-04-18T11:08:08.313000Z"
    }
   }
  },
  {
   "cell_type": "code",
   "execution_count": 48,
   "outputs": [
    {
     "name": "stdout",
     "output_type": "stream",
     "text": [
      "Luke Clawson;960 Diablo St;Pocatello;ID;83201;7/18/1983\n",
      "Zachary Dunn;1594 East 3300 South Apt 32;Salt Lake City;UT;84106;7/18/1983\n",
      "Craig Butterworth;24 Tumblebrook RD;Meriden;CT;06450;7/18/1983\n",
      "Porsha Flanders;336 LINDER ST;Dublin;GA;31021;7/18/1983\n",
      "Matthew Beverley;8500 Rio;Los Ranchos;NM;87114;7/18/1983\n",
      "Rodrigo velazquez;5536 cecil rd;West Frankfort;IL;62896;7/18/1983\n",
      "Jamie Schulze;11 Massachusetts ave;Ilion;NY;13357;7/18/1983\n",
      "CHRISTINA CAMACHO;610 Oak;Merkel;TX;79536;7/18/1983\n",
      "Logan Gordon;26 Paul cemetery road;Deville;LA;71328;7/18/1983\n",
      "Nicole Phillips;609 e Fort Worth pl;Broken Arrow;OK;74012;7/18/1983\n",
      "Obieah Bess;11724 Hanover Rd;Cincinnati;OH;45240;7/18/1983\n",
      "Cedric Archie;2719 quail run dr;Humble;Texas;77396;7/18/1983\n",
      "Jennifer Kent;146 Harvard Ct SE;Salem;OR;97302;7/18/1983\n",
      "Zachery Holyoak;857 s. 550 w.;New York;Ut;84701;7/18/1983\n",
      "Tallen lamprecht;4479 s 1965w;New York;Utah;84067;7/18/1983\n",
      "Mary Obrien;HC64 Box 2604;Castle Valley;UT;84532;7/18/1983\n",
      "Rhoda Gonzales;P O Box 27011;FRESNO;CA;93729;7/18/1983\n",
      "Delia Sifuentes-Garcia;1585 W. Twain Ave.;Fresno;California;93711;7/18/1983\n",
      "Ba.Liu3942@gmail.com;;;;;7/18/1983\n",
      "Sam s harlow;1613 9th Ave W;Bradenton;FL;34205-6605;7/18/1983\n",
      "Erica Rucker;744 Appaloosa trail ;Arlington ;TX;76015;7/18/1983\n",
      "Kaitlin Price;20000 N 57th Ave;Glendale;AZ;85308;7/18/1983\n",
      "Christina Dartt;110 N Harris Dr;Fort Rucker;AL;36362-2338;7/18/1983\n",
      "Tori Kleinschmidt;33513 Emerson Way;Temecula;CA;92592;7/18/1983\n",
      "Coralis Rivera;540;N/A;N/A;N/A;7/18/1983\n"
     ]
    }
   ],
   "source": [
    "# YULIANNY LOPEZ;19 INDEPENDENCE ST;WHITE PLAINS;NY;10606;7/18/1983\n",
    "# fill in the missing fields with N/A\n",
    "df.fillna('N/A', inplace=True)\n",
    "# add DATE_OF_BIRTH field and fill it with 7/18/1983\n",
    "df['DATE_OF_BIRTH'] = '7/18/1983'\n",
    "names = df['NAME'].tolist()\n",
    "addresses = df['ADDRESS'].tolist()\n",
    "cities = df['CITY'].tolist()\n",
    "states = df['STATE'].tolist()\n",
    "countries = df['COUNTRY'].tolist()\n",
    "zipcodes = df['ZIPCODE'].tolist()\n",
    "emails = df['EMAIL'].tolist()\n",
    "zip_code_cities = df['ZIP_CODE_CITY'].tolist()\n",
    "date_of_births = df['DATE_OF_BIRTH'].tolist()\n",
    "for index, name in enumerate(names):\n",
    "    # YULIANNY LOPEZ;19 INDEPENDENCE ST;WHITE PLAINS;NY;10606;7/18/1983\n",
    "    record = f\"{names[index]};{addresses[index]};{cities[index]};{states[index]};{zipcodes[index]};{date_of_births[index]}\"\n",
    "    print(record)\n",
    "\n",
    "\n",
    "\n",
    "\n",
    "\n"
   ],
   "metadata": {
    "collapsed": false,
    "ExecuteTime": {
     "start_time": "2023-04-18T11:16:09.541804Z",
     "end_time": "2023-04-18T11:16:09.555698Z"
    }
   }
  },
  {
   "cell_type": "code",
   "execution_count": 49,
   "outputs": [
    {
     "data": {
      "text/plain": "                      NAME                      ADDRESS            CITY  \\\n0             Luke Clawson                960 Diablo St       Pocatello   \n1             Zachary Dunn  1594 East 3300 South Apt 32  Salt Lake City   \n2        Craig Butterworth            24 Tumblebrook RD         Meriden   \n3          Porsha Flanders                336 LINDER ST          Dublin   \n4         Matthew Beverley                     8500 Rio     Los Ranchos   \n5        Rodrigo velazquez                5536 cecil rd  West Frankfort   \n6            Jamie Schulze         11 Massachusetts ave           Ilion   \n7        CHRISTINA CAMACHO                      610 Oak          Merkel   \n8             Logan Gordon        26 Paul cemetery road         Deville   \n9          Nicole Phillips          609 e Fort Worth pl    Broken Arrow   \n10             Obieah Bess             11724 Hanover Rd      Cincinnati   \n11           Cedric Archie            2719 quail run dr          Humble   \n12           Jennifer Kent            146 Harvard Ct SE           Salem   \n13         Zachery Holyoak                857 s. 550 w.        New York   \n14        Tallen lamprecht                 4479 s 1965w        New York   \n15             Mary Obrien                HC64 Box 2604   Castle Valley   \n16          Rhoda Gonzales                P O Box 27011          FRESNO   \n17  Delia Sifuentes-Garcia           1585 W. Twain Ave.          Fresno   \n18    Ba.Liu3942@gmail.com                                                \n19            Sam s harlow               1613 9th Ave W       Bradenton   \n20            Erica Rucker         744 Appaloosa trail       Arlington    \n21           Kaitlin Price             20000 N 57th Ave        Glendale   \n22         Christina Dartt              110 N Harris Dr     Fort Rucker   \n23       Tori Kleinschmidt            33513 Emerson Way        Temecula   \n24          Coralis Rivera                          540             N/A   \n\n         STATE COUNTRY     ZIPCODE                             EMAIL  \\\n0           ID      US       83201                     lclaw@ida.net   \n1           UT      US       84106                  zsdunn@gmail.com   \n2           CT      US       06450                               N/A   \n3           GA      US       31021             psbjmommy90@yahoo.com   \n4           NM      US       87114               mattbev@hotmail.com   \n5           IL      US       62896           Cometi_n_30@hotmail.com   \n6           NY      US       13357                               N/A   \n7           TX      US       79536            ccamacho1960@yahoo.com   \n8           LA      US       71328          gordonlogan858@gmail.com   \n9           OK      US       74012             Sweetpea92383@aol.com   \n10          OH      US       45240                 Obieahr@yahoo.com   \n11       Texas      US       77396                               N/A   \n12          OR      US       97302                               N/A   \n13          Ut      US       84701                        4352877550   \n14        Utah      US       84067                        8014976360   \n15          UT      US       84532            maryobrien10@gmail.com   \n16          CA      US       93729              rhodagnzls@gmail.com   \n17  California      US       93711  nickanddeliagarcia@sbcglobal.net   \n18                  US                          Ba.Liu3942@gmail.com   \n19          FL      US  34205-6605             sharlow7678@gmail.com   \n20          TX      US       76015             erucker3222@gmail.com   \n21          AZ      US       85308       kaiterpillarprice@gmail.com   \n22          AL      US  36362-2338               clatdartt@gmail.com   \n23          CA      US       92592           torizepeda313@gmail.com   \n24         N/A     N/A         N/A                               N/A   \n\n     ZIP_CODE_CITY DATE_OF_BIRTH  \n0        Pocatello     7/18/1983  \n1   Salt Lake City     7/18/1983  \n2          Meriden     7/18/1983  \n3           Dublin     7/18/1983  \n4      Los Ranchos     7/18/1983  \n5   West Frankfort     7/18/1983  \n6            Ilion     7/18/1983  \n7           Merkel     7/18/1983  \n8          Deville     7/18/1983  \n9     Broken Arrow     7/18/1983  \n10      Cincinnati     7/18/1983  \n11          Humble     7/18/1983  \n12           Salem     7/18/1983  \n13        New York     7/18/1983  \n14        New York     7/18/1983  \n15   Castle Valley     7/18/1983  \n16          Fresno     7/18/1983  \n17          Fresno     7/18/1983  \n18             N/A     7/18/1983  \n19       Bradenton     7/18/1983  \n20       Arlington     7/18/1983  \n21        Glendale     7/18/1983  \n22     Fort Rucker     7/18/1983  \n23        Temecula     7/18/1983  \n24             N/A     7/18/1983  ",
      "text/html": "<div>\n<style scoped>\n    .dataframe tbody tr th:only-of-type {\n        vertical-align: middle;\n    }\n\n    .dataframe tbody tr th {\n        vertical-align: top;\n    }\n\n    .dataframe thead th {\n        text-align: right;\n    }\n</style>\n<table border=\"1\" class=\"dataframe\">\n  <thead>\n    <tr style=\"text-align: right;\">\n      <th></th>\n      <th>NAME</th>\n      <th>ADDRESS</th>\n      <th>CITY</th>\n      <th>STATE</th>\n      <th>COUNTRY</th>\n      <th>ZIPCODE</th>\n      <th>EMAIL</th>\n      <th>ZIP_CODE_CITY</th>\n      <th>DATE_OF_BIRTH</th>\n    </tr>\n  </thead>\n  <tbody>\n    <tr>\n      <th>0</th>\n      <td>Luke Clawson</td>\n      <td>960 Diablo St</td>\n      <td>Pocatello</td>\n      <td>ID</td>\n      <td>US</td>\n      <td>83201</td>\n      <td>lclaw@ida.net</td>\n      <td>Pocatello</td>\n      <td>7/18/1983</td>\n    </tr>\n    <tr>\n      <th>1</th>\n      <td>Zachary Dunn</td>\n      <td>1594 East 3300 South Apt 32</td>\n      <td>Salt Lake City</td>\n      <td>UT</td>\n      <td>US</td>\n      <td>84106</td>\n      <td>zsdunn@gmail.com</td>\n      <td>Salt Lake City</td>\n      <td>7/18/1983</td>\n    </tr>\n    <tr>\n      <th>2</th>\n      <td>Craig Butterworth</td>\n      <td>24 Tumblebrook RD</td>\n      <td>Meriden</td>\n      <td>CT</td>\n      <td>US</td>\n      <td>06450</td>\n      <td>N/A</td>\n      <td>Meriden</td>\n      <td>7/18/1983</td>\n    </tr>\n    <tr>\n      <th>3</th>\n      <td>Porsha Flanders</td>\n      <td>336 LINDER ST</td>\n      <td>Dublin</td>\n      <td>GA</td>\n      <td>US</td>\n      <td>31021</td>\n      <td>psbjmommy90@yahoo.com</td>\n      <td>Dublin</td>\n      <td>7/18/1983</td>\n    </tr>\n    <tr>\n      <th>4</th>\n      <td>Matthew Beverley</td>\n      <td>8500 Rio</td>\n      <td>Los Ranchos</td>\n      <td>NM</td>\n      <td>US</td>\n      <td>87114</td>\n      <td>mattbev@hotmail.com</td>\n      <td>Los Ranchos</td>\n      <td>7/18/1983</td>\n    </tr>\n    <tr>\n      <th>5</th>\n      <td>Rodrigo velazquez</td>\n      <td>5536 cecil rd</td>\n      <td>West Frankfort</td>\n      <td>IL</td>\n      <td>US</td>\n      <td>62896</td>\n      <td>Cometi_n_30@hotmail.com</td>\n      <td>West Frankfort</td>\n      <td>7/18/1983</td>\n    </tr>\n    <tr>\n      <th>6</th>\n      <td>Jamie Schulze</td>\n      <td>11 Massachusetts ave</td>\n      <td>Ilion</td>\n      <td>NY</td>\n      <td>US</td>\n      <td>13357</td>\n      <td>N/A</td>\n      <td>Ilion</td>\n      <td>7/18/1983</td>\n    </tr>\n    <tr>\n      <th>7</th>\n      <td>CHRISTINA CAMACHO</td>\n      <td>610 Oak</td>\n      <td>Merkel</td>\n      <td>TX</td>\n      <td>US</td>\n      <td>79536</td>\n      <td>ccamacho1960@yahoo.com</td>\n      <td>Merkel</td>\n      <td>7/18/1983</td>\n    </tr>\n    <tr>\n      <th>8</th>\n      <td>Logan Gordon</td>\n      <td>26 Paul cemetery road</td>\n      <td>Deville</td>\n      <td>LA</td>\n      <td>US</td>\n      <td>71328</td>\n      <td>gordonlogan858@gmail.com</td>\n      <td>Deville</td>\n      <td>7/18/1983</td>\n    </tr>\n    <tr>\n      <th>9</th>\n      <td>Nicole Phillips</td>\n      <td>609 e Fort Worth pl</td>\n      <td>Broken Arrow</td>\n      <td>OK</td>\n      <td>US</td>\n      <td>74012</td>\n      <td>Sweetpea92383@aol.com</td>\n      <td>Broken Arrow</td>\n      <td>7/18/1983</td>\n    </tr>\n    <tr>\n      <th>10</th>\n      <td>Obieah Bess</td>\n      <td>11724 Hanover Rd</td>\n      <td>Cincinnati</td>\n      <td>OH</td>\n      <td>US</td>\n      <td>45240</td>\n      <td>Obieahr@yahoo.com</td>\n      <td>Cincinnati</td>\n      <td>7/18/1983</td>\n    </tr>\n    <tr>\n      <th>11</th>\n      <td>Cedric Archie</td>\n      <td>2719 quail run dr</td>\n      <td>Humble</td>\n      <td>Texas</td>\n      <td>US</td>\n      <td>77396</td>\n      <td>N/A</td>\n      <td>Humble</td>\n      <td>7/18/1983</td>\n    </tr>\n    <tr>\n      <th>12</th>\n      <td>Jennifer Kent</td>\n      <td>146 Harvard Ct SE</td>\n      <td>Salem</td>\n      <td>OR</td>\n      <td>US</td>\n      <td>97302</td>\n      <td>N/A</td>\n      <td>Salem</td>\n      <td>7/18/1983</td>\n    </tr>\n    <tr>\n      <th>13</th>\n      <td>Zachery Holyoak</td>\n      <td>857 s. 550 w.</td>\n      <td>New York</td>\n      <td>Ut</td>\n      <td>US</td>\n      <td>84701</td>\n      <td>4352877550</td>\n      <td>New York</td>\n      <td>7/18/1983</td>\n    </tr>\n    <tr>\n      <th>14</th>\n      <td>Tallen lamprecht</td>\n      <td>4479 s 1965w</td>\n      <td>New York</td>\n      <td>Utah</td>\n      <td>US</td>\n      <td>84067</td>\n      <td>8014976360</td>\n      <td>New York</td>\n      <td>7/18/1983</td>\n    </tr>\n    <tr>\n      <th>15</th>\n      <td>Mary Obrien</td>\n      <td>HC64 Box 2604</td>\n      <td>Castle Valley</td>\n      <td>UT</td>\n      <td>US</td>\n      <td>84532</td>\n      <td>maryobrien10@gmail.com</td>\n      <td>Castle Valley</td>\n      <td>7/18/1983</td>\n    </tr>\n    <tr>\n      <th>16</th>\n      <td>Rhoda Gonzales</td>\n      <td>P O Box 27011</td>\n      <td>FRESNO</td>\n      <td>CA</td>\n      <td>US</td>\n      <td>93729</td>\n      <td>rhodagnzls@gmail.com</td>\n      <td>Fresno</td>\n      <td>7/18/1983</td>\n    </tr>\n    <tr>\n      <th>17</th>\n      <td>Delia Sifuentes-Garcia</td>\n      <td>1585 W. Twain Ave.</td>\n      <td>Fresno</td>\n      <td>California</td>\n      <td>US</td>\n      <td>93711</td>\n      <td>nickanddeliagarcia@sbcglobal.net</td>\n      <td>Fresno</td>\n      <td>7/18/1983</td>\n    </tr>\n    <tr>\n      <th>18</th>\n      <td>Ba.Liu3942@gmail.com</td>\n      <td></td>\n      <td></td>\n      <td></td>\n      <td>US</td>\n      <td></td>\n      <td>Ba.Liu3942@gmail.com</td>\n      <td>N/A</td>\n      <td>7/18/1983</td>\n    </tr>\n    <tr>\n      <th>19</th>\n      <td>Sam s harlow</td>\n      <td>1613 9th Ave W</td>\n      <td>Bradenton</td>\n      <td>FL</td>\n      <td>US</td>\n      <td>34205-6605</td>\n      <td>sharlow7678@gmail.com</td>\n      <td>Bradenton</td>\n      <td>7/18/1983</td>\n    </tr>\n    <tr>\n      <th>20</th>\n      <td>Erica Rucker</td>\n      <td>744 Appaloosa trail</td>\n      <td>Arlington</td>\n      <td>TX</td>\n      <td>US</td>\n      <td>76015</td>\n      <td>erucker3222@gmail.com</td>\n      <td>Arlington</td>\n      <td>7/18/1983</td>\n    </tr>\n    <tr>\n      <th>21</th>\n      <td>Kaitlin Price</td>\n      <td>20000 N 57th Ave</td>\n      <td>Glendale</td>\n      <td>AZ</td>\n      <td>US</td>\n      <td>85308</td>\n      <td>kaiterpillarprice@gmail.com</td>\n      <td>Glendale</td>\n      <td>7/18/1983</td>\n    </tr>\n    <tr>\n      <th>22</th>\n      <td>Christina Dartt</td>\n      <td>110 N Harris Dr</td>\n      <td>Fort Rucker</td>\n      <td>AL</td>\n      <td>US</td>\n      <td>36362-2338</td>\n      <td>clatdartt@gmail.com</td>\n      <td>Fort Rucker</td>\n      <td>7/18/1983</td>\n    </tr>\n    <tr>\n      <th>23</th>\n      <td>Tori Kleinschmidt</td>\n      <td>33513 Emerson Way</td>\n      <td>Temecula</td>\n      <td>CA</td>\n      <td>US</td>\n      <td>92592</td>\n      <td>torizepeda313@gmail.com</td>\n      <td>Temecula</td>\n      <td>7/18/1983</td>\n    </tr>\n    <tr>\n      <th>24</th>\n      <td>Coralis Rivera</td>\n      <td>540</td>\n      <td>N/A</td>\n      <td>N/A</td>\n      <td>N/A</td>\n      <td>N/A</td>\n      <td>N/A</td>\n      <td>N/A</td>\n      <td>7/18/1983</td>\n    </tr>\n  </tbody>\n</table>\n</div>"
     },
     "execution_count": 49,
     "metadata": {},
     "output_type": "execute_result"
    }
   ],
   "source": [
    "df"
   ],
   "metadata": {
    "collapsed": false,
    "ExecuteTime": {
     "start_time": "2023-04-18T11:19:03.672763Z",
     "end_time": "2023-04-18T11:19:03.745369Z"
    }
   }
  },
  {
   "cell_type": "code",
   "execution_count": 57,
   "outputs": [
    {
     "name": "stdout",
     "output_type": "stream",
     "text": [
      "Luke Clawson; 960 Diablo St; Pocatello; ID; 83201; 7/18/1983\n",
      "Zachary Dunn; 1594 East 3300 South Apt 32; Salt Lake City; UT; 84106; 7/18/1983\n",
      "Craig Butterworth; 24 Tumblebrook RD; Meriden; CT; 06450; 7/18/1983\n",
      "Porsha Flanders; 336 LINDER ST; Dublin; GA; 31021; 7/18/1983\n",
      "Matthew Beverley; 8500 Rio; Los Ranchos; NM; 87114; 7/18/1983\n",
      "Rodrigo velazquez; 5536 cecil rd; West Frankfort; IL; 62896; 7/18/1983\n",
      "Jamie Schulze; 11 Massachusetts ave; Ilion; NY; 13357; 7/18/1983\n",
      "CHRISTINA CAMACHO; 610 Oak; Merkel; TX; 79536; 7/18/1983\n",
      "Logan Gordon; 26 Paul cemetery road; Deville; LA; 71328; 7/18/1983\n",
      "Nicole Phillips; 609 e Fort Worth pl; Broken Arrow; OK; 74012; 7/18/1983\n",
      "Obieah Bess; 11724 Hanover Rd; Cincinnati; OH; 45240; 7/18/1983\n",
      "Cedric Archie; 2719 quail run dr; Humble; Texas; 77396; 7/18/1983\n",
      "Jennifer Kent; 146 Harvard Ct SE; Salem; OR; 97302; 7/18/1983\n",
      "Zachery Holyoak; 857 s. 550 w.; New York; Ut; 84701; 7/18/1983\n",
      "Tallen lamprecht; 4479 s 1965w; New York; Utah; 84067; 7/18/1983\n",
      "Mary Obrien; HC64 Box 2604; Castle Valley; UT; 84532; 7/18/1983\n",
      "Rhoda Gonzales; P O Box 27011; FRESNO; CA; 93729; 7/18/1983\n",
      "Delia Sifuentes-Garcia; 1585 W. Twain Ave.; Fresno; California; 93711; 7/18/1983\n",
      "Ba.Liu3942@gmail.com; ; ; ; ; 7/18/1983\n",
      "Sam s harlow; 1613 9th Ave W; Bradenton; FL; 34205-6605; 7/18/1983\n",
      "Erica Rucker; 744 Appaloosa trail ; Arlington ; TX; 76015; 7/18/1983\n",
      "Kaitlin Price; 20000 N 57th Ave; Glendale; AZ; 85308; 7/18/1983\n",
      "Christina Dartt; 110 N Harris Dr; Fort Rucker; AL; 36362-2338; 7/18/1983\n",
      "Tori Kleinschmidt; 33513 Emerson Way; Temecula; CA; 92592; 7/18/1983\n",
      "Coralis Rivera; 540; N/A; N/A; N/A; 7/18/1983\n"
     ]
    }
   ],
   "source": [
    "\n",
    "def convert_to_txt_formats(row_text):\n",
    "    # Pandas.txt (format) Full name; Address; City; State; ZipCode; DOB\n",
    "    pandas_record = f\"{row_text[1]['NAME']}; {row_text[1]['ADDRESS']}; {row_text[1]['CITY']}; {row_text[1]['STATE']}; {row_text[1]['ZIPCODE']}; {row_text[1]['DATE_OF_BIRTH']}\"\n",
    "    print(pandas_record)\n",
    "\n",
    "\n",
    "for each_row in df.iterrows():\n",
    "    convert_to_txt_formats(each_row)\n"
   ],
   "metadata": {
    "collapsed": false,
    "ExecuteTime": {
     "start_time": "2023-04-18T11:22:16.741653Z",
     "end_time": "2023-04-18T11:22:16.748947Z"
    }
   }
  },
  {
   "cell_type": "code",
   "execution_count": 13,
   "outputs": [],
   "source": [
    "import pandas as pd\n",
    "df = pd.read_csv('DF.csv')\n",
    "# fill empty fields with N/A\n",
    "df.fillna('N/A', inplace=True)\n"
   ],
   "metadata": {
    "collapsed": false,
    "ExecuteTime": {
     "start_time": "2023-04-19T01:02:02.108095Z",
     "end_time": "2023-04-19T01:02:02.117850Z"
    }
   }
  },
  {
   "cell_type": "code",
   "execution_count": 33,
   "outputs": [],
   "source": [
    "# functions for fixing\n",
    "import random\n",
    "def add_row_into_txt(file, row_text):\n",
    "    with open(file, 'a', encoding='utf-8') as f:\n",
    "        f.write(row_text + '\\n')\n",
    "\n",
    "def pandas_txt(row_text):\n",
    "    # Pandas.txt (format) Full name; Address; City; State; ZipCode; DOB\n",
    "    pandas_record = f\"{row_text[1]['NAME']}; {row_text[1]['ADDRESS']}; {row_text[1]['CITY']}; {row_text[1]['STATE']}; {row_text[1]['ZIPCODE'][:5]}; {row_text[1]['DATE_OF_BIRTH']}\"\n",
    "    pandas_record = pandas_record.replace('; N/A', '').replace(\"N/A\", '')\n",
    "    add_row_into_txt('Results/Pandas.txt', pandas_record)\n",
    "\n",
    "def tayc_txt(row_text):\n",
    "    # Tayc.txt (format) MICHAEL L;SMITH;COUNTY RD 431;MS;Water Valley;38965\n",
    "    tayc_name = row_text[1]['NAME'].split(' ')\n",
    "    if len(tayc_name) > 2:\n",
    "        tayc_first_name = tayc_name[0]\n",
    "        tayc_middle_name = str(tayc_name[1])[0].title()\n",
    "        tayc_last_name = tayc_name[2]\n",
    "    else:\n",
    "        tayc_first_name = tayc_name[0]\n",
    "        tayc_middle_name = ''\n",
    "        tayc_last_name = tayc_name[1]\n",
    "\n",
    "    tayc_record = f\"{tayc_first_name} {tayc_middle_name};{tayc_last_name};{row_text[1]['ADDRESS']};{row_text[1]['STATE']};{row_text[1]['CITY']};{row_text[1]['ZIPCODE'][:5]}\"\n",
    "\n",
    "    tayc_record = tayc_record.replace(';N/A', '').replace(\"N/A\", '')\n",
    "    add_row_into_txt('Results/Tayc.txt', tayc_record)\n",
    "\n",
    "\n",
    "def goldenlu_txt(row_text):\n",
    "    goldenlu_name = row_text[1]['NAME'].split(' ')\n",
    "    if len(goldenlu_name) > 1:\n",
    "        goldenlu_first_name = goldenlu_name[0]\n",
    "        goldenlu_last_name = goldenlu_name[-1]\n",
    "    else:\n",
    "        goldenlu_first_name = goldenlu_name[0]\n",
    "        goldenlu_last_name = ''\n",
    "\n",
    "    # GoldenLU.txt FirstName LastName ZipCode\n",
    "    goldenlu_record = f\"{goldenlu_first_name} {goldenlu_last_name} {row_text[1]['ZIPCODE'][:5]}\"\n",
    "    goldenlu_record = goldenlu_record.replace('N/A', '')\n",
    "    add_row_into_txt('Results/GoldenLU.txt', goldenlu_record)\n",
    "\n",
    "\n",
    "def s247_txt(row_text):\n",
    "    s247_name = row_text[1]['NAME'].split(' ')\n",
    "    if len(s247_name) > 1:\n",
    "        s247_first_name = s247_name[0]\n",
    "        s247_last_name = s247_name[-1]\n",
    "    else:\n",
    "        s247_first_name = s247_name[0]\n",
    "        s247_last_name = ''\n",
    "\n",
    "    # FirstName LastName ZipCode\n",
    "    s247_record = f\"{s247_first_name} {s247_last_name} {row_text[1]['ZIPCODE'][:5]}\"\n",
    "    s247_record = s247_record.replace('N/A', '')\n",
    "\n",
    "    add_row_into_txt('Results/S247.txt', s247_record)\n",
    "\n",
    "\n",
    "\n",
    "def capblack_txt(row_text):\n",
    "    capblack_name = row_text[1]['NAME'].split(' ')\n",
    "    if len(capblack_name) > 1:\n",
    "        capblack_first_name = capblack_name[0]\n",
    "        capblack_last_name = capblack_name[-1]\n",
    "    else:\n",
    "        capblack_first_name = capblack_name[0]\n",
    "        capblack_last_name = ''\n",
    "\n",
    "    # FirstName LastName;Street;City;State;Zip;DOB\n",
    "    capblack_record = f\"{capblack_first_name} {capblack_last_name};{row_text[1]['ADDRESS']};{row_text[1]['CITY']};{row_text[1]['STATE']};{row_text[1]['ZIPCODE'][:5]};{row_text[1]['DATE_OF_BIRTH']}\"\n",
    "    capblack_record = capblack_record.replace(';N/A', '').replace(\"N/A\", '')\n",
    "\n",
    "    add_row_into_txt('Results/CapBlack.txt', capblack_record)\n",
    "\n",
    "\n",
    "def all_txt(row_text):\n",
    "\n",
    "    all_name = row_text[1]['NAME'].split(' ')\n",
    "    if len(all_name) > 1:\n",
    "        all_first_name = all_name[0]\n",
    "        all_last_name = all_name[-1]\n",
    "    else:\n",
    "        all_first_name = all_name[0]\n",
    "        all_last_name = ''\n",
    "\n",
    "    if row_text[1]['EMAIL'] == 'N/A' or row_text[1]['EMAIL'] == '':\n",
    "        my_email = f\"{all_first_name.lower()}{all_last_name.lower()}{random.randint(100000, 900000)}@outlook.com\"\n",
    "    else:\n",
    "        my_email = str(row_text[1]['EMAIL']).lower().split('@')[0] +str(random.randint(100000, 900000))+ '@outlook.com'\n",
    "\n",
    "\n",
    "\n",
    "\n",
    "    # All.txt format FirstName LastName CITY STATE ZIPCODE|EMAIL\n",
    "    all_record = f\"{all_first_name} {all_last_name} {row_text[1]['CITY']} {row_text[1]['STATE']} {row_text[1]['ZIPCODE'][:5]}|{my_email}\"\n",
    "    all_record = all_record.replace('N/A', '')\n",
    "\n",
    "    add_row_into_txt('Results/All.txt', all_record)\n",
    "\n",
    "\n",
    "\n",
    "\n",
    "\n",
    "\n",
    "\n",
    "\n",
    "\n",
    "\n",
    "\n",
    "\n"
   ],
   "metadata": {
    "collapsed": false,
    "ExecuteTime": {
     "start_time": "2023-04-19T01:31:19.381316Z",
     "end_time": "2023-04-19T01:31:19.395949Z"
    }
   }
  },
  {
   "cell_type": "code",
   "execution_count": 34,
   "outputs": [
    {
     "name": "stdout",
     "output_type": "stream",
     "text": [
      "Erica Rucker Arlington TX 76015|erucker3222754560@outlook.com\n",
      "Kaitlin Price Glendale AZ 85308|kaiterpillarprice650337@outlook.com\n",
      "Christina Dartt Fort Rucker AL 36362|clatdartt346960@outlook.com\n",
      "Tori Kleinschmidt Temecula CA 92592|torizepeda313441514@outlook.com\n",
      "Coralis Rivera Austin TX 78727|coralis.rivera120813003@outlook.com\n",
      "harry sanburg fair oaks CA 95628|harrysanburg455185@outlook.com\n",
      "Amber Daniels Eugene OR 97402|amberdaniels0727542003@outlook.com\n",
      "Rita Kennedy Jacksonville FL 32218|rjkennedy65681807@outlook.com\n",
      "shannon watson ware shoals SC 29692|srwatson76401384@outlook.com\n",
      "MICHAEL SMITH Water Valley MS 38965|michaelsmith396604@outlook.com\n",
      "Tony Aspiazu NONE ID 83654|aspiazu2853333@outlook.com\n",
      "Kelan M Chubbuck ID 83201|kelan692614@outlook.com\n",
      "Fiona Heaney Hanover NH 03755|heaneyfiona116349@outlook.com\n",
      "Montel Walker Edgefield SC 29824|montelwalker05249443@outlook.com\n",
      "Jennifer Savary Derry NH 03038|jennsavary78533036@outlook.com\n",
      "Holly Baer Las Vegas NV 89149|darth1983.sj153857@outlook.com\n",
      "Teisha Dost San Bruno CA 94066|greezball68889494@outlook.com\n",
      "Militia Skinner Auburn GA 30011|smilitia144031@outlook.com\n",
      "Wassela Ajaj Houston TX 77099|johnjeezy.flyboyz10820931@outlook.com\n",
      "Martin Nkwenti Frederick MD 21702|asangmartin423580@outlook.com\n"
     ]
    }
   ],
   "source": [
    "for each_row in df.iterrows():\n",
    "    # pandas_txt(each_row)\n",
    "    # tayc_txt(each_row)\n",
    "    # goldenlu_txt(each_row)\n",
    "    # s247_txt(each_row)\n",
    "    # capblack_txt(each_row)\n",
    "    all_txt(each_row)\n",
    "    pass\n"
   ],
   "metadata": {
    "collapsed": false,
    "ExecuteTime": {
     "start_time": "2023-04-19T01:31:19.971162Z",
     "end_time": "2023-04-19T01:31:19.980485Z"
    }
   }
  },
  {
   "cell_type": "code",
   "execution_count": 1,
   "outputs": [],
   "source": [
    "import pandas as pd"
   ],
   "metadata": {
    "collapsed": false,
    "ExecuteTime": {
     "start_time": "2023-04-20T22:07:54.018263Z",
     "end_time": "2023-04-20T22:07:57.786152Z"
    }
   }
  },
  {
   "cell_type": "code",
   "execution_count": 3,
   "outputs": [
    {
     "name": "stderr",
     "output_type": "stream",
     "text": [
      "C:\\Users\\shahb\\AppData\\Local\\Temp\\ipykernel_8096\\1501953003.py:1: DtypeWarning: Columns (10) have mixed types. Specify dtype option on import or set low_memory=False.\n",
      "  zip_codes_df = pd.read_csv('zip_code_database_small_business.csv')\n"
     ]
    }
   ],
   "source": [
    "zip_codes_df = pd.read_csv('zip_code_database_small_business.csv')"
   ],
   "metadata": {
    "collapsed": false,
    "ExecuteTime": {
     "start_time": "2023-04-20T22:11:01.361717Z",
     "end_time": "2023-04-20T22:11:02.188798Z"
    }
   }
  },
  {
   "cell_type": "code",
   "execution_count": 5,
   "outputs": [
    {
     "name": "stdout",
     "output_type": "stream",
     "text": [
      "N/A\n"
     ]
    }
   ],
   "source": [
    "def convert_zipcode_to_county(zipcode_x):\n",
    "    try:\n",
    "        return zip_codes_df[zip_codes_df['zip'] == int(zipcode_x)]['county'].values[0]\n",
    "    except:\n",
    "        return ''\n",
    "print(convert_zipcode_to_county('389650'))"
   ],
   "metadata": {
    "collapsed": false,
    "ExecuteTime": {
     "start_time": "2023-04-20T22:13:20.244616Z",
     "end_time": "2023-04-20T22:13:20.259889Z"
    }
   }
  },
  {
   "cell_type": "code",
   "execution_count": null,
   "outputs": [],
   "source": [],
   "metadata": {
    "collapsed": false
   }
  }
 ],
 "metadata": {
  "kernelspec": {
   "display_name": "Python 3",
   "language": "python",
   "name": "python3"
  },
  "language_info": {
   "codemirror_mode": {
    "name": "ipython",
    "version": 2
   },
   "file_extension": ".py",
   "mimetype": "text/x-python",
   "name": "python",
   "nbconvert_exporter": "python",
   "pygments_lexer": "ipython2",
   "version": "2.7.6"
  }
 },
 "nbformat": 4,
 "nbformat_minor": 0
}
