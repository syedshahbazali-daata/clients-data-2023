{
 "cells": [
  {
   "cell_type": "code",
   "execution_count": 1,
   "metadata": {
    "collapsed": true,
    "ExecuteTime": {
     "start_time": "2023-04-12T19:15:38.589939Z",
     "end_time": "2023-04-12T19:15:39.840524Z"
    }
   },
   "outputs": [],
   "source": [
    "import pandas as pd"
   ]
  },
  {
   "cell_type": "code",
   "execution_count": 2,
   "outputs": [],
   "source": [
    "df_1 = pd.read_csv('company_data_test.csv')\n",
    "df_2 = pd.read_csv('company_data.csv')\n"
   ],
   "metadata": {
    "collapsed": false,
    "ExecuteTime": {
     "start_time": "2023-04-12T19:18:16.835345Z",
     "end_time": "2023-04-12T19:18:18.855530Z"
    }
   }
  },
  {
   "cell_type": "code",
   "execution_count": 3,
   "outputs": [
    {
     "data": {
      "text/plain": "   index                               title    country  \\\n0      1  !F ISTANBUL INTL IND FILM FESTIVAL     TURKEY   \n1      2               \"LA CAIXA\" FOUNDATION      SPAIN   \n2      3                    #BAM! CONTENIDOS  ARGENTINA   \n3      4                #STARTWITH8HOLLYWOOD        USA   \n4      5                          #WFHSTUDIO        USA   \n\n                                                 url  \n0  https://cinando.com/en/Company/f_istanbul_intl...  \n1  https://cinando.com/en/Company/la_caixa_founda...  \n2  https://cinando.com/en/Company/bam_contenidos_...  \n3  https://cinando.com/en/Company/startwith8holly...  \n4  https://cinando.com/en/Company/wfhstudio_25030...  ",
      "text/html": "<div>\n<style scoped>\n    .dataframe tbody tr th:only-of-type {\n        vertical-align: middle;\n    }\n\n    .dataframe tbody tr th {\n        vertical-align: top;\n    }\n\n    .dataframe thead th {\n        text-align: right;\n    }\n</style>\n<table border=\"1\" class=\"dataframe\">\n  <thead>\n    <tr style=\"text-align: right;\">\n      <th></th>\n      <th>index</th>\n      <th>title</th>\n      <th>country</th>\n      <th>url</th>\n    </tr>\n  </thead>\n  <tbody>\n    <tr>\n      <th>0</th>\n      <td>1</td>\n      <td>!F ISTANBUL INTL IND FILM FESTIVAL</td>\n      <td>TURKEY</td>\n      <td>https://cinando.com/en/Company/f_istanbul_intl...</td>\n    </tr>\n    <tr>\n      <th>1</th>\n      <td>2</td>\n      <td>\"LA CAIXA\" FOUNDATION</td>\n      <td>SPAIN</td>\n      <td>https://cinando.com/en/Company/la_caixa_founda...</td>\n    </tr>\n    <tr>\n      <th>2</th>\n      <td>3</td>\n      <td>#BAM! CONTENIDOS</td>\n      <td>ARGENTINA</td>\n      <td>https://cinando.com/en/Company/bam_contenidos_...</td>\n    </tr>\n    <tr>\n      <th>3</th>\n      <td>4</td>\n      <td>#STARTWITH8HOLLYWOOD</td>\n      <td>USA</td>\n      <td>https://cinando.com/en/Company/startwith8holly...</td>\n    </tr>\n    <tr>\n      <th>4</th>\n      <td>5</td>\n      <td>#WFHSTUDIO</td>\n      <td>USA</td>\n      <td>https://cinando.com/en/Company/wfhstudio_25030...</td>\n    </tr>\n  </tbody>\n</table>\n</div>"
     },
     "execution_count": 3,
     "metadata": {},
     "output_type": "execute_result"
    }
   ],
   "source": [
    "df_1.head()"
   ],
   "metadata": {
    "collapsed": false,
    "ExecuteTime": {
     "start_time": "2023-04-12T19:18:20.301398Z",
     "end_time": "2023-04-12T19:18:20.335194Z"
    }
   }
  },
  {
   "cell_type": "code",
   "execution_count": 4,
   "outputs": [
    {
     "data": {
      "text/plain": "                                                 url  \\\n0  https://cinando.com/en/Company/f_istanbul_intl...   \n1  https://cinando.com/en/Company/la_caixa_founda...   \n2  https://cinando.com/en/Company/bam_contenidos_...   \n3  https://cinando.com/en/Company/startwith8holly...   \n4  https://cinando.com/en/Company/wfhstudio_25030...   \n\n                      email  phone                             activities  \n0  ifinfo@ifistanbul.com.tr    NaN  Film Festival, Buyers' Rep, Film Fund  \n1                       NaN    NaN                           Organization  \n2                       NaN    NaN                Interactive & New Media  \n3                       NaN    NaN                                    NaN  \n4  daniel@danielcalderon.me    NaN                     Production Company  ",
      "text/html": "<div>\n<style scoped>\n    .dataframe tbody tr th:only-of-type {\n        vertical-align: middle;\n    }\n\n    .dataframe tbody tr th {\n        vertical-align: top;\n    }\n\n    .dataframe thead th {\n        text-align: right;\n    }\n</style>\n<table border=\"1\" class=\"dataframe\">\n  <thead>\n    <tr style=\"text-align: right;\">\n      <th></th>\n      <th>url</th>\n      <th>email</th>\n      <th>phone</th>\n      <th>activities</th>\n    </tr>\n  </thead>\n  <tbody>\n    <tr>\n      <th>0</th>\n      <td>https://cinando.com/en/Company/f_istanbul_intl...</td>\n      <td>ifinfo@ifistanbul.com.tr</td>\n      <td>NaN</td>\n      <td>Film Festival, Buyers' Rep, Film Fund</td>\n    </tr>\n    <tr>\n      <th>1</th>\n      <td>https://cinando.com/en/Company/la_caixa_founda...</td>\n      <td>NaN</td>\n      <td>NaN</td>\n      <td>Organization</td>\n    </tr>\n    <tr>\n      <th>2</th>\n      <td>https://cinando.com/en/Company/bam_contenidos_...</td>\n      <td>NaN</td>\n      <td>NaN</td>\n      <td>Interactive &amp; New Media</td>\n    </tr>\n    <tr>\n      <th>3</th>\n      <td>https://cinando.com/en/Company/startwith8holly...</td>\n      <td>NaN</td>\n      <td>NaN</td>\n      <td>NaN</td>\n    </tr>\n    <tr>\n      <th>4</th>\n      <td>https://cinando.com/en/Company/wfhstudio_25030...</td>\n      <td>daniel@danielcalderon.me</td>\n      <td>NaN</td>\n      <td>Production Company</td>\n    </tr>\n  </tbody>\n</table>\n</div>"
     },
     "execution_count": 4,
     "metadata": {},
     "output_type": "execute_result"
    }
   ],
   "source": [
    "df_2.head()"
   ],
   "metadata": {
    "collapsed": false,
    "ExecuteTime": {
     "start_time": "2023-04-12T19:18:27.095971Z",
     "end_time": "2023-04-12T19:18:27.235912Z"
    }
   }
  },
  {
   "cell_type": "code",
   "execution_count": 5,
   "outputs": [],
   "source": [
    "# join both dataframes on the url\n",
    "df = df_1.merge(df_2, on='url', how='left')"
   ],
   "metadata": {
    "collapsed": false,
    "ExecuteTime": {
     "start_time": "2023-04-12T19:18:48.758096Z",
     "end_time": "2023-04-12T19:18:48.990144Z"
    }
   }
  },
  {
   "cell_type": "code",
   "execution_count": 6,
   "outputs": [
    {
     "data": {
      "text/plain": "       index                               title    country  \\\n0          1  !F ISTANBUL INTL IND FILM FESTIVAL     TURKEY   \n1          2               \"LA CAIXA\" FOUNDATION      SPAIN   \n2          3                    #BAM! CONTENIDOS  ARGENTINA   \n3          4                #STARTWITH8HOLLYWOOD        USA   \n4          5                          #WFHSTUDIO        USA   \n...      ...                                 ...        ...   \n33153  27922                           ZZK FILMS  ARGENTINA   \n33154  27923    ΑNGELIKI ANTONIOU FILMPRODUKTION    GERMANY   \n33155  27923    ΑNGELIKI ANTONIOU FILMPRODUKTION    GERMANY   \n33156  27924                  东方嘉纳（北京）国际文化传媒有限公司      CHINA   \n33157  27924                  东方嘉纳（北京）国际文化传媒有限公司      CHINA   \n\n                                                     url  \\\n0      https://cinando.com/en/Company/f_istanbul_intl...   \n1      https://cinando.com/en/Company/la_caixa_founda...   \n2      https://cinando.com/en/Company/bam_contenidos_...   \n3      https://cinando.com/en/Company/startwith8holly...   \n4      https://cinando.com/en/Company/wfhstudio_25030...   \n...                                                  ...   \n33153  https://cinando.com/en/Company/zzk_films_99540...   \n33154  https://cinando.com/en/Company/%CE%B1ngeliki_a...   \n33155  https://cinando.com/en/Company/%CE%B1ngeliki_a...   \n33156  https://cinando.com/en/Company/%E4%B8%9C%E6%96...   \n33157  https://cinando.com/en/Company/%E4%B8%9C%E6%96...   \n\n                           email  phone                             activities  \n0       ifinfo@ifistanbul.com.tr    NaN  Film Festival, Buyers' Rep, Film Fund  \n1                            NaN    NaN                           Organization  \n2                            NaN    NaN                Interactive & New Media  \n3                            NaN    NaN                                    NaN  \n4       daniel@danielcalderon.me    NaN                     Production Company  \n...                          ...    ...                                    ...  \n33153                        NaN    NaN                     Production Company  \n33154  info@angelikiantoniou.com    NaN                     Production Company  \n33155  info@angelikiantoniou.com    NaN                     Production Company  \n33156            kevin@zsdmg.com    NaN    Buyers' Rep, Publisher, Sales Agent  \n33157            kevin@zsdmg.com    NaN    Buyers' Rep, Publisher, Sales Agent  \n\n[33158 rows x 7 columns]",
      "text/html": "<div>\n<style scoped>\n    .dataframe tbody tr th:only-of-type {\n        vertical-align: middle;\n    }\n\n    .dataframe tbody tr th {\n        vertical-align: top;\n    }\n\n    .dataframe thead th {\n        text-align: right;\n    }\n</style>\n<table border=\"1\" class=\"dataframe\">\n  <thead>\n    <tr style=\"text-align: right;\">\n      <th></th>\n      <th>index</th>\n      <th>title</th>\n      <th>country</th>\n      <th>url</th>\n      <th>email</th>\n      <th>phone</th>\n      <th>activities</th>\n    </tr>\n  </thead>\n  <tbody>\n    <tr>\n      <th>0</th>\n      <td>1</td>\n      <td>!F ISTANBUL INTL IND FILM FESTIVAL</td>\n      <td>TURKEY</td>\n      <td>https://cinando.com/en/Company/f_istanbul_intl...</td>\n      <td>ifinfo@ifistanbul.com.tr</td>\n      <td>NaN</td>\n      <td>Film Festival, Buyers' Rep, Film Fund</td>\n    </tr>\n    <tr>\n      <th>1</th>\n      <td>2</td>\n      <td>\"LA CAIXA\" FOUNDATION</td>\n      <td>SPAIN</td>\n      <td>https://cinando.com/en/Company/la_caixa_founda...</td>\n      <td>NaN</td>\n      <td>NaN</td>\n      <td>Organization</td>\n    </tr>\n    <tr>\n      <th>2</th>\n      <td>3</td>\n      <td>#BAM! CONTENIDOS</td>\n      <td>ARGENTINA</td>\n      <td>https://cinando.com/en/Company/bam_contenidos_...</td>\n      <td>NaN</td>\n      <td>NaN</td>\n      <td>Interactive &amp; New Media</td>\n    </tr>\n    <tr>\n      <th>3</th>\n      <td>4</td>\n      <td>#STARTWITH8HOLLYWOOD</td>\n      <td>USA</td>\n      <td>https://cinando.com/en/Company/startwith8holly...</td>\n      <td>NaN</td>\n      <td>NaN</td>\n      <td>NaN</td>\n    </tr>\n    <tr>\n      <th>4</th>\n      <td>5</td>\n      <td>#WFHSTUDIO</td>\n      <td>USA</td>\n      <td>https://cinando.com/en/Company/wfhstudio_25030...</td>\n      <td>daniel@danielcalderon.me</td>\n      <td>NaN</td>\n      <td>Production Company</td>\n    </tr>\n    <tr>\n      <th>...</th>\n      <td>...</td>\n      <td>...</td>\n      <td>...</td>\n      <td>...</td>\n      <td>...</td>\n      <td>...</td>\n      <td>...</td>\n    </tr>\n    <tr>\n      <th>33153</th>\n      <td>27922</td>\n      <td>ZZK FILMS</td>\n      <td>ARGENTINA</td>\n      <td>https://cinando.com/en/Company/zzk_films_99540...</td>\n      <td>NaN</td>\n      <td>NaN</td>\n      <td>Production Company</td>\n    </tr>\n    <tr>\n      <th>33154</th>\n      <td>27923</td>\n      <td>ΑNGELIKI ANTONIOU FILMPRODUKTION</td>\n      <td>GERMANY</td>\n      <td>https://cinando.com/en/Company/%CE%B1ngeliki_a...</td>\n      <td>info@angelikiantoniou.com</td>\n      <td>NaN</td>\n      <td>Production Company</td>\n    </tr>\n    <tr>\n      <th>33155</th>\n      <td>27923</td>\n      <td>ΑNGELIKI ANTONIOU FILMPRODUKTION</td>\n      <td>GERMANY</td>\n      <td>https://cinando.com/en/Company/%CE%B1ngeliki_a...</td>\n      <td>info@angelikiantoniou.com</td>\n      <td>NaN</td>\n      <td>Production Company</td>\n    </tr>\n    <tr>\n      <th>33156</th>\n      <td>27924</td>\n      <td>东方嘉纳（北京）国际文化传媒有限公司</td>\n      <td>CHINA</td>\n      <td>https://cinando.com/en/Company/%E4%B8%9C%E6%96...</td>\n      <td>kevin@zsdmg.com</td>\n      <td>NaN</td>\n      <td>Buyers' Rep, Publisher, Sales Agent</td>\n    </tr>\n    <tr>\n      <th>33157</th>\n      <td>27924</td>\n      <td>东方嘉纳（北京）国际文化传媒有限公司</td>\n      <td>CHINA</td>\n      <td>https://cinando.com/en/Company/%E4%B8%9C%E6%96...</td>\n      <td>kevin@zsdmg.com</td>\n      <td>NaN</td>\n      <td>Buyers' Rep, Publisher, Sales Agent</td>\n    </tr>\n  </tbody>\n</table>\n<p>33158 rows × 7 columns</p>\n</div>"
     },
     "execution_count": 6,
     "metadata": {},
     "output_type": "execute_result"
    }
   ],
   "source": [
    "df"
   ],
   "metadata": {
    "collapsed": false,
    "ExecuteTime": {
     "start_time": "2023-04-12T19:18:50.886894Z",
     "end_time": "2023-04-12T19:18:50.911508Z"
    }
   }
  },
  {
   "cell_type": "code",
   "execution_count": 9,
   "outputs": [
    {
     "data": {
      "text/plain": "27924"
     },
     "execution_count": 9,
     "metadata": {},
     "output_type": "execute_result"
    }
   ],
   "source": [
    "# remove the duplicate on basis of url\n",
    "df.drop_duplicates(subset='url', keep='first', inplace=True)\n",
    "\n",
    "# total number of rows\n",
    "df.shape[0]"
   ],
   "metadata": {
    "collapsed": false,
    "ExecuteTime": {
     "start_time": "2023-04-12T19:20:08.331644Z",
     "end_time": "2023-04-12T19:20:08.382345Z"
    }
   }
  },
  {
   "cell_type": "code",
   "execution_count": 11,
   "outputs": [],
   "source": [
    "# drop index column\n",
    "df.drop('index', axis=1, inplace=True)"
   ],
   "metadata": {
    "collapsed": false,
    "ExecuteTime": {
     "start_time": "2023-04-12T19:20:33.098612Z",
     "end_time": "2023-04-12T19:20:33.122030Z"
    }
   }
  },
  {
   "cell_type": "code",
   "execution_count": 12,
   "outputs": [
    {
     "data": {
      "text/plain": "                                    title    country  \\\n0      !F ISTANBUL INTL IND FILM FESTIVAL     TURKEY   \n1                   \"LA CAIXA\" FOUNDATION      SPAIN   \n2                        #BAM! CONTENIDOS  ARGENTINA   \n3                    #STARTWITH8HOLLYWOOD        USA   \n4                              #WFHSTUDIO        USA   \n...                                   ...        ...   \n33148                      ZWAVE PICTURES      CHINA   \n33150                          ZYX STUDIO  ARGENTINA   \n33152                           ZZK FILMS  ARGENTINA   \n33154    ΑNGELIKI ANTONIOU FILMPRODUKTION    GERMANY   \n33156                  东方嘉纳（北京）国际文化传媒有限公司      CHINA   \n\n                                                     url  \\\n0      https://cinando.com/en/Company/f_istanbul_intl...   \n1      https://cinando.com/en/Company/la_caixa_founda...   \n2      https://cinando.com/en/Company/bam_contenidos_...   \n3      https://cinando.com/en/Company/startwith8holly...   \n4      https://cinando.com/en/Company/wfhstudio_25030...   \n...                                                  ...   \n33148  https://cinando.com/en/Company/zwave_pictures_...   \n33150  https://cinando.com/en/Company/zyx_studio_1294...   \n33152  https://cinando.com/en/Company/zzk_films_99540...   \n33154  https://cinando.com/en/Company/%CE%B1ngeliki_a...   \n33156  https://cinando.com/en/Company/%E4%B8%9C%E6%96...   \n\n                           email  phone                             activities  \n0       ifinfo@ifistanbul.com.tr    NaN  Film Festival, Buyers' Rep, Film Fund  \n1                            NaN    NaN                           Organization  \n2                            NaN    NaN                Interactive & New Media  \n3                            NaN    NaN                                    NaN  \n4       daniel@danielcalderon.me    NaN                     Production Company  \n...                          ...    ...                                    ...  \n33148                        NaN    NaN                                    NaN  \n33150       seba3djobs@gmail.com    NaN                     Production Company  \n33152                        NaN    NaN                     Production Company  \n33154  info@angelikiantoniou.com    NaN                     Production Company  \n33156            kevin@zsdmg.com    NaN    Buyers' Rep, Publisher, Sales Agent  \n\n[27924 rows x 6 columns]",
      "text/html": "<div>\n<style scoped>\n    .dataframe tbody tr th:only-of-type {\n        vertical-align: middle;\n    }\n\n    .dataframe tbody tr th {\n        vertical-align: top;\n    }\n\n    .dataframe thead th {\n        text-align: right;\n    }\n</style>\n<table border=\"1\" class=\"dataframe\">\n  <thead>\n    <tr style=\"text-align: right;\">\n      <th></th>\n      <th>title</th>\n      <th>country</th>\n      <th>url</th>\n      <th>email</th>\n      <th>phone</th>\n      <th>activities</th>\n    </tr>\n  </thead>\n  <tbody>\n    <tr>\n      <th>0</th>\n      <td>!F ISTANBUL INTL IND FILM FESTIVAL</td>\n      <td>TURKEY</td>\n      <td>https://cinando.com/en/Company/f_istanbul_intl...</td>\n      <td>ifinfo@ifistanbul.com.tr</td>\n      <td>NaN</td>\n      <td>Film Festival, Buyers' Rep, Film Fund</td>\n    </tr>\n    <tr>\n      <th>1</th>\n      <td>\"LA CAIXA\" FOUNDATION</td>\n      <td>SPAIN</td>\n      <td>https://cinando.com/en/Company/la_caixa_founda...</td>\n      <td>NaN</td>\n      <td>NaN</td>\n      <td>Organization</td>\n    </tr>\n    <tr>\n      <th>2</th>\n      <td>#BAM! CONTENIDOS</td>\n      <td>ARGENTINA</td>\n      <td>https://cinando.com/en/Company/bam_contenidos_...</td>\n      <td>NaN</td>\n      <td>NaN</td>\n      <td>Interactive &amp; New Media</td>\n    </tr>\n    <tr>\n      <th>3</th>\n      <td>#STARTWITH8HOLLYWOOD</td>\n      <td>USA</td>\n      <td>https://cinando.com/en/Company/startwith8holly...</td>\n      <td>NaN</td>\n      <td>NaN</td>\n      <td>NaN</td>\n    </tr>\n    <tr>\n      <th>4</th>\n      <td>#WFHSTUDIO</td>\n      <td>USA</td>\n      <td>https://cinando.com/en/Company/wfhstudio_25030...</td>\n      <td>daniel@danielcalderon.me</td>\n      <td>NaN</td>\n      <td>Production Company</td>\n    </tr>\n    <tr>\n      <th>...</th>\n      <td>...</td>\n      <td>...</td>\n      <td>...</td>\n      <td>...</td>\n      <td>...</td>\n      <td>...</td>\n    </tr>\n    <tr>\n      <th>33148</th>\n      <td>ZWAVE PICTURES</td>\n      <td>CHINA</td>\n      <td>https://cinando.com/en/Company/zwave_pictures_...</td>\n      <td>NaN</td>\n      <td>NaN</td>\n      <td>NaN</td>\n    </tr>\n    <tr>\n      <th>33150</th>\n      <td>ZYX STUDIO</td>\n      <td>ARGENTINA</td>\n      <td>https://cinando.com/en/Company/zyx_studio_1294...</td>\n      <td>seba3djobs@gmail.com</td>\n      <td>NaN</td>\n      <td>Production Company</td>\n    </tr>\n    <tr>\n      <th>33152</th>\n      <td>ZZK FILMS</td>\n      <td>ARGENTINA</td>\n      <td>https://cinando.com/en/Company/zzk_films_99540...</td>\n      <td>NaN</td>\n      <td>NaN</td>\n      <td>Production Company</td>\n    </tr>\n    <tr>\n      <th>33154</th>\n      <td>ΑNGELIKI ANTONIOU FILMPRODUKTION</td>\n      <td>GERMANY</td>\n      <td>https://cinando.com/en/Company/%CE%B1ngeliki_a...</td>\n      <td>info@angelikiantoniou.com</td>\n      <td>NaN</td>\n      <td>Production Company</td>\n    </tr>\n    <tr>\n      <th>33156</th>\n      <td>东方嘉纳（北京）国际文化传媒有限公司</td>\n      <td>CHINA</td>\n      <td>https://cinando.com/en/Company/%E4%B8%9C%E6%96...</td>\n      <td>kevin@zsdmg.com</td>\n      <td>NaN</td>\n      <td>Buyers' Rep, Publisher, Sales Agent</td>\n    </tr>\n  </tbody>\n</table>\n<p>27924 rows × 6 columns</p>\n</div>"
     },
     "execution_count": 12,
     "metadata": {},
     "output_type": "execute_result"
    }
   ],
   "source": [
    "df"
   ],
   "metadata": {
    "collapsed": false,
    "ExecuteTime": {
     "start_time": "2023-04-12T19:20:34.801023Z",
     "end_time": "2023-04-12T19:20:34.852525Z"
    }
   }
  },
  {
   "cell_type": "code",
   "execution_count": 13,
   "outputs": [],
   "source": [
    "# save the dataframe to csv\n",
    "df.to_csv('cp_data.csv', index=False)\n"
   ],
   "metadata": {
    "collapsed": false,
    "ExecuteTime": {
     "start_time": "2023-04-12T19:21:00.476417Z",
     "end_time": "2023-04-12T19:21:00.803119Z"
    }
   }
  },
  {
   "cell_type": "code",
   "execution_count": null,
   "outputs": [],
   "source": [],
   "metadata": {
    "collapsed": false
   }
  }
 ],
 "metadata": {
  "kernelspec": {
   "display_name": "Python 3",
   "language": "python",
   "name": "python3"
  },
  "language_info": {
   "codemirror_mode": {
    "name": "ipython",
    "version": 2
   },
   "file_extension": ".py",
   "mimetype": "text/x-python",
   "name": "python",
   "nbconvert_exporter": "python",
   "pygments_lexer": "ipython2",
   "version": "2.7.6"
  }
 },
 "nbformat": 4,
 "nbformat_minor": 0
}
