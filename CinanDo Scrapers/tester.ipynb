{
 "cells": [
  {
   "cell_type": "code",
   "execution_count": 1,
   "metadata": {
    "collapsed": true,
    "ExecuteTime": {
     "start_time": "2023-04-10T09:44:07.025504Z",
     "end_time": "2023-04-10T09:44:08.610863Z"
    }
   },
   "outputs": [],
   "source": [
    "import pandas as pd\n"
   ]
  },
  {
   "cell_type": "code",
   "execution_count": 7,
   "outputs": [],
   "source": [
    "columns = [\"index\", \"Company\", \"Country\", \"Url\"]\n",
    "df = pd.read_csv('company_data_test.csv', names=columns, header=None)"
   ],
   "metadata": {
    "collapsed": false,
    "ExecuteTime": {
     "start_time": "2023-04-10T09:45:33.416628Z",
     "end_time": "2023-04-10T09:45:33.440235Z"
    }
   }
  },
  {
   "cell_type": "code",
   "execution_count": 8,
   "outputs": [
    {
     "data": {
      "text/plain": "      index                                        Company    Country  \\\n0         1             !F ISTANBUL INTL IND FILM FESTIVAL     TURKEY   \n1         2                          \"LA CAIXA\" FOUNDATION      SPAIN   \n2         3                               #BAM! CONTENIDOS  ARGENTINA   \n3         4                           #STARTWITH8HOLLYWOOD        USA   \n4         5                                     #WFHSTUDIO        USA   \n...     ...                                            ...        ...   \n2995   2996                            AVENDAÑO ESTUDIO SL      SPAIN   \n2996   2997                         AVENTURA ENTERTAINMENT        USA   \n2997   2998  AVENTURAS PRODUÇÕES E EDIÇÕES EDUCATIVAS LTDA     BRAZIL   \n2998   2999                                  AVENTUS FILMS     CANADA   \n2999   3000                           AVENUE B PRODUCTIONS     FRANCE   \n\n                                                    Url  \n0     https://cinando.com/en/Company/f_istanbul_intl...  \n1     https://cinando.com/en/Company/la_caixa_founda...  \n2     https://cinando.com/en/Company/bam_contenidos_...  \n3     https://cinando.com/en/Company/startwith8holly...  \n4     https://cinando.com/en/Company/wfhstudio_25030...  \n...                                                 ...  \n2995  https://cinando.com/en/Company/avendano_estudi...  \n2996  https://cinando.com/en/Company/aventura_entert...  \n2997  https://cinando.com/en/Company/aventuras_produ...  \n2998  https://cinando.com/en/Company/aventus_films_3...  \n2999  https://cinando.com/en/Company/avenue_b_produc...  \n\n[3000 rows x 4 columns]",
      "text/html": "<div>\n<style scoped>\n    .dataframe tbody tr th:only-of-type {\n        vertical-align: middle;\n    }\n\n    .dataframe tbody tr th {\n        vertical-align: top;\n    }\n\n    .dataframe thead th {\n        text-align: right;\n    }\n</style>\n<table border=\"1\" class=\"dataframe\">\n  <thead>\n    <tr style=\"text-align: right;\">\n      <th></th>\n      <th>index</th>\n      <th>Company</th>\n      <th>Country</th>\n      <th>Url</th>\n    </tr>\n  </thead>\n  <tbody>\n    <tr>\n      <th>0</th>\n      <td>1</td>\n      <td>!F ISTANBUL INTL IND FILM FESTIVAL</td>\n      <td>TURKEY</td>\n      <td>https://cinando.com/en/Company/f_istanbul_intl...</td>\n    </tr>\n    <tr>\n      <th>1</th>\n      <td>2</td>\n      <td>\"LA CAIXA\" FOUNDATION</td>\n      <td>SPAIN</td>\n      <td>https://cinando.com/en/Company/la_caixa_founda...</td>\n    </tr>\n    <tr>\n      <th>2</th>\n      <td>3</td>\n      <td>#BAM! CONTENIDOS</td>\n      <td>ARGENTINA</td>\n      <td>https://cinando.com/en/Company/bam_contenidos_...</td>\n    </tr>\n    <tr>\n      <th>3</th>\n      <td>4</td>\n      <td>#STARTWITH8HOLLYWOOD</td>\n      <td>USA</td>\n      <td>https://cinando.com/en/Company/startwith8holly...</td>\n    </tr>\n    <tr>\n      <th>4</th>\n      <td>5</td>\n      <td>#WFHSTUDIO</td>\n      <td>USA</td>\n      <td>https://cinando.com/en/Company/wfhstudio_25030...</td>\n    </tr>\n    <tr>\n      <th>...</th>\n      <td>...</td>\n      <td>...</td>\n      <td>...</td>\n      <td>...</td>\n    </tr>\n    <tr>\n      <th>2995</th>\n      <td>2996</td>\n      <td>AVENDAÑO ESTUDIO SL</td>\n      <td>SPAIN</td>\n      <td>https://cinando.com/en/Company/avendano_estudi...</td>\n    </tr>\n    <tr>\n      <th>2996</th>\n      <td>2997</td>\n      <td>AVENTURA ENTERTAINMENT</td>\n      <td>USA</td>\n      <td>https://cinando.com/en/Company/aventura_entert...</td>\n    </tr>\n    <tr>\n      <th>2997</th>\n      <td>2998</td>\n      <td>AVENTURAS PRODUÇÕES E EDIÇÕES EDUCATIVAS LTDA</td>\n      <td>BRAZIL</td>\n      <td>https://cinando.com/en/Company/aventuras_produ...</td>\n    </tr>\n    <tr>\n      <th>2998</th>\n      <td>2999</td>\n      <td>AVENTUS FILMS</td>\n      <td>CANADA</td>\n      <td>https://cinando.com/en/Company/aventus_films_3...</td>\n    </tr>\n    <tr>\n      <th>2999</th>\n      <td>3000</td>\n      <td>AVENUE B PRODUCTIONS</td>\n      <td>FRANCE</td>\n      <td>https://cinando.com/en/Company/avenue_b_produc...</td>\n    </tr>\n  </tbody>\n</table>\n<p>3000 rows × 4 columns</p>\n</div>"
     },
     "execution_count": 8,
     "metadata": {},
     "output_type": "execute_result"
    }
   ],
   "source": [
    "# add columns\n",
    "df\n",
    "\n",
    "\n"
   ],
   "metadata": {
    "collapsed": false,
    "ExecuteTime": {
     "start_time": "2023-04-10T09:45:36.491886Z",
     "end_time": "2023-04-10T09:45:36.525211Z"
    }
   }
  },
  {
   "cell_type": "code",
   "execution_count": 11,
   "outputs": [
    {
     "name": "stdout",
     "output_type": "stream",
     "text": [
      "2500\n"
     ]
    }
   ],
   "source": [
    "urls = set(df['Url'].to_list())\n",
    "print(len(urls))\n",
    "\n"
   ],
   "metadata": {
    "collapsed": false,
    "ExecuteTime": {
     "start_time": "2023-04-10T09:46:21.098302Z",
     "end_time": "2023-04-10T09:46:21.111268Z"
    }
   }
  },
  {
   "cell_type": "code",
   "execution_count": null,
   "outputs": [],
   "source": [],
   "metadata": {
    "collapsed": false
   }
  }
 ],
 "metadata": {
  "kernelspec": {
   "display_name": "Python 3",
   "language": "python",
   "name": "python3"
  },
  "language_info": {
   "codemirror_mode": {
    "name": "ipython",
    "version": 2
   },
   "file_extension": ".py",
   "mimetype": "text/x-python",
   "name": "python",
   "nbconvert_exporter": "python",
   "pygments_lexer": "ipython2",
   "version": "2.7.6"
  }
 },
 "nbformat": 4,
 "nbformat_minor": 0
}
