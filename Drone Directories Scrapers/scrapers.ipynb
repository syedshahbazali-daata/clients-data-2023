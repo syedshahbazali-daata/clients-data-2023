{
 "cells": [
  {
   "cell_type": "code",
   "execution_count": 1,
   "metadata": {
    "collapsed": true,
    "ExecuteTime": {
     "start_time": "2023-04-24T15:00:07.916435Z",
     "end_time": "2023-04-24T15:00:39.961270Z"
    }
   },
   "outputs": [
    {
     "name": "stderr",
     "output_type": "stream",
     "text": [
      "C:\\Users\\shahb\\AppData\\Local\\Programs\\Python\\Python311\\Lib\\site-packages\\gevent\\hub.py:161: UserWarning: libuv only supports millisecond timer resolution; all times less will be set to 1 ms\n",
      "  with loop.timer(seconds, ref=ref) as t:\n"
     ]
    }
   ],
   "source": [
    "# https://dronepilotdirectory.ca/business-directory/\n",
    "# Scraper\n",
    "# 24-05-2021\n",
    "\n",
    "import grequests\n",
    "import requests\n",
    "from bs4 import BeautifulSoup\n",
    "from xextract import String\n",
    "\n",
    "\n",
    "def get_data(xpath, page):\n",
    "    try:\n",
    "        result = String(xpath=xpath).parse_html(page)[0]\n",
    "    except:\n",
    "        result = \"\"\n",
    "    return result\n",
    "\n",
    "\n",
    "res = requests.get(\"https://dronepilotdirectory.ca/business-directory/\")\n",
    "soup = str(BeautifulSoup(res.text, \"html.parser\"))\n",
    "links = String(xpath='//div[@id=\"wpbdp-categories\"]//li/a', attr='href').parse_html(soup)\n",
    "\n",
    "# send requests to all links\n",
    "rs = (grequests.get(link) for link in links)\n",
    "responses = grequests.map(rs)\n"
   ]
  },
  {
   "cell_type": "code",
   "execution_count": 7,
   "outputs": [
    {
     "name": "stdout",
     "output_type": "stream",
     "text": [
      "Air Vantage Imaging, LLC, AVI Llc 207 441-6700 http://airvantageimaging.com/ 360-panoramas\n",
      "BlackHawk Aeronautical +1.7809742335 http://www.blackhawkaeronautical.com/ 360-panoramas\n",
      "Drone Films Project (+51) 970074621 http://www.dronefilmsproject.com/ 360-panoramas\n",
      "Flideo +33 (0) 6 28 45 08 37 http://www.flideo.fr/ 360-panoramas\n",
      "Glidenhover +1 506-961-9442 http://glidenhover.com/ 360-panoramas\n",
      "Glidenhover +1 506-961-9442 http://glidenhover.com/ 360-panoramas\n",
      "J. Viru Markšeideribüroo Ltd (+372) 6 344 552 http://www.aeroman.ee/ 360-panoramas\n",
      "Phoenixpix +43 699 11021345 http://www.phoenixpix.at/ 360-panoramas\n",
      "PNEUMATIC DRONE CINEMA 14073539022 http://pneumaticdrone.com/ 360-panoramas\n",
      "Strategic UAV 250.287.2246 http://www.strategicuav.ca 360-panoramas\n",
      "DronePilots.ca Inc. 888-430-9819 http://www.dronepilots.ca aerial-shooting\n",
      "4Dronies +351 914 391 441 http://4dronies.tumblr.com/ aerial-shooting\n",
      "Adelaar +32 483 02 99 47 http://adelaar.be/ aerial-shooting\n",
      "ADVANCED SCIENTIFIC CONCEPTS LLC 805-966-3331 http://www.asc3d.com aerial-shooting\n",
      "AEE MagiCam Iberia 902 38 48 78 http://aee-iberia.es/ aerial-shooting\n",
      "Aerial Affair.com 714-454-4555 http://aerialaffair.com/ aerial-shooting\n",
      "Aerial Agents, LLC 440-241-1677 http://www.aerialagents.com/#welcome aerial-shooting\n",
      "Aerial Cinematography +1 (703)989-4643 http://ridemedia.co/about-us/ aerial-shooting\n",
      "Aerial Look Inc. 919-590-5665 http://www.aeriallook.com/ aerial-shooting\n",
      "Aerial MG 309-306-1051 http://www.aerialmg.com/ aerial-shooting\n",
      "AeroVironment 626.357.9983 https://www.avdroneanalytics.com/ agriculture\n",
      "Venta de Drones en México y Latinomarica 4424545394 https://omegadrone.com.mx/ agriculture\n",
      "BlackHawk Aeronautical +1.7809742335 http://www.blackhawkaeronautical.com/ associations-groups\n",
      "FREEWAY DRONE 02.38.30.57.85 http://www.freewaydrone.com/ associations-groups\n",
      "PNEUMATIC DRONE CINEMA 14073539022 http://pneumaticdrone.com/ associations-groups\n",
      "The U.S. Drone Film Festival 4059245105 http://www.uavfilmfestival.com/ associations-groups\n",
      "Limitless Film +48.717500200 http://www.limitlessfilm.pl/ buyer\n",
      "Maverick Drone Systems +1.612.293.8317 https://www.maverickdrone.com/ buyer\n",
      "Media Town +972 8-288-9980 http://mediatown.ps/en/index.php?action= buyer\n",
      "Officina Multirotori 3494246924 http://www.officinamultirotori.it/ buyer\n",
      "DronePilots.ca Inc. 888-430-9819 http://www.dronepilots.ca commercial-drones\n",
      "3FB Aerworx (03) 9873 1980 http://www.3fbaerworx.com.au/ commercial-drones\n",
      "4 Prop Photo 501-944-2916 http://4-prop.com/ commercial-drones\n",
      "Above Barbados 1 246 249 4981 http://www.abovebarbados.com/ commercial-drones\n",
      "Aereal 628069536 http://www.aereal.pro/ commercial-drones\n",
      "Aerial Acuity  http://www.aerialacuity.com.au/ commercial-drones\n",
      "Aerial Advantage 0416 521 588 http://www.aerialadvantage.com.au/ commercial-drones\n",
      "Aerial Footage 0415 780 763   http://www.lookatnoosa.com/aerialfootage commercial-drones\n",
      "Aerial Image Works Pty Ltd 455599198 http://www.aerialimageworks.com.au/ commercial-drones\n",
      "Aerial Imaging Services +1.8173715917 http://www.aerialimagingservicesllc.com/ commercial-drones\n",
      "Ben4UAV +33.0139519515 http://ben4uav.com/ dealers-distributors\n",
      "Drone 55, inc. (213) 807-3935 http://www.drone55.com/ dealers-distributors\n",
      "Luft Foto Video +49 (0) 341 561 43 12 http://www.luftfotovideo.de/ dealers-distributors\n",
      "Maverick Drone Systems +1.612.293.8317 https://www.maverickdrone.com/ dealers-distributors\n",
      "To-Fly Drones +41 44 585 18 15 http://www.to-fly.ch/ dealers-distributors\n",
      "UAS Unmanned Systems Consulting +63 949 738 9048 http://www.uavphilippines.com/ dealers-distributors\n",
      "VideoDrone Finland Oy +358 40 0625240 http://www.videodrone.fi/ dealers-distributors\n"
     ]
    },
    {
     "name": "stderr",
     "output_type": "stream",
     "text": [
      "\n",
      "KeyboardInterrupt\n",
      "\n"
     ]
    }
   ],
   "source": [
    "\n",
    "# parse responses\n",
    "for response in responses:\n",
    "    soup = str(BeautifulSoup(response.text, \"html.parser\"))\n",
    "    detail_path = \"//div[@id='wpbdp-listings-list']//div[contains(@class, 'wpbdp-listing')]\"\n",
    "    divs = String(xpath=detail_path).parse_html(soup)\n",
    "    for div_index, div in enumerate(divs):\n",
    "        name = get_data(\n",
    "            xpath=f\"({detail_path})[{div_index+1}]//h3/a\",\n",
    "            page=soup,\n",
    "        )\n",
    "        phone = get_data(\n",
    "            xpath=f\"({detail_path})[{div_index+1}]//span[text()='Telephone']/..//a\",\n",
    "            page=soup,\n",
    "        )\n",
    "        website = get_data(\n",
    "            xpath=f\"({detail_path})[{div_index+1}]//span[text()='Website']/..//a\",\n",
    "            page=soup,\n",
    "        )\n",
    "        try:\n",
    "            category = str(response.url).split(\"/\")[-2]\n",
    "        except:\n",
    "            category = \"\"\n",
    "\n",
    "        print(name, phone, website, category)\n",
    "        # Title\tEmail\tPhone \tWebsite\tCategory\tDescription\tSource\tExtra\n",
    "\n",
    "        record = [name, \"NA\", phone, website, category, \"\", \"https://dronepilotdirectory.ca/business-directory/\", \"\"]\n",
    "\n",
    "        with open(\"dronepilotdirectory.csv\", \"a\") as f:\n",
    "            f.write(\",\".join(record) + \"\\n\")\n",
    "\n",
    "\n",
    "\n",
    "\n",
    "\n",
    "# ============================================================================= #"
   ],
   "metadata": {
    "collapsed": false,
    "ExecuteTime": {
     "start_time": "2023-04-24T15:12:59.936205Z",
     "end_time": "2023-04-24T15:13:20.661607Z"
    }
   }
  },
  {
   "cell_type": "code",
   "execution_count": 4,
   "outputs": [
    {
     "data": {
      "text/plain": "'360-panoramas'"
     },
     "execution_count": 4,
     "metadata": {},
     "output_type": "execute_result"
    }
   ],
   "source": [],
   "metadata": {
    "collapsed": false,
    "ExecuteTime": {
     "start_time": "2023-04-24T15:09:04.090250Z",
     "end_time": "2023-04-24T15:09:04.115182Z"
    }
   }
  },
  {
   "cell_type": "code",
   "execution_count": 1,
   "outputs": [],
   "source": [
    "# https://www.wingsmagazine.com/mro-directory/"
   ],
   "metadata": {
    "collapsed": false,
    "ExecuteTime": {
     "start_time": "2023-05-04T05:08:05.297630Z",
     "end_time": "2023-05-04T05:08:05.303524Z"
    }
   }
  },
  {
   "cell_type": "code",
   "execution_count": 4,
   "outputs": [],
   "source": [
    "import grequests\n",
    "import requests\n",
    "from bs4 import BeautifulSoup\n",
    "from xextract import String"
   ],
   "metadata": {
    "collapsed": false,
    "ExecuteTime": {
     "start_time": "2023-05-04T05:09:10.134160Z",
     "end_time": "2023-05-04T05:09:10.430368Z"
    }
   }
  },
  {
   "cell_type": "code",
   "execution_count": 69,
   "outputs": [],
   "source": [
    "all_urls = []"
   ],
   "metadata": {
    "collapsed": false,
    "ExecuteTime": {
     "start_time": "2023-05-04T06:37:06.842546Z",
     "end_time": "2023-05-04T06:37:06.862492Z"
    }
   }
  },
  {
   "cell_type": "code",
   "execution_count": 70,
   "outputs": [
    {
     "name": "stdout",
     "output_type": "stream",
     "text": [
      "32\n",
      "51\n"
     ]
    }
   ],
   "source": [
    "for i in range(1, 3):\n",
    "    res = requests.get(f\"https://www.wingsmagazine.com/schools/page/{i}/\")\n",
    "    soup = str(BeautifulSoup(res.text, \"html.parser\"))\n",
    "    urls = String(xpath='//div[@class=\"row\"]//a/div/..', attr='href').parse_html(\n",
    "        soup\n",
    "\n",
    "    )\n",
    "    all_urls.extend(urls)\n",
    "    print(len(all_urls))\n"
   ],
   "metadata": {
    "collapsed": false,
    "ExecuteTime": {
     "start_time": "2023-05-04T06:38:02.421736Z",
     "end_time": "2023-05-04T06:38:14.608207Z"
    }
   }
  },
  {
   "cell_type": "code",
   "execution_count": 71,
   "outputs": [],
   "source": [
    "# send requests to all links\n",
    "rs = (grequests.get(link) for link in all_urls)\n",
    "responses = grequests.map(rs)\n",
    "\n",
    "\n"
   ],
   "metadata": {
    "collapsed": false,
    "ExecuteTime": {
     "start_time": "2023-05-04T06:38:18.204545Z",
     "end_time": "2023-05-04T06:38:27.057523Z"
    }
   }
  },
  {
   "cell_type": "code",
   "execution_count": null,
   "outputs": [],
   "source": [],
   "metadata": {
    "collapsed": false
   }
  },
  {
   "cell_type": "code",
   "execution_count": 12,
   "outputs": [],
   "source": [
    "contact_urls = []"
   ],
   "metadata": {
    "collapsed": false,
    "ExecuteTime": {
     "start_time": "2023-05-04T05:17:46.505930Z",
     "end_time": "2023-05-04T05:17:46.513907Z"
    }
   }
  },
  {
   "cell_type": "code",
   "execution_count": 13,
   "outputs": [
    {
     "name": "stdout",
     "output_type": "stream",
     "text": [
      "https://www.wingsmagazine.com/contact-company?id=32956\n",
      "https://www.wingsmagazine.com/contact-company?id=33177\n",
      "https://www.wingsmagazine.com/contact-company?id=30706\n",
      "https://www.wingsmagazine.com/contact-company?id=37002\n",
      "https://www.wingsmagazine.com/contact-company?id=33164\n",
      "https://www.wingsmagazine.com/contact-company?id=30671\n",
      "https://www.wingsmagazine.com/contact-company?id=30715\n",
      "https://www.wingsmagazine.com/contact-company?id=33048\n",
      "https://www.wingsmagazine.com/contact-company?id=30673\n",
      "https://www.wingsmagazine.com/contact-company?id=30713\n",
      "https://www.wingsmagazine.com/contact-company?id=33051\n",
      "https://www.wingsmagazine.com/contact-company?id=30665\n",
      "https://www.wingsmagazine.com/contact-company?id=30723\n",
      "https://www.wingsmagazine.com/contact-company?id=40309\n",
      "https://www.wingsmagazine.com/contact-company?id=30725\n",
      "https://www.wingsmagazine.com/contact-company?id=40590\n",
      "https://www.wingsmagazine.com/contact-company?id=33212\n",
      "https://www.wingsmagazine.com/contact-company?id=36031\n",
      "https://www.wingsmagazine.com/contact-company?id=30702\n",
      "https://www.wingsmagazine.com/contact-company?id=32842\n",
      "https://www.wingsmagazine.com/contact-company?id=36082\n",
      "https://www.wingsmagazine.com/contact-company?id=30693\n",
      "https://www.wingsmagazine.com/contact-company?id=30675\n",
      "https://www.wingsmagazine.com/contact-company?id=30677\n",
      "https://www.wingsmagazine.com/contact-company?id=32937\n",
      "https://www.wingsmagazine.com/contact-company?id=30659\n",
      "https://www.wingsmagazine.com/contact-company?id=36276\n",
      "https://www.wingsmagazine.com/contact-company?id=30667\n",
      "https://www.wingsmagazine.com/contact-company?id=34964\n",
      "https://www.wingsmagazine.com/contact-company?id=30690\n",
      "https://www.wingsmagazine.com/contact-company?id=30711\n",
      "https://www.wingsmagazine.com/contact-company?id=40083\n",
      "https://www.wingsmagazine.com/contact-company?id=32937\n",
      "https://www.wingsmagazine.com/contact-company?id=30659\n",
      "https://www.wingsmagazine.com/contact-company?id=36276\n",
      "https://www.wingsmagazine.com/contact-company?id=30700\n",
      "https://www.wingsmagazine.com/contact-company?id=34919\n",
      "https://www.wingsmagazine.com/contact-company?id=36301\n",
      "https://www.wingsmagazine.com/contact-company?id=42845\n",
      "https://www.wingsmagazine.com/contact-company?id=32964\n",
      "https://www.wingsmagazine.com/contact-company?id=44643\n",
      "https://www.wingsmagazine.com/contact-company?id=34939\n",
      "https://www.wingsmagazine.com/contact-company?id=32969\n",
      "https://www.wingsmagazine.com/contact-company?id=37936\n",
      "https://www.wingsmagazine.com/contact-company?id=33122\n",
      "https://www.wingsmagazine.com/contact-company?id=46406\n",
      "https://www.wingsmagazine.com/contact-company?id=34933\n",
      "https://www.wingsmagazine.com/contact-company?id=33138\n",
      "https://www.wingsmagazine.com/contact-company?id=34926\n",
      "https://www.wingsmagazine.com/contact-company?id=40238\n",
      "https://www.wingsmagazine.com/contact-company?id=33191\n",
      "https://www.wingsmagazine.com/contact-company?id=35728\n",
      "https://www.wingsmagazine.com/contact-company?id=33027\n",
      "https://www.wingsmagazine.com/contact-company?id=33195\n",
      "https://www.wingsmagazine.com/contact-company?id=35829\n",
      "https://www.wingsmagazine.com/contact-company?id=30684\n",
      "https://www.wingsmagazine.com/contact-company?id=33066\n",
      "https://www.wingsmagazine.com/contact-company?id=40677\n",
      "https://www.wingsmagazine.com/contact-company?id=33207\n",
      "https://www.wingsmagazine.com/contact-company?id=30687\n",
      "https://www.wingsmagazine.com/contact-company?id=33074\n",
      "https://www.wingsmagazine.com/contact-company?id=41495\n",
      "https://www.wingsmagazine.com/contact-company?id=30696\n",
      "https://www.wingsmagazine.com/contact-company?id=34750\n",
      "https://www.wingsmagazine.com/contact-company?id=36189\n",
      "https://www.wingsmagazine.com/contact-company?id=33060\n",
      "https://www.wingsmagazine.com/contact-company?id=41018\n",
      "https://www.wingsmagazine.com/contact-company?id=30698\n",
      "https://www.wingsmagazine.com/contact-company?id=33510\n",
      "https://www.wingsmagazine.com/contact-company?id=32947\n",
      "https://www.wingsmagazine.com/contact-company?id=33054\n",
      "https://www.wingsmagazine.com/contact-company?id=41852\n"
     ]
    }
   ],
   "source": [
    "# parse responses\n",
    "\n",
    "for single_res in responses:\n",
    "    html = str(single_res.text)\n",
    "    try:\n",
    "        contact_url = String(xpath='//div[@class=\"pull-right\"]/a', attr='href').parse(\n",
    "            html\n",
    "        )[0]\n",
    "        contact_url = \"https://www.wingsmagazine.com\" + contact_url\n",
    "        contact_urls.append(contact_url)\n",
    "        print(contact_url)\n",
    "\n",
    "    except:\n",
    "        contact_url = \"\"\n",
    "\n"
   ],
   "metadata": {
    "collapsed": false,
    "ExecuteTime": {
     "start_time": "2023-05-04T05:17:47.413042Z",
     "end_time": "2023-05-04T05:17:47.883785Z"
    }
   }
  },
  {
   "cell_type": "code",
   "execution_count": 15,
   "outputs": [],
   "source": [
    "# send requests to all links\n",
    "rs = (grequests.get(link) for link in contact_urls)\n",
    "responses = grequests.map(rs)\n"
   ],
   "metadata": {
    "collapsed": false,
    "ExecuteTime": {
     "start_time": "2023-05-04T05:18:08.890718Z",
     "end_time": "2023-05-04T05:18:26.824825Z"
    }
   }
  },
  {
   "cell_type": "code",
   "execution_count": 72,
   "outputs": [],
   "source": [
    "import csv\n",
    "\n",
    "# parse responses\n",
    "for single_res_contact in responses:\n",
    "    # if not \"30665\" in str(single_res_contact.url):\n",
    "    #     continue\n",
    "    html_page = str(single_res_contact.text)\n",
    "\n",
    "    try:\n",
    "        name = String(xpath='//div[@class=\"row\"]//h1').parse(html_page)[0]\n",
    "    except:\n",
    "        name = \"\"\n",
    "\n",
    "    try:\n",
    "        address = String(xpath='//div[@class=\"row\"]//address').parse(\n",
    "            html_page\n",
    "        )[0]\n",
    "    except:\n",
    "        address = \"\"\n",
    "\n",
    "    try:\n",
    "        website = String(xpath='//div[@class=\"row\"]//a[@rel=\"nofollow\"]',\n",
    "                         attr='href').parse(html_page)[0]\n",
    "    except:\n",
    "        website = \"\"\n",
    "\n",
    "\n",
    "    try:\n",
    "        phone = String(xpath='//div[@class=\"row\"]//div[@class=\"col-md-4\"]/div'\n",
    "                            ).parse(html_page)[0]\n",
    "\n",
    "        # remove extra spaces\n",
    "        phone = \" \".join(phone.split())\n",
    "\n",
    "        # replace Tel.: with empty string and Toll Free: with empty string\n",
    "        phones = phone.replace(\"Tel.:\", \"\").replace(\"Toll Free:\", \"\").strip().replace(\" (\", \" ,(\")\n",
    "\n",
    "\n",
    "\n",
    "\n",
    "\n",
    "\n",
    "\n",
    "\n",
    "\n",
    "\n",
    "    except:\n",
    "        phones = \"\"\n",
    "\n",
    "    record = [name, \"NA\", phones, website, \"\", address, \"https://www.wingsmagazine.com/mro-directory/\", \"\"]\n",
    "    # replace \\n with space and strip\n",
    "    record = [str(i).replace(\"\\n\", \" \").strip() for i in record]\n",
    "    with open(\"wingsmagazine_2.csv\", \"a\", newline=\"\", encoding=\"utf-8\") as f:\n",
    "        csv.writer(f).writerow(record)\n",
    "\n",
    "\n",
    "\n",
    "\n"
   ],
   "metadata": {
    "collapsed": false,
    "ExecuteTime": {
     "start_time": "2023-05-04T06:40:50.018360Z",
     "end_time": "2023-05-04T06:40:52.414287Z"
    }
   }
  },
  {
   "cell_type": "code",
   "execution_count": 56,
   "outputs": [
    {
     "name": "stdout",
     "output_type": "stream",
     "text": [
      "12\n"
     ]
    }
   ],
   "source": [
    "# https://www.hireuavpro.com/loc/canada-drone-businesses/\n",
    "all_urls = []\n",
    "for i in range(1,4):\n",
    "    x = f\"https://www.hireuavpro.com/loc/canada-drone-businesses/page/{i}/\"\n",
    "    res = requests.get(x)\n",
    "    html_page = str(res.text)\n",
    "    urls = String(xpath='//div[@class=\"item-title\"]/a', attr='href'\n",
    "                 ).parse(html_page)\n",
    "\n",
    "    all_urls.extend(urls)\n",
    "print(len(all_urls))\n"
   ],
   "metadata": {
    "collapsed": false,
    "ExecuteTime": {
     "start_time": "2023-05-04T05:56:39.412418Z",
     "end_time": "2023-05-04T05:56:47.007986Z"
    }
   }
  },
  {
   "cell_type": "code",
   "execution_count": 57,
   "outputs": [],
   "source": [
    "\n",
    "# send requests to all links\n",
    "rs = (grequests.get(link) for link in all_urls)\n",
    "responses = grequests.map(rs)"
   ],
   "metadata": {
    "collapsed": false,
    "ExecuteTime": {
     "start_time": "2023-05-04T05:59:15.085496Z",
     "end_time": "2023-05-04T05:59:22.492638Z"
    }
   }
  },
  {
   "cell_type": "code",
   "execution_count": 68,
   "outputs": [],
   "source": [
    "\n",
    "# parse responses\n",
    "for single_res in responses:\n",
    "    html_page = str(single_res.text)\n",
    "\n",
    "    try:\n",
    "        name= str(single_res.url).split(\"/\")[-2].replace(\"-\", \" \").replace(\"/\", \"\").title()\n",
    "    except:\n",
    "        name = \"\"\n",
    "\n",
    "    try:\n",
    "        address= String(xpath='//div[@itemprop=\"streetAddress\"]/p'\n",
    "                         ).parse(html_page)[0]\n",
    "    except:\n",
    "        address = \"\"\n",
    "\n",
    "    try:\n",
    "        website= String(xpath='//*[@itemprop=\"url\"]'\n",
    "                            ).parse(html_page)[0]\n",
    "    except:\n",
    "        website = \"\"\n",
    "\n",
    "    try:\n",
    "        phone= String(xpath='//*[@itemprop=\"telephone\"]/a'\n",
    "                            ).parse(html_page)[0]\n",
    "    except:\n",
    "        phone = \"\"\n",
    "\n",
    "\n",
    "    try:\n",
    "        email_x = String(xpath='//*[@itemprop=\"email\"]'\n",
    "                            ).parse(html_page)[0]\n",
    "    except:\n",
    "        email_x = \"\"\n",
    "\n",
    "\n",
    "    try:\n",
    "        description = String(xpath='//*[@itemprop=\"description\"]//p'\n",
    "                            ).parse(html_page)[0]\n",
    "\n",
    "        description = description.replace(\"\\n\", \" \").strip()\n",
    "    except:\n",
    "        description = \"\"\n",
    "\n",
    "\n",
    "    record = [name, email_x, phone, website, \"\",description, \"https://www.hireuavpro.com/loc/canada-drone-businesses/\", address]\n",
    "\n",
    "    # replace \\n with space and strip\n",
    "    record = [str(i).replace(\"\\n\", \" \").strip() for i in record]\n",
    "    with open(\"hireuavpro.csv\", \"a\", newline=\"\", encoding=\"utf-8\") as f:\n",
    "        csv.writer(f).writerow(record)\n",
    "\n",
    "\n",
    "\n"
   ],
   "metadata": {
    "collapsed": false,
    "ExecuteTime": {
     "start_time": "2023-05-04T06:12:42.040949Z",
     "end_time": "2023-05-04T06:12:42.325015Z"
    }
   }
  },
  {
   "cell_type": "code",
   "execution_count": null,
   "outputs": [],
   "source": [],
   "metadata": {
    "collapsed": false
   }
  }
 ],
 "metadata": {
  "kernelspec": {
   "display_name": "Python 3",
   "language": "python",
   "name": "python3"
  },
  "language_info": {
   "codemirror_mode": {
    "name": "ipython",
    "version": 2
   },
   "file_extension": ".py",
   "mimetype": "text/x-python",
   "name": "python",
   "nbconvert_exporter": "python",
   "pygments_lexer": "ipython2",
   "version": "2.7.6"
  }
 },
 "nbformat": 4,
 "nbformat_minor": 0
}
