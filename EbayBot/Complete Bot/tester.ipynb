{
 "cells": [
  {
   "cell_type": "code",
   "execution_count": 1,
   "metadata": {
    "collapsed": true,
    "ExecuteTime": {
     "end_time": "2023-06-04T04:38:04.180016Z",
     "start_time": "2023-06-04T04:38:03.635410300Z"
    }
   },
   "outputs": [],
   "source": [
    "import os\n",
    "import time, csv\n",
    "from datetime import datetime\n",
    "\n",
    "import json\n",
    "from selenium import webdriver\n",
    "from selenium.webdriver import ActionChains\n",
    "from selenium.webdriver.common.by import By\n",
    "import undetected_chromedriver as uc\n",
    "from selenium.webdriver.support.wait import WebDriverWait\n",
    "from selenium.webdriver.support import expected_conditions as EC\n",
    "\n",
    "\n",
    "########################################################################################################################\n",
    "# Functions\n",
    "\n",
    "def get_file_data(file_name):\n",
    "    with open(file_name, 'r', encoding='utf-8') as file:\n",
    "        data = file.read().strip().split('\\n')\n",
    "    return data\n",
    "\n",
    "\n",
    "def find_element_send_text(ele, text, clear=True):\n",
    "    while True:\n",
    "        try:\n",
    "            input_field = driver.find_element(By.XPATH, ele)\n",
    "            if clear:\n",
    "                input_field.clear()\n",
    "            input_field.send_keys(text)\n",
    "\n",
    "            break\n",
    "        except:\n",
    "            time.sleep(0.1)\n",
    "\n",
    "\n",
    "def specific_clicker(ele):\n",
    "    while True:\n",
    "        try:\n",
    "            element = driver.find_element(By.XPATH, ele)\n",
    "            webdriver.ActionChains(driver).move_to_element_with_offset(element, 1, 0).click(element).perform()\n",
    "\n",
    "            break\n",
    "        except Exception as e:\n",
    "            # print(e)\n",
    "            pass\n",
    "\n",
    "\n",
    "def specific_clicker2(ele):\n",
    "    try:\n",
    "        element = driver.find_element(By.XPATH, ele)\n",
    "        webdriver.ActionChains(driver).move_to_element_with_offset(element, 1, 0).click(element).perform()\n",
    "\n",
    "    except Exception as e:\n",
    "        # print(e)\n",
    "        pass\n",
    "\n",
    "\n",
    "def get_text(ele):\n",
    "    while True:\n",
    "        try:\n",
    "            element = driver.find_elements(By.XPATH, ele)\n",
    "            texts = [str(x.text) for x in element]\n",
    "            return texts\n",
    "        except Exception as e:\n",
    "            # print(e)\n",
    "            pass\n",
    "\n",
    "\n",
    "def close_chrome():\n",
    "    import os\n",
    "    try:\n",
    "        os.system(\"taskkill /im chrome.exe /f\")\n",
    "    except:\n",
    "        pass\n",
    "\n",
    "\n"
   ]
  },
  {
   "cell_type": "code",
   "execution_count": 3,
   "outputs": [],
   "source": [
    "close_chrome()\n",
    "options = uc.ChromeOptions()\n",
    "path = os.path.join(os.environ['USERPROFILE'], 'AppData', 'Local', 'Google', 'Chrome', 'User Data')\n",
    "options.add_argument(fr\"user-data-dir={path}\")\n",
    "options.add_argument(f'--profile-directory=Profile 1')\n",
    "driver = uc.Chrome(options=options)\n",
    "driver.maximize_window()\n"
   ],
   "metadata": {
    "collapsed": false,
    "ExecuteTime": {
     "end_time": "2023-06-04T04:40:43.164932600Z",
     "start_time": "2023-06-04T04:40:27.518059600Z"
    }
   }
  },
  {
   "cell_type": "code",
   "execution_count": 24,
   "outputs": [],
   "source": [
    "driver.get('https://www.ebay.co.uk/sl/prelist/suggest?sr=shstart')"
   ],
   "metadata": {
    "collapsed": false,
    "ExecuteTime": {
     "end_time": "2023-05-21T05:51:27.638489700Z",
     "start_time": "2023-05-21T05:51:21.988272800Z"
    }
   }
  },
  {
   "cell_type": "code",
   "execution_count": 4,
   "outputs": [],
   "source": [
    "# Select Category\n",
    "from selenium.webdriver.common.keys import Keys\n",
    "\n",
    "find_element_send_text(\"\"\"//input[@aria-label=\"Tell us what you're selling\"]\"\"\", 'adidas Originals Superstar')\n",
    "time.sleep(1)\n",
    "driver.find_element(By.XPATH, \"\"\"//input[@aria-label=\"Tell us what you're selling\"]\"\"\") \\\n",
    "    .send_keys(Keys.ENTER)"
   ],
   "metadata": {
    "collapsed": false,
    "ExecuteTime": {
     "end_time": "2023-05-21T04:37:04.463002800Z",
     "start_time": "2023-05-21T04:37:00.159142300Z"
    }
   }
  },
  {
   "cell_type": "code",
   "execution_count": 5,
   "outputs": [],
   "source": [
    "find_element_send_text('//input[@aria-label=\"Enter a value\"]', 'Puma CA Pro Luxe')"
   ],
   "metadata": {
    "collapsed": false,
    "ExecuteTime": {
     "end_time": "2023-05-21T04:37:05.559822500Z",
     "start_time": "2023-05-21T04:37:05.376206600Z"
    }
   }
  },
  {
   "cell_type": "code",
   "execution_count": 12,
   "outputs": [],
   "source": [
    "specific_clicker('//fieldset//input')"
   ],
   "metadata": {
    "collapsed": false,
    "ExecuteTime": {
     "end_time": "2023-05-20T04:26:43.098230700Z",
     "start_time": "2023-05-20T04:26:42.266377800Z"
    }
   }
  },
  {
   "cell_type": "code",
   "execution_count": 9,
   "outputs": [],
   "source": [
    "specific_clicker(\"//button[text()='Continue without match']\")\n"
   ],
   "metadata": {
    "collapsed": false,
    "ExecuteTime": {
     "end_time": "2023-05-21T04:37:39.087844600Z",
     "start_time": "2023-05-21T04:37:37.719856100Z"
    }
   }
  },
  {
   "cell_type": "code",
   "execution_count": 10,
   "outputs": [],
   "source": [
    "specific_clicker('//fieldset//input')"
   ],
   "metadata": {
    "collapsed": false,
    "ExecuteTime": {
     "end_time": "2023-05-21T04:37:46.920666500Z",
     "start_time": "2023-05-21T04:37:45.552855100Z"
    }
   }
  },
  {
   "cell_type": "code",
   "execution_count": 11,
   "outputs": [],
   "source": [
    "specific_clicker(\"//button[text()='Continue to listing']\")"
   ],
   "metadata": {
    "collapsed": false,
    "ExecuteTime": {
     "end_time": "2023-05-21T04:37:54.922557300Z",
     "start_time": "2023-05-21T04:37:48.941662500Z"
    }
   }
  },
  {
   "cell_type": "code",
   "execution_count": 8,
   "outputs": [
    {
     "name": "stderr",
     "output_type": "stream",
     "text": [
      "\n",
      "KeyboardInterrupt\n",
      "\n"
     ]
    }
   ],
   "source": [
    "specific_clicker(\"//button[text()='Got it']\")"
   ],
   "metadata": {
    "collapsed": false,
    "ExecuteTime": {
     "end_time": "2023-05-21T04:37:33.168896Z",
     "start_time": "2023-05-21T04:37:25.475350400Z"
    }
   }
  },
  {
   "cell_type": "code",
   "execution_count": 13,
   "outputs": [],
   "source": [
    "driver.find_element(By.XPATH, \"//input[@type='file']\").send_keys(\n",
    "    r\"C:\\Users\\shahb\\PycharmProjects\\ClientsData\\EbayBot\\Complete Bot\\test.png\")"
   ],
   "metadata": {
    "collapsed": false,
    "ExecuteTime": {
     "end_time": "2023-05-21T05:00:09.859138600Z",
     "start_time": "2023-05-21T05:00:09.773694200Z"
    }
   }
  },
  {
   "cell_type": "code",
   "execution_count": 21,
   "outputs": [
    {
     "name": "stdout",
     "output_type": "stream",
     "text": [
      "200\n",
      "Image downloaded successfully!\n",
      "200\n",
      "Image downloaded successfully!\n",
      "200\n",
      "Image downloaded successfully!\n",
      "200\n",
      "Image downloaded successfully!\n",
      "200\n",
      "Image downloaded successfully!\n",
      "200\n",
      "Image downloaded successfully!\n"
     ]
    }
   ],
   "source": [
    "import requests\n",
    "\n",
    "\n",
    "def download_image(image_url, folder_path, file_name):\n",
    "    # Create the folder if it doesn't exist\n",
    "    os.makedirs(folder_path, exist_ok=True)\n",
    "\n",
    "    headers = {\n",
    "        \"authority\": \"i8.amplience.net\",\n",
    "        \"accept\": \"text/html,application/xhtml+xml,application/xml;q=0.9,image/avif,image/webp,image/apng,*/*;q=0.8,application/signed-exchange;v=b3;q=0.7\",\n",
    "        \"accept-language\": \"en-GB,en-US;q=0.9,en;q=0.8,ur;q=0.7\",\n",
    "        \"cache-control\": \"max-age=0\",\n",
    "        \"if-modified-since\": \"Sun, 21 May 2023 05:06:19 GMT\",\n",
    "\n",
    "        \"sec-ch-ua-mobile\": \"?0\",\n",
    "\n",
    "        \"sec-fetch-dest\": \"document\",\n",
    "        \"sec-fetch-mode\": \"navigate\",\n",
    "        \"sec-fetch-site\": \"none\",\n",
    "        \"sec-fetch-user\": \"?1\",\n",
    "        \"upgrade-insecure-requests\": \"1\",\n",
    "        \"user-agent\": \"Mozilla/5.0 (Windows NT 10.0; Win64; x64) AppleWebKit/537.36 (KHTML, like Gecko) Chrome/113.0.0.0 Safari/537.36\"\n",
    "    }\n",
    "\n",
    "    # Send a GET request to the URL\n",
    "    response = requests.get(image_url, headers=headers)\n",
    "    print(response.status_code)\n",
    "\n",
    "    if response.status_code == 200:\n",
    "        # Extract the file name from the URL\n",
    "\n",
    "        # Determine the file path to save the image\n",
    "        file_path = os.path.join(folder_path, file_name)\n",
    "\n",
    "        # Save the image to the specified file path\n",
    "        with open(file_path, \"wb\") as file:\n",
    "            file.write(response.content)\n",
    "\n",
    "        print(\"Image downloaded successfully!\")\n",
    "    else:\n",
    "        print(\"Failed to download the image.\")\n",
    "\n",
    "\n",
    "images = \"\"\"https://i8.amplience.net/i/jpl/jd_545943_f?qlt=92&w=600&h=765&v=1&fmt=auto,https://i8.amplience.net/i/jpl/jd_545943_e?qlt=92&w=600&h=765&v=1&fmt=auto,https://i8.amplience.net/i/jpl/jd_545943_b?qlt=92&w=600&h=765&v=1&fmt=auto,https://i8.amplience.net/i/jpl/jd_545943_c?qlt=92&w=600&h=765&v=1&fmt=auto,https://i8.amplience.net/i/jpl/jd_545943_a?qlt=92&w=600&h=765&v=1&fmt=auto,https://i8.amplience.net/i/jpl/jd_545943_d?qlt=92&w=600&h=765&v=1&fmt=auto\n",
    "\"\"\".strip().split(',')\n",
    "def upload_images(images):\n",
    "    for i, image in enumerate(images):\n",
    "        image_url = image.split('?')[0]\n",
    "        file_name = f'image-{i + 1}.jpg'\n",
    "        download_image(image, r\"Files\", file_name)\n",
    "        time.sleep(4)\n",
    "        driver.find_element(By.XPATH, '//input[@type=\"file\"]') \\\n",
    "            .send_keys(os.path.join(os.getcwd(), r\"Files\", file_name))\n",
    "        time.sleep(4)\n",
    "\n",
    "\n",
    "upload_images(images)"
   ],
   "metadata": {
    "collapsed": false,
    "ExecuteTime": {
     "end_time": "2023-05-21T05:11:40.612421700Z",
     "start_time": "2023-05-21T05:10:46.492079100Z"
    }
   }
  },
  {
   "cell_type": "code",
   "execution_count": null,
   "outputs": [],
   "source": [],
   "metadata": {
    "collapsed": false
   }
  },
  {
   "cell_type": "code",
   "execution_count": 9,
   "outputs": [],
   "source": [
    "def change_color(color):\n",
    "\n",
    "    while True:\n",
    "        specific_clicker('//button[@name=\"attributes.Colour\"]')\n",
    "        time.sleep(1)\n",
    "        try:\n",
    "            driver.find_element(By.XPATH, '//input[@name=\"search-box-attributesColour\"]')\n",
    "            break\n",
    "        except:\n",
    "            pass\n",
    "    find_element_send_text('//input[@name=\"search-box-attributesColour\"]', color)\n",
    "    time.sleep(1)\n",
    "    specific_clicker(f'//*[text()=\"{color}\"]')\n",
    "\n",
    "\n",
    "def change_size(size):\n",
    "    while True:\n",
    "        try:\n",
    "            specific_clicker(\"//button[contains(@name, 'Size')]\")\n",
    "            time.sleep(1) # //input[contains(@name, 'Size')]\n",
    "            driver.find_element(By.XPATH, \"//input[contains(@name, 'Size')]\")\n",
    "            break\n",
    "        except:\n",
    "            pass\n",
    "    find_element_send_text('//input[contains(@name, \"Size\")]', size)\n",
    "    time.sleep(1)\n",
    "    specific_clicker(f'//*[text()=\"{size}\"]')\n",
    "\n",
    "\n"
   ],
   "metadata": {
    "collapsed": false,
    "ExecuteTime": {
     "end_time": "2023-06-04T04:53:49.856196900Z",
     "start_time": "2023-06-04T04:53:45.690321700Z"
    }
   }
  },
  {
   "cell_type": "code",
   "execution_count": null,
   "outputs": [],
   "source": [],
   "metadata": {
    "collapsed": false
   }
  },
  {
   "cell_type": "code",
   "execution_count": null,
   "outputs": [],
   "source": [],
   "metadata": {
    "collapsed": false
   }
  },
  {
   "cell_type": "code",
   "execution_count": null,
   "outputs": [],
   "source": [],
   "metadata": {
    "collapsed": false
   }
  },
  {
   "cell_type": "code",
   "execution_count": null,
   "outputs": [],
   "source": [],
   "metadata": {
    "collapsed": false
   }
  },
  {
   "cell_type": "code",
   "execution_count": null,
   "outputs": [],
   "source": [],
   "metadata": {
    "collapsed": false
   }
  },
  {
   "cell_type": "code",
   "execution_count": 26,
   "outputs": [],
   "source": [
    "def write_description(text):\n",
    "    driver.switch_to.frame(driver.find_element(By.XPATH, '//iframe[@aria-label=\"Description\"]'))\n",
    "    driver.find_element(By.XPATH, '//div[@aria-label=\"Description\"]').send_keys(\n",
    "        text)\n",
    "    driver.switch_to.default_content()"
   ],
   "metadata": {
    "collapsed": false,
    "ExecuteTime": {
     "end_time": "2023-05-21T05:54:32.410500200Z",
     "start_time": "2023-05-21T05:54:31.236038800Z"
    }
   }
  },
  {
   "cell_type": "code",
   "execution_count": 17,
   "outputs": [
    {
     "name": "stdout",
     "output_type": "stream",
     "text": [
      "Failed to download the image.\n"
     ]
    }
   ],
   "source": [
    "download_image('https://i8.amplience.net/i/jpl/jd_545943_f', \"Files\", 'image-1.jpg')"
   ],
   "metadata": {
    "collapsed": false,
    "ExecuteTime": {
     "end_time": "2023-05-21T05:07:17.039755500Z",
     "start_time": "2023-05-21T05:07:16.528913500Z"
    }
   }
  },
  {
   "cell_type": "code",
   "execution_count": 41,
   "outputs": [],
   "source": [
    "# PLENTIFIC BOT:\n",
    "driver.get('https://app.plentific.com/')\n",
    "\n",
    "specific_clicker(\"//a/*[text()='Leads']/..\")"
   ],
   "metadata": {
    "collapsed": false,
    "ExecuteTime": {
     "end_time": "2023-05-20T05:25:25.180787700Z",
     "start_time": "2023-05-20T05:25:18.137266400Z"
    }
   }
  },
  {
   "cell_type": "code",
   "execution_count": 24,
   "outputs": [],
   "source": [
    "\n",
    "old_job = []\n",
    "first_link = driver.find_element(By.XPATH, '(//div[@class=\"InfiniteScrolling\"]//a)[1]').get_attribute('href')\n",
    "\n",
    "old_job.append('https://app.plentific.com/uk/contractor/11319537/lead/5cac7674-3074-4081-9a58-198f1cc59f5o')"
   ],
   "metadata": {
    "collapsed": false,
    "ExecuteTime": {
     "end_time": "2023-05-20T05:11:03.502341200Z",
     "start_time": "2023-05-20T05:11:03.458195200Z"
    }
   }
  },
  {
   "cell_type": "code",
   "execution_count": 25,
   "outputs": [
    {
     "name": "stdout",
     "output_type": "stream",
     "text": [
      "New Job Found\n",
      "New Job Found\n",
      "New Job Found\n"
     ]
    },
    {
     "name": "stderr",
     "output_type": "stream",
     "text": [
      "\n",
      "KeyboardInterrupt\n",
      "\n"
     ]
    }
   ],
   "source": [
    "\n",
    "\n",
    "while True:\n",
    "    specific_clicker(\"//a/*[text()='Leads']/..\")\n",
    "    while True:\n",
    "        try:\n",
    "            new_link = driver.find_element(By.XPATH, '(//div[@class=\"InfiniteScrolling\"]//a)[1]').get_attribute('href')\n",
    "            break\n",
    "        except:\n",
    "            time.sleep(0.1)\n",
    "    if new_link not in old_job:\n",
    "        print(\"New Job Found\")\n",
    "        old_job.clear()\n",
    "        old_job.append(new_link)\n",
    "        driver.get(new_link)\n",
    "        # scroll to bottom\n",
    "        driver.execute_script(\"window.scrollTo(0, document.body.scrollHeight);\")\n",
    "\n",
    "        specific_clicker('//div[@data-props-divider=\"full-width\"]//input[@type=\"checkbox\"]')\n",
    "        input(\"add: \")\n",
    "        # specific_clicker(\"//button[text()='Get this lead']\")\n",
    "\n",
    "\n",
    "\n",
    "\n",
    "\n",
    "\n",
    "\n",
    "\n"
   ],
   "metadata": {
    "collapsed": false,
    "ExecuteTime": {
     "end_time": "2023-05-20T05:12:02.262473100Z",
     "start_time": "2023-05-20T05:11:12.816821700Z"
    }
   }
  },
  {
   "cell_type": "code",
   "execution_count": 20,
   "outputs": [],
   "source": [
    "driver.get('https://app.plentific.com/uk/contractor/11319537/lead/5cac7674-3074-4081-9a58-198f1cc59f5f')"
   ],
   "metadata": {
    "collapsed": false,
    "ExecuteTime": {
     "end_time": "2023-05-20T05:05:54.088765700Z",
     "start_time": "2023-05-20T05:05:51.152686Z"
    }
   }
  },
  {
   "cell_type": "code",
   "execution_count": 26,
   "outputs": [],
   "source": [
    "specific_clicker('//div[@data-props-divider=\"full-width\"]//input[@type=\"checkbox\"]')"
   ],
   "metadata": {
    "collapsed": false,
    "ExecuteTime": {
     "end_time": "2023-05-20T05:12:46.050897600Z",
     "start_time": "2023-05-20T05:12:45.432435700Z"
    }
   }
  },
  {
   "cell_type": "code",
   "execution_count": null,
   "outputs": [],
   "source": [
    "specific_clicker(\"//button[text()='Get this lead']\")"
   ],
   "metadata": {
    "collapsed": false
   }
  },
  {
   "cell_type": "code",
   "execution_count": 36,
   "outputs": [
    {
     "name": "stdout",
     "output_type": "stream",
     "text": [
      "10:16:38\n"
     ]
    }
   ],
   "source": [],
   "metadata": {
    "collapsed": false,
    "ExecuteTime": {
     "end_time": "2023-05-20T05:16:38.187851400Z",
     "start_time": "2023-05-20T05:16:38.159120100Z"
    }
   }
  },
  {
   "cell_type": "code",
   "execution_count": 35,
   "outputs": [
    {
     "name": "stdout",
     "output_type": "stream",
     "text": [
      "2023-05-19T15:45:48\n"
     ]
    }
   ],
   "source": [],
   "metadata": {
    "collapsed": false,
    "ExecuteTime": {
     "end_time": "2023-05-20T05:15:28.907615300Z",
     "start_time": "2023-05-20T05:15:28.853815500Z"
    }
   }
  },
  {
   "cell_type": "code",
   "execution_count": 47,
   "outputs": [],
   "source": [],
   "metadata": {
    "collapsed": false,
    "ExecuteTime": {
     "end_time": "2023-05-20T05:27:42.554185Z",
     "start_time": "2023-05-20T05:27:34.823704500Z"
    }
   }
  },
  {
   "cell_type": "code",
   "execution_count": 44,
   "outputs": [],
   "source": [],
   "metadata": {
    "collapsed": false,
    "ExecuteTime": {
     "end_time": "2023-05-20T05:25:55.782268Z",
     "start_time": "2023-05-20T05:25:55.761324500Z"
    }
   }
  },
  {
   "cell_type": "code",
   "execution_count": null,
   "outputs": [],
   "source": [],
   "metadata": {
    "collapsed": false
   }
  }
 ],
 "metadata": {
  "kernelspec": {
   "display_name": "Python 3",
   "language": "python",
   "name": "python3"
  },
  "language_info": {
   "codemirror_mode": {
    "name": "ipython",
    "version": 2
   },
   "file_extension": ".py",
   "mimetype": "text/x-python",
   "name": "python",
   "nbconvert_exporter": "python",
   "pygments_lexer": "ipython2",
   "version": "2.7.6"
  }
 },
 "nbformat": 4,
 "nbformat_minor": 0
}
