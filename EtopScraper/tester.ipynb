{
 "cells": [
  {
   "cell_type": "code",
   "execution_count": 1,
   "metadata": {
    "collapsed": true,
    "ExecuteTime": {
     "start_time": "2023-04-26T12:41:10.703325Z",
     "end_time": "2023-04-26T12:41:26.994937Z"
    }
   },
   "outputs": [
    {
     "ename": "ContentTooShortError",
     "evalue": "<urlopen error retrieval incomplete: got only 2419864 out of 7127242 bytes>",
     "output_type": "error",
     "traceback": [
      "\u001B[1;31m---------------------------------------------------------------------------\u001B[0m",
      "\u001B[1;31mContentTooShortError\u001B[0m                      Traceback (most recent call last)",
      "Cell \u001B[1;32mIn[1], line 80\u001B[0m\n\u001B[0;32m     76\u001B[0m options \u001B[38;5;241m=\u001B[39m uc\u001B[38;5;241m.\u001B[39mChromeOptions()\n\u001B[0;32m     77\u001B[0m \u001B[38;5;66;03m# options.add_argument(fr\"user-data-dir={path}\")\u001B[39;00m\n\u001B[0;32m     78\u001B[0m \u001B[38;5;66;03m# options.add_argument(f'--profile-directory=Default')\u001B[39;00m\n\u001B[1;32m---> 80\u001B[0m driver \u001B[38;5;241m=\u001B[39m \u001B[43muc\u001B[49m\u001B[38;5;241;43m.\u001B[39;49m\u001B[43mChrome\u001B[49m\u001B[43m(\u001B[49m\u001B[43moptions\u001B[49m\u001B[38;5;241;43m=\u001B[39;49m\u001B[43moptions\u001B[49m\u001B[43m)\u001B[49m\n\u001B[0;32m     81\u001B[0m driver\u001B[38;5;241m.\u001B[39mmaximize_window()\n\u001B[0;32m     83\u001B[0m driver\u001B[38;5;241m.\u001B[39mget(\u001B[38;5;124m\"\u001B[39m\u001B[38;5;124mhttps://www.etopfun.com/en/store/\u001B[39m\u001B[38;5;124m\"\u001B[39m)\n",
      "File \u001B[1;32m~\\AppData\\Local\\Programs\\Python\\Python311\\Lib\\site-packages\\undetected_chromedriver\\__init__.py:246\u001B[0m, in \u001B[0;36mChrome.__init__\u001B[1;34m(self, options, user_data_dir, driver_executable_path, browser_executable_path, port, enable_cdp_events, service_args, service_creationflags, desired_capabilities, advanced_elements, service_log_path, keep_alive, log_level, headless, version_main, patcher_force_close, suppress_welcome, use_subprocess, debug, no_sandbox, **kw)\u001B[0m\n\u001B[0;32m    240\u001B[0m \u001B[38;5;28mself\u001B[39m\u001B[38;5;241m.\u001B[39mdebug \u001B[38;5;241m=\u001B[39m debug\n\u001B[0;32m    241\u001B[0m \u001B[38;5;28mself\u001B[39m\u001B[38;5;241m.\u001B[39mpatcher \u001B[38;5;241m=\u001B[39m Patcher(\n\u001B[0;32m    242\u001B[0m     executable_path\u001B[38;5;241m=\u001B[39mdriver_executable_path,\n\u001B[0;32m    243\u001B[0m     force\u001B[38;5;241m=\u001B[39mpatcher_force_close,\n\u001B[0;32m    244\u001B[0m     version_main\u001B[38;5;241m=\u001B[39mversion_main,\n\u001B[0;32m    245\u001B[0m )\n\u001B[1;32m--> 246\u001B[0m \u001B[38;5;28;43mself\u001B[39;49m\u001B[38;5;241;43m.\u001B[39;49m\u001B[43mpatcher\u001B[49m\u001B[38;5;241;43m.\u001B[39;49m\u001B[43mauto\u001B[49m\u001B[43m(\u001B[49m\u001B[43m)\u001B[49m\n\u001B[0;32m    247\u001B[0m \u001B[38;5;66;03m# self.patcher = patcher\u001B[39;00m\n\u001B[0;32m    248\u001B[0m \u001B[38;5;28;01mif\u001B[39;00m \u001B[38;5;129;01mnot\u001B[39;00m options:\n",
      "File \u001B[1;32m~\\AppData\\Local\\Programs\\Python\\Python311\\Lib\\site-packages\\undetected_chromedriver\\patcher.py:127\u001B[0m, in \u001B[0;36mPatcher.auto\u001B[1;34m(self, executable_path, force, version_main)\u001B[0m\n\u001B[0;32m    125\u001B[0m \u001B[38;5;28mself\u001B[39m\u001B[38;5;241m.\u001B[39mversion_main \u001B[38;5;241m=\u001B[39m release\u001B[38;5;241m.\u001B[39mversion[\u001B[38;5;241m0\u001B[39m]\n\u001B[0;32m    126\u001B[0m \u001B[38;5;28mself\u001B[39m\u001B[38;5;241m.\u001B[39mversion_full \u001B[38;5;241m=\u001B[39m release\n\u001B[1;32m--> 127\u001B[0m \u001B[38;5;28mself\u001B[39m\u001B[38;5;241m.\u001B[39munzip_package(\u001B[38;5;28;43mself\u001B[39;49m\u001B[38;5;241;43m.\u001B[39;49m\u001B[43mfetch_package\u001B[49m\u001B[43m(\u001B[49m\u001B[43m)\u001B[49m)\n\u001B[0;32m    128\u001B[0m \u001B[38;5;28;01mreturn\u001B[39;00m \u001B[38;5;28mself\u001B[39m\u001B[38;5;241m.\u001B[39mpatch()\n",
      "File \u001B[1;32m~\\AppData\\Local\\Programs\\Python\\Python311\\Lib\\site-packages\\undetected_chromedriver\\patcher.py:163\u001B[0m, in \u001B[0;36mPatcher.fetch_package\u001B[1;34m(self)\u001B[0m\n\u001B[0;32m    161\u001B[0m logger\u001B[38;5;241m.\u001B[39mdebug(\u001B[38;5;124m\"\u001B[39m\u001B[38;5;124mdownloading from \u001B[39m\u001B[38;5;132;01m%s\u001B[39;00m\u001B[38;5;124m\"\u001B[39m \u001B[38;5;241m%\u001B[39m u)\n\u001B[0;32m    162\u001B[0m \u001B[38;5;66;03m# return urlretrieve(u, filename=self.data_path)[0]\u001B[39;00m\n\u001B[1;32m--> 163\u001B[0m \u001B[38;5;28;01mreturn\u001B[39;00m \u001B[43murlretrieve\u001B[49m\u001B[43m(\u001B[49m\u001B[43mu\u001B[49m\u001B[43m)\u001B[49m[\u001B[38;5;241m0\u001B[39m]\n",
      "File \u001B[1;32m~\\AppData\\Local\\Programs\\Python\\Python311\\Lib\\urllib\\request.py:280\u001B[0m, in \u001B[0;36murlretrieve\u001B[1;34m(url, filename, reporthook, data)\u001B[0m\n\u001B[0;32m    277\u001B[0m                 reporthook(blocknum, bs, size)\n\u001B[0;32m    279\u001B[0m \u001B[38;5;28;01mif\u001B[39;00m size \u001B[38;5;241m>\u001B[39m\u001B[38;5;241m=\u001B[39m \u001B[38;5;241m0\u001B[39m \u001B[38;5;129;01mand\u001B[39;00m read \u001B[38;5;241m<\u001B[39m size:\n\u001B[1;32m--> 280\u001B[0m     \u001B[38;5;28;01mraise\u001B[39;00m ContentTooShortError(\n\u001B[0;32m    281\u001B[0m         \u001B[38;5;124m\"\u001B[39m\u001B[38;5;124mretrieval incomplete: got only \u001B[39m\u001B[38;5;132;01m%i\u001B[39;00m\u001B[38;5;124m out of \u001B[39m\u001B[38;5;132;01m%i\u001B[39;00m\u001B[38;5;124m bytes\u001B[39m\u001B[38;5;124m\"\u001B[39m\n\u001B[0;32m    282\u001B[0m         \u001B[38;5;241m%\u001B[39m (read, size), result)\n\u001B[0;32m    284\u001B[0m \u001B[38;5;28;01mreturn\u001B[39;00m result\n",
      "\u001B[1;31mContentTooShortError\u001B[0m: <urlopen error retrieval incomplete: got only 2419864 out of 7127242 bytes>"
     ]
    }
   ],
   "source": [
    "import random\n",
    "import time\n",
    "from datetime import datetime\n",
    "import pyperclip\n",
    "from selenium import webdriver\n",
    "from selenium.webdriver.common.by import By\n",
    "import undetected_chromedriver as uc\n",
    "import os\n",
    "\n",
    "path = fr\"/Users/shahbazali/Library/Application Support/Google/Chrome\"  # Path to your chrome profile\n",
    "time_between_refresh = 10  # Time between actions (seconds)\n",
    "\n",
    "\n",
    "########################################################################################################################\n",
    "# Functions\n",
    "########################################################################################################################\n",
    "\n",
    "def find_element_send_text(ele, text, clear=True):\n",
    "    while True:\n",
    "        try:\n",
    "            input_field = driver.find_element(By.XPATH, ele)\n",
    "            if clear:\n",
    "                input_field.clear()\n",
    "            input_field.send_keys(text)\n",
    "\n",
    "            break\n",
    "        except:\n",
    "            time.sleep(0.1)\n",
    "\n",
    "\n",
    "def specific_clicker(ele):\n",
    "    while True:\n",
    "        try:\n",
    "            element = driver.find_element(By.XPATH, ele)\n",
    "            webdriver.ActionChains(driver).move_to_element_with_offset(element, 1, 0).click(element).perform()\n",
    "\n",
    "            break\n",
    "        except Exception as e:\n",
    "\n",
    "            pass\n",
    "\n",
    "\n",
    "def specific_clicker2(ele):\n",
    "    try:\n",
    "        element = driver.find_element(By.XPATH, ele)\n",
    "        webdriver.ActionChains(driver).move_to_element_with_offset(element, 1, 0).click(element).perform()\n",
    "\n",
    "    except Exception as e:\n",
    "        # print(e)\n",
    "        pass\n",
    "\n",
    "\n",
    "def get_text(ele):\n",
    "    while True:\n",
    "        try:\n",
    "            element = driver.find_elements(By.XPATH, ele)\n",
    "            texts = [str(x.text) for x in element]\n",
    "            return texts\n",
    "        except Exception as e:\n",
    "            # print(e)\n",
    "            pass\n",
    "\n",
    "\n",
    "def close_chrome():\n",
    "    try:\n",
    "        os.system(\"taskkill /f /im chrome.exe\")\n",
    "    except:\n",
    "        pass\n",
    "\n",
    "\n",
    "def get_file_data(file):\n",
    "    with open(file, \"r\", encoding=\"utf-8\") as f:\n",
    "        return f.read().strip().split(\"\\n\")\n",
    "\n",
    "\n",
    "options = uc.ChromeOptions()\n",
    "# options.add_argument(fr\"user-data-dir={path}\")\n",
    "# options.add_argument(f'--profile-directory=Default')\n",
    "\n",
    "driver = uc.Chrome(options=options)\n",
    "driver.maximize_window()\n",
    "\n",
    "driver.get(\"https://www.etopfun.com/en/store/\")"
   ]
  },
  {
   "cell_type": "code",
   "execution_count": 3,
   "outputs": [],
   "source": [
    "time.sleep(2)\n",
    "specific_clicker(\"//ul//span[text()='Order Items Page']\")\n"
   ],
   "metadata": {
    "collapsed": false,
    "ExecuteTime": {
     "start_time": "2023-04-26T12:43:37.929097Z",
     "end_time": "2023-04-26T12:43:38.947593Z"
    }
   }
  },
  {
   "cell_type": "code",
   "execution_count": 41,
   "outputs": [
    {
     "name": "stdout",
     "output_type": "stream",
     "text": [
      "5\n",
      "★ StatTrak™ Skeleton Knife | Stained (Minimal Wear) Gold 953.31\n",
      "★ Specialist Gloves | Mogul (Minimal Wear) Gold 945.77\n",
      "★ StatTrak™ Bayonet | Autotronic (Field-Tested) Gold 944.38\n",
      "★ Bayonet | Autotronic (Field-Tested) Gold 944.38\n",
      "★ StatTrak™ Flip Knife Gold 944.16\n",
      "★ Butterfly Knife | Safari Mesh (Well-Worn) Gold 936.88\n",
      "★ Flip Knife | Doppler (Factory New) Gold 929.57\n",
      "★ StatTrak™ Flip Knife | Doppler (Factory New) Gold 929.57\n",
      "★ Butterfly Knife | Forest DDPAT (Battle-Scarred) Gold 928.72\n",
      "★ Karambit | Rust Coat (Battle-Scarred) Gold 926.29\n",
      "★ M9 Bayonet | Damascus Steel (Field-Tested) Gold 923.75\n",
      "★ StatTrak™ Skeleton Knife | Blue Steel (Field-Tested) Gold 914.64\n",
      "★ Driver Gloves | King Snake (Field-Tested) Gold 911.64\n",
      "★ M9 Bayonet | Bright Water (Field-Tested) Gold 905.89\n",
      "★ StatTrak™ M9 Bayonet | Bright Water (Field-Tested) Gold 905.89\n",
      "★ Hand Wraps | Overprint (Minimal Wear) Gold 903.38\n",
      "★ Ursus Knife | Doppler (Factory New) Gold 902.51\n",
      "★ StatTrak™ Ursus Knife | Doppler (Factory New) Gold 902.51\n",
      "★ StatTrak™ Stiletto Knife Gold 900.09\n",
      "★ StatTrak™ Karambit | Urban Masked (Minimal Wear) Gold 900.09\n",
      "★ Specialist Gloves | Lt. Commander (Minimal Wear) Gold 895.59\n",
      "★ Hand Wraps | CAUTION! (Minimal Wear) Gold 890.31\n",
      "★ Bayonet | Autotronic (Battle-Scarred) Gold 853.98\n",
      "★ Talon Knife | Damascus Steel (Factory New) Gold 852.65\n",
      "★ StatTrak™ Nomad Knife | Slaughter (Minimal Wear) Gold 848.88\n",
      "AK-47 | Vulcan (Minimal Wear) Gold 833.24\n",
      "★ Nomad Knife | Crimson Web (Field-Tested) Gold 822.58\n",
      "★ StatTrak™ Nomad Knife | Crimson Web (Field-Tested) Gold 822.58\n",
      "★ Skeleton Knife | Case Hardened (Well-Worn) Gold 817.3\n",
      "★ StatTrak™ Ursus Knife | Crimson Web (Minimal Wear) Gold 812.12\n",
      "★ StatTrak™ Classic Knife | Slaughter (Factory New) Gold 803.53\n",
      "★ StatTrak™ M9 Bayonet | Ultraviolet (Field-Tested) Gold 800.89\n",
      "★ M9 Bayonet | Ultraviolet (Field-Tested) Gold 800.89\n",
      "★ Hand Wraps | Cobalt Skulls (Field-Tested) Gold 798.75\n",
      "★ Talon Knife | Crimson Web (Field-Tested) Gold 795.84\n",
      "★ Karambit | Urban Masked (Field-Tested) Gold 794.02\n",
      "★ Bayonet | Case Hardened (Minimal Wear) Gold 791.29\n",
      "★ Huntsman Knife | Gamma Doppler (Factory New) Gold 773.89\n",
      "★ Huntsman Knife | Doppler (Factory New) Gold 767.63\n",
      "★ Moto Gloves | Polygon (Minimal Wear) Gold 760.9\n",
      "★ M9 Bayonet | Rust Coat (Battle-Scarred) Gold 755.72\n",
      "★ StatTrak™ M9 Bayonet | Rust Coat (Battle-Scarred) Gold 755.72\n",
      "★ StatTrak™ Huntsman Knife | Marble Fade (Factory New) Gold 755.42\n",
      "★ StatTrak™ M9 Bayonet | Night (Field-Tested) Gold 747.43\n",
      "AWP | Oni Taiji (Minimal Wear) Gold 745.04\n",
      "★ StatTrak™ Skeleton Knife | Blue Steel (Well-Worn) Gold 741.03\n",
      "★ Paracord Knife | Slaughter (Factory New) Gold 730.24\n",
      "★ StatTrak™ Paracord Knife | Slaughter (Factory New) Gold 730.24\n",
      "★ Moto Gloves | Boom! (Minimal Wear) Gold 727.27\n",
      "★ Bowie Knife | Gamma Doppler (Factory New) Gold 726.05\n",
      "★ Skeleton Knife | Case Hardened (Battle-Scarred) Gold 716.87\n",
      "★ Bayonet | Bright Water (Factory New) Gold 716.41\n",
      "★ StatTrak™ Bayonet | Bright Water (Factory New) Gold 716.41\n",
      "★ StatTrak™ Skeleton Knife | Night Stripe (Field-Tested) Gold 716.29\n",
      "★ M9 Bayonet | Stained (Battle-Scarred) Gold 712.64\n",
      "★ StatTrak™ M9 Bayonet | Stained (Battle-Scarred) Gold 712.64\n",
      "★ Bayonet | Black Laminate (Minimal Wear) Gold 701.31\n",
      "★ StatTrak™ Bayonet | Black Laminate (Minimal Wear) Gold 701.31\n",
      "★ Bowie Knife | Doppler (Factory New) Gold 696.04\n",
      "★ StatTrak™ Ursus Knife Gold 694.46\n",
      "6\n"
     ]
    }
   ],
   "source": [
    "start_page = 1\n",
    "end_page = 5\n",
    "\n",
    "while True:\n",
    "    current_page = int(str(driver.find_element(By.XPATH, \"//ul[@class='el-pager']//li[contains(@class, 'active')]\").text))\n",
    "    print(current_page)\n",
    "\n",
    "    if current_page > end_page:\n",
    "        break\n",
    "    if current_page >= start_page and current_page <= end_page:\n",
    "        time.sleep(5)\n",
    "        total_items = driver.find_elements(By.XPATH, '//ul[contains(@class, \"dota2-ul\")]/li')\n",
    "        for i in range(1, len(total_items) + 1):\n",
    "            xpath = f'(//ul[contains(@class, \"dota2-ul\")]/li)[{i}]'\n",
    "            name = driver.find_element(By.XPATH, f\"{xpath}//p[@title]\").text\n",
    "            exterior = driver.find_element(By.XPATH, f\"{xpath}/p[@class='count']/label/span\").text\n",
    "            price = driver.find_element(By.XPATH, f\"{xpath}/p[@class='count']/label/b\").text\n",
    "            print(name, exterior, price)\n",
    "        specific_clicker('//button[@class=\"btn-next\"]')\n",
    "\n",
    "    else:\n",
    "        print(\"skipping page\")\n",
    "        specific_clicker('//button[@class=\"btn-next\"]')\n",
    "\n",
    "\n"
   ],
   "metadata": {
    "collapsed": false,
    "ExecuteTime": {
     "start_time": "2023-04-26T13:17:14.916739Z",
     "end_time": "2023-04-26T13:17:26.468411Z"
    }
   }
  },
  {
   "cell_type": "code",
   "execution_count": 37,
   "outputs": [],
   "source": [
    "driver.find_element(By.XPATH, \"//*[@class='pagination']//ul/li\").click()\n"
   ],
   "metadata": {
    "collapsed": false,
    "ExecuteTime": {
     "start_time": "2023-04-26T13:15:35.512561Z",
     "end_time": "2023-04-26T13:15:35.591895Z"
    }
   }
  },
  {
   "cell_type": "code",
   "execution_count": 38,
   "outputs": [],
   "source": [
    "specific_clicker('//button[@class=\"btn-next\"]')"
   ],
   "metadata": {
    "collapsed": false,
    "ExecuteTime": {
     "start_time": "2023-04-26T13:15:47.085883Z",
     "end_time": "2023-04-26T13:15:47.721128Z"
    }
   }
  },
  {
   "cell_type": "code",
   "execution_count": null,
   "outputs": [],
   "source": [],
   "metadata": {
    "collapsed": false
   }
  }
 ],
 "metadata": {
  "kernelspec": {
   "display_name": "Python 3",
   "language": "python",
   "name": "python3"
  },
  "language_info": {
   "codemirror_mode": {
    "name": "ipython",
    "version": 2
   },
   "file_extension": ".py",
   "mimetype": "text/x-python",
   "name": "python",
   "nbconvert_exporter": "python",
   "pygments_lexer": "ipython2",
   "version": "2.7.6"
  }
 },
 "nbformat": 4,
 "nbformat_minor": 0
}
