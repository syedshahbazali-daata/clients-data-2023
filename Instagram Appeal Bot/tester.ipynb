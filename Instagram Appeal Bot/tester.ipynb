{
 "cells": [
  {
   "cell_type": "code",
   "execution_count": 1,
   "metadata": {
    "collapsed": true,
    "ExecuteTime": {
     "end_time": "2023-05-25T16:49:55.503185900Z",
     "start_time": "2023-05-25T16:49:52.409153Z"
    }
   },
   "outputs": [],
   "source": [
    "import os\n",
    "import time, csv\n",
    "from datetime import datetime\n",
    "import pandas as pd\n",
    "from selenium import webdriver\n",
    "from selenium.webdriver import ActionChains\n",
    "from selenium.webdriver.common.by import By\n",
    "import undetected_chromedriver as uc\n",
    "from selenium.webdriver.support.wait import WebDriverWait\n",
    "from selenium.webdriver.support import expected_conditions as EC\n",
    "from selenium.webdriver.common.keys import Keys\n",
    "import random\n",
    "from textwrap import dedent\n",
    "import os\n",
    "\n",
    "########################################################################################################################\n",
    "# Functions\n",
    "\n",
    "BASE_DIR = os.path.dirname(os.path.abspath(\"_file_\"))\n",
    "\n",
    "\n",
    "def get_proxy_auth_extension(proxy):\n",
    "    if proxy.strip() == '':\n",
    "        return None\n",
    "    cred, prox = proxy.split('@')\n",
    "    PROXY_USER, PROXY_PASS = cred.split(':')\n",
    "    PROXY_HOST, PROXY_PORT = prox.split(':')\n",
    "    manifest_json = \"\"\"\n",
    "                    {\n",
    "                        \"version\": \"1.0.0\",\n",
    "                        \"manifest_version\": 2,\n",
    "                        \"name\": \"Chrome Proxy\",\n",
    "                        \"permissions\": [\n",
    "                            \"proxy\",\n",
    "                            \"tabs\",\n",
    "                            \"unlimitedStorage\",\n",
    "                            \"storage\",\n",
    "                            \"<all_urls>\",\n",
    "                            \"webRequest\",\n",
    "                            \"webRequestBlocking\"\n",
    "                        ],\n",
    "                        \"background\": {\n",
    "                            \"scripts\": [\"background.js\"]\n",
    "                        },\n",
    "                        \"minimum_chrome_version\":\"22.0.0\"\n",
    "                    }\n",
    "                    \"\"\"\n",
    "\n",
    "    background_js = \"\"\"\n",
    "                    var config = {\n",
    "                            mode: \"fixed_servers\",\n",
    "                            rules: {\n",
    "                            singleProxy: {\n",
    "                                scheme: \"http\",\n",
    "                                host: \"%s\",\n",
    "                                port: parseInt(%s)\n",
    "                            },\n",
    "                            bypassList: [\"localhost\"]\n",
    "                            }\n",
    "                        };\n",
    "\n",
    "                    chrome.proxy.settings.set({value: config, scope: \"regular\"}, function() {});\n",
    "\n",
    "                    function callbackFn(details) {\n",
    "                        return {\n",
    "                            authCredentials: {\n",
    "                                username: \"%s\",\n",
    "                                password: \"%s\"\n",
    "                            }\n",
    "                        };\n",
    "                    }\n",
    "\n",
    "                    chrome.webRequest.onAuthRequired.addListener(\n",
    "                                callbackFn,\n",
    "                                {urls: [\"<all_urls>\"]},\n",
    "                                ['blocking']\n",
    "                    );\n",
    "                    \"\"\" % (PROXY_HOST, PROXY_PORT, PROXY_USER, PROXY_PASS)\n",
    "    fn = os.path.join(BASE_DIR, 'proxy_ext')\n",
    "    if not os.path.exists(fn):\n",
    "        os.mkdir(fn)\n",
    "    m_path = os.path.join(fn, \"manifest.json\")\n",
    "    b_path = os.path.join(fn, \"background.js\")\n",
    "    with open(m_path, 'w') as f:\n",
    "        f.write(dedent(manifest_json))\n",
    "    with open(b_path, 'w') as f:\n",
    "        f.write(dedent(background_js))\n",
    "    return fn\n",
    "\n",
    "\n",
    "def get_file_data(file_name):\n",
    "    with open(file_name, 'r', encoding='utf-8') as file:\n",
    "        data = file.read().strip().split('\\n')\n",
    "    return data\n",
    "\n",
    "\n",
    "def find_element_send_text(ele, text, clear=True):\n",
    "    while True:\n",
    "        try:\n",
    "            input_field = driver.find_element(By.XPATH, ele)\n",
    "            if clear:\n",
    "                input_field.clear()\n",
    "            input_field.send_keys(text)\n",
    "\n",
    "            break\n",
    "        except:\n",
    "            time.sleep(0.1)\n",
    "\n",
    "\n",
    "def specific_clicker(ele):\n",
    "    while True:\n",
    "        try:\n",
    "            element = driver.find_element(By.XPATH, ele)\n",
    "            webdriver.ActionChains(driver).move_to_element_with_offset(element, 1, 0).click(element).perform()\n",
    "\n",
    "            break\n",
    "        except Exception as e:\n",
    "            # print(e)\n",
    "            pass\n",
    "\n",
    "\n",
    "def specific_clicker2(ele):\n",
    "    try:\n",
    "        element = driver.find_element(By.XPATH, ele)\n",
    "        webdriver.ActionChains(driver).move_to_element_with_offset(element, 1, 0).click(element).perform()\n",
    "\n",
    "    except Exception as e:\n",
    "        # print(e)\n",
    "        pass\n"
   ]
  },
  {
   "cell_type": "code",
   "execution_count": 2,
   "outputs": [],
   "source": [
    "def facebook_appeal(full_name, mail_address, username_x, phone_x, appeal_text):\n",
    "    find_element_send_text('//input[@name=\"name\"]', full_name)\n",
    "    find_element_send_text('//input[@name=\"email\"]', mail_address)\n",
    "    find_element_send_text('//input[@name=\"instagram_username\"]', username_x)\n",
    "    find_element_send_text('//input[@name=\"mobile_number\"]', phone_x)\n",
    "    find_element_send_text('//*[@name=\"appeal_reason\"]', appeal_text)\n",
    "    specific_clicker('//form//button[@type=\"submit\"]')\n",
    "    time.sleep(7)\n",
    "\n",
    "\n",
    "def instagram_link_1(full_name, username_x, mail_address, country, appeal_text):\n",
    "    find_element_send_text('//input[@name=\"name\"]', full_name)\n",
    "    find_element_send_text('//input[@name=\"username\"]', username_x)\n",
    "    find_element_send_text('//input[@name=\"email\"]', mail_address)\n",
    "    find_element_send_text('//form//input[@aria-label=\"Enter a country name...\"]', country)\n",
    "    find_element_send_text('//*[@name=\"user_comment\"]', appeal_text)\n",
    "    specific_clicker('//form//button[@type=\"submit\"]')\n",
    "    time.sleep(7)\n",
    "\n",
    "\n",
    "def instagram_link_2(full_name, username_x, mail_address, country):\n",
    "    specific_clicker('(//*[@name=\"AccountType\"])[2]')\n",
    "    find_element_send_text('//input[@name=\"name\"]', full_name)\n",
    "    find_element_send_text('(//form//input[@type=\"text\"])[3]', username_x)\n",
    "    find_element_send_text('(//form//input[@type=\"text\"])[4]', mail_address)\n",
    "    find_element_send_text('(//form//input[@type=\"text\"])[5]', country)\n",
    "    specific_clicker('//form//button[@type=\"submit\"]')\n",
    "    time.sleep(7)\n",
    "\n",
    "\n",
    "def instagram_link_3(full_name, username_x, mail_address, country, files):\n",
    "    specific_clicker('(//label/input[@type=\"radio\"])[2]')\n",
    "    find_element_send_text('//input[@name=\"name\"]', full_name)\n",
    "    find_element_send_text('(//form//input[@type=\"text\"])[3]', username_x)\n",
    "    find_element_send_text('(//form//input[@type=\"text\"])[4]', mail_address)\n",
    "    find_element_send_text('(//form//input[@type=\"text\"])[5]', country)\n",
    "    for single_file in files:\n",
    "        driver.find_element(By.XPATH, '//form//input[@type=\"file\"]').send_keys(single_file)\n",
    "        time.sleep(1)\n",
    "    specific_clicker('//form//button[@type=\"submit\"]')\n",
    "    time.sleep(7)\n",
    "\n",
    "\n",
    "\n",
    "\n",
    "\n",
    "\n",
    "\n",
    "\n"
   ],
   "metadata": {
    "collapsed": false,
    "ExecuteTime": {
     "end_time": "2023-05-25T16:49:55.518718400Z",
     "start_time": "2023-05-25T16:49:55.506177700Z"
    }
   }
  },
  {
   "cell_type": "code",
   "execution_count": 4,
   "outputs": [],
   "source": [
    "options = uc.ChromeOptions()\n",
    "# proxies_list = get_file_data('proxies')\n",
    "# my_proxy = random.choice(proxies_list)\n",
    "# proxy = get_proxy_auth_extension(my_proxy)\n",
    "# options.add_argument(f'--load-extension={proxy}')\n",
    "driver = uc.Chrome(options=options)\n",
    "driver.maximize_window()"
   ],
   "metadata": {
    "collapsed": false,
    "ExecuteTime": {
     "end_time": "2023-05-25T16:50:32.255433400Z",
     "start_time": "2023-05-25T16:50:21.680421Z"
    }
   }
  },
  {
   "cell_type": "code",
   "execution_count": 4,
   "outputs": [],
   "source": [
    "links = ['https://m.facebook.com/help/contact/606967319425038', 'https://help.instagram.com/contact/1784471218363829',\n",
    "         'https://help.instagram.com/contact/1652567838289083', 'https://help.instagram.com/contact/396169787183059']\n",
    "for single_link in links:\n",
    "    driver.get(single_link)\n",
    "\n",
    "\n"
   ],
   "metadata": {
    "collapsed": false,
    "ExecuteTime": {
     "end_time": "2023-05-24T16:26:48.925400200Z",
     "start_time": "2023-05-24T16:26:46.079638500Z"
    }
   }
  },
  {
   "cell_type": "code",
   "execution_count": 6,
   "outputs": [],
   "source": [
    "files = os.listdir('Screenshots')\n",
    "main_file = os.getcwd() + '\\\\Screenshots'\n",
    "files = [fr'{main_file}\\{file}' for file in files]"
   ],
   "metadata": {
    "collapsed": false,
    "ExecuteTime": {
     "end_time": "2023-05-25T17:24:50.397278Z",
     "start_time": "2023-05-25T17:24:50.381652Z"
    }
   }
  },
  {
   "cell_type": "code",
   "execution_count": 11,
   "outputs": [],
   "source": [
    "for single_file in files[:2]:\n",
    "    while True:\n",
    "        try:\n",
    "            driver.find_element(By.XPATH, '//form//input[@type=\"file\"]').send_keys(single_file)\n",
    "            break\n",
    "        except:\n",
    "            time.sleep(1)\n",
    "\n"
   ],
   "metadata": {
    "collapsed": false,
    "ExecuteTime": {
     "end_time": "2023-05-25T17:26:05.819564900Z",
     "start_time": "2023-05-25T17:25:59.682503Z"
    }
   }
  },
  {
   "cell_type": "code",
   "execution_count": null,
   "outputs": [],
   "source": [],
   "metadata": {
    "collapsed": false
   }
  }
 ],
 "metadata": {
  "kernelspec": {
   "display_name": "Python 3",
   "language": "python",
   "name": "python3"
  },
  "language_info": {
   "codemirror_mode": {
    "name": "ipython",
    "version": 2
   },
   "file_extension": ".py",
   "mimetype": "text/x-python",
   "name": "python",
   "nbconvert_exporter": "python",
   "pygments_lexer": "ipython2",
   "version": "2.7.6"
  }
 },
 "nbformat": 4,
 "nbformat_minor": 0
}
