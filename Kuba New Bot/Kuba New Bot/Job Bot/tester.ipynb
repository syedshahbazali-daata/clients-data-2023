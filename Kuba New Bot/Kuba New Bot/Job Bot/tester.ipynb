{
 "cells": [
  {
   "cell_type": "code",
   "execution_count": 1,
   "metadata": {
    "collapsed": true,
    "ExecuteTime": {
     "start_time": "2023-04-02T01:02:07.269768Z",
     "end_time": "2023-04-02T01:02:07.840399Z"
    }
   },
   "outputs": [],
   "source": [
    "import time\n",
    "from datetime import datetime\n",
    "from selenium import webdriver\n",
    "from selenium.webdriver import Keys\n",
    "from selenium.webdriver.common.by import By\n",
    "import undetected_chromedriver as uc\n",
    "import requests\n",
    "import os\n",
    "import pyperclip\n",
    "\n",
    "category_url = \"https://www.revolico.com/search?category=empleos&subcategory=ofertas-de-empleo\"  # Category URL\n",
    "email_of_user = \"cuentapropista.k@gmail.com\"  # Email of the user\n",
    "password_of_user = \"@Muhammad@1\"  # Password of the user\n",
    "category_no = 2  # Category number\n",
    "brand_name = \"Cuba\"  # Brand name\n",
    "\n",
    "\n",
    "########################################################################################################################\n",
    "# Functions\n",
    "########################################################################################################################\n",
    "\n",
    "def find_element_send_text(ele, text, clear=True):\n",
    "    while True:\n",
    "        try:\n",
    "            input_field = driver.find_element(By.XPATH, ele)\n",
    "            if clear:\n",
    "                input_field.clear()\n",
    "            input_field.send_keys(text)\n",
    "\n",
    "            break\n",
    "        except:\n",
    "            time.sleep(0.1)\n",
    "\n",
    "\n",
    "def specific_clicker(ele):\n",
    "    while True:\n",
    "        try:\n",
    "            element = driver.find_element(By.XPATH, ele)\n",
    "            webdriver.ActionChains(driver).move_to_element_with_offset(element, 1, 0).click(element).perform()\n",
    "\n",
    "            break\n",
    "        except Exception as e:\n",
    "            print(e)\n",
    "            pass\n",
    "\n",
    "\n",
    "def specific_clicker2(ele):\n",
    "    try:\n",
    "        element = driver.find_element(By.XPATH, ele)\n",
    "        webdriver.ActionChains(driver).move_to_element_with_offset(element, 1, 0).click(element).perform()\n",
    "\n",
    "    except Exception as e:\n",
    "        # print(e)\n",
    "        pass\n",
    "\n",
    "\n",
    "def get_text(ele):\n",
    "    while True:\n",
    "        try:\n",
    "            element = driver.find_elements(By.XPATH, ele)\n",
    "            texts = [str(x.text) for x in element]\n",
    "            return texts\n",
    "        except Exception as e:\n",
    "            # print(e)\n",
    "            pass\n",
    "\n",
    "\n",
    "def switch_tab(tab_number):\n",
    "    while True:\n",
    "        try:\n",
    "            driver.switch_to.window(driver.window_handles[tab_number])\n",
    "            break\n",
    "        except:\n",
    "            pass\n"
   ]
  },
  {
   "cell_type": "code",
   "execution_count": 2,
   "outputs": [],
   "source": [
    "\n",
    "\n",
    "options = uc.ChromeOptions()\n",
    "driver = uc.Chrome(options=options)\n",
    "driver.maximize_window()\n",
    "\n",
    "# open new tab\n",
    "\n",
    "\n",
    "driver.get('https://kbocuba.com/users/member_login')\n",
    "\n",
    "find_element_send_text('(//div[@class=\"main_login_form\"]//input[@id=\"login_email\"])[2]', email_of_user)\n",
    "find_element_send_text('(//div[@class=\"main_login_form\"]//input[@id=\"login_password\"])[2]', password_of_user)\n",
    "specific_clicker('(//input[@type=\"submit\"])[2]')\n",
    "time.sleep(2)\n",
    "\n",
    "# switch Language to English\n",
    "driver.get(\"https://kbocuba.com/home/do_language/eng\")\n",
    "\n"
   ],
   "metadata": {
    "collapsed": false,
    "ExecuteTime": {
     "start_time": "2023-04-02T01:02:26.183215Z",
     "end_time": "2023-04-02T01:03:17.810982Z"
    }
   }
  },
  {
   "cell_type": "code",
   "execution_count": 3,
   "outputs": [],
   "source": [
    "driver.get(\"https://kbocuba.com/job/jobs/create/1\")"
   ],
   "metadata": {
    "collapsed": false,
    "ExecuteTime": {
     "start_time": "2023-04-02T01:03:17.814972Z",
     "end_time": "2023-04-02T01:03:21.641277Z"
    }
   }
  },
  {
   "cell_type": "code",
   "execution_count": 22,
   "outputs": [
    {
     "name": "stdout",
     "output_type": "stream",
     "text": [
      "2\n"
     ]
    }
   ],
   "source": [
    "driver.find_element(By.XPATH, '//input[@name=\"data[valid_until]\"]').click()\n",
    "specific_clicker('//div[@data-nav=\"1\"]')\n",
    "# current day 02\n",
    "import datetime\n",
    "current_day  = datetime.datetime.now().strftime(\"%d\")\n",
    "current_day = int(current_day)\n",
    "print(current_day)\n",
    "\n",
    "specific_clicker(f'//td/div[@data-pick and text()=\"{current_day}\"]')\n",
    "time.sleep(2)\n",
    "driver.find_element(By.XPATH, '//input[@name=\"data[valid_until_time]\"]').click()\n",
    "specific_clicker('//li[@aria-label=\"0:30\"]')\n"
   ],
   "metadata": {
    "collapsed": false,
    "ExecuteTime": {
     "start_time": "2023-04-02T01:18:17.105981Z",
     "end_time": "2023-04-02T01:18:21.468872Z"
    }
   }
  },
  {
   "cell_type": "code",
   "execution_count": 20,
   "outputs": [
    {
     "ename": "InvalidSelectorException",
     "evalue": "Message: invalid selector: Unable to locate an element with the xpath expression //input[@name=\"data[valid_until_time] because of the following error:\nSyntaxError: Failed to execute 'evaluate' on 'Document': The string '//input[@name=\"data[valid_until_time]' is not a valid XPath expression.\n  (Session info: chrome=111.0.5563.147)\nStacktrace:\nBacktrace:\n\t(No symbol) [0x0021DCE3]\n\t(No symbol) [0x001B39D1]\n\t(No symbol) [0x000C4DA8]\n\t(No symbol) [0x000C76FB]\n\t(No symbol) [0x000C75D0]\n\t(No symbol) [0x000C7850]\n\t(No symbol) [0x000EFDF8]\n\t(No symbol) [0x000F03AB]\n\t(No symbol) [0x0011EE62]\n\t(No symbol) [0x0010AF14]\n\t(No symbol) [0x0011D57C]\n\t(No symbol) [0x0010ACC6]\n\t(No symbol) [0x000E6F68]\n\t(No symbol) [0x000E80CD]\n\tGetHandleVerifier [0x00493832+2506274]\n\tGetHandleVerifier [0x004C9794+2727300]\n\tGetHandleVerifier [0x004CE36C+2746716]\n\tGetHandleVerifier [0x002C6690+617600]\n\t(No symbol) [0x001BC712]\n\t(No symbol) [0x001C1FF8]\n\t(No symbol) [0x001C20DB]\n\t(No symbol) [0x001CC63B]\n\tBaseThreadInitThunk [0x754E00F9+25]\n\tRtlGetAppContainerNamedObjectPath [0x76F37BBE+286]\n\tRtlGetAppContainerNamedObjectPath [0x76F37B8E+238]\n\t(No symbol) [0x00000000]\n",
     "output_type": "error",
     "traceback": [
      "\u001B[1;31m---------------------------------------------------------------------------\u001B[0m",
      "\u001B[1;31mInvalidSelectorException\u001B[0m                  Traceback (most recent call last)",
      "Cell \u001B[1;32mIn[20], line 1\u001B[0m\n\u001B[1;32m----> 1\u001B[0m \u001B[43mdriver\u001B[49m\u001B[38;5;241;43m.\u001B[39;49m\u001B[43mfind_element\u001B[49m\u001B[43m(\u001B[49m\u001B[43mBy\u001B[49m\u001B[38;5;241;43m.\u001B[39;49m\u001B[43mXPATH\u001B[49m\u001B[43m,\u001B[49m\u001B[43m \u001B[49m\u001B[38;5;124;43m'\u001B[39;49m\u001B[38;5;124;43m//input[@name=\u001B[39;49m\u001B[38;5;124;43m\"\u001B[39;49m\u001B[38;5;124;43mdata[valid_until_time]\u001B[39;49m\u001B[38;5;124;43m'\u001B[39;49m\u001B[43m)\u001B[49m\u001B[38;5;241m.\u001B[39mclick()\n\u001B[0;32m      2\u001B[0m specific_clicker(\u001B[38;5;124m'\u001B[39m\u001B[38;5;124m//li[@aria-label=\u001B[39m\u001B[38;5;124m\"\u001B[39m\u001B[38;5;124m0:30\u001B[39m\u001B[38;5;124m\"\u001B[39m\u001B[38;5;124m]\u001B[39m\u001B[38;5;124m'\u001B[39m)\n",
      "File \u001B[1;32m~\\AppData\\Local\\Programs\\Python\\Python311\\Lib\\site-packages\\selenium\\webdriver\\remote\\webdriver.py:831\u001B[0m, in \u001B[0;36mWebDriver.find_element\u001B[1;34m(self, by, value)\u001B[0m\n\u001B[0;32m    828\u001B[0m     by \u001B[38;5;241m=\u001B[39m By\u001B[38;5;241m.\u001B[39mCSS_SELECTOR\n\u001B[0;32m    829\u001B[0m     value \u001B[38;5;241m=\u001B[39m \u001B[38;5;124mf\u001B[39m\u001B[38;5;124m'\u001B[39m\u001B[38;5;124m[name=\u001B[39m\u001B[38;5;124m\"\u001B[39m\u001B[38;5;132;01m{\u001B[39;00mvalue\u001B[38;5;132;01m}\u001B[39;00m\u001B[38;5;124m\"\u001B[39m\u001B[38;5;124m]\u001B[39m\u001B[38;5;124m'\u001B[39m\n\u001B[1;32m--> 831\u001B[0m \u001B[38;5;28;01mreturn\u001B[39;00m \u001B[38;5;28;43mself\u001B[39;49m\u001B[38;5;241;43m.\u001B[39;49m\u001B[43mexecute\u001B[49m\u001B[43m(\u001B[49m\u001B[43mCommand\u001B[49m\u001B[38;5;241;43m.\u001B[39;49m\u001B[43mFIND_ELEMENT\u001B[49m\u001B[43m,\u001B[49m\u001B[43m \u001B[49m\u001B[43m{\u001B[49m\u001B[38;5;124;43m\"\u001B[39;49m\u001B[38;5;124;43musing\u001B[39;49m\u001B[38;5;124;43m\"\u001B[39;49m\u001B[43m:\u001B[49m\u001B[43m \u001B[49m\u001B[43mby\u001B[49m\u001B[43m,\u001B[49m\u001B[43m \u001B[49m\u001B[38;5;124;43m\"\u001B[39;49m\u001B[38;5;124;43mvalue\u001B[39;49m\u001B[38;5;124;43m\"\u001B[39;49m\u001B[43m:\u001B[49m\u001B[43m \u001B[49m\u001B[43mvalue\u001B[49m\u001B[43m}\u001B[49m\u001B[43m)\u001B[49m[\u001B[38;5;124m\"\u001B[39m\u001B[38;5;124mvalue\u001B[39m\u001B[38;5;124m\"\u001B[39m]\n",
      "File \u001B[1;32m~\\AppData\\Local\\Programs\\Python\\Python311\\Lib\\site-packages\\selenium\\webdriver\\remote\\webdriver.py:440\u001B[0m, in \u001B[0;36mWebDriver.execute\u001B[1;34m(self, driver_command, params)\u001B[0m\n\u001B[0;32m    438\u001B[0m response \u001B[38;5;241m=\u001B[39m \u001B[38;5;28mself\u001B[39m\u001B[38;5;241m.\u001B[39mcommand_executor\u001B[38;5;241m.\u001B[39mexecute(driver_command, params)\n\u001B[0;32m    439\u001B[0m \u001B[38;5;28;01mif\u001B[39;00m response:\n\u001B[1;32m--> 440\u001B[0m     \u001B[38;5;28;43mself\u001B[39;49m\u001B[38;5;241;43m.\u001B[39;49m\u001B[43merror_handler\u001B[49m\u001B[38;5;241;43m.\u001B[39;49m\u001B[43mcheck_response\u001B[49m\u001B[43m(\u001B[49m\u001B[43mresponse\u001B[49m\u001B[43m)\u001B[49m\n\u001B[0;32m    441\u001B[0m     response[\u001B[38;5;124m\"\u001B[39m\u001B[38;5;124mvalue\u001B[39m\u001B[38;5;124m\"\u001B[39m] \u001B[38;5;241m=\u001B[39m \u001B[38;5;28mself\u001B[39m\u001B[38;5;241m.\u001B[39m_unwrap_value(response\u001B[38;5;241m.\u001B[39mget(\u001B[38;5;124m\"\u001B[39m\u001B[38;5;124mvalue\u001B[39m\u001B[38;5;124m\"\u001B[39m, \u001B[38;5;28;01mNone\u001B[39;00m))\n\u001B[0;32m    442\u001B[0m     \u001B[38;5;28;01mreturn\u001B[39;00m response\n",
      "File \u001B[1;32m~\\AppData\\Local\\Programs\\Python\\Python311\\Lib\\site-packages\\selenium\\webdriver\\remote\\errorhandler.py:245\u001B[0m, in \u001B[0;36mErrorHandler.check_response\u001B[1;34m(self, response)\u001B[0m\n\u001B[0;32m    243\u001B[0m         alert_text \u001B[38;5;241m=\u001B[39m value[\u001B[38;5;124m\"\u001B[39m\u001B[38;5;124malert\u001B[39m\u001B[38;5;124m\"\u001B[39m]\u001B[38;5;241m.\u001B[39mget(\u001B[38;5;124m\"\u001B[39m\u001B[38;5;124mtext\u001B[39m\u001B[38;5;124m\"\u001B[39m)\n\u001B[0;32m    244\u001B[0m     \u001B[38;5;28;01mraise\u001B[39;00m exception_class(message, screen, stacktrace, alert_text)  \u001B[38;5;66;03m# type: ignore[call-arg]  # mypy is not smart enough here\u001B[39;00m\n\u001B[1;32m--> 245\u001B[0m \u001B[38;5;28;01mraise\u001B[39;00m exception_class(message, screen, stacktrace)\n",
      "\u001B[1;31mInvalidSelectorException\u001B[0m: Message: invalid selector: Unable to locate an element with the xpath expression //input[@name=\"data[valid_until_time] because of the following error:\nSyntaxError: Failed to execute 'evaluate' on 'Document': The string '//input[@name=\"data[valid_until_time]' is not a valid XPath expression.\n  (Session info: chrome=111.0.5563.147)\nStacktrace:\nBacktrace:\n\t(No symbol) [0x0021DCE3]\n\t(No symbol) [0x001B39D1]\n\t(No symbol) [0x000C4DA8]\n\t(No symbol) [0x000C76FB]\n\t(No symbol) [0x000C75D0]\n\t(No symbol) [0x000C7850]\n\t(No symbol) [0x000EFDF8]\n\t(No symbol) [0x000F03AB]\n\t(No symbol) [0x0011EE62]\n\t(No symbol) [0x0010AF14]\n\t(No symbol) [0x0011D57C]\n\t(No symbol) [0x0010ACC6]\n\t(No symbol) [0x000E6F68]\n\t(No symbol) [0x000E80CD]\n\tGetHandleVerifier [0x00493832+2506274]\n\tGetHandleVerifier [0x004C9794+2727300]\n\tGetHandleVerifier [0x004CE36C+2746716]\n\tGetHandleVerifier [0x002C6690+617600]\n\t(No symbol) [0x001BC712]\n\t(No symbol) [0x001C1FF8]\n\t(No symbol) [0x001C20DB]\n\t(No symbol) [0x001CC63B]\n\tBaseThreadInitThunk [0x754E00F9+25]\n\tRtlGetAppContainerNamedObjectPath [0x76F37BBE+286]\n\tRtlGetAppContainerNamedObjectPath [0x76F37B8E+238]\n\t(No symbol) [0x00000000]\n"
     ]
    }
   ],
   "source": [
    "driver.find_element(By.XPATH, '//input[@name=\"data[valid_until_time]').click()\n",
    "specific_clicker('//li[@aria-label=\"0:30\"]')"
   ],
   "metadata": {
    "collapsed": false,
    "ExecuteTime": {
     "start_time": "2023-04-02T01:06:02.941928Z",
     "end_time": "2023-04-02T01:06:03.749844Z"
    }
   }
  },
  {
   "cell_type": "code",
   "execution_count": 14,
   "outputs": [
    {
     "name": "stdout",
     "output_type": "stream",
     "text": [
      "2\n"
     ]
    }
   ],
   "source": [],
   "metadata": {
    "collapsed": false,
    "ExecuteTime": {
     "start_time": "2023-04-02T01:10:41.950049Z",
     "end_time": "2023-04-02T01:10:42.960482Z"
    }
   }
  },
  {
   "cell_type": "code",
   "execution_count": 13,
   "outputs": [
    {
     "ename": "InvalidSelectorException",
     "evalue": "Message: invalid selector: Unable to locate an element with the xpath expression //td/div[@data-pick and text()=\"2] because of the following error:\nSyntaxError: Failed to execute 'evaluate' on 'Document': The string '//td/div[@data-pick and text()=\"2]' is not a valid XPath expression.\n  (Session info: chrome=111.0.5563.147)\nStacktrace:\nBacktrace:\n\t(No symbol) [0x0021DCE3]\n\t(No symbol) [0x001B39D1]\n\t(No symbol) [0x000C4DA8]\n\t(No symbol) [0x000C76FB]\n\t(No symbol) [0x000C75D0]\n\t(No symbol) [0x000C7850]\n\t(No symbol) [0x000EFDF8]\n\t(No symbol) [0x000F03AB]\n\t(No symbol) [0x0011EE62]\n\t(No symbol) [0x0010AF14]\n\t(No symbol) [0x0011D57C]\n\t(No symbol) [0x0010ACC6]\n\t(No symbol) [0x000E6F68]\n\t(No symbol) [0x000E80CD]\n\tGetHandleVerifier [0x00493832+2506274]\n\tGetHandleVerifier [0x004C9794+2727300]\n\tGetHandleVerifier [0x004CE36C+2746716]\n\tGetHandleVerifier [0x002C6690+617600]\n\t(No symbol) [0x001BC712]\n\t(No symbol) [0x001C1FF8]\n\t(No symbol) [0x001C20DB]\n\t(No symbol) [0x001CC63B]\n\tBaseThreadInitThunk [0x754E00F9+25]\n\tRtlGetAppContainerNamedObjectPath [0x76F37BBE+286]\n\tRtlGetAppContainerNamedObjectPath [0x76F37B8E+238]\n\t(No symbol) [0x00000000]\n",
     "output_type": "error",
     "traceback": [
      "\u001B[1;31m---------------------------------------------------------------------------\u001B[0m",
      "\u001B[1;31mInvalidSelectorException\u001B[0m                  Traceback (most recent call last)",
      "Cell \u001B[1;32mIn[13], line 1\u001B[0m\n\u001B[1;32m----> 1\u001B[0m \u001B[43mdriver\u001B[49m\u001B[38;5;241;43m.\u001B[39;49m\u001B[43mfind_element\u001B[49m\u001B[43m(\u001B[49m\u001B[43mBy\u001B[49m\u001B[38;5;241;43m.\u001B[39;49m\u001B[43mXPATH\u001B[49m\u001B[43m,\u001B[49m\u001B[43m \u001B[49m\u001B[38;5;124;43mf\u001B[39;49m\u001B[38;5;124;43m'\u001B[39;49m\u001B[38;5;124;43m//td/div[@data-pick and text()=\u001B[39;49m\u001B[38;5;124;43m\"\u001B[39;49m\u001B[38;5;132;43;01m{\u001B[39;49;00m\u001B[43mcurrent_day\u001B[49m\u001B[38;5;132;43;01m}\u001B[39;49;00m\u001B[38;5;124;43m]\u001B[39;49m\u001B[38;5;124;43m'\u001B[39;49m\u001B[43m)\u001B[49m\u001B[38;5;241m.\u001B[39mclick()\n",
      "File \u001B[1;32m~\\AppData\\Local\\Programs\\Python\\Python311\\Lib\\site-packages\\selenium\\webdriver\\remote\\webdriver.py:831\u001B[0m, in \u001B[0;36mWebDriver.find_element\u001B[1;34m(self, by, value)\u001B[0m\n\u001B[0;32m    828\u001B[0m     by \u001B[38;5;241m=\u001B[39m By\u001B[38;5;241m.\u001B[39mCSS_SELECTOR\n\u001B[0;32m    829\u001B[0m     value \u001B[38;5;241m=\u001B[39m \u001B[38;5;124mf\u001B[39m\u001B[38;5;124m'\u001B[39m\u001B[38;5;124m[name=\u001B[39m\u001B[38;5;124m\"\u001B[39m\u001B[38;5;132;01m{\u001B[39;00mvalue\u001B[38;5;132;01m}\u001B[39;00m\u001B[38;5;124m\"\u001B[39m\u001B[38;5;124m]\u001B[39m\u001B[38;5;124m'\u001B[39m\n\u001B[1;32m--> 831\u001B[0m \u001B[38;5;28;01mreturn\u001B[39;00m \u001B[38;5;28;43mself\u001B[39;49m\u001B[38;5;241;43m.\u001B[39;49m\u001B[43mexecute\u001B[49m\u001B[43m(\u001B[49m\u001B[43mCommand\u001B[49m\u001B[38;5;241;43m.\u001B[39;49m\u001B[43mFIND_ELEMENT\u001B[49m\u001B[43m,\u001B[49m\u001B[43m \u001B[49m\u001B[43m{\u001B[49m\u001B[38;5;124;43m\"\u001B[39;49m\u001B[38;5;124;43musing\u001B[39;49m\u001B[38;5;124;43m\"\u001B[39;49m\u001B[43m:\u001B[49m\u001B[43m \u001B[49m\u001B[43mby\u001B[49m\u001B[43m,\u001B[49m\u001B[43m \u001B[49m\u001B[38;5;124;43m\"\u001B[39;49m\u001B[38;5;124;43mvalue\u001B[39;49m\u001B[38;5;124;43m\"\u001B[39;49m\u001B[43m:\u001B[49m\u001B[43m \u001B[49m\u001B[43mvalue\u001B[49m\u001B[43m}\u001B[49m\u001B[43m)\u001B[49m[\u001B[38;5;124m\"\u001B[39m\u001B[38;5;124mvalue\u001B[39m\u001B[38;5;124m\"\u001B[39m]\n",
      "File \u001B[1;32m~\\AppData\\Local\\Programs\\Python\\Python311\\Lib\\site-packages\\selenium\\webdriver\\remote\\webdriver.py:440\u001B[0m, in \u001B[0;36mWebDriver.execute\u001B[1;34m(self, driver_command, params)\u001B[0m\n\u001B[0;32m    438\u001B[0m response \u001B[38;5;241m=\u001B[39m \u001B[38;5;28mself\u001B[39m\u001B[38;5;241m.\u001B[39mcommand_executor\u001B[38;5;241m.\u001B[39mexecute(driver_command, params)\n\u001B[0;32m    439\u001B[0m \u001B[38;5;28;01mif\u001B[39;00m response:\n\u001B[1;32m--> 440\u001B[0m     \u001B[38;5;28;43mself\u001B[39;49m\u001B[38;5;241;43m.\u001B[39;49m\u001B[43merror_handler\u001B[49m\u001B[38;5;241;43m.\u001B[39;49m\u001B[43mcheck_response\u001B[49m\u001B[43m(\u001B[49m\u001B[43mresponse\u001B[49m\u001B[43m)\u001B[49m\n\u001B[0;32m    441\u001B[0m     response[\u001B[38;5;124m\"\u001B[39m\u001B[38;5;124mvalue\u001B[39m\u001B[38;5;124m\"\u001B[39m] \u001B[38;5;241m=\u001B[39m \u001B[38;5;28mself\u001B[39m\u001B[38;5;241m.\u001B[39m_unwrap_value(response\u001B[38;5;241m.\u001B[39mget(\u001B[38;5;124m\"\u001B[39m\u001B[38;5;124mvalue\u001B[39m\u001B[38;5;124m\"\u001B[39m, \u001B[38;5;28;01mNone\u001B[39;00m))\n\u001B[0;32m    442\u001B[0m     \u001B[38;5;28;01mreturn\u001B[39;00m response\n",
      "File \u001B[1;32m~\\AppData\\Local\\Programs\\Python\\Python311\\Lib\\site-packages\\selenium\\webdriver\\remote\\errorhandler.py:245\u001B[0m, in \u001B[0;36mErrorHandler.check_response\u001B[1;34m(self, response)\u001B[0m\n\u001B[0;32m    243\u001B[0m         alert_text \u001B[38;5;241m=\u001B[39m value[\u001B[38;5;124m\"\u001B[39m\u001B[38;5;124malert\u001B[39m\u001B[38;5;124m\"\u001B[39m]\u001B[38;5;241m.\u001B[39mget(\u001B[38;5;124m\"\u001B[39m\u001B[38;5;124mtext\u001B[39m\u001B[38;5;124m\"\u001B[39m)\n\u001B[0;32m    244\u001B[0m     \u001B[38;5;28;01mraise\u001B[39;00m exception_class(message, screen, stacktrace, alert_text)  \u001B[38;5;66;03m# type: ignore[call-arg]  # mypy is not smart enough here\u001B[39;00m\n\u001B[1;32m--> 245\u001B[0m \u001B[38;5;28;01mraise\u001B[39;00m exception_class(message, screen, stacktrace)\n",
      "\u001B[1;31mInvalidSelectorException\u001B[0m: Message: invalid selector: Unable to locate an element with the xpath expression //td/div[@data-pick and text()=\"2] because of the following error:\nSyntaxError: Failed to execute 'evaluate' on 'Document': The string '//td/div[@data-pick and text()=\"2]' is not a valid XPath expression.\n  (Session info: chrome=111.0.5563.147)\nStacktrace:\nBacktrace:\n\t(No symbol) [0x0021DCE3]\n\t(No symbol) [0x001B39D1]\n\t(No symbol) [0x000C4DA8]\n\t(No symbol) [0x000C76FB]\n\t(No symbol) [0x000C75D0]\n\t(No symbol) [0x000C7850]\n\t(No symbol) [0x000EFDF8]\n\t(No symbol) [0x000F03AB]\n\t(No symbol) [0x0011EE62]\n\t(No symbol) [0x0010AF14]\n\t(No symbol) [0x0011D57C]\n\t(No symbol) [0x0010ACC6]\n\t(No symbol) [0x000E6F68]\n\t(No symbol) [0x000E80CD]\n\tGetHandleVerifier [0x00493832+2506274]\n\tGetHandleVerifier [0x004C9794+2727300]\n\tGetHandleVerifier [0x004CE36C+2746716]\n\tGetHandleVerifier [0x002C6690+617600]\n\t(No symbol) [0x001BC712]\n\t(No symbol) [0x001C1FF8]\n\t(No symbol) [0x001C20DB]\n\t(No symbol) [0x001CC63B]\n\tBaseThreadInitThunk [0x754E00F9+25]\n\tRtlGetAppContainerNamedObjectPath [0x76F37BBE+286]\n\tRtlGetAppContainerNamedObjectPath [0x76F37B8E+238]\n\t(No symbol) [0x00000000]\n"
     ]
    }
   ],
   "source": [
    "driver.find_element(By.XPATH, f'//td/div[@data-pick and text()=\"{current_day}]').click()"
   ],
   "metadata": {
    "collapsed": false
   }
  },
  {
   "cell_type": "code",
   "execution_count": null,
   "outputs": [],
   "source": [],
   "metadata": {
    "collapsed": false
   }
  },
  {
   "cell_type": "code",
   "execution_count": null,
   "outputs": [],
   "source": [
    "time.sleep(2)\n",
    "\n",
    "while True:\n",
    "    ads_urls = [i.get_attribute(\"href\") for i in\n",
    "                driver.find_elements(By.XPATH, '//main//li[@data-cy=\"adRow\"]/a[@href]')]\n",
    "    if len(ads_urls) > 0:\n",
    "        break\n",
    "    time.sleep(1)\n",
    "for ad_url in ads_urls:\n",
    "    driver.get(ad_url)  # open ad url\n",
    "    time.sleep(3)\n",
    "\n",
    "    # Scrape ad details\n",
    "\n",
    "    driver.execute_script(\"window.scrollTo(0, document.body.scrollHeight);\")\n",
    "\n",
    "    title_of_ad = str(driver.find_element(By.XPATH, '//h4').text)\n",
    "    location_of_ad = str(driver.find_element(By.XPATH, '//div[@data-cy=\"adLocation\"]').text)\n",
    "    description_of_ad = str(driver.find_element(By.XPATH, '//div[@data-cy=\"adDescription\"]').text)\n",
    "    contact_details = driver.find_elements(By.XPATH, '//div[@data-cy=\"adName\"]/../../div')\n",
    "    contact_details = [str(i.text) for i in contact_details]\n",
    "    contact_details = \"\\n\".join(contact_details)\n",
    "    description_of_ad = f\"{description_of_ad}\\n\\n{contact_details}\"\n",
    "\n",
    "    # Upload ad data to the website\n",
    "\n",
    "\n",
    "    time.sleep(2)\n",
    "\n",
    "    find_element_send_text('//input[@id=\"name\"]', title_of_ad)\n",
    "    find_element_send_text('//input[@id=\"location\"]', location_of_ad)\n",
    "    find_element_send_text('//input[@id=\"salary_per_hour\"]', \"10.00\")\n",
    "    find_element_send_text('//input[@name=\"data[number_of_vacancies]\"]', \"1\")\n",
    "\n",
    "    driver.find_element(By.XPATH, '//*[@name=\"data[job_level_id]\"]//option[@value=\"6\"]').click()\n",
    "    driver.find_element(By.XPATH, '//*[@name=\"data[job_type_id]\"]//option[@value=\"5\"]').click()\n",
    "    driver.find_element(By.XPATH, '//*[@name=\"data[industry][]\"]//*[text()=\"Cuba Jobs\"]').click()\n",
    "\n",
    "    # find_element_send_text('//input[@name=\"data[valid_until]\"]', '2023-03-25')\n",
    "    # find_element_send_text('//input[@name=\"data[valid_until_time]\"]', '17:30')\n",
    "\n",
    "\n",
    "    # description_of_ad\n",
    "    pyperclip.copy(description_of_ad)\n",
    "    while True:\n",
    "        try:\n",
    "            iframe = driver.find_element(By.XPATH, '//iframe[@id=\"editor_ifr\"]')\n",
    "            break\n",
    "        except:\n",
    "            print(\"Waiting for iframe\")\n",
    "    driver.switch_to.frame(iframe)\n",
    "    time.sleep(1)\n",
    "    driver.find_element(By.XPATH, '//body').send_keys(Keys.CONTROL, 'v')\n",
    "    driver.switch_to.default_content()\n",
    "    input(\"Press Enter to continue...\")\n",
    "\n",
    "    specific_clicker(\"//button[text()='Save']\")\n",
    "    time.sleep(2)\n",
    "\n",
    "driver.quit()\n"
   ],
   "metadata": {
    "collapsed": false
   }
  }
 ],
 "metadata": {
  "kernelspec": {
   "display_name": "Python 3",
   "language": "python",
   "name": "python3"
  },
  "language_info": {
   "codemirror_mode": {
    "name": "ipython",
    "version": 2
   },
   "file_extension": ".py",
   "mimetype": "text/x-python",
   "name": "python",
   "nbconvert_exporter": "python",
   "pygments_lexer": "ipython2",
   "version": "2.7.6"
  }
 },
 "nbformat": 4,
 "nbformat_minor": 0
}
