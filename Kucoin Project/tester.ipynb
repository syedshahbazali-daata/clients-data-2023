{
 "cells": [
  {
   "cell_type": "code",
   "execution_count": 1,
   "metadata": {
    "collapsed": true,
    "ExecuteTime": {
     "end_time": "2023-05-24T01:56:20.746605600Z",
     "start_time": "2023-05-24T01:56:20.422772200Z"
    }
   },
   "outputs": [],
   "source": [
    "from kucoin.client import Client\n",
    "\n",
    "api_key = '646137908050f50001b9748c'\n",
    "api_secret = 'c6a185a7-20cc-40a3-b0d2-aa4ac3ea8be4'\n",
    "api_passphrase = 'T2KD*xvGJwPXghZ'\n",
    "\n",
    "client = Client(api_key, api_secret, api_passphrase)\n",
    "\n"
   ]
  },
  {
   "cell_type": "code",
   "execution_count": 3,
   "outputs": [
    {
     "name": "stdout",
     "output_type": "stream",
     "text": [
      "hello\n"
     ]
    }
   ],
   "source": [
    "print(\"hello\")"
   ],
   "metadata": {
    "collapsed": false,
    "ExecuteTime": {
     "end_time": "2023-05-24T01:56:36.073385100Z",
     "start_time": "2023-05-24T01:56:36.029464200Z"
    }
   }
  },
  {
   "cell_type": "code",
   "execution_count": 6,
   "outputs": [
    {
     "name": "stdout",
     "output_type": "stream",
     "text": [
      "{'time': 1684893638305, 'sequence': '7893290854', 'price': '27126.5', 'size': '0.05339193', 'bestBid': '27126.5', 'bestBidSize': '4.3632515', 'bestAsk': '27126.6', 'bestAskSize': '0.00283734'}\n"
     ]
    }
   ],
   "source": [
    "# get balances\n",
    "# Get the latest ticker for the BTC/USDT trading pair\n",
    "ticker = client.get_ticker('BTC-USDT')\n",
    "\n",
    "# Print the ticker information\n",
    "print(ticker)"
   ],
   "metadata": {
    "collapsed": false,
    "ExecuteTime": {
     "end_time": "2023-05-24T02:00:39.791919600Z",
     "start_time": "2023-05-24T02:00:39.194834600Z"
    }
   }
  },
  {
   "cell_type": "code",
   "execution_count": 7,
   "outputs": [
    {
     "ename": "KucoinAPIException",
     "evalue": "KucoinAPIException 400007: Access denied, require more permission.",
     "output_type": "error",
     "traceback": [
      "\u001B[1;31m---------------------------------------------------------------------------\u001B[0m",
      "\u001B[1;31mKucoinAPIException\u001B[0m                        Traceback (most recent call last)",
      "Cell \u001B[1;32mIn[7], line 48\u001B[0m\n\u001B[0;32m     45\u001B[0m \u001B[38;5;66;03m# Example usage\u001B[39;00m\n\u001B[0;32m     46\u001B[0m signal \u001B[38;5;241m=\u001B[39m \u001B[38;5;124m\"\u001B[39m\u001B[38;5;124m🔥 #LIT/USDT (Short📉, x20) 🔥\u001B[39m\u001B[38;5;130;01m\\n\u001B[39;00m\u001B[38;5;130;01m\\n\u001B[39;00m\u001B[38;5;124mEntry - 0.841\u001B[39m\u001B[38;5;130;01m\\n\u001B[39;00m\u001B[38;5;124mSL - 25-30\u001B[39m\u001B[38;5;124m%\u001B[39m\u001B[38;5;130;01m\\n\u001B[39;00m\u001B[38;5;130;01m\\n\u001B[39;00m\u001B[38;5;124mTake-Profit:\u001B[39m\u001B[38;5;130;01m\\n\u001B[39;00m\u001B[38;5;124m🥇 0.8242 (40\u001B[39m\u001B[38;5;132;01m% o\u001B[39;00m\u001B[38;5;124mf profit)\u001B[39m\u001B[38;5;130;01m\\n\u001B[39;00m\u001B[38;5;124m🥈 0.8158 (60\u001B[39m\u001B[38;5;132;01m% o\u001B[39;00m\u001B[38;5;124mf profit)\u001B[39m\u001B[38;5;130;01m\\n\u001B[39;00m\u001B[38;5;124m🥉 0.8074 (80\u001B[39m\u001B[38;5;132;01m% o\u001B[39;00m\u001B[38;5;124mf profit)\u001B[39m\u001B[38;5;130;01m\\n\u001B[39;00m\u001B[38;5;124m🚀 0.7989 (100\u001B[39m\u001B[38;5;132;01m% o\u001B[39;00m\u001B[38;5;124mf profit)\u001B[39m\u001B[38;5;124m\"\u001B[39m\n\u001B[1;32m---> 48\u001B[0m \u001B[43mplace_order\u001B[49m\u001B[43m(\u001B[49m\u001B[43msignal\u001B[49m\u001B[43m)\u001B[49m\n",
      "Cell \u001B[1;32mIn[7], line 15\u001B[0m, in \u001B[0;36mplace_order\u001B[1;34m(signal)\u001B[0m\n\u001B[0;32m     12\u001B[0m stop_loss_price \u001B[38;5;241m=\u001B[39m entry_price \u001B[38;5;241m*\u001B[39m (\u001B[38;5;241m1\u001B[39m \u001B[38;5;241m-\u001B[39m stop_loss_percentage)\n\u001B[0;32m     14\u001B[0m \u001B[38;5;66;03m# Place the order\u001B[39;00m\n\u001B[1;32m---> 15\u001B[0m order \u001B[38;5;241m=\u001B[39m \u001B[43mclient\u001B[49m\u001B[38;5;241;43m.\u001B[39;49m\u001B[43mcreate_market_order\u001B[49m\u001B[43m(\u001B[49m\u001B[43mtrading_pair\u001B[49m\u001B[43m,\u001B[49m\u001B[43m \u001B[49m\u001B[38;5;124;43m'\u001B[39;49m\u001B[38;5;124;43msell\u001B[39;49m\u001B[38;5;124;43m'\u001B[39;49m\u001B[43m,\u001B[49m\u001B[43m \u001B[49m\u001B[43msize\u001B[49m\u001B[38;5;241;43m=\u001B[39;49m\u001B[38;5;241;43m20\u001B[39;49m\u001B[43m,\u001B[49m\u001B[43m \u001B[49m\u001B[43mremark\u001B[49m\u001B[38;5;241;43m=\u001B[39;49m\u001B[38;5;124;43m'\u001B[39;49m\u001B[38;5;124;43mShort position\u001B[39;49m\u001B[38;5;124;43m'\u001B[39;49m\u001B[43m)\u001B[49m\n\u001B[0;32m     17\u001B[0m \u001B[38;5;66;03m# Check if the order was successful\u001B[39;00m\n\u001B[0;32m     18\u001B[0m \u001B[38;5;28;01mif\u001B[39;00m \u001B[38;5;124m'\u001B[39m\u001B[38;5;124morderId\u001B[39m\u001B[38;5;124m'\u001B[39m \u001B[38;5;129;01min\u001B[39;00m order:\n",
      "File \u001B[1;32m~\\AppData\\Local\\Programs\\Python\\Python311\\Lib\\site-packages\\kucoin\\client.py:942\u001B[0m, in \u001B[0;36mClient.create_market_order\u001B[1;34m(self, symbol, side, size, funds, client_oid, remark, stp, trade_type)\u001B[0m\n\u001B[0;32m    939\u001B[0m \u001B[38;5;28;01mif\u001B[39;00m trade_type:\n\u001B[0;32m    940\u001B[0m     data[\u001B[38;5;124m'\u001B[39m\u001B[38;5;124mtradeType\u001B[39m\u001B[38;5;124m'\u001B[39m] \u001B[38;5;241m=\u001B[39m trade_type\n\u001B[1;32m--> 942\u001B[0m \u001B[38;5;28;01mreturn\u001B[39;00m \u001B[38;5;28;43mself\u001B[39;49m\u001B[38;5;241;43m.\u001B[39;49m\u001B[43m_post\u001B[49m\u001B[43m(\u001B[49m\u001B[38;5;124;43m'\u001B[39;49m\u001B[38;5;124;43morders\u001B[39;49m\u001B[38;5;124;43m'\u001B[39;49m\u001B[43m,\u001B[49m\u001B[43m \u001B[49m\u001B[38;5;28;43;01mTrue\u001B[39;49;00m\u001B[43m,\u001B[49m\u001B[43m \u001B[49m\u001B[43mdata\u001B[49m\u001B[38;5;241;43m=\u001B[39;49m\u001B[43mdata\u001B[49m\u001B[43m)\u001B[49m\n",
      "File \u001B[1;32m~\\AppData\\Local\\Programs\\Python\\Python311\\Lib\\site-packages\\kucoin\\client.py:192\u001B[0m, in \u001B[0;36mClient._post\u001B[1;34m(self, path, signed, api_version, **kwargs)\u001B[0m\n\u001B[0;32m    191\u001B[0m \u001B[38;5;28;01mdef\u001B[39;00m \u001B[38;5;21m_post\u001B[39m(\u001B[38;5;28mself\u001B[39m, path, signed\u001B[38;5;241m=\u001B[39m\u001B[38;5;28;01mFalse\u001B[39;00m, api_version\u001B[38;5;241m=\u001B[39m\u001B[38;5;28;01mNone\u001B[39;00m, \u001B[38;5;241m*\u001B[39m\u001B[38;5;241m*\u001B[39mkwargs):\n\u001B[1;32m--> 192\u001B[0m     \u001B[38;5;28;01mreturn\u001B[39;00m \u001B[38;5;28;43mself\u001B[39;49m\u001B[38;5;241;43m.\u001B[39;49m\u001B[43m_request\u001B[49m\u001B[43m(\u001B[49m\u001B[38;5;124;43m'\u001B[39;49m\u001B[38;5;124;43mpost\u001B[39;49m\u001B[38;5;124;43m'\u001B[39;49m\u001B[43m,\u001B[49m\u001B[43m \u001B[49m\u001B[43mpath\u001B[49m\u001B[43m,\u001B[49m\u001B[43m \u001B[49m\u001B[43msigned\u001B[49m\u001B[43m,\u001B[49m\u001B[43m \u001B[49m\u001B[43mapi_version\u001B[49m\u001B[43m,\u001B[49m\u001B[43m \u001B[49m\u001B[38;5;241;43m*\u001B[39;49m\u001B[38;5;241;43m*\u001B[39;49m\u001B[43mkwargs\u001B[49m\u001B[43m)\u001B[49m\n",
      "File \u001B[1;32m~\\AppData\\Local\\Programs\\Python\\Python311\\Lib\\site-packages\\kucoin\\client.py:160\u001B[0m, in \u001B[0;36mClient._request\u001B[1;34m(self, method, path, signed, api_version, **kwargs)\u001B[0m\n\u001B[0;32m    157\u001B[0m     kwargs[\u001B[38;5;124m'\u001B[39m\u001B[38;5;124mdata\u001B[39m\u001B[38;5;124m'\u001B[39m] \u001B[38;5;241m=\u001B[39m compact_json_dict(kwargs[\u001B[38;5;124m'\u001B[39m\u001B[38;5;124mdata\u001B[39m\u001B[38;5;124m'\u001B[39m])\n\u001B[0;32m    159\u001B[0m response \u001B[38;5;241m=\u001B[39m \u001B[38;5;28mgetattr\u001B[39m(\u001B[38;5;28mself\u001B[39m\u001B[38;5;241m.\u001B[39msession, method)(uri, \u001B[38;5;241m*\u001B[39m\u001B[38;5;241m*\u001B[39mkwargs)\n\u001B[1;32m--> 160\u001B[0m \u001B[38;5;28;01mreturn\u001B[39;00m \u001B[38;5;28;43mself\u001B[39;49m\u001B[38;5;241;43m.\u001B[39;49m\u001B[43m_handle_response\u001B[49m\u001B[43m(\u001B[49m\u001B[43mresponse\u001B[49m\u001B[43m)\u001B[49m\n",
      "File \u001B[1;32m~\\AppData\\Local\\Programs\\Python\\Python311\\Lib\\site-packages\\kucoin\\client.py:170\u001B[0m, in \u001B[0;36mClient._handle_response\u001B[1;34m(response)\u001B[0m\n\u001B[0;32m    164\u001B[0m \u001B[38;5;250m\u001B[39m\u001B[38;5;124;03m\"\"\"Internal helper for handling API responses from the Kucoin server.\u001B[39;00m\n\u001B[0;32m    165\u001B[0m \u001B[38;5;124;03mRaises the appropriate exceptions when necessary; otherwise, returns the\u001B[39;00m\n\u001B[0;32m    166\u001B[0m \u001B[38;5;124;03mresponse.\u001B[39;00m\n\u001B[0;32m    167\u001B[0m \u001B[38;5;124;03m\"\"\"\u001B[39;00m\n\u001B[0;32m    169\u001B[0m \u001B[38;5;28;01mif\u001B[39;00m \u001B[38;5;129;01mnot\u001B[39;00m \u001B[38;5;28mstr\u001B[39m(response\u001B[38;5;241m.\u001B[39mstatus_code)\u001B[38;5;241m.\u001B[39mstartswith(\u001B[38;5;124m'\u001B[39m\u001B[38;5;124m2\u001B[39m\u001B[38;5;124m'\u001B[39m):\n\u001B[1;32m--> 170\u001B[0m     \u001B[38;5;28;01mraise\u001B[39;00m KucoinAPIException(response)\n\u001B[0;32m    171\u001B[0m \u001B[38;5;28;01mtry\u001B[39;00m:\n\u001B[0;32m    172\u001B[0m     res \u001B[38;5;241m=\u001B[39m response\u001B[38;5;241m.\u001B[39mjson()\n",
      "\u001B[1;31mKucoinAPIException\u001B[0m: KucoinAPIException 400007: Access denied, require more permission."
     ]
    }
   ],
   "source": [
    "import kucoin.client\n",
    "import time\n",
    "\n",
    "def place_order(signal):\n",
    "\n",
    "    # Extract signal information\n",
    "    trading_pair = 'LIT-USDT'\n",
    "    entry_price = float(signal.split('Entry - ')[1].split('\\n')[0])\n",
    "    stop_loss_percentage = 0.25\n",
    "\n",
    "    # Calculate stop loss price\n",
    "    stop_loss_price = entry_price * (1 - stop_loss_percentage)\n",
    "\n",
    "    # Place the order\n",
    "    order = client.create_market_order(trading_pair, 'sell', size=20, remark='Short position')\n",
    "\n",
    "    # Check if the order was successful\n",
    "    if 'orderId' in order:\n",
    "        print('Order placed successfully!')\n",
    "        print('Order ID:', order['orderId'])\n",
    "    else:\n",
    "        print('Failed to place the order.')\n",
    "        print('Error message:', order['msg'])\n",
    "\n",
    "    # Print the order details\n",
    "    print('Trading Pair:', trading_pair)\n",
    "    print('Entry Price:', entry_price)\n",
    "    print('Stop Loss Percentage:', stop_loss_percentage)\n",
    "    print('Stop Loss Price:', stop_loss_price)\n",
    "\n",
    "    # Place take-profit orders with respective profit percentages\n",
    "    profit_percentages = [0.4, 0.6, 0.8, 1.0]\n",
    "    for i, profit_percentage in enumerate(profit_percentages):\n",
    "        take_profit_price = entry_price * (1 - profit_percentage)\n",
    "        time.sleep(0.5)  # Add a delay between each take-profit order\n",
    "        order = client.create_limit_order(trading_pair, 'sell', size=20, price=take_profit_price,\n",
    "                                          remark=f'Take-Profit {i+1}')\n",
    "        if 'orderId' in order:\n",
    "            print(f'Take-Profit {i+1} order placed successfully!')\n",
    "            print('Order ID:', order['orderId'])\n",
    "        else:\n",
    "            print(f'Failed to place Take-Profit {i+1} order.')\n",
    "            print('Error message:', order['msg'])\n",
    "\n",
    "# Example usage\n",
    "signal = \"🔥 #LIT/USDT (Short📉, x20) 🔥\\n\\nEntry - 0.841\\nSL - 25-30%\\n\\nTake-Profit:\\n🥇 0.8242 (40% of profit)\\n🥈 0.8158 (60% of profit)\\n🥉 0.8074 (80% of profit)\\n🚀 0.7989 (100% of profit)\"\n",
    "\n",
    "place_order(signal)\n"
   ],
   "metadata": {
    "collapsed": false,
    "ExecuteTime": {
     "end_time": "2023-05-24T02:22:16.253086100Z",
     "start_time": "2023-05-24T02:22:15.213579100Z"
    }
   }
  },
  {
   "cell_type": "code",
   "execution_count": 10,
   "outputs": [
    {
     "ename": "TypeError",
     "evalue": "Client.create_market_order() got an unexpected keyword argument 'take_profit'",
     "output_type": "error",
     "traceback": [
      "\u001B[1;31m---------------------------------------------------------------------------\u001B[0m",
      "\u001B[1;31mTypeError\u001B[0m                                 Traceback (most recent call last)",
      "Cell \u001B[1;32mIn[10], line 36\u001B[0m\n\u001B[0;32m     30\u001B[0m     \u001B[38;5;28mprint\u001B[39m(\u001B[38;5;124m\"\u001B[39m\u001B[38;5;124mTake Profit:\u001B[39m\u001B[38;5;124m\"\u001B[39m, order[\u001B[38;5;124m'\u001B[39m\u001B[38;5;124mtakeProfit\u001B[39m\u001B[38;5;124m'\u001B[39m])\n\u001B[0;32m     32\u001B[0m \u001B[38;5;66;03m# Replace with your actual API credentials obtained from KuCoin\u001B[39;00m\n\u001B[0;32m     33\u001B[0m \n\u001B[0;32m     34\u001B[0m \n\u001B[0;32m     35\u001B[0m \u001B[38;5;66;03m# Call the function to place the future order\u001B[39;00m\n\u001B[1;32m---> 36\u001B[0m \u001B[43mplace_future_order\u001B[49m\u001B[43m(\u001B[49m\u001B[43mapi_key\u001B[49m\u001B[43m,\u001B[49m\u001B[43m \u001B[49m\u001B[43mapi_secret\u001B[49m\u001B[43m,\u001B[49m\u001B[43m \u001B[49m\u001B[43mapi_passphrase\u001B[49m\u001B[43m)\u001B[49m\n",
      "Cell \u001B[1;32mIn[10], line 21\u001B[0m, in \u001B[0;36mplace_future_order\u001B[1;34m(api_key, api_secret, passphrase)\u001B[0m\n\u001B[0;32m     18\u001B[0m take_profit_prices \u001B[38;5;241m=\u001B[39m [entry_price \u001B[38;5;241m*\u001B[39m (\u001B[38;5;241m1\u001B[39m \u001B[38;5;241m-\u001B[39m \u001B[38;5;241m0.4\u001B[39m), entry_price \u001B[38;5;241m*\u001B[39m (\u001B[38;5;241m1\u001B[39m \u001B[38;5;241m-\u001B[39m \u001B[38;5;241m0.6\u001B[39m), entry_price \u001B[38;5;241m*\u001B[39m (\u001B[38;5;241m1\u001B[39m \u001B[38;5;241m-\u001B[39m \u001B[38;5;241m0.8\u001B[39m), entry_price \u001B[38;5;241m*\u001B[39m (\u001B[38;5;241m1\u001B[39m \u001B[38;5;241m-\u001B[39m \u001B[38;5;241m1.0\u001B[39m)]\n\u001B[0;32m     20\u001B[0m \u001B[38;5;66;03m# Place the future order\u001B[39;00m\n\u001B[1;32m---> 21\u001B[0m order \u001B[38;5;241m=\u001B[39m \u001B[43mclient\u001B[49m\u001B[38;5;241;43m.\u001B[39;49m\u001B[43mcreate_market_order\u001B[49m\u001B[43m(\u001B[49m\u001B[43msymbol\u001B[49m\u001B[38;5;241;43m=\u001B[39;49m\u001B[43msymbol\u001B[49m\u001B[43m,\u001B[49m\u001B[43m \u001B[49m\u001B[43mside\u001B[49m\u001B[38;5;241;43m=\u001B[39;49m\u001B[43mside\u001B[49m\u001B[43m,\u001B[49m\u001B[43m  \u001B[49m\u001B[43mtake_profit\u001B[49m\u001B[38;5;241;43m=\u001B[39;49m\u001B[43mtake_profit_prices\u001B[49m\u001B[43m)\u001B[49m\n\u001B[0;32m     23\u001B[0m \u001B[38;5;66;03m# Print the order details\u001B[39;00m\n\u001B[0;32m     24\u001B[0m \u001B[38;5;28mprint\u001B[39m(\u001B[38;5;124m\"\u001B[39m\u001B[38;5;124mOrder placed successfully!\u001B[39m\u001B[38;5;124m\"\u001B[39m)\n",
      "\u001B[1;31mTypeError\u001B[0m: Client.create_market_order() got an unexpected keyword argument 'take_profit'"
     ]
    }
   ],
   "source": [
    "import kucoin.client\n",
    "\n",
    "def place_future_order(api_key, api_secret, passphrase):\n",
    "    # Create a new instance of the KuCoin client\n",
    "    client = kucoin.client.Client(api_key=api_key, api_secret=api_secret, passphrase=passphrase)\n",
    "\n",
    "    # Define the order parameters\n",
    "    symbol = 'LIT-USDT'  # Future trading pair\n",
    "    side = 'SELL'  # Short position\n",
    "    leverage = '20x'  # Leverage\n",
    "    entry_price = 0.841  # Entry price\n",
    "    stop_loss_percentage = 0.25  # Stop-loss percentage\n",
    "\n",
    "    # Calculate stop-loss price\n",
    "    stop_loss_price = entry_price * (1 - stop_loss_percentage)\n",
    "\n",
    "    # Define the take-profit prices\n",
    "    take_profit_prices = [entry_price * (1 - 0.4), entry_price * (1 - 0.6), entry_price * (1 - 0.8), entry_price * (1 - 1.0)]\n",
    "\n",
    "    # Place the future order\n",
    "    order = client.create_market_order(symbol=symbol, side=side, \n",
    "\n",
    "    # Print the order details\n",
    "    print(\"Order placed successfully!\")\n",
    "    print(\"Order ID:\", order['orderId'])\n",
    "    print(\"Symbol:\", order['symbol'])\n",
    "    print(\"Side:\", order['side'])\n",
    "    print(\"Leverage:\", order['leverage'])\n",
    "    print(\"Stop Loss:\", order['stopLoss'])\n",
    "    print(\"Take Profit:\", order['takeProfit'])\n",
    "\n",
    "# Replace with your actual API credentials obtained from KuCoin\n",
    "\n",
    "\n",
    "# Call the function to place the future order\n",
    "place_future_order(api_key, api_secret, api_passphrase)\n"
   ],
   "metadata": {
    "collapsed": false,
    "ExecuteTime": {
     "end_time": "2023-05-24T02:29:04.944535400Z",
     "start_time": "2023-05-24T02:29:04.759672900Z"
    }
   }
  },
  {
   "cell_type": "code",
   "execution_count": null,
   "outputs": [],
   "source": [],
   "metadata": {
    "collapsed": false
   }
  }
 ],
 "metadata": {
  "kernelspec": {
   "display_name": "Python 3",
   "language": "python",
   "name": "python3"
  },
  "language_info": {
   "codemirror_mode": {
    "name": "ipython",
    "version": 2
   },
   "file_extension": ".py",
   "mimetype": "text/x-python",
   "name": "python",
   "nbconvert_exporter": "python",
   "pygments_lexer": "ipython2",
   "version": "2.7.6"
  }
 },
 "nbformat": 4,
 "nbformat_minor": 0
}
