{
 "cells": [
  {
   "cell_type": "code",
   "execution_count": 2,
   "metadata": {
    "collapsed": true,
    "ExecuteTime": {
     "end_time": "2023-06-27T11:49:50.694358500Z",
     "start_time": "2023-06-27T11:49:46.995099300Z"
    }
   },
   "outputs": [],
   "source": [
    "import os\n",
    "import time, csv\n",
    "from datetime import datetime\n",
    "\n",
    "import json\n",
    "from selenium import webdriver\n",
    "from selenium.webdriver import ActionChains\n",
    "from selenium.webdriver.common.by import By\n",
    "import undetected_chromedriver as uc\n",
    "from selenium.webdriver.support.wait import WebDriverWait\n",
    "from selenium.webdriver.support import expected_conditions as EC\n",
    "\n",
    "\n",
    "########################################################################################################################\n",
    "# Functions\n",
    "\n",
    "def get_file_data(file_name):\n",
    "    with open(file_name, 'r', encoding='utf-8') as file:\n",
    "        data = file.read().strip().split('\\n')\n",
    "    return data\n",
    "\n",
    "\n",
    "def find_element_send_text(ele, text, clear=True):\n",
    "    while True:\n",
    "        try:\n",
    "            input_field = driver.find_element(By.XPATH, ele)\n",
    "            if clear:\n",
    "                input_field.clear()\n",
    "            input_field.send_keys(text)\n",
    "\n",
    "            break\n",
    "        except:\n",
    "            time.sleep(0.1)\n",
    "\n",
    "\n",
    "def specific_clicker(ele):\n",
    "    while True:\n",
    "        try:\n",
    "            element = driver.find_element(By.XPATH, ele)\n",
    "            webdriver.ActionChains(driver).move_to_element_with_offset(element, 1, 0).click(element).perform()\n",
    "\n",
    "            break\n",
    "        except Exception as e:\n",
    "            # print(e)\n",
    "            pass\n",
    "\n",
    "\n",
    "def specific_clicker2(ele):\n",
    "    try:\n",
    "        element = driver.find_element(By.XPATH, ele)\n",
    "        webdriver.ActionChains(driver).move_to_element_with_offset(element, 1, 0).click(element).perform()\n",
    "\n",
    "    except Exception as e:\n",
    "        # print(e)\n",
    "        pass\n",
    "\n",
    "\n",
    "def get_text(ele):\n",
    "    while True:\n",
    "        try:\n",
    "            element = driver.find_elements(By.XPATH, ele)\n",
    "            texts = [str(x.text) for x in element]\n",
    "            return texts\n",
    "        except Exception as e:\n",
    "            # print(e)\n",
    "            pass\n",
    "\n",
    "\n",
    "def close_chrome():\n",
    "    import os\n",
    "    try:\n",
    "        os.system(\"taskkill /im chrome.exe /f\")\n",
    "    except:\n",
    "        pass\n",
    "\n",
    "\n",
    "close_chrome()\n",
    "options = uc.ChromeOptions()\n",
    "path = os.path.join(os.environ['USERPROFILE'], 'AppData', 'Local', 'Google', 'Chrome', 'User Data')\n",
    "# path for mac\n",
    "# path = \"/Users/jean-pierrecolombo/Library/Application Support/Google/Chrome\"\n",
    "options.add_argument(fr\"user-data-dir={path}\")\n",
    "options.add_argument(f'--profile-directory=Default')\n",
    "driver = uc.Chrome(options=options)\n",
    "driver.maximize_window()\n",
    "# PLENTIFIC BOT:\n"
   ]
  },
  {
   "cell_type": "code",
   "execution_count": 3,
   "outputs": [],
   "source": [
    "close_chrome()"
   ],
   "metadata": {
    "collapsed": false,
    "ExecuteTime": {
     "end_time": "2023-06-27T11:50:26.004784300Z",
     "start_time": "2023-06-27T11:50:25.855187700Z"
    }
   }
  },
  {
   "cell_type": "code",
   "execution_count": 7,
   "outputs": [
    {
     "name": "stdout",
     "output_type": "stream",
     "text": [
      "['Builders', 'Building Certifiers', 'Building Inspectors', 'Designers', 'Client Side Project Managers', 'Air Con & Refrigeration', 'Bricklaying', 'Carpenters', 'Concretors', 'Flooring', 'Gasfitting', 'Glass & Glazing', 'Guttering', 'Kitchens', 'Landscaping (Structural)', 'Painting', 'Paving', 'Pest Control (Termites)', 'Plastering', 'Plumbing and Drainage', 'Roofs and Roof Restoration', 'Screens & Grilles', 'Shade Sails', 'Sheds', 'Soil Testing', 'Swimming Pools', 'Tiling', 'Waterproofing', 'Fire Services', 'Shop fitting', 'Structural Steel', 'Stone Masonry']\n"
     ]
    }
   ],
   "source": [
    "points = driver.find_elements(By.XPATH, '//select[@name=\"select-business-type\"]/option')\n",
    "values = [x.get_attribute('value') for x in points if x.get_attribute('value') != '']\n",
    "print(values)\n"
   ],
   "metadata": {
    "collapsed": false,
    "ExecuteTime": {
     "end_time": "2023-06-24T12:51:53.127674700Z",
     "start_time": "2023-06-24T12:51:51.324360900Z"
    }
   }
  },
  {
   "cell_type": "code",
   "execution_count": null,
   "outputs": [],
   "source": [],
   "metadata": {
    "collapsed": false
   }
  },
  {
   "cell_type": "code",
   "execution_count": 3,
   "outputs": [],
   "source": [
    "specific_clicker('//div[@data-props-divider=\"full-width\"]//input[@type=\"checkbox\"]')"
   ],
   "metadata": {
    "collapsed": false,
    "ExecuteTime": {
     "end_time": "2023-05-24T13:13:11.653061900Z",
     "start_time": "2023-05-24T13:13:10.491674200Z"
    }
   }
  },
  {
   "cell_type": "code",
   "execution_count": 4,
   "outputs": [
    {
     "data": {
      "text/plain": "<undetected_chromedriver.webelement.WebElement (session=\"4b295d123fd245550a5d10f76bff5195\", element=\"3FFC5F6CE8A97984E46F2BCB2A15640B_element_49\")>"
     },
     "execution_count": 4,
     "metadata": {},
     "output_type": "execute_result"
    }
   ],
   "source": [
    "driver.find_element(By.XPATH, \"//button[text()='Get this lead']\")"
   ],
   "metadata": {
    "collapsed": false,
    "ExecuteTime": {
     "end_time": "2023-05-24T13:18:30.661377700Z",
     "start_time": "2023-05-24T13:18:30.618897400Z"
    }
   }
  },
  {
   "cell_type": "code",
   "execution_count": null,
   "outputs": [],
   "source": [
    "# svg element: //*[name()='svg']"
   ],
   "metadata": {
    "collapsed": false
   }
  },
  {
   "cell_type": "code",
   "execution_count": 7,
   "outputs": [],
   "source": [
    "def click_check_box():\n",
    "    while True:\n",
    "        try:\n",
    "            driver.execute_script(\"window.scrollTo(0, document.body.scrollHeight);\")\n",
    "            specific_clicker('//div[@data-props-divider=\"full-width\"]//input[@type=\"checkbox\"]')\n",
    "            check_box = driver.find_elements(By.XPATH, \"//*[name()='svg' and @data-testid='CheckBoxIcon']\")\n",
    "            if len(check_box) > 0:\n",
    "                break\n",
    "            driver.execute_script(\"window.scrollTo(0, document.body.scrollHeight);\")\n",
    "        except Exception as e:\n",
    "            print(e)\n",
    "            pass\n",
    "\n",
    "\n",
    "\n",
    "\n",
    "click_check_box()"
   ],
   "metadata": {
    "collapsed": false,
    "ExecuteTime": {
     "end_time": "2023-05-24T13:27:25.549242Z",
     "start_time": "2023-05-24T13:27:21.926409500Z"
    }
   }
  },
  {
   "cell_type": "code",
   "execution_count": null,
   "outputs": [],
   "source": [],
   "metadata": {
    "collapsed": false
   }
  }
 ],
 "metadata": {
  "kernelspec": {
   "display_name": "Python 3",
   "language": "python",
   "name": "python3"
  },
  "language_info": {
   "codemirror_mode": {
    "name": "ipython",
    "version": 2
   },
   "file_extension": ".py",
   "mimetype": "text/x-python",
   "name": "python",
   "nbconvert_exporter": "python",
   "pygments_lexer": "ipython2",
   "version": "2.7.6"
  }
 },
 "nbformat": 4,
 "nbformat_minor": 0
}
