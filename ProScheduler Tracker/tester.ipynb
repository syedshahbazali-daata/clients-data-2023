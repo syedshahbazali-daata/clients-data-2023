{
 "cells": [
  {
   "cell_type": "code",
   "execution_count": 1,
   "metadata": {
    "collapsed": true,
    "ExecuteTime": {
     "end_time": "2023-06-21T17:32:32.517648300Z",
     "start_time": "2023-06-21T17:32:18.382682600Z"
    }
   },
   "outputs": [],
   "source": [
    "import os\n",
    "import time, csv\n",
    "from datetime import datetime\n",
    "\n",
    "import json\n",
    "from selenium import webdriver\n",
    "from selenium.webdriver import ActionChains\n",
    "from selenium.webdriver.common.by import By\n",
    "import undetected_chromedriver as uc\n",
    "from selenium.webdriver.support.wait import WebDriverWait\n",
    "from selenium.webdriver.support import expected_conditions as EC\n",
    "\n",
    "\n",
    "########################################################################################################################\n",
    "# Functions\n",
    "\n",
    "def get_file_data(file_name):\n",
    "    with open(file_name, 'r', encoding='utf-8') as file:\n",
    "        data = file.read().strip().split('\\n')\n",
    "    return data\n",
    "\n",
    "\n",
    "def find_element_send_text(ele, text, clear=True):\n",
    "    while True:\n",
    "        try:\n",
    "            input_field = driver.find_element(By.XPATH, ele)\n",
    "            if clear:\n",
    "                input_field.clear()\n",
    "            input_field.send_keys(text)\n",
    "\n",
    "            break\n",
    "        except:\n",
    "            time.sleep(0.1)\n",
    "\n",
    "\n",
    "def specific_clicker(ele):\n",
    "    while True:\n",
    "        try:\n",
    "            element = driver.find_element(By.XPATH, ele)\n",
    "            webdriver.ActionChains(driver).move_to_element_with_offset(element, 1, 0).click(element).perform()\n",
    "\n",
    "            break\n",
    "        except Exception as e:\n",
    "            print(e)\n",
    "            pass\n",
    "\n",
    "\n",
    "def specific_clicker2(ele):\n",
    "    try:\n",
    "        element = driver.find_element(By.XPATH, ele)\n",
    "        webdriver.ActionChains(driver).move_to_element_with_offset(element, 1, 0).click(element).perform()\n",
    "\n",
    "    except Exception as e:\n",
    "        # print(e)\n",
    "        pass\n",
    "\n",
    "\n",
    "def get_text(ele):\n",
    "    while True:\n",
    "        try:\n",
    "            element = driver.find_elements(By.XPATH, ele)\n",
    "            texts = [str(x.text) for x in element]\n",
    "            return texts\n",
    "        except Exception as e:\n",
    "            # print(e)\n",
    "            pass\n",
    "\n",
    "\n",
    "def get_day(require_days: list) -> (int, str):\n",
    "    # current date\n",
    "    from datetime import datetime\n",
    "    from datetime import timedelta\n",
    "    now = datetime.now()\n",
    "    current_date = now.strftime(\"%m/%d/%Y\")\n",
    "    # current day: Friday\n",
    "    current_day = str(now.strftime(\"%A\")).lower()\n",
    "    if current_day not in require_days:\n",
    "        return None\n",
    "\n",
    "    # add 7 days\n",
    "    seven_days = now + timedelta(days=7)\n",
    "    seven_days = int(str(seven_days.strftime(\"%d\")))\n",
    "    return seven_days\n",
    "\n",
    "\n",
    "def close_chrome():\n",
    "    import os\n",
    "    try:\n",
    "        os.system(\"taskkill /im chrome.exe /f\")\n",
    "    except:\n",
    "        pass\n",
    "\n",
    "\n",
    "options = uc.ChromeOptions()\n",
    "driver = uc.Chrome(options=options)\n",
    "driver.maximize_window()\n",
    "url = f\"https://proscheduler.prometric.com/scheduling/searchAvailability\"\n",
    "driver.get(url)\n",
    "\n",
    "\n",
    "\n"
   ]
  },
  {
   "cell_type": "code",
   "execution_count": 13,
   "outputs": [
    {
     "ename": "ElementNotInteractableException",
     "evalue": "Message: element not interactable\n  (Session info: chrome=114.0.5735.134)\nStacktrace:\nBacktrace:\n\tGetHandleVerifier [0x0045A813+48355]\n\t(No symbol) [0x003EC4B1]\n\t(No symbol) [0x002F5220]\n\t(No symbol) [0x00321846]\n\t(No symbol) [0x00319F5C]\n\t(No symbol) [0x0033A73C]\n\t(No symbol) [0x00319A36]\n\t(No symbol) [0x0033AA94]\n\t(No symbol) [0x0034C922]\n\t(No symbol) [0x0033A536]\n\t(No symbol) [0x003182DC]\n\t(No symbol) [0x003193DD]\n\tGetHandleVerifier [0x006BAABD+2539405]\n\tGetHandleVerifier [0x006FA78F+2800735]\n\tGetHandleVerifier [0x006F456C+2775612]\n\tGetHandleVerifier [0x004E51E0+616112]\n\t(No symbol) [0x003F5F8C]\n\t(No symbol) [0x003F2328]\n\t(No symbol) [0x003F240B]\n\t(No symbol) [0x003E4FF7]\n\tBaseThreadInitThunk [0x763300C9+25]\n\tRtlGetAppContainerNamedObjectPath [0x779D7B4E+286]\n\tRtlGetAppContainerNamedObjectPath [0x779D7B1E+238]\n",
     "output_type": "error",
     "traceback": [
      "\u001B[1;31m---------------------------------------------------------------------------\u001B[0m",
      "\u001B[1;31mElementNotInteractableException\u001B[0m           Traceback (most recent call last)",
      "Cell \u001B[1;32mIn[13], line 1\u001B[0m\n\u001B[1;32m----> 1\u001B[0m \u001B[43mdriver\u001B[49m\u001B[38;5;241;43m.\u001B[39;49m\u001B[43mfind_element\u001B[49m\u001B[43m(\u001B[49m\u001B[43mBy\u001B[49m\u001B[38;5;241;43m.\u001B[39;49m\u001B[43mXPATH\u001B[49m\u001B[43m,\u001B[49m\u001B[43m \u001B[49m\u001B[38;5;124;43m\"\u001B[39;49m\u001B[38;5;124;43m//button[text()=\u001B[39;49m\u001B[38;5;124;43m'\u001B[39;49m\u001B[38;5;124;43mSearch\u001B[39;49m\u001B[38;5;124;43m'\u001B[39;49m\u001B[38;5;124;43m]\u001B[39;49m\u001B[38;5;124;43m\"\u001B[39;49m\u001B[43m)\u001B[49m\u001B[38;5;241;43m.\u001B[39;49m\u001B[43mclick\u001B[49m\u001B[43m(\u001B[49m\u001B[43m)\u001B[49m\n",
      "File \u001B[1;32m~\\AppData\\Local\\Programs\\Python\\Python311\\Lib\\site-packages\\selenium\\webdriver\\remote\\webelement.py:94\u001B[0m, in \u001B[0;36mWebElement.click\u001B[1;34m(self)\u001B[0m\n\u001B[0;32m     92\u001B[0m \u001B[38;5;28;01mdef\u001B[39;00m \u001B[38;5;21mclick\u001B[39m(\u001B[38;5;28mself\u001B[39m) \u001B[38;5;241m-\u001B[39m\u001B[38;5;241m>\u001B[39m \u001B[38;5;28;01mNone\u001B[39;00m:\n\u001B[0;32m     93\u001B[0m \u001B[38;5;250m    \u001B[39m\u001B[38;5;124;03m\"\"\"Clicks the element.\"\"\"\u001B[39;00m\n\u001B[1;32m---> 94\u001B[0m     \u001B[38;5;28;43mself\u001B[39;49m\u001B[38;5;241;43m.\u001B[39;49m\u001B[43m_execute\u001B[49m\u001B[43m(\u001B[49m\u001B[43mCommand\u001B[49m\u001B[38;5;241;43m.\u001B[39;49m\u001B[43mCLICK_ELEMENT\u001B[49m\u001B[43m)\u001B[49m\n",
      "File \u001B[1;32m~\\AppData\\Local\\Programs\\Python\\Python311\\Lib\\site-packages\\selenium\\webdriver\\remote\\webelement.py:404\u001B[0m, in \u001B[0;36mWebElement._execute\u001B[1;34m(self, command, params)\u001B[0m\n\u001B[0;32m    402\u001B[0m     params \u001B[38;5;241m=\u001B[39m {}\n\u001B[0;32m    403\u001B[0m params[\u001B[38;5;124m\"\u001B[39m\u001B[38;5;124mid\u001B[39m\u001B[38;5;124m\"\u001B[39m] \u001B[38;5;241m=\u001B[39m \u001B[38;5;28mself\u001B[39m\u001B[38;5;241m.\u001B[39m_id\n\u001B[1;32m--> 404\u001B[0m \u001B[38;5;28;01mreturn\u001B[39;00m \u001B[38;5;28;43mself\u001B[39;49m\u001B[38;5;241;43m.\u001B[39;49m\u001B[43m_parent\u001B[49m\u001B[38;5;241;43m.\u001B[39;49m\u001B[43mexecute\u001B[49m\u001B[43m(\u001B[49m\u001B[43mcommand\u001B[49m\u001B[43m,\u001B[49m\u001B[43m \u001B[49m\u001B[43mparams\u001B[49m\u001B[43m)\u001B[49m\n",
      "File \u001B[1;32m~\\AppData\\Local\\Programs\\Python\\Python311\\Lib\\site-packages\\selenium\\webdriver\\remote\\webdriver.py:440\u001B[0m, in \u001B[0;36mWebDriver.execute\u001B[1;34m(self, driver_command, params)\u001B[0m\n\u001B[0;32m    438\u001B[0m response \u001B[38;5;241m=\u001B[39m \u001B[38;5;28mself\u001B[39m\u001B[38;5;241m.\u001B[39mcommand_executor\u001B[38;5;241m.\u001B[39mexecute(driver_command, params)\n\u001B[0;32m    439\u001B[0m \u001B[38;5;28;01mif\u001B[39;00m response:\n\u001B[1;32m--> 440\u001B[0m     \u001B[38;5;28;43mself\u001B[39;49m\u001B[38;5;241;43m.\u001B[39;49m\u001B[43merror_handler\u001B[49m\u001B[38;5;241;43m.\u001B[39;49m\u001B[43mcheck_response\u001B[49m\u001B[43m(\u001B[49m\u001B[43mresponse\u001B[49m\u001B[43m)\u001B[49m\n\u001B[0;32m    441\u001B[0m     response[\u001B[38;5;124m\"\u001B[39m\u001B[38;5;124mvalue\u001B[39m\u001B[38;5;124m\"\u001B[39m] \u001B[38;5;241m=\u001B[39m \u001B[38;5;28mself\u001B[39m\u001B[38;5;241m.\u001B[39m_unwrap_value(response\u001B[38;5;241m.\u001B[39mget(\u001B[38;5;124m\"\u001B[39m\u001B[38;5;124mvalue\u001B[39m\u001B[38;5;124m\"\u001B[39m, \u001B[38;5;28;01mNone\u001B[39;00m))\n\u001B[0;32m    442\u001B[0m     \u001B[38;5;28;01mreturn\u001B[39;00m response\n",
      "File \u001B[1;32m~\\AppData\\Local\\Programs\\Python\\Python311\\Lib\\site-packages\\selenium\\webdriver\\remote\\errorhandler.py:245\u001B[0m, in \u001B[0;36mErrorHandler.check_response\u001B[1;34m(self, response)\u001B[0m\n\u001B[0;32m    243\u001B[0m         alert_text \u001B[38;5;241m=\u001B[39m value[\u001B[38;5;124m\"\u001B[39m\u001B[38;5;124malert\u001B[39m\u001B[38;5;124m\"\u001B[39m]\u001B[38;5;241m.\u001B[39mget(\u001B[38;5;124m\"\u001B[39m\u001B[38;5;124mtext\u001B[39m\u001B[38;5;124m\"\u001B[39m)\n\u001B[0;32m    244\u001B[0m     \u001B[38;5;28;01mraise\u001B[39;00m exception_class(message, screen, stacktrace, alert_text)  \u001B[38;5;66;03m# type: ignore[call-arg]  # mypy is not smart enough here\u001B[39;00m\n\u001B[1;32m--> 245\u001B[0m \u001B[38;5;28;01mraise\u001B[39;00m exception_class(message, screen, stacktrace)\n",
      "\u001B[1;31mElementNotInteractableException\u001B[0m: Message: element not interactable\n  (Session info: chrome=114.0.5735.134)\nStacktrace:\nBacktrace:\n\tGetHandleVerifier [0x0045A813+48355]\n\t(No symbol) [0x003EC4B1]\n\t(No symbol) [0x002F5220]\n\t(No symbol) [0x00321846]\n\t(No symbol) [0x00319F5C]\n\t(No symbol) [0x0033A73C]\n\t(No symbol) [0x00319A36]\n\t(No symbol) [0x0033AA94]\n\t(No symbol) [0x0034C922]\n\t(No symbol) [0x0033A536]\n\t(No symbol) [0x003182DC]\n\t(No symbol) [0x003193DD]\n\tGetHandleVerifier [0x006BAABD+2539405]\n\tGetHandleVerifier [0x006FA78F+2800735]\n\tGetHandleVerifier [0x006F456C+2775612]\n\tGetHandleVerifier [0x004E51E0+616112]\n\t(No symbol) [0x003F5F8C]\n\t(No symbol) [0x003F2328]\n\t(No symbol) [0x003F240B]\n\t(No symbol) [0x003E4FF7]\n\tBaseThreadInitThunk [0x763300C9+25]\n\tRtlGetAppContainerNamedObjectPath [0x779D7B4E+286]\n\tRtlGetAppContainerNamedObjectPath [0x779D7B1E+238]\n"
     ]
    }
   ],
   "source": [
    "driver.find_element(By.XPATH, \"//button[text()='Search']\").click()"
   ],
   "metadata": {
    "collapsed": false,
    "ExecuteTime": {
     "end_time": "2023-06-21T18:08:59.568292800Z",
     "start_time": "2023-06-21T18:08:57.265148500Z"
    }
   }
  },
  {
   "cell_type": "code",
   "execution_count": 10,
   "outputs": [],
   "source": [
    "specific_clicker('//*[@id=\"post-code-results\"]')"
   ],
   "metadata": {
    "collapsed": false,
    "ExecuteTime": {
     "end_time": "2023-06-21T18:05:37.521393800Z",
     "start_time": "2023-06-21T18:05:36.550620600Z"
    }
   }
  },
  {
   "cell_type": "code",
   "execution_count": null,
   "outputs": [],
   "source": [],
   "metadata": {
    "collapsed": false
   }
  },
  {
   "cell_type": "code",
   "execution_count": 4,
   "outputs": [
    {
     "name": "stdout",
     "output_type": "stream",
     "text": [
      "\n"
     ]
    }
   ],
   "source": [
    "zip_codes = driver.find_elements(By.XPATH, '//div[@id=\"post-code-results\"]//li')\n",
    "zip_codes = [str(x.text).strip() for x in zip_codes]\n",
    "for i in zip_codes:\n",
    "    print(i)"
   ],
   "metadata": {
    "collapsed": false,
    "ExecuteTime": {
     "end_time": "2023-06-21T17:33:37.588384Z",
     "start_time": "2023-06-21T17:33:37.477625100Z"
    }
   }
  },
  {
   "cell_type": "code",
   "execution_count": 4,
   "outputs": [],
   "source": [
    "while True:\n",
    "    try:\n",
    "        driver.find_element(By.XPATH, \"//select[@id='test_sponsor']/option[contains(text(), 'National Board of Medical Examiners')]\").click()\n",
    "        break\n",
    "    except:\n",
    "        time.sleep(0.1)\n",
    "\n",
    "while True:\n",
    "    try:\n",
    "        driver.find_element(By.XPATH, \"//select[@name='selectedProgram']/option[contains(text(), 'STEP1')]\").click()\n",
    "        break\n",
    "    except:\n",
    "        time.sleep(0.1)\n",
    "\n",
    "while True:\n",
    "    try:\n",
    "        driver.find_element(By.XPATH, \"//select/option[contains(text(), 'United States Medical Licensing Examination')]\").click()\n",
    "        break\n",
    "    except:\n",
    "        time.sleep(0.1)\n",
    "specific_clicker('//button[@aria-label=\"Continue to next page\"]')\n",
    "\n"
   ],
   "metadata": {
    "collapsed": false,
    "ExecuteTime": {
     "start_time": "2023-04-02T20:51:02.124315Z",
     "end_time": "2023-04-02T20:51:04.926689Z"
    }
   }
  },
  {
   "cell_type": "code",
   "execution_count": 5,
   "outputs": [],
   "source": [
    "find_element_send_text('(//input)[1]', '40202')\n",
    "find_element_send_text('(//input)[2]', '02/06/2023')\n",
    "find_element_send_text('(//input)[3]', '05/06/2023')\n",
    "specific_clicker('//button[@aria-label=\"Continue to next page\"]')\n"
   ],
   "metadata": {
    "collapsed": false,
    "ExecuteTime": {
     "start_time": "2023-04-02T20:52:34.837773Z",
     "end_time": "2023-04-02T20:52:35.746504Z"
    }
   }
  },
  {
   "cell_type": "code",
   "execution_count": 10,
   "outputs": [
    {
     "name": "stdout",
     "output_type": "stream",
     "text": [
      "ky, lexington\n"
     ]
    }
   ],
   "source": [
    "while True:\n",
    "    try:\n",
    "        driver.find_element(By.XPATH, '//div[@class=\"row\"]//span/strong')\n",
    "        break\n",
    "    except:\n",
    "        time.sleep(0.1)\n",
    "\n",
    "results = driver.find_elements(By.XPATH, '//div[@class=\"row\"]//span/strong')\n",
    "for result in results:\n",
    "    row = str(result.text).strip().lower()\n",
    "    if 'louisville' in row:\n",
    "        print(row)\n",
    "        break\n",
    "    else:\n",
    "        print(row)\n",
    "\n",
    "\n",
    "\n"
   ],
   "metadata": {
    "collapsed": false,
    "ExecuteTime": {
     "start_time": "2023-04-02T20:56:46.179935Z",
     "end_time": "2023-04-02T20:56:46.215107Z"
    }
   }
  },
  {
   "cell_type": "code",
   "execution_count": null,
   "outputs": [],
   "source": [],
   "metadata": {
    "collapsed": false
   }
  }
 ],
 "metadata": {
  "kernelspec": {
   "display_name": "Python 3",
   "language": "python",
   "name": "python3"
  },
  "language_info": {
   "codemirror_mode": {
    "name": "ipython",
    "version": 2
   },
   "file_extension": ".py",
   "mimetype": "text/x-python",
   "name": "python",
   "nbconvert_exporter": "python",
   "pygments_lexer": "ipython2",
   "version": "2.7.6"
  }
 },
 "nbformat": 4,
 "nbformat_minor": 0
}
