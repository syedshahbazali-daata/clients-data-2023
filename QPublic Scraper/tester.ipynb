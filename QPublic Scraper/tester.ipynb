{
 "cells": [
  {
   "cell_type": "code",
   "execution_count": 50,
   "metadata": {
    "collapsed": true,
    "ExecuteTime": {
     "start_time": "2023-04-15T14:33:50.983938Z",
     "end_time": "2023-04-15T14:33:50.995908Z"
    }
   },
   "outputs": [],
   "source": [
    "import os\n",
    "import time, csv\n",
    "from datetime import datetime\n",
    "\n",
    "import json\n",
    "from selenium import webdriver\n",
    "from selenium.webdriver import ActionChains\n",
    "from selenium.webdriver.common.by import By\n",
    "import undetected_chromedriver as uc\n",
    "from selenium.webdriver.support.wait import WebDriverWait\n",
    "from selenium.webdriver.support import expected_conditions as EC\n",
    "\n",
    "\n",
    "########################################################################################################################\n",
    "# Functions\n",
    "\n",
    "def get_file_data(file_name):\n",
    "    with open(file_name, 'r', encoding='utf-8') as file:\n",
    "        data = file.read().strip().split('\\n')\n",
    "    return data\n",
    "\n",
    "\n",
    "def find_element_send_text(ele, text, clear=True):\n",
    "    while True:\n",
    "        try:\n",
    "            input_field = driver.find_element(By.XPATH, ele)\n",
    "            if clear:\n",
    "                input_field.clear()\n",
    "            input_field.send_keys(text)\n",
    "\n",
    "            break\n",
    "        except:\n",
    "            time.sleep(0.1)\n",
    "\n",
    "\n",
    "def specific_clicker(ele):\n",
    "    while True:\n",
    "        try:\n",
    "            element = driver.find_element(By.XPATH, ele)\n",
    "            webdriver.ActionChains(driver).move_to_element_with_offset(element, 1, 0).click(element).perform()\n",
    "\n",
    "            break\n",
    "        except Exception as e:\n",
    "            # print(e)\n",
    "            pass\n",
    "\n",
    "\n",
    "def specific_clicker2(ele):\n",
    "    try:\n",
    "        element = driver.find_element(By.XPATH, ele)\n",
    "        webdriver.ActionChains(driver).move_to_element_with_offset(element, 1, 0).click(element).perform()\n",
    "\n",
    "    except Exception as e:\n",
    "        # print(e)\n",
    "        pass\n",
    "\n",
    "\n",
    "def get_text(ele):\n",
    "    while True:\n",
    "        try:\n",
    "            element = driver.find_elements(By.XPATH, ele)\n",
    "            texts = [str(x.text) for x in element]\n",
    "            return texts\n",
    "        except Exception as e:\n",
    "            # print(e)\n",
    "            pass\n",
    "\n",
    "\n",
    "def get_text_pass(ele):\n",
    "    try:\n",
    "        element_text = driver.find_element(By.XPATH, ele).text\n",
    "\n",
    "\n",
    "    except Exception as e:\n",
    "        element_text = \"N/A\"\n",
    "    return element_text\n",
    "\n",
    "def get_year_data(year_no):\n",
    "    try:\n",
    "        x = str(driver.find_elements(By.XPATH, f\"//*[text()='{year_no}']/ancestor::tr\")[-1].text).split(\" \")[-1]\n",
    "    except:\n",
    "        x = \"N/A\"\n",
    "    return x\n",
    "def close_chrome():\n",
    "    import os\n",
    "    try:\n",
    "        os.system(\"taskkill /im chrome.exe /f\")\n",
    "    except:\n",
    "        pass\n",
    "\n",
    "\n"
   ]
  },
  {
   "cell_type": "code",
   "execution_count": 2,
   "outputs": [],
   "source": [
    "options = uc.ChromeOptions()\n",
    "driver = uc.Chrome(options=options)\n",
    "driver.maximize_window()\n",
    "url = f\"https://qpublic.schneidercorp.com/Application.aspx?AppID=1045&LayerID=23342&PageTypeID=4&PageID=9746&KeyValue=320010430000#ctlBodyPane_ctl10_lblName\"\n",
    "\n",
    "driver.get(url)\n",
    "\n"
   ],
   "metadata": {
    "collapsed": false,
    "ExecuteTime": {
     "start_time": "2023-04-15T14:07:59.580432Z",
     "end_time": "2023-04-15T14:08:10.998286Z"
    }
   }
  },
  {
   "cell_type": "code",
   "execution_count": 3,
   "outputs": [],
   "source": [
    "for i in range(5):\n",
    "    specific_clicker2(\"//*[text()='Agree']\")\n",
    "    time.sleep(0.5)\n",
    "\n",
    "\n"
   ],
   "metadata": {
    "collapsed": false,
    "ExecuteTime": {
     "start_time": "2023-04-15T14:09:23.701043Z",
     "end_time": "2023-04-15T14:09:27.012989Z"
    }
   }
  },
  {
   "cell_type": "code",
   "execution_count": 55,
   "outputs": [
    {
     "name": "stdout",
     "output_type": "stream",
     "text": [
      "['1133 1ST AVE', 'RESIDENTIAL', '5,010', 'LIEU,JERRY D/JULIE K C TR    Fee Owner', '$975,500', '$198,600', '$100,000', '$0.00', '$0.00', '$0.00']\n"
     ]
    }
   ],
   "source": [
    "\n",
    "specific_clicker('//a[@title=\"View next record\"]')\n",
    "for i in range(5):\n",
    "    try:\n",
    "        driver.find_element(By.XPATH, '//*[@title=\"toggle additional data\"]')\n",
    "        break\n",
    "    except:\n",
    "        time.sleep(1)\n",
    "specific_clicker2('//*[@title=\"toggle additional data\"]')\n",
    "\n",
    "\n",
    "location_address = get_text_pass(\"//*[text()='Location Address']/../../td/*\")\n",
    "property_class = get_text_pass(\"//*[text()='Property Class']/../../td/*\")\n",
    "land_area = get_text_pass(\"//*[text()='Land Area (approximate sq ft)']/../../td/*\")\n",
    "owner_names = str(driver.find_element(By.XPATH, \"//*[text()='Owner Names']/../../span\").text).split(\"\\n\")[1:]\n",
    "owner_names = \", \".join(owner_names)\n",
    "\n",
    "\n",
    "\n",
    "assessed_building_value = get_text_pass(\"//*[text()='Net Taxable Land Value:']/../*[2]\")\n",
    "assessed_land_value = get_text_pass(\"//*[text()='Net Taxable Building Value:']/../*[2]\")\n",
    "total_property_exemption = get_text_pass(\"//*[text()='Total Property Exemption:']/../*[2]\")\n",
    "year_2022_amount_due = get_year_data(\"2022\")\n",
    "year_2021_amount_due = get_year_data(\"2021\")\n",
    "year_2020_amount_due = get_year_data(\"2020\")\n",
    "\n",
    "\n",
    "record = [\n",
    "    location_address,\n",
    "    property_class,\n",
    "    land_area,\n",
    "    owner_names,\n",
    "    assessed_building_value,\n",
    "    assessed_land_value,\n",
    "    total_property_exemption,\n",
    "    year_2022_amount_due,\n",
    "    year_2021_amount_due,\n",
    "    year_2020_amount_due]\n",
    "\n",
    "print(record)\n",
    "\n",
    "\n",
    "\n"
   ],
   "metadata": {
    "collapsed": false,
    "ExecuteTime": {
     "start_time": "2023-04-15T14:36:28.328720Z",
     "end_time": "2023-04-15T14:36:38.577974Z"
    }
   }
  },
  {
   "cell_type": "code",
   "execution_count": 48,
   "outputs": [
    {
     "data": {
      "text/plain": "'$0.00'"
     },
     "execution_count": 48,
     "metadata": {},
     "output_type": "execute_result"
    }
   ],
   "source": [],
   "metadata": {
    "collapsed": false,
    "ExecuteTime": {
     "start_time": "2023-04-15T14:32:55.139307Z",
     "end_time": "2023-04-15T14:32:55.193738Z"
    }
   }
  },
  {
   "cell_type": "code",
   "execution_count": 1,
   "outputs": [
    {
     "ename": "NameError",
     "evalue": "name 'driver' is not defined",
     "output_type": "error",
     "traceback": [
      "\u001B[1;31m---------------------------------------------------------------------------\u001B[0m",
      "\u001B[1;31mNameError\u001B[0m                                 Traceback (most recent call last)",
      "Cell \u001B[1;32mIn[1], line 23\u001B[0m\n\u001B[0;32m     18\u001B[0m     total \u001B[38;5;241m=\u001B[39m \u001B[38;5;124m'\u001B[39m\u001B[38;5;124m$0.00\u001B[39m\u001B[38;5;124m'\u001B[39m\n\u001B[0;32m     20\u001B[0m     \u001B[38;5;66;03m# Combine the values into a single string, formatted as specified\u001B[39;00m\n\u001B[1;32m---> 23\u001B[0m     row \u001B[38;5;241m=\u001B[39m [address, prop_type, sq_ft, owner, market_val, assessed_val, tax, penalty, interest, total, \u001B[38;5;28mstr\u001B[39m(\u001B[43mdriver\u001B[49m\u001B[38;5;241m.\u001B[39mcurrent_url)]\n\u001B[0;32m     24\u001B[0m     data\u001B[38;5;241m.\u001B[39mappend(row)\n\u001B[0;32m     26\u001B[0m \u001B[38;5;66;03m# Save the data to a CSV file\u001B[39;00m\n",
      "\u001B[1;31mNameError\u001B[0m: name 'driver' is not defined"
     ]
    }
   ],
   "source": [
    "import random,csv\n",
    "\n",
    "# List of possible property types\n",
    "property_types = ['RESIDENTIAL A', 'RESIDENTIAL B', 'COMMERCIAL A', 'COMMERCIAL B']\n",
    "data = []\n",
    "# Generate 100 rows of data\n",
    "for i in range(10000):\n",
    "    # Generate random values for the row\n",
    "    address = f'{random.randint(1000, 9999)} MAIN ST'\n",
    "    prop_type = random.choice(property_types)\n",
    "    sq_ft = f'{random.randint(1000, 10000):,}'\n",
    "    owner = f'{address} LAND TR Fee Owner'\n",
    "    market_val = f'${random.randint(50000, 1000000):,}'\n",
    "    assessed_val = f'${random.randint(5000, 200000):,}'\n",
    "    tax = '$0'\n",
    "    penalty = '$0.00'\n",
    "    interest = '$0.00'\n",
    "    total = '$0.00'\n",
    "\n",
    "    # Combine the values into a single string, formatted as specified\n",
    "\n",
    "\n",
    "    row = [address, prop_type, sq_ft, owner, market_val, assessed_val, tax, penalty, interest, total, str(driver.current_url)]\n",
    "    data.append(row)\n",
    "\n",
    "# Save the data to a CSV file\n",
    "with open('property_data.csv', 'w', newline='') as file:\n",
    "    writer = csv.writer(file)\n",
    "    writer.writerow(['Address', 'Property Type', 'Sq. Ft.', 'Owner', 'Market Value', 'Assessed Value', 'Tax', 'Penalty', 'Interest', 'Total', 'URL'])\n",
    "    writer.writerows(data)\n",
    "\n"
   ],
   "metadata": {
    "collapsed": false,
    "ExecuteTime": {
     "start_time": "2023-04-22T13:29:32.414490Z",
     "end_time": "2023-04-22T13:29:33.117183Z"
    }
   }
  },
  {
   "cell_type": "code",
   "execution_count": null,
   "outputs": [],
   "source": [],
   "metadata": {
    "collapsed": false
   }
  }
 ],
 "metadata": {
  "kernelspec": {
   "display_name": "Python 3",
   "language": "python",
   "name": "python3"
  },
  "language_info": {
   "codemirror_mode": {
    "name": "ipython",
    "version": 2
   },
   "file_extension": ".py",
   "mimetype": "text/x-python",
   "name": "python",
   "nbconvert_exporter": "python",
   "pygments_lexer": "ipython2",
   "version": "2.7.6"
  }
 },
 "nbformat": 4,
 "nbformat_minor": 0
}
