{
 "cells": [
  {
   "cell_type": "code",
   "execution_count": 1,
   "outputs": [],
   "source": [
    "import os\n",
    "import re\n",
    "import time\n",
    "from datetime import datetime\n",
    "from selenium import webdriver\n",
    "from selenium.webdriver.common.by import By\n",
    "from selenium.webdriver.common.desired_capabilities import DesiredCapabilities\n",
    "import datetime as dt\n",
    "import random\n",
    "import json\n",
    "import requests\n",
    "import undetected_chromedriver as uc\n",
    "\n",
    "\n",
    "# REQUIRED FUNCTIONS\n",
    "\n",
    "def get_file_data(file_name):\n",
    "    with open(file=file_name, mode=\"r\", encoding=\"utf-8\") as file:\n",
    "        data = file.read().strip().split(\"\\n\")\n",
    "    return data\n",
    "\n",
    "\n",
    "def find_element_send_text(ele, text, clear=True):\n",
    "    while True:\n",
    "        try:\n",
    "            input_field = driver.find_element(By.XPATH, ele)\n",
    "            if clear:\n",
    "                input_field.clear()\n",
    "            input_field.send_keys(text)\n",
    "\n",
    "            break\n",
    "        except:\n",
    "            time.sleep(0.1)\n",
    "\n",
    "\n",
    "def specific_clicker(ele):\n",
    "    while True:\n",
    "        try:\n",
    "            element = driver.find_element(By.XPATH, ele)\n",
    "            webdriver.ActionChains(driver).move_to_element_with_offset(element, 1, 0).click(element).perform()\n",
    "\n",
    "            break\n",
    "        except Exception as e:\n",
    "            print(e)\n",
    "            pass\n",
    "\n",
    "\n",
    "def specific_clicker2(ele):\n",
    "    try:\n",
    "        element = driver.find_element(By.XPATH, ele)\n",
    "        webdriver.ActionChains(driver).move_to_element_with_offset(element, 1, 0).click(element).perform()\n",
    "\n",
    "    except Exception as e:\n",
    "        print(e)\n",
    "        pass\n",
    "\n",
    "\n",
    "def drag_and_drop_file(drop_target, path):\n",
    "    \"\"\"\n",
    "    Drag and drop the provided file path onto the provided element target.\n",
    "\n",
    "\n",
    "    Parameters\n",
    "    ----------\n",
    "    drop_target : WebElement\n",
    "        The web element to drop the file at path on\n",
    "\n",
    "    path : str\n",
    "        The file path to drag onto the web element\n",
    "\n",
    "    Returns\n",
    "    -------\n",
    "    bool\n",
    "        Whether or not dragging the file was successful\n",
    "\n",
    "    \"\"\"\n",
    "\n",
    "    # https://stackoverflow.com/questions/43382447/python-with-selenium-drag-and-drop-from-file-system-to-webdriver\n",
    "    JS_DROP_FILE = \"\"\"\n",
    "            var target = arguments[0],\n",
    "                offsetX = arguments[1],\n",
    "                offsetY = arguments[2],\n",
    "                document = target.ownerDocument || document,\n",
    "                window = document.defaultView || window;\n",
    "\n",
    "            var input = document.createElement('INPUT');\n",
    "            input.type = 'file';\n",
    "            input.onchange = function () {\n",
    "              var rect = target.getBoundingClientRect(),\n",
    "                  x = rect.left + (offsetX || (rect.width >> 1)),\n",
    "                  y = rect.top + (offsetY || (rect.height >> 1)),\n",
    "                  dataTransfer = { files: this.files };\n",
    "\n",
    "              ['dragenter', 'dragover', 'drop'].forEach(function (name) {\n",
    "                var evt = document.createEvent('MouseEvent');\n",
    "                evt.initMouseEvent(name, !0, !0, window, 0, 0, 0, x, y, !1, !1, !1, !1, 0, null);\n",
    "                evt.dataTransfer = dataTransfer;\n",
    "                target.dispatchEvent(evt);\n",
    "              });\n",
    "\n",
    "              setTimeout(function () { document.body.removeChild(input); }, 25);\n",
    "            };\n",
    "            document.body.appendChild(input);\n",
    "            return input;\n",
    "        \"\"\"\n",
    "    try:\n",
    "\n",
    "        # BUG: requires double to register file upload\n",
    "        file_input = drop_target.parent.execute_script(JS_DROP_FILE, drop_target, 0, 0)\n",
    "        file_input.send_keys(path)\n",
    "        file_input = drop_target.parent.execute_script(JS_DROP_FILE, drop_target, 50, 50)\n",
    "        file_input.send_keys(path)\n",
    "\n",
    "        return True\n",
    "    except Exception as e:\n",
    "        print(e)\n",
    "\n",
    "    return False\n",
    "\n",
    "\n",
    "def close_chrome_app():\n",
    "    try:\n",
    "        os.system(\"taskkill /f /im chrome.exe\")\n",
    "    except:\n",
    "        pass\n"
   ],
   "metadata": {
    "collapsed": false,
    "ExecuteTime": {
     "start_time": "2023-04-16T18:38:07.690355Z",
     "end_time": "2023-04-16T18:38:08.125978Z"
    }
   }
  },
  {
   "cell_type": "code",
   "execution_count": 2,
   "outputs": [],
   "source": [
    "close_chrome_app()\n",
    "options = uc.ChromeOptions()\n",
    "path = os.path.join(os.getenv('LOCALAPPDATA'), 'Google', 'Chrome', 'User Data')\n",
    "options.add_argument(fr\"user-data-dir={path}\")\n",
    "options.add_argument(f'--profile-directory=Profile 3')\n",
    "driver = uc.Chrome(options=options)\n",
    "driver.maximize_window()"
   ],
   "metadata": {
    "collapsed": false,
    "ExecuteTime": {
     "start_time": "2023-04-16T18:38:08.124984Z",
     "end_time": "2023-04-16T18:38:25.303791Z"
    }
   }
  },
  {
   "cell_type": "code",
   "execution_count": 3,
   "outputs": [],
   "source": [
    "driver.get(\"https://onlyfans.com/my/queue\")"
   ],
   "metadata": {
    "collapsed": false,
    "ExecuteTime": {
     "start_time": "2023-04-16T18:38:36.787291Z",
     "end_time": "2023-04-16T18:38:38.552415Z"
    }
   }
  },
  {
   "cell_type": "code",
   "execution_count": 5,
   "outputs": [],
   "source": [
    "driver.find_element(By.XPATH, '(//input[@class=\"vdatetime-input form-control g-input\"])[1]').send_keys('5/16/2023')"
   ],
   "metadata": {
    "collapsed": false,
    "ExecuteTime": {
     "start_time": "2023-04-16T18:39:51.263953Z",
     "end_time": "2023-04-16T18:39:51.407720Z"
    }
   }
  },
  {
   "cell_type": "code",
   "execution_count": null,
   "outputs": [],
   "source": [],
   "metadata": {
    "collapsed": false
   }
  },
  {
   "cell_type": "code",
   "execution_count": null,
   "outputs": [],
   "source": [
    "driver.get(\"https://twitter.com/\")"
   ],
   "metadata": {
    "collapsed": false
   }
  },
  {
   "cell_type": "code",
   "execution_count": 8,
   "outputs": [],
   "source": [
    "time_post = '14:07'.split(':')\n",
    "if int(time_post[0]) > 12:\n",
    "    time_post[0] = str(int(time_post[0]) - 12)\n",
    "    time_post[1] = time_post[1] + ' PM'\n",
    "else:\n",
    "    time_post[1] = time_post[1] + ' AM'\n",
    "\n",
    "time_post = ':'.join(time_post)"
   ],
   "metadata": {
    "collapsed": false,
    "ExecuteTime": {
     "start_time": "2023-04-01T19:21:17.278196Z",
     "end_time": "2023-04-01T19:21:17.284141Z"
    }
   }
  },
  {
   "cell_type": "code",
   "execution_count": 9,
   "outputs": [
    {
     "name": "stdout",
     "output_type": "stream",
     "text": [
      "2:07 PM\n"
     ]
    }
   ],
   "source": [
    "print(time_post)"
   ],
   "metadata": {
    "collapsed": false,
    "ExecuteTime": {
     "start_time": "2023-04-01T19:21:17.677400Z",
     "end_time": "2023-04-01T19:21:17.686900Z"
    }
   }
  },
  {
   "cell_type": "code",
   "execution_count": 21,
   "outputs": [
    {
     "name": "stdout",
     "output_type": "stream",
     "text": [
      "Starting Chrome\n"
     ]
    }
   ],
   "source": [
    "with open('schedules.json') as f:\n",
    "    config = json.load(f)['schedule_data']\n",
    "    data = [schedule for schedule in config if schedule['platform'] == 'twitter']\n",
    "\n",
    "print(\"Starting Chrome\")\n",
    "close_chrome_app()\n",
    "options = uc.ChromeOptions()\n",
    "path = os.path.join(os.getenv('LOCALAPPDATA'), 'Google', 'Chrome', 'User Data')\n",
    "options.add_argument(fr\"user-data-dir={path}\")\n",
    "options.add_argument(f'--profile-directory=Default')\n",
    "driver = uc.Chrome(options=options)\n",
    "driver.maximize_window()\n"
   ],
   "metadata": {
    "collapsed": false,
    "ExecuteTime": {
     "start_time": "2023-04-01T19:43:39.228911Z",
     "end_time": "2023-04-01T19:43:46.544711Z"
    }
   }
  },
  {
   "cell_type": "code",
   "execution_count": 22,
   "outputs": [
    {
     "name": "stdout",
     "output_type": "stream",
     "text": [
      "Message: no such element: Unable to locate element: {\"method\":\"xpath\",\"selector\":\"//*[@aria-label=\"Schedule Tweet\"]\"}\n",
      "  (Session info: chrome=111.0.5563.147)\n",
      "Stacktrace:\n",
      "Backtrace:\n",
      "\t(No symbol) [0x0021DCE3]\n",
      "\t(No symbol) [0x001B39D1]\n",
      "\t(No symbol) [0x000C4DA8]\n",
      "\t(No symbol) [0x000F019F]\n",
      "\t(No symbol) [0x000F03AB]\n",
      "\t(No symbol) [0x0011EE62]\n",
      "\t(No symbol) [0x0010AF14]\n",
      "\t(No symbol) [0x0011D57C]\n",
      "\t(No symbol) [0x0010ACC6]\n",
      "\t(No symbol) [0x000E6F68]\n",
      "\t(No symbol) [0x000E80CD]\n",
      "\tGetHandleVerifier [0x00493832+2506274]\n",
      "\tGetHandleVerifier [0x004C9794+2727300]\n",
      "\tGetHandleVerifier [0x004CE36C+2746716]\n",
      "\tGetHandleVerifier [0x002C6690+617600]\n",
      "\t(No symbol) [0x001BC712]\n",
      "\t(No symbol) [0x001C1FF8]\n",
      "\t(No symbol) [0x001C20DB]\n",
      "\t(No symbol) [0x001CC63B]\n",
      "\tBaseThreadInitThunk [0x754E00F9+25]\n",
      "\tRtlGetAppContainerNamedObjectPath [0x76F37BBE+286]\n",
      "\tRtlGetAppContainerNamedObjectPath [0x76F37B8E+238]\n",
      "\t(No symbol) [0x00000000]\n",
      "\n",
      "Message: no such element: Unable to locate element: {\"method\":\"xpath\",\"selector\":\"//*[@aria-label=\"Schedule Tweet\"]\"}\n",
      "  (Session info: chrome=111.0.5563.147)\n",
      "Stacktrace:\n",
      "Backtrace:\n",
      "\t(No symbol) [0x0021DCE3]\n",
      "\t(No symbol) [0x001B39D1]\n",
      "\t(No symbol) [0x000C4DA8]\n",
      "\t(No symbol) [0x000F019F]\n",
      "\t(No symbol) [0x000F03AB]\n",
      "\t(No symbol) [0x0011EE62]\n",
      "\t(No symbol) [0x0010AF14]\n",
      "\t(No symbol) [0x0011D57C]\n",
      "\t(No symbol) [0x0010ACC6]\n",
      "\t(No symbol) [0x000E6F68]\n",
      "\t(No symbol) [0x000E80CD]\n",
      "\tGetHandleVerifier [0x00493832+2506274]\n",
      "\tGetHandleVerifier [0x004C9794+2727300]\n",
      "\tGetHandleVerifier [0x004CE36C+2746716]\n",
      "\tGetHandleVerifier [0x002C6690+617600]\n",
      "\t(No symbol) [0x001BC712]\n",
      "\t(No symbol) [0x001C1FF8]\n",
      "\t(No symbol) [0x001C20DB]\n",
      "\t(No symbol) [0x001CC63B]\n",
      "\tBaseThreadInitThunk [0x754E00F9+25]\n",
      "\tRtlGetAppContainerNamedObjectPath [0x76F37BBE+286]\n",
      "\tRtlGetAppContainerNamedObjectPath [0x76F37B8E+238]\n",
      "\t(No symbol) [0x00000000]\n",
      "\n",
      "Message: no such element: Unable to locate element: {\"method\":\"xpath\",\"selector\":\"//*[@aria-label=\"Schedule Tweet\"]\"}\n",
      "  (Session info: chrome=111.0.5563.147)\n",
      "Stacktrace:\n",
      "Backtrace:\n",
      "\t(No symbol) [0x0021DCE3]\n",
      "\t(No symbol) [0x001B39D1]\n",
      "\t(No symbol) [0x000C4DA8]\n",
      "\t(No symbol) [0x000F019F]\n",
      "\t(No symbol) [0x000F03AB]\n",
      "\t(No symbol) [0x0011EE62]\n",
      "\t(No symbol) [0x0010AF14]\n",
      "\t(No symbol) [0x0011D57C]\n",
      "\t(No symbol) [0x0010ACC6]\n",
      "\t(No symbol) [0x000E6F68]\n",
      "\t(No symbol) [0x000E80CD]\n",
      "\tGetHandleVerifier [0x00493832+2506274]\n",
      "\tGetHandleVerifier [0x004C9794+2727300]\n",
      "\tGetHandleVerifier [0x004CE36C+2746716]\n",
      "\tGetHandleVerifier [0x002C6690+617600]\n",
      "\t(No symbol) [0x001BC712]\n",
      "\t(No symbol) [0x001C1FF8]\n",
      "\t(No symbol) [0x001C20DB]\n",
      "\t(No symbol) [0x001CC63B]\n",
      "\tBaseThreadInitThunk [0x754E00F9+25]\n",
      "\tRtlGetAppContainerNamedObjectPath [0x76F37BBE+286]\n",
      "\tRtlGetAppContainerNamedObjectPath [0x76F37B8E+238]\n",
      "\t(No symbol) [0x00000000]\n",
      "\n"
     ]
    }
   ],
   "source": [
    "import pyperclip\n",
    "from selenium.webdriver.common.keys import Keys\n",
    "\n",
    "for index, single_post in enumerate(data):\n",
    "    driver.get('https://twitter.com/home')\n",
    "    specific_clicker('//*[@aria-label=\"Schedule Tweet\"]')\n",
    "    for i in range(3):\n",
    "        specific_clicker2('//*[@aria-label=\"Schedule Tweet\"]')\n",
    "\n",
    "    time.sleep(2)\n",
    "\n",
    "    # SET POST MONTH: 2023-04-12 -> April\n",
    "    month_post = data[index]['post_date'].split('-')[1]\n",
    "    month_post = str(datetime.strptime(month_post, '%m').strftime('%B')).title()\n",
    "    driver.find_element(By.XPATH, f'//*[text()=\"{month_post}\"]').click()\n",
    "\n",
    "    # SET POST DAY: 2023-04-12 -> 12\n",
    "    day_post = data[index]['post_date'].split('-')[2]\n",
    "    driver.find_element(By.XPATH, f'//*[@id=\"SELECTOR_2\"]//*[text()=\"{day_post}\"]').click()\n",
    "\n",
    "    # SET POST YEAR: 2023-04-12 -> 2023\n",
    "    year_post = data[index]['post_date'].split('-')[0]\n",
    "    driver.find_element(By.XPATH, f'//*[@id=\"SELECTOR_3\"]//*[text()=\"{year_post}\"]').click()\n",
    "\n",
    "    time_post = data[index]['post_time']\n",
    "    hour_post = time_post.split(':')[0]\n",
    "    minute_post = str(time_post.split(':')[1].split(' ')[0])\n",
    "\n",
    "    # SET POST HOUR\n",
    "    driver.find_element(By.XPATH, f'//*[@id=\"SELECTOR_4\"]//*[text()=\"{hour_post}\"]').click()\n",
    "\n",
    "    # SET POST MINUTE\n",
    "    driver.find_element(By.XPATH, f'//*[@id=\"SELECTOR_5\"]//*[text()=\"{minute_post}\"]').click()\n",
    "\n",
    "    specific_clicker(\"//*[text()='Confirm']\")\n",
    "\n",
    "    while True:\n",
    "        try:\n",
    "            driver.find_element(By.XPATH, '//input[@data-testid=\"fileInput\"]').send_keys(\n",
    "                r'C:\\Users\\shahb\\PycharmProjects\\ClientsData\\SIA PROJECT\\download_files\\Quiz-Website.png')\n",
    "            break\n",
    "        except:\n",
    "            pass\n",
    "\n",
    "    pyperclip.copy('hello world')\n",
    "    driver.find_element(By.XPATH, '//div[@aria-label=\"Tweet text\"]').send_keys(Keys.CONTROL + 'v')\n",
    "    time.sleep(1)\n",
    "    specific_clicker(\"//*[text()='Schedule']\")\n",
    "    time.sleep(4)#%%\n",
    "import os\n",
    "import re\n",
    "import time\n",
    "from datetime import datetime\n",
    "from selenium import webdriver\n",
    "from selenium.webdriver.common.by import By\n",
    "from selenium.webdriver.common.desired_capabilities import DesiredCapabilities\n",
    "import datetime as dt\n",
    "import random\n",
    "import json\n",
    "import requests\n",
    "import undetected_chromedriver as uc\n",
    "\n",
    "\n",
    "# REQUIRED FUNCTIONS\n",
    "\n",
    "def get_file_data(file_name):\n",
    "    with open(file=file_name, mode=\"r\", encoding=\"utf-8\") as file:\n",
    "        data = file.read().strip().split(\"\\n\")\n",
    "    return data\n",
    "\n",
    "\n",
    "def find_element_send_text(ele, text, clear=True):\n",
    "    while True:\n",
    "        try:\n",
    "            input_field = driver.find_element(By.XPATH, ele)\n",
    "            if clear:\n",
    "                input_field.clear()\n",
    "            input_field.send_keys(text)\n",
    "\n",
    "            break\n",
    "        except:\n",
    "            time.sleep(0.1)\n",
    "\n",
    "\n",
    "def specific_clicker(ele):\n",
    "    while True:\n",
    "        try:\n",
    "            element = driver.find_element(By.XPATH, ele)\n",
    "            webdriver.ActionChains(driver).move_to_element_with_offset(element, 1, 0).click(element).perform()\n",
    "\n",
    "            break\n",
    "        except Exception as e:\n",
    "            print(e)\n",
    "            pass\n",
    "\n",
    "\n",
    "def specific_clicker2(ele):\n",
    "    try:\n",
    "        element = driver.find_element(By.XPATH, ele)\n",
    "        webdriver.ActionChains(driver).move_to_element_with_offset(element, 1, 0).click(element).perform()\n",
    "\n",
    "    except Exception as e:\n",
    "        print(e)\n",
    "        pass\n",
    "\n",
    "\n",
    "def drag_and_drop_file(drop_target, path):\n",
    "    \"\"\"\n",
    "    Drag and drop the provided file path onto the provided element target.\n",
    "\n",
    "\n",
    "    Parameters\n",
    "    ----------\n",
    "    drop_target : WebElement\n",
    "        The web element to drop the file at path on\n",
    "\n",
    "    path : str\n",
    "        The file path to drag onto the web element\n",
    "\n",
    "    Returns\n",
    "    -------\n",
    "    bool\n",
    "        Whether or not dragging the file was successful\n",
    "\n",
    "    \"\"\"\n",
    "\n",
    "    # https://stackoverflow.com/questions/43382447/python-with-selenium-drag-and-drop-from-file-system-to-webdriver\n",
    "    JS_DROP_FILE = \"\"\"\n",
    "            var target = arguments[0],\n",
    "                offsetX = arguments[1],\n",
    "                offsetY = arguments[2],\n",
    "                document = target.ownerDocument || document,\n",
    "                window = document.defaultView || window;\n",
    "\n",
    "            var input = document.createElement('INPUT');\n",
    "            input.type = 'file';\n",
    "            input.onchange = function () {\n",
    "              var rect = target.getBoundingClientRect(),\n",
    "                  x = rect.left + (offsetX || (rect.width >> 1)),\n",
    "                  y = rect.top + (offsetY || (rect.height >> 1)),\n",
    "                  dataTransfer = { files: this.files };\n",
    "\n",
    "              ['dragenter', 'dragover', 'drop'].forEach(function (name) {\n",
    "                var evt = document.createEvent('MouseEvent');\n",
    "                evt.initMouseEvent(name, !0, !0, window, 0, 0, 0, x, y, !1, !1, !1, !1, 0, null);\n",
    "                evt.dataTransfer = dataTransfer;\n",
    "                target.dispatchEvent(evt);\n",
    "              });\n",
    "\n",
    "              setTimeout(function () { document.body.removeChild(input); }, 25);\n",
    "            };\n",
    "            document.body.appendChild(input);\n",
    "            return input;\n",
    "        \"\"\"\n",
    "    try:\n",
    "\n",
    "        # BUG: requires double to register file upload\n",
    "        file_input = drop_target.parent.execute_script(JS_DROP_FILE, drop_target, 0, 0)\n",
    "        file_input.send_keys(path)\n",
    "        file_input = drop_target.parent.execute_script(JS_DROP_FILE, drop_target, 50, 50)\n",
    "        file_input.send_keys(path)\n",
    "\n",
    "        return True\n",
    "    except Exception as e:\n",
    "        print(e)\n",
    "\n",
    "    return False\n",
    "\n",
    "\n",
    "def close_chrome_app():\n",
    "    try:\n",
    "        os.system(\"taskkill /f /im chrome.exe\")\n",
    "    except:\n",
    "        pass\n"
   ],
   "metadata": {
    "collapsed": false,
    "ExecuteTime": {
     "start_time": "2023-04-01T19:43:46.545708Z",
     "end_time": "2023-04-01T19:44:07.485114Z"
    }
   }
  },
  {
   "cell_type": "code",
   "execution_count": 23,
   "outputs": [],
   "source": [
    "close_chrome_app()\n",
    "options = uc.ChromeOptions()\n",
    "path = os.path.join(os.getenv('LOCALAPPDATA'), 'Google', 'Chrome', 'User Data')\n",
    "options.add_argument(fr\"user-data-dir={path}\")\n",
    "options.add_argument(f'--profile-directory=Profile 1')\n",
    "options.add_argument(\"--disable-extensions\")\n",
    "options.add_argument(\"--disable-blink-features=AutomationControlled\")\n",
    "options.add_argument(\"--disable-gpu\")\n",
    "options.add_argument(\"--disable-infobars\")\n",
    "options.add_argument(\"--disable-notifications\")\n",
    "driver = uc.Chrome(options=options)\n",
    "driver.maximize_window()"
   ],
   "metadata": {
    "collapsed": false,
    "ExecuteTime": {
     "start_time": "2023-04-01T19:44:07.486111Z",
     "end_time": "2023-04-01T19:44:10.412482Z"
    }
   }
  },
  {
   "cell_type": "code",
   "execution_count": null,
   "outputs": [],
   "source": [
    "driver.get(\"https://twitter.com/\")"
   ],
   "metadata": {
    "collapsed": false
   }
  },
  {
   "cell_type": "code",
   "execution_count": null,
   "outputs": [],
   "source": [
    "time_post = '14:07'.split(':')\n",
    "if int(time_post[0]) > 12:\n",
    "    time_post[0] = str(int(time_post[0]) - 12)\n",
    "    time_post[1] = time_post[1] + ' PM'\n",
    "else:\n",
    "    time_post[1] = time_post[1] + ' AM'\n",
    "\n",
    "time_post = ':'.join(time_post)"
   ],
   "metadata": {
    "collapsed": false
   }
  },
  {
   "cell_type": "code",
   "execution_count": null,
   "outputs": [],
   "source": [
    "print(time_post)"
   ],
   "metadata": {
    "collapsed": false
   }
  },
  {
   "cell_type": "code",
   "execution_count": null,
   "outputs": [],
   "source": [
    "with open('schedules.json') as f:\n",
    "    config = json.load(f)['schedule_data']\n",
    "    data = [schedule for schedule in config if schedule['platform'] == 'twitter']\n",
    "\n",
    "print(\"Starting Chrome\")\n",
    "close_chrome_app()\n",
    "options = uc.ChromeOptions()\n",
    "path = os.path.join(os.getenv('LOCALAPPDATA'), 'Google', 'Chrome', 'User Data')\n",
    "options.add_argument(fr\"user-data-dir={path}\")\n",
    "options.add_argument(f'--profile-directory=Default')\n",
    "driver = uc.Chrome(options=options)\n",
    "driver.maximize_window()\n"
   ],
   "metadata": {
    "collapsed": false
   }
  },
  {
   "cell_type": "code",
   "execution_count": null,
   "outputs": [],
   "source": [
    "import pyperclip\n",
    "from selenium.webdriver.common.keys import Keys\n",
    "\n",
    "for index, single_post in enumerate(data):\n",
    "    driver.get('https://twitter.com/home')\n",
    "    specific_clicker('//*[@aria-label=\"Schedule Tweet\"]')\n",
    "    for i in range(3):\n",
    "        specific_clicker2('//*[@aria-label=\"Schedule Tweet\"]')\n",
    "\n",
    "    time.sleep(2)\n",
    "\n",
    "    # SET POST MONTH: 2023-04-12 -> April\n",
    "    month_post = data[index]['post_date'].split('-')[1]\n",
    "    month_post = str(datetime.strptime(month_post, '%m').strftime('%B')).title()\n",
    "    driver.find_element(By.XPATH, f'//*[text()=\"{month_post}\"]').click()\n",
    "\n",
    "    # SET POST DAY: 2023-04-12 -> 12\n",
    "    day_post = data[index]['post_date'].split('-')[2]\n",
    "    driver.find_element(By.XPATH, f'//*[@id=\"SELECTOR_2\"]//*[text()=\"{day_post}\"]').click()\n",
    "\n",
    "    # SET POST YEAR: 2023-04-12 -> 2023\n",
    "    year_post = data[index]['post_date'].split('-')[0]\n",
    "    driver.find_element(By.XPATH, f'//*[@id=\"SELECTOR_3\"]//*[text()=\"{year_post}\"]').click()\n",
    "\n",
    "    time_post = data[index]['post_time']\n",
    "    hour_post = time_post.split(':')[0]\n",
    "    minute_post = str(time_post.split(':')[1].split(' ')[0])\n",
    "\n",
    "    # SET POST HOUR\n",
    "    driver.find_element(By.XPATH, f'//*[@id=\"SELECTOR_4\"]//*[text()=\"{hour_post}\"]').click()\n",
    "\n",
    "    # SET POST MINUTE\n",
    "    driver.find_element(By.XPATH, f'//*[@id=\"SELECTOR_5\"]//*[text()=\"{minute_post}\"]').click()\n",
    "\n",
    "    specific_clicker(\"//*[text()='Confirm']\")\n",
    "\n",
    "    while True:\n",
    "        try:\n",
    "            driver.find_element(By.XPATH, '//input[@data-testid=\"fileInput\"]').send_keys(\n",
    "                r'C:\\Users\\shahb\\PycharmProjects\\ClientsData\\SIA PROJECT\\download_files\\Quiz-Website.png')\n",
    "            break\n",
    "        except:\n",
    "            pass\n",
    "\n",
    "    pyperclip.copy('hello world')\n",
    "    driver.find_element(By.XPATH, '//div[@aria-label=\"Tweet text\"]').send_keys(Keys.CONTROL + 'v')\n",
    "    time.sleep(1)\n",
    "    specific_clicker(\"//*[text()='Schedule']\")\n",
    "    time.sleep(4)\n",
    "\n",
    "\n"
   ],
   "metadata": {
    "collapsed": false
   }
  },
  {
   "cell_type": "markdown",
   "source": [],
   "metadata": {
    "collapsed": false
   }
  },
  {
   "cell_type": "code",
   "execution_count": null,
   "outputs": [],
   "source": [
    "\n"
   ],
   "metadata": {
    "collapsed": false
   }
  },
  {
   "cell_type": "code",
   "execution_count": null,
   "outputs": [],
   "source": [],
   "metadata": {
    "collapsed": false
   }
  },
  {
   "cell_type": "markdown",
   "source": [],
   "metadata": {
    "collapsed": false
   }
  },
  {
   "cell_type": "code",
   "execution_count": 19,
   "outputs": [],
   "source": [
    "\n"
   ],
   "metadata": {
    "collapsed": false,
    "ExecuteTime": {
     "start_time": "2023-04-01T19:37:49.209661Z",
     "end_time": "2023-04-01T19:37:49.350929Z"
    }
   }
  },
  {
   "cell_type": "code",
   "execution_count": null,
   "outputs": [],
   "source": [],
   "metadata": {
    "collapsed": false
   }
  }
 ],
 "metadata": {
  "kernelspec": {
   "display_name": "Python 3",
   "language": "python",
   "name": "python3"
  },
  "language_info": {
   "codemirror_mode": {
    "name": "ipython",
    "version": 2
   },
   "file_extension": ".py",
   "mimetype": "text/x-python",
   "name": "python",
   "nbconvert_exporter": "python",
   "pygments_lexer": "ipython2",
   "version": "2.7.6"
  }
 },
 "nbformat": 4,
 "nbformat_minor": 0
}
