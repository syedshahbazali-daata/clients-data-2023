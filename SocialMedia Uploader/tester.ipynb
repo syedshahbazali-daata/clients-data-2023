{
 "cells": [
  {
   "cell_type": "code",
   "execution_count": 1,
   "metadata": {
    "collapsed": true,
    "ExecuteTime": {
     "start_time": "2023-05-04T02:51:55.296078Z",
     "end_time": "2023-05-04T02:51:55.867387Z"
    }
   },
   "outputs": [],
   "source": [
    "import os\n",
    "import time, csv\n",
    "from datetime import datetime\n",
    "\n",
    "from selenium import webdriver\n",
    "from selenium.webdriver import ActionChains\n",
    "from selenium.webdriver.common.by import By\n",
    "import undetected_chromedriver as uc\n",
    "from selenium.webdriver.support.wait import WebDriverWait\n",
    "from selenium.webdriver.support import expected_conditions as EC\n",
    "\n",
    "\n",
    "########################################################################################################################\n",
    "# Functions\n",
    "\n",
    "def get_file_data(file_name):\n",
    "    with open(file_name, 'r', encoding='utf-8') as file:\n",
    "        data = file.read().strip().split('\\n')\n",
    "    return data\n",
    "\n",
    "\n",
    "def find_element_send_text(ele, text, clear=True):\n",
    "    while True:\n",
    "        try:\n",
    "            input_field = driver.find_element(By.XPATH, ele)\n",
    "            if clear:\n",
    "                input_field.clear()\n",
    "            input_field.send_keys(text)\n",
    "\n",
    "            break\n",
    "        except:\n",
    "            time.sleep(0.1)\n",
    "\n",
    "\n",
    "def specific_clicker(ele):\n",
    "    while True:\n",
    "        try:\n",
    "            element = driver.find_element(By.XPATH, ele)\n",
    "            webdriver.ActionChains(driver).move_to_element_with_offset(element, 1, 0).click(element).perform()\n",
    "\n",
    "            break\n",
    "        except Exception as e:\n",
    "            # print(e)\n",
    "            pass\n",
    "\n",
    "\n",
    "def specific_clicker2(ele):\n",
    "    try:\n",
    "        element = driver.find_element(By.XPATH, ele)\n",
    "        webdriver.ActionChains(driver).move_to_element_with_offset(element, 1, 0).click(element).perform()\n",
    "\n",
    "    except Exception as e:\n",
    "        # print(e)\n",
    "        pass\n",
    "\n",
    "\n",
    "def get_text(ele):\n",
    "    while True:\n",
    "        try:\n",
    "            element = driver.find_elements(By.XPATH, ele)\n",
    "            texts = [str(x.text) for x in element]\n",
    "            return texts\n",
    "        except Exception as e:\n",
    "            # print(e)\n",
    "            pass\n",
    "\n",
    "\n",
    "def close_chrome():\n",
    "    import os\n",
    "    try:\n",
    "        os.system(\"taskkill /im chrome.exe /f\")\n",
    "    except:\n",
    "        pass\n",
    "\n"
   ]
  },
  {
   "cell_type": "code",
   "execution_count": 20,
   "outputs": [],
   "source": [
    "close_chrome()\n",
    "options = uc.ChromeOptions()\n",
    "# path = r\"C:\\Users\\user\\AppData\\Local\\Google\\Chrome\\User Data\"\n",
    "# using os\n",
    "# path = os.path.join(os.environ['USERPROFILE'], 'AppData', 'Local', 'Google', 'Chrome', 'User Data')\n",
    "# options.add_argument(fr\"user-data-dir={path}\")\n",
    "# options.add_argument(f'--profile-directory=Profile 1')\n",
    "driver = uc.Chrome(options=options)\n",
    "driver.maximize_window()\n"
   ],
   "metadata": {
    "collapsed": false,
    "ExecuteTime": {
     "start_time": "2023-05-04T06:16:14.013356Z",
     "end_time": "2023-05-04T06:16:17.060734Z"
    }
   }
  },
  {
   "cell_type": "code",
   "execution_count": 8,
   "outputs": [],
   "source": [],
   "metadata": {
    "collapsed": false,
    "ExecuteTime": {
     "start_time": "2023-05-04T03:09:16.784700Z",
     "end_time": "2023-05-04T03:09:21.189606Z"
    }
   }
  },
  {
   "cell_type": "code",
   "execution_count": 27,
   "outputs": [],
   "source": [
    "# Scrape data\n",
    "rows= driver.find_elements(By.XPATH, '//tbody//tr[@role=\"row\"]')\n",
    "for index, row in enumerate(rows):\n",
    "    index_x = index + 1\n",
    "    xpath = f'(//tbody//tr[@role=\"row\"])[{index_x}]'\n",
    "\n",
    "    # urls\n",
    "    urls_x = row.find_elements(By.XPATH, f'{xpath}//a')\n",
    "    name = urls_x[0].text\n",
    "    urls = [x.get_attribute('href') for x in urls_x]\n",
    "\n",
    "    email = \"\"\n",
    "    for i in urls:\n",
    "        if \"mailto:\" in i:\n",
    "            email = i.replace(\"mailto:\", \"\")\n",
    "            break\n",
    "    phone = \"\"\n",
    "    for i in urls:\n",
    "        if \"tel\" in i:\n",
    "            phone = i.replace(\"tel:\", \"\")\n",
    "            break\n",
    "\n",
    "    website = \"\"\n",
    "\n",
    "    for i in urls:\n",
    "        if \"http\" in i:\n",
    "            website = i\n",
    "\n",
    "            break\n",
    "\n",
    "    try:\n",
    "        address = row.find_element(By.XPATH, f'{xpath}//address').text\n",
    "    except:\n",
    "        address = \"\"\n",
    "\n",
    "    extra = driver.find_element(By.XPATH, f'{xpath}//td[2]').text\n",
    "\n",
    "    record = [name, email, phone, website, \"\",\"\", \"https://tc.canada.ca/en/aviation/drone-safety/drone-pilot-licensing/find-drone-flight-school\", address]\n",
    "\n",
    "    # replace \\n with space and strip\n",
    "    record = [str(i).replace(\"\\n\", \" \").strip() for i in record]\n",
    "    with open(\"tc_canada.csv\", \"a\", newline=\"\", encoding=\"utf-8\") as f:\n",
    "        csv.writer(f).writerow(record)\n",
    "\n",
    "\n",
    "\n",
    "\n",
    "\n",
    "\n",
    "\n",
    "\n",
    "\n"
   ],
   "metadata": {
    "collapsed": false
   }
  },
  {
   "cell_type": "code",
   "execution_count": 13,
   "outputs": [],
   "source": [
    "# INSTAGRAM UPLOADER"
   ],
   "metadata": {
    "collapsed": false,
    "ExecuteTime": {
     "start_time": "2023-05-04T03:32:08.090449Z",
     "end_time": "2023-05-04T03:32:12.057589Z"
    }
   }
  },
  {
   "cell_type": "code",
   "execution_count": 15,
   "outputs": [],
   "source": [],
   "metadata": {
    "collapsed": false,
    "ExecuteTime": {
     "start_time": "2023-05-04T03:33:40.044445Z",
     "end_time": "2023-05-04T03:33:40.133729Z"
    }
   }
  },
  {
   "cell_type": "markdown",
   "source": [],
   "metadata": {
    "collapsed": false
   }
  },
  {
   "cell_type": "code",
   "execution_count": 18,
   "outputs": [],
   "source": [],
   "metadata": {
    "collapsed": false,
    "ExecuteTime": {
     "start_time": "2023-05-04T03:36:06.927999Z",
     "end_time": "2023-05-04T03:36:08.968075Z"
    }
   }
  },
  {
   "cell_type": "code",
   "execution_count": null,
   "outputs": [
    {
     "name": "stderr",
     "output_type": "stream",
     "text": [
      "\n",
      "KeyboardInterrupt\n",
      "\n"
     ]
    }
   ],
   "source": [],
   "metadata": {
    "collapsed": false,
    "ExecuteTime": {
     "start_time": "2023-05-04T03:35:05.387244Z",
     "end_time": "2023-05-04T03:35:07.075295Z"
    },
    "pycharm": {
     "is_executing": true
    }
   }
  },
  {
   "cell_type": "code",
   "execution_count": null,
   "outputs": [],
   "source": [],
   "metadata": {
    "collapsed": false
   }
  }
 ],
 "metadata": {
  "kernelspec": {
   "display_name": "Python 3",
   "language": "python",
   "name": "python3"
  },
  "language_info": {
   "codemirror_mode": {
    "name": "ipython",
    "version": 2
   },
   "file_extension": ".py",
   "mimetype": "text/x-python",
   "name": "python",
   "nbconvert_exporter": "python",
   "pygments_lexer": "ipython2",
   "version": "2.7.6"
  }
 },
 "nbformat": 4,
 "nbformat_minor": 0
}
