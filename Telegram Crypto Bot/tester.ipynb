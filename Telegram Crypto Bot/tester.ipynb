{
 "cells": [
  {
   "cell_type": "code",
   "execution_count": 1,
   "metadata": {
    "collapsed": true
   },
   "outputs": [
    {
     "ename": "BinanceAPIException",
     "evalue": "APIError(code=-1106): Parameter 'stopPrice' sent when not required.",
     "output_type": "error",
     "traceback": [
      "\u001B[1;31m---------------------------------------------------------------------------\u001B[0m",
      "\u001B[1;31mBinanceAPIException\u001B[0m                       Traceback (most recent call last)",
      "Cell \u001B[1;32mIn[1], line 20\u001B[0m\n\u001B[0;32m     17\u001B[0m take_profit \u001B[38;5;241m=\u001B[39m \u001B[38;5;241m0.26979\u001B[39m  \u001B[38;5;66;03m# 40% of profit\u001B[39;00m\n\u001B[0;32m     19\u001B[0m \u001B[38;5;66;03m# create future order\u001B[39;00m\n\u001B[1;32m---> 20\u001B[0m order \u001B[38;5;241m=\u001B[39m \u001B[43mclient\u001B[49m\u001B[38;5;241;43m.\u001B[39;49m\u001B[43mfutures_create_order\u001B[49m\u001B[43m(\u001B[49m\n\u001B[0;32m     21\u001B[0m \u001B[43m    \u001B[49m\u001B[43msymbol\u001B[49m\u001B[38;5;241;43m=\u001B[39;49m\u001B[43msymbol\u001B[49m\u001B[43m,\u001B[49m\n\u001B[0;32m     22\u001B[0m \u001B[43m    \u001B[49m\u001B[43mside\u001B[49m\u001B[38;5;241;43m=\u001B[39;49m\u001B[43mClient\u001B[49m\u001B[38;5;241;43m.\u001B[39;49m\u001B[43mSIDE_BUY\u001B[49m\u001B[43m,\u001B[49m\n\u001B[0;32m     23\u001B[0m \u001B[43m    \u001B[49m\u001B[38;5;28;43mtype\u001B[39;49m\u001B[38;5;241;43m=\u001B[39;49m\u001B[43mClient\u001B[49m\u001B[38;5;241;43m.\u001B[39;49m\u001B[43mORDER_TYPE_LIMIT\u001B[49m\u001B[43m,\u001B[49m\n\u001B[0;32m     24\u001B[0m \u001B[43m    \u001B[49m\u001B[43mtimeInForce\u001B[49m\u001B[38;5;241;43m=\u001B[39;49m\u001B[43mClient\u001B[49m\u001B[38;5;241;43m.\u001B[39;49m\u001B[43mTIME_IN_FORCE_GTC\u001B[49m\u001B[43m,\u001B[49m\n\u001B[0;32m     25\u001B[0m \u001B[43m    \u001B[49m\u001B[43mquantity\u001B[49m\u001B[38;5;241;43m=\u001B[39;49m\u001B[43mquantity\u001B[49m\u001B[43m,\u001B[49m\n\u001B[0;32m     26\u001B[0m \u001B[43m    \u001B[49m\u001B[43mprice\u001B[49m\u001B[38;5;241;43m=\u001B[39;49m\u001B[43mentry_price\u001B[49m\u001B[43m,\u001B[49m\n\u001B[0;32m     27\u001B[0m \u001B[43m    \u001B[49m\u001B[43mreduceOnly\u001B[49m\u001B[38;5;241;43m=\u001B[39;49m\u001B[38;5;28;43;01mFalse\u001B[39;49;00m\u001B[43m,\u001B[49m\n\u001B[0;32m     28\u001B[0m \u001B[43m    \u001B[49m\u001B[43mstopPrice\u001B[49m\u001B[38;5;241;43m=\u001B[39;49m\u001B[43mstop_loss\u001B[49m\u001B[43m,\u001B[49m\n\u001B[0;32m     29\u001B[0m \u001B[43m    \u001B[49m\u001B[43mclosePosition\u001B[49m\u001B[38;5;241;43m=\u001B[39;49m\u001B[38;5;28;43;01mFalse\u001B[39;49;00m\u001B[43m,\u001B[49m\n\u001B[0;32m     30\u001B[0m \u001B[43m    \u001B[49m\u001B[43mtakeProfitPrice\u001B[49m\u001B[38;5;241;43m=\u001B[39;49m\u001B[43mtake_profit\u001B[49m\n\u001B[0;32m     31\u001B[0m \u001B[43m)\u001B[49m\n\u001B[0;32m     33\u001B[0m \u001B[38;5;66;03m# print order confirmation\u001B[39;00m\n\u001B[0;32m     34\u001B[0m \u001B[38;5;28mprint\u001B[39m(\u001B[38;5;124m'\u001B[39m\u001B[38;5;124mOrder created:\u001B[39m\u001B[38;5;124m'\u001B[39m)\n",
      "File \u001B[1;32m~\\AppData\\Local\\Programs\\Python\\Python311\\Lib\\site-packages\\binance\\client.py:6209\u001B[0m, in \u001B[0;36mClient.futures_create_order\u001B[1;34m(self, **params)\u001B[0m\n\u001B[0;32m   6203\u001B[0m \u001B[38;5;28;01mdef\u001B[39;00m \u001B[38;5;21mfutures_create_order\u001B[39m(\u001B[38;5;28mself\u001B[39m, \u001B[38;5;241m*\u001B[39m\u001B[38;5;241m*\u001B[39mparams):\n\u001B[0;32m   6204\u001B[0m \u001B[38;5;250m    \u001B[39m\u001B[38;5;124;03m\"\"\"Send in a new order.\u001B[39;00m\n\u001B[0;32m   6205\u001B[0m \n\u001B[0;32m   6206\u001B[0m \u001B[38;5;124;03m    https://binance-docs.github.io/apidocs/futures/en/#new-order-trade\u001B[39;00m\n\u001B[0;32m   6207\u001B[0m \n\u001B[0;32m   6208\u001B[0m \u001B[38;5;124;03m    \"\"\"\u001B[39;00m\n\u001B[1;32m-> 6209\u001B[0m     \u001B[38;5;28;01mreturn\u001B[39;00m \u001B[38;5;28;43mself\u001B[39;49m\u001B[38;5;241;43m.\u001B[39;49m\u001B[43m_request_futures_api\u001B[49m\u001B[43m(\u001B[49m\u001B[38;5;124;43m'\u001B[39;49m\u001B[38;5;124;43mpost\u001B[39;49m\u001B[38;5;124;43m'\u001B[39;49m\u001B[43m,\u001B[49m\u001B[43m \u001B[49m\u001B[38;5;124;43m'\u001B[39;49m\u001B[38;5;124;43morder\u001B[39;49m\u001B[38;5;124;43m'\u001B[39;49m\u001B[43m,\u001B[49m\u001B[43m \u001B[49m\u001B[38;5;28;43;01mTrue\u001B[39;49;00m\u001B[43m,\u001B[49m\u001B[43m \u001B[49m\u001B[43mdata\u001B[49m\u001B[38;5;241;43m=\u001B[39;49m\u001B[43mparams\u001B[49m\u001B[43m)\u001B[49m\n",
      "File \u001B[1;32m~\\AppData\\Local\\Programs\\Python\\Python311\\Lib\\site-packages\\binance\\client.py:382\u001B[0m, in \u001B[0;36mClient._request_futures_api\u001B[1;34m(self, method, path, signed, **kwargs)\u001B[0m\n\u001B[0;32m    379\u001B[0m \u001B[38;5;28;01mdef\u001B[39;00m \u001B[38;5;21m_request_futures_api\u001B[39m(\u001B[38;5;28mself\u001B[39m, method, path, signed\u001B[38;5;241m=\u001B[39m\u001B[38;5;28;01mFalse\u001B[39;00m, \u001B[38;5;241m*\u001B[39m\u001B[38;5;241m*\u001B[39mkwargs) \u001B[38;5;241m-\u001B[39m\u001B[38;5;241m>\u001B[39m Dict:\n\u001B[0;32m    380\u001B[0m     uri \u001B[38;5;241m=\u001B[39m \u001B[38;5;28mself\u001B[39m\u001B[38;5;241m.\u001B[39m_create_futures_api_uri(path)\n\u001B[1;32m--> 382\u001B[0m     \u001B[38;5;28;01mreturn\u001B[39;00m \u001B[38;5;28;43mself\u001B[39;49m\u001B[38;5;241;43m.\u001B[39;49m\u001B[43m_request\u001B[49m\u001B[43m(\u001B[49m\u001B[43mmethod\u001B[49m\u001B[43m,\u001B[49m\u001B[43m \u001B[49m\u001B[43muri\u001B[49m\u001B[43m,\u001B[49m\u001B[43m \u001B[49m\u001B[43msigned\u001B[49m\u001B[43m,\u001B[49m\u001B[43m \u001B[49m\u001B[38;5;28;43;01mTrue\u001B[39;49;00m\u001B[43m,\u001B[49m\u001B[43m \u001B[49m\u001B[38;5;241;43m*\u001B[39;49m\u001B[38;5;241;43m*\u001B[39;49m\u001B[43mkwargs\u001B[49m\u001B[43m)\u001B[49m\n",
      "File \u001B[1;32m~\\AppData\\Local\\Programs\\Python\\Python311\\Lib\\site-packages\\binance\\client.py:358\u001B[0m, in \u001B[0;36mClient._request\u001B[1;34m(self, method, uri, signed, force_params, **kwargs)\u001B[0m\n\u001B[0;32m    355\u001B[0m kwargs \u001B[38;5;241m=\u001B[39m \u001B[38;5;28mself\u001B[39m\u001B[38;5;241m.\u001B[39m_get_request_kwargs(method, signed, force_params, \u001B[38;5;241m*\u001B[39m\u001B[38;5;241m*\u001B[39mkwargs)\n\u001B[0;32m    357\u001B[0m \u001B[38;5;28mself\u001B[39m\u001B[38;5;241m.\u001B[39mresponse \u001B[38;5;241m=\u001B[39m \u001B[38;5;28mgetattr\u001B[39m(\u001B[38;5;28mself\u001B[39m\u001B[38;5;241m.\u001B[39msession, method)(uri, \u001B[38;5;241m*\u001B[39m\u001B[38;5;241m*\u001B[39mkwargs)\n\u001B[1;32m--> 358\u001B[0m \u001B[38;5;28;01mreturn\u001B[39;00m \u001B[38;5;28;43mself\u001B[39;49m\u001B[38;5;241;43m.\u001B[39;49m\u001B[43m_handle_response\u001B[49m\u001B[43m(\u001B[49m\u001B[38;5;28;43mself\u001B[39;49m\u001B[38;5;241;43m.\u001B[39;49m\u001B[43mresponse\u001B[49m\u001B[43m)\u001B[49m\n",
      "File \u001B[1;32m~\\AppData\\Local\\Programs\\Python\\Python311\\Lib\\site-packages\\binance\\client.py:367\u001B[0m, in \u001B[0;36mClient._handle_response\u001B[1;34m(response)\u001B[0m\n\u001B[0;32m    362\u001B[0m \u001B[38;5;250m\u001B[39m\u001B[38;5;124;03m\"\"\"Internal helper for handling API responses from the Binance server.\u001B[39;00m\n\u001B[0;32m    363\u001B[0m \u001B[38;5;124;03mRaises the appropriate exceptions when necessary; otherwise, returns the\u001B[39;00m\n\u001B[0;32m    364\u001B[0m \u001B[38;5;124;03mresponse.\u001B[39;00m\n\u001B[0;32m    365\u001B[0m \u001B[38;5;124;03m\"\"\"\u001B[39;00m\n\u001B[0;32m    366\u001B[0m \u001B[38;5;28;01mif\u001B[39;00m \u001B[38;5;129;01mnot\u001B[39;00m (\u001B[38;5;241m200\u001B[39m \u001B[38;5;241m<\u001B[39m\u001B[38;5;241m=\u001B[39m response\u001B[38;5;241m.\u001B[39mstatus_code \u001B[38;5;241m<\u001B[39m \u001B[38;5;241m300\u001B[39m):\n\u001B[1;32m--> 367\u001B[0m     \u001B[38;5;28;01mraise\u001B[39;00m BinanceAPIException(response, response\u001B[38;5;241m.\u001B[39mstatus_code, response\u001B[38;5;241m.\u001B[39mtext)\n\u001B[0;32m    368\u001B[0m \u001B[38;5;28;01mtry\u001B[39;00m:\n\u001B[0;32m    369\u001B[0m     \u001B[38;5;28;01mreturn\u001B[39;00m response\u001B[38;5;241m.\u001B[39mjson()\n",
      "\u001B[1;31mBinanceAPIException\u001B[0m: APIError(code=-1106): Parameter 'stopPrice' sent when not required."
     ]
    }
   ],
   "source": [
    "import binance\n",
    "from binance.client import Client\n",
    "import time\n",
    "\n",
    "# set up Binance API credentials\n",
    "api_key = 'AXfVzZojq6e4CHcGMefgX2VukvjMOx00EY9jNKzGPXWTaOWhK2WsVOn9OBXE4HAU'\n",
    "api_secret = '6DZBbwuMobc53u4ljYdb5sepmmOpDtyFuigyIIuXJTkOmtxrlJLSNjraQ0k7x3pI'\n",
    "\n",
    "# set up client\n",
    "client = Client(api_key, api_secret)\n",
    "\n",
    "# set up trading parameters\n",
    "symbol = 'KLAYUSDT'\n",
    "quantity = 10  # quantity of KLAYUSDT to buy\n",
    "entry_price = 0.26450\n",
    "stop_loss = 0.24768  # 7% below entry price\n",
    "take_profit = 0.26979  # 40% of profit\n",
    "\n",
    "# create future order\n",
    "order = client.futures_create_order(\n",
    "    symbol=symbol,\n",
    "    side=Client.SIDE_BUY,\n",
    "    type=Client.ORDER_TYPE_LIMIT,\n",
    "    timeInForce=Client.TIME_IN_FORCE_GTC,\n",
    "    quantity=quantity,\n",
    "    price=entry_price,\n",
    "    reduceOnly=False,\n",
    "    stopPrice=stop_loss,\n",
    "    closePosition=False,\n",
    "    takeProfitPrice=take_profit\n",
    ")\n",
    "\n",
    "# print order confirmation\n",
    "print('Order created:')\n",
    "print(order)\n"
   ]
  },
  {
   "cell_type": "code",
   "execution_count": null,
   "outputs": [],
   "source": [],
   "metadata": {
    "collapsed": false
   }
  }
 ],
 "metadata": {
  "kernelspec": {
   "display_name": "Python 3",
   "language": "python",
   "name": "python3"
  },
  "language_info": {
   "codemirror_mode": {
    "name": "ipython",
    "version": 2
   },
   "file_extension": ".py",
   "mimetype": "text/x-python",
   "name": "python",
   "nbconvert_exporter": "python",
   "pygments_lexer": "ipython2",
   "version": "2.7.6"
  }
 },
 "nbformat": 4,
 "nbformat_minor": 0
}
