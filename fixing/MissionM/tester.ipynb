{
 "cells": [
  {
   "cell_type": "code",
   "execution_count": 17,
   "metadata": {
    "collapsed": true,
    "ExecuteTime": {
     "start_time": "2023-04-21T03:34:20.087542Z",
     "end_time": "2023-04-21T03:34:20.092527Z"
    }
   },
   "outputs": [],
   "source": [
    "import pandas as pd"
   ]
  },
  {
   "cell_type": "code",
   "execution_count": 5,
   "outputs": [],
   "source": [
    "df = pd.read_csv('MissionM .csv')"
   ],
   "metadata": {
    "collapsed": false,
    "ExecuteTime": {
     "start_time": "2023-04-21T03:14:36.887899Z",
     "end_time": "2023-04-21T03:14:36.932780Z"
    }
   }
  },
  {
   "cell_type": "code",
   "execution_count": 5,
   "outputs": [],
   "source": [],
   "metadata": {
    "collapsed": false,
    "ExecuteTime": {
     "start_time": "2023-04-21T03:14:37.379682Z",
     "end_time": "2023-04-21T03:14:37.400021Z"
    }
   }
  },
  {
   "cell_type": "code",
   "execution_count": 7,
   "outputs": [],
   "source": [
    "# April 15th, 2023 and April 17th, 2023\n",
    "\n",
    "# -> check which Program is available on  April 15th, 2023 and April 17th, 2023 dates but not on April 17th, 2023\n",
    "\n",
    "df['Date'] = pd.to_datetime(df['Date'])"
   ],
   "metadata": {
    "collapsed": false,
    "ExecuteTime": {
     "start_time": "2023-04-21T03:14:44.704089Z",
     "end_time": "2023-04-21T03:14:44.738629Z"
    }
   }
  },
  {
   "cell_type": "code",
   "execution_count": 8,
   "outputs": [
    {
     "name": "stdout",
     "output_type": "stream",
     "text": [
      "          Date             Slot                                          Faculty                             Department                                     Program Semester Course Code\n",
      "0   2023-04-15  09:00am-10:00am  Faculty of Management & Administration Sciences  Department of Business Administration           Master of Buisness Administration      4TH     MKT7006\n",
      "1   2023-04-15  09:00am-10:00am  Faculty of Management & Administration Sciences  Department of Business Administration                                     MBA 3.5     10TH     MGT3022\n",
      "2   2023-04-15  09:00am-10:00am  Faculty of Management & Administration Sciences  Department of Business Administration   Bachelor of Business Administration (BBA)      8TH     MKT3005\n",
      "3   2023-04-15  09:00am-10:00am  Faculty of Management & Administration Sciences  Department of Business Administration   Bachelor of Business Administration (BBA)      9TH     MGT3027\n",
      "4   2023-04-15  09:00am-10:00am  Faculty of Management & Administration Sciences  Department of Business Administration   Bachelor of Business Administration (BBA)      7TH     MKT3005\n",
      "5   2023-04-15  09:00am-10:00am  Faculty of Management & Administration Sciences                               Commerce                     BS Accounting & Finance      6TH     MGT3022\n",
      "6   2023-04-15  09:00am-10:00am  Faculty of Management & Administration Sciences                               Commerce                     BS Accounting & Finance      6TH    COMM4005\n",
      "7   2023-04-15  09:00am-10:00am  Faculty of Management & Administration Sciences                               Commerce                     BS Accounting & Finance      5TH     MGT3027\n",
      "8   2023-04-15  09:00am-10:00am  Faculty of Management & Administration Sciences                               Commerce  ADP International Marketing and E-Commerce      4TH     MKT3060\n",
      "9   2023-04-15  09:00am-10:00am  Faculty of Management & Administration Sciences                              Economics                                BS Economics      6TH     ECO3008\n",
      "10  2023-04-15  09:00am-10:00am          Faculty of Humanities & Social Sciences                          Urdu Language                                     BS Urdu      4TH    URDU2042\n",
      "11  2023-04-15  09:00am-10:00am          Faculty of Humanities & Social Sciences                          Urdu Language                                    ADP-Urdu      4TH    URDU2042\n",
      "12  2023-04-15  09:00am-10:00am          Faculty of Humanities & Social Sciences                             Psychology                      BS Clinical Psychology      8TH     PSY4008\n",
      "13  2023-04-15  09:00am-10:00am          Faculty of Humanities & Social Sciences                             Psychology                      BS Clinical Psychology     10TH     PSY3004\n",
      "14  2023-04-15  09:00am-10:00am          Faculty of Humanities & Social Sciences                             Psychology                      BS Clinical Psychology      6TH    CPSY4008\n",
      "15  2023-04-15  09:00am-10:00am          Faculty of Humanities & Social Sciences                             Psychology                      BS Clinical Psychology      5TH    CPSY3012\n",
      "16  2023-04-15  09:00am-10:00am          Faculty of Humanities & Social Sciences                             Psychology                      BS Clinical Psychology      4TH     PSY3006\n",
      "17  2023-04-15  09:00am-10:00am          Faculty of Humanities & Social Sciences                             Psychology                      BS Clinical Psychology      4TH    CPSY3018\n",
      "18  2023-04-15  09:00am-10:00am          Faculty of Humanities & Social Sciences                             Psychology                      BS Clinical Psychology      3RD    CPSY2001\n",
      "19  2023-04-15  09:00am-10:00am          Faculty of Humanities & Social Sciences                             Psychology                    MSc. Clinical Psychology      4TH     PSY4008\n",
      "20  2023-04-15  09:00am-10:00am          Faculty of Humanities & Social Sciences                             Psychology                    MSc. Clinical Psychology      3RD    CPSY3018\n",
      "21  2023-04-15  09:00am-10:00am          Faculty of Humanities & Social Sciences                     Mass Communication                       BS Mass Communication      8TH     MEM3004\n",
      "22  2023-04-15  09:00am-10:00am          Faculty of Humanities & Social Sciences                     Mass Communication                     MSc. Mass Communication      4TH     MEM3004\n",
      "23  2023-04-15  09:00am-10:00am          Faculty of Humanities & Social Sciences                     Mass Communication                  BS-Media and Communication      4TH     MCM3110\n",
      "24  2023-04-15  09:00am-10:00am          Faculty of Humanities & Social Sciences                International Relations                  BS International Relations      8TH      IR4010\n",
      "25  2023-04-15  09:00am-10:00am          Faculty of Humanities & Social Sciences                International Relations                  BS International Relations      7TH      IR4001\n",
      "26  2023-04-15  09:00am-10:00am          Faculty of Humanities & Social Sciences                International Relations                  BS International Relations      6TH      IR3012\n",
      "27  2023-04-15  09:00am-10:00am          Faculty of Humanities & Social Sciences                International Relations                  BS International Relations      4TH      IR3020\n",
      "28  2023-04-15  09:00am-10:00am          Faculty of Humanities & Social Sciences                       English Language                                M.A. English      4TH     LIN4043\n",
      "29  2023-04-15  09:00am-10:00am          Faculty of Humanities & Social Sciences                       English Language                                M.A. English      3RD     LIT4031\n",
      "30  2023-04-15  09:00am-10:00am          Faculty of Humanities & Social Sciences                       English Language                                M.A. English      3RD     LIN4043\n",
      "31  2023-04-15  09:00am-10:00am          Faculty of Humanities & Social Sciences                       English Language                                  BS English      8TH     LIN4043\n",
      "32  2023-04-15  09:00am-10:00am          Faculty of Humanities & Social Sciences                       English Language                                  BS English      9TH     PSY1050\n",
      "33  2023-04-15  09:00am-10:00am          Faculty of Humanities & Social Sciences                       English Language                                  BS English      7TH     LIN4043\n",
      "34  2023-04-15  09:00am-10:00am          Faculty of Humanities & Social Sciences                       English Language                                  BS English      7TH     LIT4031\n",
      "35  2023-04-15  09:00am-10:00am          Faculty of Humanities & Social Sciences                       English Language                                  BS English      6TH     ENG3063\n",
      "36  2023-04-15  09:00am-10:00am          Faculty of Humanities & Social Sciences                       English Language                                  BS English      5TH     ENG3063\n",
      "37  2023-04-17  09:00am-10:00am          Faculty of Humanities & Social Sciences                             Psychology                      BS Clinical Psychology      5TH    CPSY3010\n",
      "38  2023-04-17  09:00am-10:00am  Faculty of Management & Administration Sciences  Department of Business Administration                        ADP Business Studies      4TH     MGT2040\n",
      "39  2023-04-17  09:00am-10:00am  Faculty of Management & Administration Sciences  Department of Business Administration                        ADP Business Studies      3RD     SOC1001\n",
      "40  2023-04-17  09:00am-10:00am  Faculty of Management & Administration Sciences  Department of Business Administration           Master of Buisness Administration      4TH     FIN5011\n",
      "41  2023-04-17  09:00am-10:00am  Faculty of Management & Administration Sciences  Department of Business Administration           Master of Buisness Administration      4TH     HRM7005\n",
      "42  2023-04-17  09:00am-10:00am  Faculty of Management & Administration Sciences  Department of Business Administration           Master of Buisness Administration      3RD     HRM7005\n",
      "43  2023-04-17  09:00am-10:00am  Faculty of Management & Administration Sciences  Department of Business Administration           Master of Buisness Administration      3RD     FIN5011\n",
      "44  2023-04-17  09:00am-10:00am  Faculty of Management & Administration Sciences  Department of Business Administration                                     MBA 3.5     10TH     FIN5011\n",
      "45  2023-04-17  09:00am-10:00am  Faculty of Management & Administration Sciences  Department of Business Administration   Bachelor of Business Administration (BBA)      8TH     FIN5011\n",
      "46  2023-04-17  09:00am-10:00am  Faculty of Management & Administration Sciences  Department of Business Administration   Bachelor of Business Administration (BBA)      9TH     FIN5004\n",
      "47  2023-04-17  09:00am-10:00am  Faculty of Management & Administration Sciences  Department of Business Administration   Bachelor of Business Administration (BBA)      7TH     FIN5011\n",
      "48  2023-04-17  09:00am-10:00am  Faculty of Management & Administration Sciences  Department of Business Administration   Bachelor of Business Administration (BBA)      6TH    COMM2008\n",
      "49  2023-04-17  09:00am-10:00am  Faculty of Management & Administration Sciences  Department of Business Administration   Bachelor of Business Administration (BBA)      6TH    COMM2008\n",
      "50  2023-04-17  09:00am-10:00am  Faculty of Management & Administration Sciences  Department of Business Administration   Bachelor of Business Administration (BBA)      5TH     MGT3003\n",
      "51  2023-04-17  09:00am-10:00am  Faculty of Management & Administration Sciences  Department of Business Administration   Bachelor of Business Administration (BBA)      4TH     MGT2040\n",
      "52  2023-04-17  09:00am-10:00am  Faculty of Management & Administration Sciences  Department of Business Administration   Bachelor of Business Administration (BBA)      3RD     SOC1001\n",
      "53  2023-04-17  09:00am-10:00am  Faculty of Management & Administration Sciences                               Commerce                    ADP Accounting & Finance      4TH     SOC1001\n",
      "54  2023-04-17  09:00am-10:00am  Faculty of Management & Administration Sciences                               Commerce                     BS Accounting & Finance      6TH     MGT3035\n",
      "55  2023-04-17  09:00am-10:00am  Faculty of Management & Administration Sciences                               Commerce                     BS Accounting & Finance      4TH     SOC1001\n",
      "56  2023-04-17  09:00am-10:00am  Faculty of Management & Administration Sciences                               Commerce                     BS Accounting & Finance      3RD     MGT2015\n",
      "57  2023-04-17  09:00am-10:00am  Faculty of Management & Administration Sciences                               Commerce                               M.Com 2 Years      3RD     FIN5011\n",
      "58  2023-04-17  09:00am-10:00am  Faculty of Management & Administration Sciences                               Commerce  ADP International Marketing and E-Commerce      3RD     MGT2015\n",
      "59  2023-04-17  09:00am-10:00am  Faculty of Management & Administration Sciences      Department of Aviation Management                      BS Aviation Management      8TH    AMGT4004\n",
      "60  2023-04-17  09:00am-10:00am  Faculty of Management & Administration Sciences      Department of Aviation Management                      BS Aviation Management     10TH    AMGT2003\n",
      "61  2023-04-17  09:00am-10:00am  Faculty of Management & Administration Sciences                              Economics                                BS Economics      8TH     ECO4006\n",
      "62  2023-04-17  09:00am-10:00am  Faculty of Management & Administration Sciences                              Economics                                BS Economics      6TH     ECO3009\n",
      "63  2023-04-17  09:00am-10:00am          Faculty of Humanities & Social Sciences                          Urdu Language                                     BS Urdu      4TH    URDU3020\n",
      "64  2023-04-17  09:00am-10:00am          Faculty of Humanities & Social Sciences                          Urdu Language                                    ADP-Urdu      4TH    URDU3020\n",
      "65  2023-04-17  09:00am-10:00am          Faculty of Humanities & Social Sciences                             Psychology                      BS Clinical Psychology      8TH     PSY4007\n",
      "66  2023-04-17  09:00am-10:00am          Faculty of Humanities & Social Sciences                             Psychology                      BS Clinical Psychology      6TH    CPSY4014\n",
      "67  2023-04-17  09:00am-10:00am          Faculty of Humanities & Social Sciences                             Psychology                    MSc. Clinical Psychology      4TH     PSY4007\n",
      "68  2023-04-17  09:00am-10:00am          Faculty of Humanities & Social Sciences                     Mass Communication                       BS Mass Communication      7TH     MEM3001\n",
      "69  2023-04-17  09:00am-10:00am          Faculty of Humanities & Social Sciences                     Mass Communication                       BS Mass Communication      6TH     GEO1004\n",
      "70  2023-04-17  09:00am-10:00am          Faculty of Humanities & Social Sciences                     Mass Communication                  BS-Media and Communication      4TH     MCM2004\n",
      "71  2023-04-17  09:00am-10:00am          Faculty of Humanities & Social Sciences                International Relations                  BS International Relations      8TH      IR4008\n",
      "72  2023-04-17  09:00am-10:00am          Faculty of Humanities & Social Sciences                International Relations                  BS International Relations      7TH      IR4002\n",
      "73  2023-04-17  09:00am-10:00am          Faculty of Humanities & Social Sciences                International Relations                  BS International Relations      6TH      IR4007\n",
      "74  2023-04-17  09:00am-10:00am          Faculty of Humanities & Social Sciences                       English Language                                 ADP English      4TH     ENG2045\n",
      "75  2023-04-17  09:00am-10:00am          Faculty of Humanities & Social Sciences                       English Language                                 ADP English      3RD     ENG2045\n",
      "76  2023-04-17  09:00am-10:00am          Faculty of Humanities & Social Sciences                       English Language                                M.A. English      4TH     LIN4041\n",
      "77  2023-04-17  09:00am-10:00am          Faculty of Humanities & Social Sciences                       English Language                                M.A. English      3RD     LIN4041\n",
      "78  2023-04-17  09:00am-10:00am          Faculty of Humanities & Social Sciences                       English Language                                  BS English      8TH     LIN4041\n",
      "79  2023-04-17  09:00am-10:00am          Faculty of Humanities & Social Sciences                       English Language                                  BS English      8TH     LIT4085\n",
      "80  2023-04-17  09:00am-10:00am          Faculty of Humanities & Social Sciences                       English Language                                  BS English      7TH     LIN4041\n",
      "81  2023-04-17  09:00am-10:00am          Faculty of Humanities & Social Sciences                       English Language                                  BS English      4TH     ENG2045\n",
      "82  2023-04-17  09:00am-10:00am          Faculty of Humanities & Social Sciences                       English Language                                  BS English      3RD     ENG2045\n",
      "83  2023-04-17  11:00am-12:00pm  Faculty of Management & Administration Sciences      Department of Aviation Management                      BS Aviation Management      6TH    AMGT3005\n",
      "84  2023-04-17  11:00am-12:00pm  Faculty of Management & Administration Sciences      Department of Aviation Management                      BS Aviation Management      5TH    AMGT3005\n",
      "85  2023-04-17  11:00am-12:00pm          Faculty of Humanities & Social Sciences                             Psychology                      BS Clinical Psychology      3RD     SPE1001\n",
      "86  2023-04-19  09:00am-10:00am  Faculty of Management & Administration Sciences                               Commerce                    ADP Accounting & Finance      4TH     MGT2009\n",
      "87  2023-04-19  09:00am-10:00am  Faculty of Management & Administration Sciences                               Commerce                     BS Accounting & Finance      4TH     MGT2009\n",
      "88  2023-04-19  09:00am-10:00am  Faculty of Management & Administration Sciences                               Commerce                     BS Accounting & Finance      3RD     MGT2012\n",
      "89  2023-04-19  09:00am-10:00am  Faculty of Management & Administration Sciences      Department of Aviation Management                      BS Aviation Management      7TH    AMGT4001\n",
      "90  2023-04-19  09:00am-10:00am          Faculty of Humanities & Social Sciences                             Psychology                      BS Clinical Psychology      8TH     PSY4006\n",
      "91  2023-04-19  09:00am-10:00am          Faculty of Humanities & Social Sciences                             Psychology                    MSc. Clinical Psychology      4TH     PSY4006\n",
      "92  2023-04-19  09:00am-10:00am  Faculty of Management & Administration Sciences  Department of Business Administration                        ADP Business Studies      4TH    MCOM3002\n",
      "93  2023-04-19  09:00am-10:00am  Faculty of Management & Administration Sciences  Department of Business Administration           Master of Buisness Administration      4TH     MKT7005\n",
      "94  2023-04-19  09:00am-10:00am  Faculty of Management & Administration Sciences  Department of Business Administration           Master of Buisness Administration      4TH     HRM7011\n",
      "95  2023-04-19  09:00am-10:00am  Faculty of Management & Administration Sciences  Department of Business Administration           Master of Buisness Administration      4TH     FIN7007\n",
      "96  2023-04-19  09:00am-10:00am  Faculty of Management & Administration Sciences  Department of Business Administration           Master of Buisness Administration      3RD     FIN7007\n",
      "97  2023-04-19  09:00am-10:00am  Faculty of Management & Administration Sciences  Department of Business Administration           Master of Buisness Administration      3RD     HRM7011\n",
      "98  2023-04-19  09:00am-10:00am  Faculty of Management & Administration Sciences  Department of Business Administration   Bachelor of Business Administration (BBA)      8TH     HRM4041\n",
      "99  2023-04-19  09:00am-10:00am  Faculty of Management & Administration Sciences  Department of Business Administration   Bachelor of Business Administration (BBA)      8TH     MKT4002\n",
      "100 2023-04-19  09:00am-10:00am  Faculty of Management & Administration Sciences  Department of Business Administration   Bachelor of Business Administration (BBA)      9TH     HRM4041\n",
      "101 2023-04-19  09:00am-10:00am  Faculty of Management & Administration Sciences  Department of Business Administration   Bachelor of Business Administration (BBA)      7TH     MKT4002\n",
      "102 2023-04-19  09:00am-10:00am  Faculty of Management & Administration Sciences  Department of Business Administration   Bachelor of Business Administration (BBA)      6TH     MKT3004\n",
      "103 2023-04-19  09:00am-10:00am  Faculty of Management & Administration Sciences  Department of Business Administration   Bachelor of Business Administration (BBA)      5TH     MGT3001\n",
      "104 2023-04-19  09:00am-10:00am  Faculty of Management & Administration Sciences                               Commerce                    ADP Accounting & Finance      3RD     MGT2012\n",
      "105 2023-04-19  09:00am-10:00am  Faculty of Management & Administration Sciences                               Commerce                     BS Accounting & Finance      6TH     MGT3062\n",
      "106 2023-04-19  09:00am-10:00am  Faculty of Management & Administration Sciences                               Commerce                     BS Accounting & Finance      5TH     MGT3036\n",
      "107 2023-04-19  09:00am-10:00am  Faculty of Management & Administration Sciences                               Commerce  ADP International Marketing and E-Commerce      3RD     ECO1009\n",
      "108 2023-04-19  09:00am-10:00am  Faculty of Management & Administration Sciences      Department of Aviation Management                      BS Aviation Management     10TH    AMGT1005\n",
      "109 2023-04-19  09:00am-10:00am          Faculty of Humanities & Social Sciences                          Urdu Language                                     BS Urdu      4TH    URDU3021\n",
      "110 2023-04-19  09:00am-10:00am          Faculty of Humanities & Social Sciences                          Urdu Language                                    ADP-Urdu      4TH    URDU3021\n",
      "111 2023-04-19  09:00am-10:00am          Faculty of Humanities & Social Sciences                             Psychology                      BS Clinical Psychology      6TH     PSY3007\n",
      "112 2023-04-19  09:00am-10:00am          Faculty of Humanities & Social Sciences                             Psychology                      BS Clinical Psychology      5TH    CPSY3007\n",
      "113 2023-04-19  09:00am-10:00am          Faculty of Humanities & Social Sciences                             Psychology                      BS Clinical Psychology      4TH    CPSY3001\n",
      "114 2023-04-19  09:00am-10:00am          Faculty of Humanities & Social Sciences                             Psychology                      BS Clinical Psychology      3RD    CPSY3017\n",
      "115 2023-04-19  09:00am-10:00am          Faculty of Humanities & Social Sciences                     Mass Communication                       BS Mass Communication      7TH     MEM3002\n",
      "116 2023-04-19  09:00am-10:00am          Faculty of Humanities & Social Sciences                     Mass Communication                  BS-Media and Communication      4TH     MCM3003\n",
      "117 2023-04-19  09:00am-10:00am          Faculty of Humanities & Social Sciences                International Relations                  BS International Relations      8TH      IR4017\n",
      "118 2023-04-19  09:00am-10:00am          Faculty of Humanities & Social Sciences                International Relations                  BS International Relations      7TH      IR4011\n",
      "119 2023-04-19  09:00am-10:00am          Faculty of Humanities & Social Sciences                International Relations                  BS International Relations      6TH      IR4017\n",
      "120 2023-04-19  09:00am-10:00am          Faculty of Humanities & Social Sciences                International Relations                  BS International Relations      4TH    PSIR4003\n",
      "121 2023-04-19  09:00am-10:00am          Faculty of Humanities & Social Sciences                       English Language                                 ADP English      4TH     ENG2041\n",
      "122 2023-04-19  09:00am-10:00am          Faculty of Humanities & Social Sciences                       English Language                                 ADP English      3RD     ENG2041\n",
      "123 2023-04-19  09:00am-10:00am          Faculty of Humanities & Social Sciences                       English Language                                M.A. English      3RD     LIT4053\n",
      "124 2023-04-19  09:00am-10:00am          Faculty of Humanities & Social Sciences                       English Language                                  BS English      8TH     LIT4046\n",
      "125 2023-04-19  09:00am-10:00am          Faculty of Humanities & Social Sciences                       English Language                                  BS English      7TH     LIT4053\n",
      "126 2023-04-19  09:00am-10:00am          Faculty of Humanities & Social Sciences                       English Language                                  BS English      4TH     ENG2041\n",
      "127 2023-04-19  09:00am-10:00am          Faculty of Humanities & Social Sciences                       English Language                                  BS English      3RD     ENG2041\n",
      "128 2023-04-19  11:00am-12:00pm  Faculty of Management & Administration Sciences  Department of Business Administration                        ADP Business Studies      4TH     MGT2025\n",
      "129 2023-04-19  11:00am-12:00pm  Faculty of Management & Administration Sciences  Department of Business Administration   Bachelor of Business Administration (BBA)      4TH     MGT2025\n",
      "130 2023-04-19  11:00am-12:00pm  Faculty of Management & Administration Sciences  Department of Business Administration   Bachelor of Business Administration (BBA)      4TH     MGT2025\n",
      "131 2023-04-19  11:00am-12:00pm  Faculty of Management & Administration Sciences      Department of Aviation Management                      BS Aviation Management      6TH    AMGT3008\n",
      "132 2023-04-19  11:00am-12:00pm  Faculty of Management & Administration Sciences      Department of Aviation Management                      BS Aviation Management      5TH    AMGT3008\n",
      "133 2023-04-19  11:00am-12:00pm          Faculty of Humanities & Social Sciences                       English Language                                  BS English      6TH     ENG4047\n",
      "134 2023-04-19  11:00am-12:00pm          Faculty of Humanities & Social Sciences                       English Language                                  BS English      5TH     ENG4047\n"
     ]
    }
   ],
   "source": [
    "print(df.to_string())"
   ],
   "metadata": {
    "collapsed": false,
    "ExecuteTime": {
     "start_time": "2023-04-21T03:14:45.169771Z",
     "end_time": "2023-04-21T03:14:45.239588Z"
    }
   }
  },
  {
   "cell_type": "code",
   "execution_count": 10,
   "outputs": [],
   "source": [
    "data_of_15th_April_2023 = df[df['Date'] == '2023-04-15']\n",
    "data_of_17th_April_2023 = df[df['Date'] == '2023-04-17']\n",
    "data_of_19th_April_2023 = df[df['Date'] == '2023-04-19']\n"
   ],
   "metadata": {
    "collapsed": false,
    "ExecuteTime": {
     "start_time": "2023-04-21T03:15:10.004658Z",
     "end_time": "2023-04-21T03:15:10.006652Z"
    }
   }
  },
  {
   "cell_type": "code",
   "execution_count": 13,
   "outputs": [
    {
     "name": "stdout",
     "output_type": "stream",
     "text": [
      "['Bachelor of Business Administration (BBA)', 'BS English', 'ADP International Marketing and E-Commerce', 'BS Economics', 'BS Mass Communication', 'Master of Buisness Administration', 'ADP-Urdu', 'MSc. Mass Communication', 'MBA 3.5', 'M.A. English', 'BS Accounting & Finance', 'BS-Media and Communication', 'BS Urdu', 'MSc. Clinical Psychology', 'BS International Relations', 'BS Clinical Psychology']\n",
      "-----------------\n",
      "['ADP Business Studies', 'Master of Buisness Administration', 'MSc. Clinical Psychology', 'BS International Relations', 'Bachelor of Business Administration (BBA)', 'BS Mass Communication', 'BS Urdu', 'ADP International Marketing and E-Commerce', 'BS Aviation Management', 'BS-Media and Communication', 'BS Clinical Psychology', 'BS English', 'BS Economics', 'ADP-Urdu', 'MBA 3.5', 'ADP Accounting & Finance', 'M.A. English', 'BS Accounting & Finance', 'ADP English', 'M.Com 2 Years']\n",
      "-----------------\n",
      "['Bachelor of Business Administration (BBA)', 'BS English', 'ADP International Marketing and E-Commerce', 'BS Mass Communication', 'ADP Business Studies', 'Master of Buisness Administration', 'ADP-Urdu', 'BS Aviation Management', 'ADP Accounting & Finance', 'ADP English', 'BS Accounting & Finance', 'BS-Media and Communication', 'BS Urdu', 'MSc. Clinical Psychology', 'M.A. English', 'BS International Relations', 'BS Clinical Psychology']\n"
     ]
    }
   ],
   "source": [
    "programs = list(set(df['Program'].to_list()))\n",
    "# programs available on 15th April 2023\n",
    "programs_of_15th_April_2023 = list(set(data_of_15th_April_2023['Program'].to_list()))\n",
    "\n",
    "# programs available on 17th April 2023\n",
    "programs_of_17th_April_2023 = list(set(data_of_17th_April_2023['Program'].to_list()))\n",
    "# programs available on 19th April 2023\n",
    "programs_of_19th_April_2023 = list(set(data_of_19th_April_2023['Program'].to_list()))\n",
    "print(programs_of_15th_April_2023)\n",
    "print(\"-----------------\")\n",
    "print(programs_of_17th_April_2023)\n",
    "print(\"-----------------\")\n",
    "print(programs_of_19th_April_2023)"
   ],
   "metadata": {
    "collapsed": false,
    "ExecuteTime": {
     "start_time": "2023-04-21T03:15:38.708739Z",
     "end_time": "2023-04-21T03:15:38.717714Z"
    }
   }
  },
  {
   "cell_type": "code",
   "execution_count": 16,
   "outputs": [
    {
     "name": "stdout",
     "output_type": "stream",
     "text": [
      "ADP Business Studies | Not Available | Available | Available\n",
      "Master of Buisness Administration | Available | Available | Available\n",
      "MSc. Mass Communication | Available | Not Available | Not Available\n",
      "MSc. Clinical Psychology | Available | Available | Available\n",
      "BS International Relations | Available | Available | Available\n",
      "Bachelor of Business Administration (BBA) | Available | Available | Available\n",
      "BS Mass Communication | Available | Available | Available\n",
      "BS Urdu | Available | Available | Available\n",
      "ADP International Marketing and E-Commerce | Available | Available | Available\n",
      "BS Aviation Management | Not Available | Available | Available\n",
      "BS-Media and Communication | Available | Available | Available\n",
      "BS Clinical Psychology | Available | Available | Available\n",
      "BS English | Available | Available | Available\n",
      "BS Economics | Available | Available | Not Available\n",
      "ADP-Urdu | Available | Available | Available\n",
      "MBA 3.5 | Available | Available | Not Available\n",
      "M.A. English | Available | Available | Available\n",
      "ADP Accounting & Finance | Not Available | Available | Available\n",
      "BS Accounting & Finance | Available | Available | Available\n",
      "ADP English | Not Available | Available | Available\n",
      "M.Com 2 Years | Not Available | Available | Not Available\n",
      "-----------------\n"
     ]
    }
   ],
   "source": [
    "# programs available on 15th April 2023\n",
    "for single_program in programs:\n",
    "\n",
    "    if single_program in programs_of_15th_April_2023:\n",
    "        x = 'Available'\n",
    "    else:\n",
    "        x = 'Not Available'\n",
    "\n",
    "    if single_program in programs_of_17th_April_2023:\n",
    "        y = 'Available'\n",
    "    else:\n",
    "        y = 'Not Available'\n",
    "\n",
    "    if single_program in programs_of_19th_April_2023:\n",
    "        z = 'Available'\n",
    "    else:\n",
    "        z = 'Not Available'\n",
    "\n",
    "    print(f\"{single_program} | {x} | {y} | {z}\")\n",
    "\n",
    "\n",
    "\n",
    "\n",
    "print('-----------------')\n",
    "\n",
    "\n"
   ],
   "metadata": {
    "collapsed": false,
    "ExecuteTime": {
     "start_time": "2023-04-21T03:18:56.624512Z",
     "end_time": "2023-04-21T03:18:56.637478Z"
    }
   }
  },
  {
   "cell_type": "code",
   "execution_count": 37,
   "outputs": [],
   "source": [
    "df_x = pd.read_csv('X.CSV')"
   ],
   "metadata": {
    "collapsed": false,
    "ExecuteTime": {
     "start_time": "2023-04-21T03:55:12.668402Z",
     "end_time": "2023-04-21T03:55:12.684976Z"
    }
   }
  },
  {
   "cell_type": "code",
   "execution_count": 38,
   "outputs": [
    {
     "data": {
      "text/plain": "                                           PROGRAM        DATE  YEAR\n0            Master of Buisness Administration|4TH  April 15th  2023\n1                                     MBA 3.5|10TH  April 15th  2023\n2    Bachelor of Business Administration (BBA)|8TH  April 15th  2023\n3    Bachelor of Business Administration (BBA)|9TH  April 15th  2023\n4    Bachelor of Business Administration (BBA)|7TH  April 15th  2023\n..                                             ...         ...   ...\n125  Bachelor of Business Administration (BBA)|4TH  April 19th  2023\n126                     BS Aviation Management|6TH  April 19th  2023\n127                     BS Aviation Management|5TH  April 19th  2023\n128                                 BS English|6TH  April 19th  2023\n129                                 BS English|5TH  April 19th  2023\n\n[130 rows x 3 columns]",
      "text/html": "<div>\n<style scoped>\n    .dataframe tbody tr th:only-of-type {\n        vertical-align: middle;\n    }\n\n    .dataframe tbody tr th {\n        vertical-align: top;\n    }\n\n    .dataframe thead th {\n        text-align: right;\n    }\n</style>\n<table border=\"1\" class=\"dataframe\">\n  <thead>\n    <tr style=\"text-align: right;\">\n      <th></th>\n      <th>PROGRAM</th>\n      <th>DATE</th>\n      <th>YEAR</th>\n    </tr>\n  </thead>\n  <tbody>\n    <tr>\n      <th>0</th>\n      <td>Master of Buisness Administration|4TH</td>\n      <td>April 15th</td>\n      <td>2023</td>\n    </tr>\n    <tr>\n      <th>1</th>\n      <td>MBA 3.5|10TH</td>\n      <td>April 15th</td>\n      <td>2023</td>\n    </tr>\n    <tr>\n      <th>2</th>\n      <td>Bachelor of Business Administration (BBA)|8TH</td>\n      <td>April 15th</td>\n      <td>2023</td>\n    </tr>\n    <tr>\n      <th>3</th>\n      <td>Bachelor of Business Administration (BBA)|9TH</td>\n      <td>April 15th</td>\n      <td>2023</td>\n    </tr>\n    <tr>\n      <th>4</th>\n      <td>Bachelor of Business Administration (BBA)|7TH</td>\n      <td>April 15th</td>\n      <td>2023</td>\n    </tr>\n    <tr>\n      <th>...</th>\n      <td>...</td>\n      <td>...</td>\n      <td>...</td>\n    </tr>\n    <tr>\n      <th>125</th>\n      <td>Bachelor of Business Administration (BBA)|4TH</td>\n      <td>April 19th</td>\n      <td>2023</td>\n    </tr>\n    <tr>\n      <th>126</th>\n      <td>BS Aviation Management|6TH</td>\n      <td>April 19th</td>\n      <td>2023</td>\n    </tr>\n    <tr>\n      <th>127</th>\n      <td>BS Aviation Management|5TH</td>\n      <td>April 19th</td>\n      <td>2023</td>\n    </tr>\n    <tr>\n      <th>128</th>\n      <td>BS English|6TH</td>\n      <td>April 19th</td>\n      <td>2023</td>\n    </tr>\n    <tr>\n      <th>129</th>\n      <td>BS English|5TH</td>\n      <td>April 19th</td>\n      <td>2023</td>\n    </tr>\n  </tbody>\n</table>\n<p>130 rows × 3 columns</p>\n</div>"
     },
     "execution_count": 38,
     "metadata": {},
     "output_type": "execute_result"
    }
   ],
   "source": [
    "df_x"
   ],
   "metadata": {
    "collapsed": false,
    "ExecuteTime": {
     "start_time": "2023-04-21T03:55:13.196781Z",
     "end_time": "2023-04-21T03:55:13.233296Z"
    }
   }
  },
  {
   "cell_type": "code",
   "execution_count": 47,
   "outputs": [
    {
     "name": "stdout",
     "output_type": "stream",
     "text": [
      "['Master of Buisness Administration|4TH', 'MBA 3.5|10TH', 'Bachelor of Business Administration (BBA)|8TH', 'Bachelor of Business Administration (BBA)|9TH', 'Bachelor of Business Administration (BBA)|7TH', 'BS Accounting & Finance|6TH', 'BS Accounting & Finance|6TH', 'BS Accounting & Finance|5TH', 'ADP International Marketing and E-Commerce|4TH', 'BS Economics|6TH', 'BS Urdu|4TH', 'ADP-Urdu|4TH', 'BS Clinical Psychology|8TH', 'BS Clinical Psychology|10TH', 'BS Clinical Psychology|6TH', 'BS Clinical Psychology|5TH', 'BS Clinical Psychology|4TH', 'BS Clinical Psychology|4TH', 'BS Clinical Psychology|3RD', 'MSc. Clinical Psychology|4TH', 'MSc. Clinical Psychology|3RD', 'BS Mass Communication|8TH', 'MSc. Mass Communication|4TH', 'BS-Media and Communication|4TH', 'BS International Relations|8TH', 'BS International Relations|7TH', 'BS International Relations|6TH', 'BS International Relations|4TH', 'M.A. English|4TH', 'M.A. English|3RD', 'M.A. English|3RD', 'BS English|8TH', 'BS English|9TH', 'BS English|7TH', 'BS English|7TH', 'BS English|6TH', 'BS English|5TH']\n"
     ]
    }
   ],
   "source": [
    "# program where date == April 15th\n",
    "x_1= df_x[df_x['DATE'] == 'April 15th']['PROGRAM'].to_list()\n",
    "x_2= df_x[df_x['DATE'] == 'April 17th']['PROGRAM'].to_list()\n",
    "x_3= df_x[df_x['DATE'] == 'April 19th']['PROGRAM'].to_list()\n",
    "\n",
    "print(x_1)\n"
   ],
   "metadata": {
    "collapsed": false,
    "ExecuteTime": {
     "start_time": "2023-04-21T04:00:12.547242Z",
     "end_time": "2023-04-21T04:00:12.561752Z"
    }
   }
  },
  {
   "cell_type": "code",
   "execution_count": 48,
   "outputs": [
    {
     "name": "stdout",
     "output_type": "stream",
     "text": [
      "['BS Clinical Psychology|5TH', 'ADP Business Studies|4TH', 'ADP Business Studies|3RD', 'Master of Buisness Administration|4TH', 'Master of Buisness Administration|4TH', 'Master of Buisness Administration|3RD', 'Master of Buisness Administration|3RD', 'MBA 3.5|10TH', 'Bachelor of Business Administration (BBA)|8TH', 'Bachelor of Business Administration (BBA)|9TH', 'Bachelor of Business Administration (BBA)|7TH', 'Bachelor of Business Administration (BBA)|6TH', 'Bachelor of Business Administration (BBA)|6TH', 'Bachelor of Business Administration (BBA)|5TH', 'Bachelor of Business Administration (BBA)|4TH', 'Bachelor of Business Administration (BBA)|3RD', 'ADP Accounting & Finance|4TH', 'BS Accounting & Finance|6TH', 'BS Accounting & Finance|4TH', 'BS Accounting & Finance|3RD', 'M.Com 2 Years|3RD', 'ADP International Marketing and E-Commerce|3RD', 'BS Aviation Management|8TH', 'BS Aviation Management|10TH', 'BS Economics|8TH', 'BS Economics|6TH', 'BS Urdu|4TH', 'ADP-Urdu|4TH', 'BS Clinical Psychology|8TH', 'BS Clinical Psychology|6TH', 'MSc. Clinical Psychology|4TH', 'BS Mass Communication|7TH', 'BS Mass Communication|6TH', 'BS-Media and Communication|4TH', 'BS International Relations|8TH', 'BS International Relations|7TH', 'BS International Relations|6TH', 'ADP English|4TH', 'ADP English|3RD', 'M.A. English|4TH', 'M.A. English|3RD', 'BS English|8TH', 'BS English|8TH', 'BS English|7TH', 'BS English|4TH', 'BS English|3RD', 'BS Aviation Management|6TH', 'BS Aviation Management|5TH', 'BS Clinical Psychology|3RD']\n"
     ]
    }
   ],
   "source": [
    "print(x_2)"
   ],
   "metadata": {
    "collapsed": false,
    "ExecuteTime": {
     "start_time": "2023-04-21T04:00:20.407758Z",
     "end_time": "2023-04-21T04:00:20.442269Z"
    }
   }
  },
  {
   "cell_type": "code",
   "execution_count": 49,
   "outputs": [
    {
     "name": "stdout",
     "output_type": "stream",
     "text": [
      "['ADP Accounting & Finance|4TH', 'BS Accounting & Finance|4TH', 'BS Accounting & Finance|3RD', 'BS Aviation Management|7TH', 'BS Clinical Psychology|8TH', 'ADP Business Studies|4TH', 'Master of Buisness Administration|4TH', 'Master of Buisness Administration|4TH', 'Master of Buisness Administration|4TH', 'Master of Buisness Administration|3RD', 'Master of Buisness Administration|3RD', 'Bachelor of Business Administration (BBA)|8TH', 'Bachelor of Business Administration (BBA)|8TH', 'Bachelor of Business Administration (BBA)|9TH', 'Bachelor of Business Administration (BBA)|7TH', 'Bachelor of Business Administration (BBA)|6TH', 'Bachelor of Business Administration (BBA)|5TH', 'ADP Accounting & Finance|3RD', 'BS Accounting & Finance|6TH', 'BS Accounting & Finance|5TH', 'ADP International Marketing and E-Commerce|3RD', 'BS Aviation Management|10TH', 'BS Urdu|4TH', 'ADP-Urdu|4TH', 'BS Clinical Psychology|6TH', 'BS Clinical Psychology|5TH', 'BS Clinical Psychology|4TH', 'BS Clinical Psychology|3RD', 'BS Mass Communication|7TH', 'BS-Media and Communication|4TH', 'ADP English|4TH', 'ADP English|3RD', 'M.A. English|3RD', 'BS English|8TH', 'BS English|7TH', 'BS English|4TH', 'BS English|3RD', 'ADP Business Studies|4TH', 'Bachelor of Business Administration (BBA)|4TH', 'Bachelor of Business Administration (BBA)|4TH', 'BS Aviation Management|6TH', 'BS Aviation Management|5TH', 'BS English|6TH', 'BS English|5TH']\n"
     ]
    }
   ],
   "source": [
    "print(x_3)"
   ],
   "metadata": {
    "collapsed": false,
    "ExecuteTime": {
     "start_time": "2023-04-21T04:00:24.316904Z",
     "end_time": "2023-04-21T04:00:24.336093Z"
    }
   }
  },
  {
   "cell_type": "code",
   "execution_count": 32,
   "outputs": [],
   "source": [
    "df_1 = df_x['15-April-2023'].to_list()\n",
    "df_2 = df_x['17-April-2023'].to_list()\n",
    "df_3 = df_x['19-April-2023'].to_list()"
   ],
   "metadata": {
    "collapsed": false,
    "ExecuteTime": {
     "start_time": "2023-04-21T03:43:43.215273Z",
     "end_time": "2023-04-21T03:43:43.235749Z"
    }
   }
  },
  {
   "cell_type": "code",
   "execution_count": 36,
   "outputs": [
    {
     "name": "stdout",
     "output_type": "stream",
     "text": [
      "Date: Master of Buisness Administration | (4TH)\n",
      "Master of Buisness Administration | (4TH) is available on 15th April 2023 and 17th April 2023\n",
      "Master of Buisness Administration | (4TH) is available on 15th April 2023 and 19th April 2023\n",
      "\n",
      "\n",
      "Date: MBA 3.5 | (10TH)\n",
      "MBA 3.5 | (10TH) is available on 15th April 2023 and 17th April 2023\n",
      "MBA 3.5 | (10TH) is available on 15th April 2023 but not on 19th April 2023\n",
      "\n",
      "\n",
      "Date: Bachelor of Business Administration (BBA) | (8TH)\n",
      "Bachelor of Business Administration (BBA) | (8TH) is available on 15th April 2023 and 17th April 2023\n",
      "Bachelor of Business Administration (BBA) | (8TH) is available on 15th April 2023 and 19th April 2023\n",
      "\n",
      "\n",
      "Date: Bachelor of Business Administration (BBA) | (9TH)\n",
      "Bachelor of Business Administration (BBA) | (9TH) is available on 15th April 2023 and 17th April 2023\n",
      "Bachelor of Business Administration (BBA) | (9TH) is available on 15th April 2023 and 19th April 2023\n",
      "\n",
      "\n",
      "Date: Bachelor of Business Administration (BBA) | (7TH)\n",
      "Bachelor of Business Administration (BBA) | (7TH) is available on 15th April 2023 and 17th April 2023\n",
      "Bachelor of Business Administration (BBA) | (7TH) is available on 15th April 2023 and 19th April 2023\n",
      "\n",
      "\n",
      "Date: BS Accounting & Finance | (6TH)\n",
      "BS Accounting & Finance | (6TH) is available on 15th April 2023 and 17th April 2023\n",
      "BS Accounting & Finance | (6TH) is available on 15th April 2023 and 19th April 2023\n",
      "\n",
      "\n",
      "Date: BS Accounting & Finance | (6TH)\n",
      "BS Accounting & Finance | (6TH) is available on 15th April 2023 and 17th April 2023\n",
      "BS Accounting & Finance | (6TH) is available on 15th April 2023 and 19th April 2023\n",
      "\n",
      "\n",
      "Date: BS Accounting & Finance | (5TH)\n",
      "BS Accounting & Finance | (5TH) is available on 15th April 2023 but not on 17th April 2023\n",
      "BS Accounting & Finance | (5TH) is available on 15th April 2023 and 19th April 2023\n",
      "\n",
      "\n",
      "Date: ADP International Marketing and E-Commerce | (4TH)\n",
      "ADP International Marketing and E-Commerce | (4TH) is available on 15th April 2023 but not on 17th April 2023\n",
      "ADP International Marketing and E-Commerce | (4TH) is available on 15th April 2023 but not on 19th April 2023\n",
      "\n",
      "\n",
      "Date: BS Economics | (6TH)\n",
      "BS Economics | (6TH) is available on 15th April 2023 and 17th April 2023\n",
      "BS Economics | (6TH) is available on 15th April 2023 but not on 19th April 2023\n",
      "\n",
      "\n",
      "Date: BS Urdu | (4TH)\n",
      "BS Urdu | (4TH) is available on 15th April 2023 and 17th April 2023\n",
      "BS Urdu | (4TH) is available on 15th April 2023 and 19th April 2023\n",
      "\n",
      "\n",
      "Date: ADP-Urdu | (4TH)\n",
      "ADP-Urdu | (4TH) is available on 15th April 2023 and 17th April 2023\n",
      "ADP-Urdu | (4TH) is available on 15th April 2023 and 19th April 2023\n",
      "\n",
      "\n",
      "Date: BS Clinical Psychology | (8TH)\n",
      "BS Clinical Psychology | (8TH) is available on 15th April 2023 and 17th April 2023\n",
      "BS Clinical Psychology | (8TH) is available on 15th April 2023 and 19th April 2023\n",
      "\n",
      "\n",
      "Date: BS Clinical Psychology | (10TH)\n",
      "BS Clinical Psychology | (10TH) is available on 15th April 2023 but not on 17th April 2023\n",
      "BS Clinical Psychology | (10TH) is available on 15th April 2023 but not on 19th April 2023\n",
      "\n",
      "\n",
      "Date: BS Clinical Psychology | (6TH)\n",
      "BS Clinical Psychology | (6TH) is available on 15th April 2023 and 17th April 2023\n",
      "BS Clinical Psychology | (6TH) is available on 15th April 2023 and 19th April 2023\n",
      "\n",
      "\n",
      "Date: BS Clinical Psychology | (5TH)\n",
      "BS Clinical Psychology | (5TH) is available on 15th April 2023 and 17th April 2023\n",
      "BS Clinical Psychology | (5TH) is available on 15th April 2023 and 19th April 2023\n",
      "\n",
      "\n",
      "Date: BS Clinical Psychology | (4TH)\n",
      "BS Clinical Psychology | (4TH) is available on 15th April 2023 but not on 17th April 2023\n",
      "BS Clinical Psychology | (4TH) is available on 15th April 2023 and 19th April 2023\n",
      "\n",
      "\n",
      "Date: BS Clinical Psychology | (4TH)\n",
      "BS Clinical Psychology | (4TH) is available on 15th April 2023 but not on 17th April 2023\n",
      "BS Clinical Psychology | (4TH) is available on 15th April 2023 and 19th April 2023\n",
      "\n",
      "\n",
      "Date: BS Clinical Psychology | (3RD)\n",
      "BS Clinical Psychology | (3RD) is available on 15th April 2023 and 17th April 2023\n",
      "BS Clinical Psychology | (3RD) is available on 15th April 2023 and 19th April 2023\n",
      "\n",
      "\n",
      "Date: MSc. Clinical Psychology | (4TH)\n",
      "MSc. Clinical Psychology | (4TH) is available on 15th April 2023 and 17th April 2023\n",
      "MSc. Clinical Psychology | (4TH) is available on 15th April 2023 but not on 19th April 2023\n",
      "\n",
      "\n",
      "Date: MSc. Clinical Psychology | (3RD)\n",
      "MSc. Clinical Psychology | (3RD) is available on 15th April 2023 but not on 17th April 2023\n",
      "MSc. Clinical Psychology | (3RD) is available on 15th April 2023 but not on 19th April 2023\n",
      "\n",
      "\n",
      "Date: BS Mass Communication | (8TH)\n",
      "BS Mass Communication | (8TH) is available on 15th April 2023 but not on 17th April 2023\n",
      "BS Mass Communication | (8TH) is available on 15th April 2023 but not on 19th April 2023\n",
      "\n",
      "\n",
      "Date: MSc. Mass Communication | (4TH)\n",
      "MSc. Mass Communication | (4TH) is available on 15th April 2023 but not on 17th April 2023\n",
      "MSc. Mass Communication | (4TH) is available on 15th April 2023 but not on 19th April 2023\n",
      "\n",
      "\n",
      "Date: BS-Media and Communication | (4TH)\n",
      "BS-Media and Communication | (4TH) is available on 15th April 2023 and 17th April 2023\n",
      "BS-Media and Communication | (4TH) is available on 15th April 2023 and 19th April 2023\n",
      "\n",
      "\n",
      "Date: BS International Relations | (8TH)\n",
      "BS International Relations | (8TH) is available on 15th April 2023 and 17th April 2023\n",
      "BS International Relations | (8TH) is available on 15th April 2023 but not on 19th April 2023\n",
      "\n",
      "\n",
      "Date: BS International Relations | (7TH)\n",
      "BS International Relations | (7TH) is available on 15th April 2023 and 17th April 2023\n",
      "BS International Relations | (7TH) is available on 15th April 2023 but not on 19th April 2023\n",
      "\n",
      "\n",
      "Date: BS International Relations | (6TH)\n",
      "BS International Relations | (6TH) is available on 15th April 2023 and 17th April 2023\n",
      "BS International Relations | (6TH) is available on 15th April 2023 but not on 19th April 2023\n",
      "\n",
      "\n",
      "Date: BS International Relations | (4TH)\n",
      "BS International Relations | (4TH) is available on 15th April 2023 but not on 17th April 2023\n",
      "BS International Relations | (4TH) is available on 15th April 2023 but not on 19th April 2023\n",
      "\n",
      "\n",
      "Date: M.A. English | (4TH)\n",
      "M.A. English | (4TH) is available on 15th April 2023 and 17th April 2023\n",
      "M.A. English | (4TH) is available on 15th April 2023 but not on 19th April 2023\n",
      "\n",
      "\n",
      "Date: M.A. English | (3RD)\n",
      "M.A. English | (3RD) is available on 15th April 2023 and 17th April 2023\n",
      "M.A. English | (3RD) is available on 15th April 2023 and 19th April 2023\n",
      "\n",
      "\n",
      "Date: M.A. English | (3RD)\n",
      "M.A. English | (3RD) is available on 15th April 2023 and 17th April 2023\n",
      "M.A. English | (3RD) is available on 15th April 2023 and 19th April 2023\n",
      "\n",
      "\n",
      "Date: BS English | (8TH)\n",
      "BS English | (8TH) is available on 15th April 2023 and 17th April 2023\n",
      "BS English | (8TH) is available on 15th April 2023 and 19th April 2023\n",
      "\n",
      "\n",
      "Date: BS English | (9TH)\n",
      "BS English | (9TH) is available on 15th April 2023 but not on 17th April 2023\n",
      "BS English | (9TH) is available on 15th April 2023 but not on 19th April 2023\n",
      "\n",
      "\n",
      "Date: BS English | (7TH)\n",
      "BS English | (7TH) is available on 15th April 2023 and 17th April 2023\n",
      "BS English | (7TH) is available on 15th April 2023 and 19th April 2023\n",
      "\n",
      "\n",
      "Date: BS English | (7TH)\n",
      "BS English | (7TH) is available on 15th April 2023 and 17th April 2023\n",
      "BS English | (7TH) is available on 15th April 2023 and 19th April 2023\n",
      "\n",
      "\n",
      "Date: BS English | (6TH)\n",
      "BS English | (6TH) is available on 15th April 2023 but not on 17th April 2023\n",
      "BS English | (6TH) is available on 15th April 2023 and 19th April 2023\n",
      "\n",
      "\n",
      "Date: BS English | (5TH)\n",
      "BS English | (5TH) is available on 15th April 2023 but not on 17th April 2023\n",
      "BS English | (5TH) is available on 15th April 2023 and 19th April 2023\n",
      "\n",
      "\n",
      "Date: nan | (nan)\n",
      "nan | (nan) is available on 15th April 2023 but not on 17th April 2023\n",
      "nan | (nan) is available on 15th April 2023 and 19th April 2023\n",
      "\n",
      "\n",
      "Date: nan | (nan)\n",
      "nan | (nan) is available on 15th April 2023 but not on 17th April 2023\n",
      "nan | (nan) is available on 15th April 2023 and 19th April 2023\n",
      "\n",
      "\n",
      "Date: nan | (nan)\n",
      "nan | (nan) is available on 15th April 2023 but not on 17th April 2023\n",
      "nan | (nan) is available on 15th April 2023 and 19th April 2023\n",
      "\n",
      "\n",
      "Date: nan | (nan)\n",
      "nan | (nan) is available on 15th April 2023 but not on 17th April 2023\n",
      "nan | (nan) is available on 15th April 2023 and 19th April 2023\n",
      "\n",
      "\n",
      "Date: nan | (nan)\n",
      "nan | (nan) is available on 15th April 2023 but not on 17th April 2023\n",
      "nan | (nan) is available on 15th April 2023 and 19th April 2023\n",
      "\n",
      "\n",
      "Date: nan | (nan)\n",
      "nan | (nan) is available on 15th April 2023 but not on 17th April 2023\n",
      "nan | (nan) is available on 15th April 2023 and 19th April 2023\n",
      "\n",
      "\n",
      "Date: nan | (nan)\n",
      "nan | (nan) is available on 15th April 2023 but not on 17th April 2023\n",
      "nan | (nan) is available on 15th April 2023 and 19th April 2023\n",
      "\n",
      "\n",
      "Date: nan | (nan)\n",
      "nan | (nan) is available on 15th April 2023 but not on 17th April 2023\n",
      "nan | (nan) is available on 15th April 2023 and 19th April 2023\n",
      "\n",
      "\n",
      "Date: nan | (nan)\n",
      "nan | (nan) is available on 15th April 2023 but not on 17th April 2023\n",
      "nan | (nan) is available on 15th April 2023 and 19th April 2023\n",
      "\n",
      "\n",
      "Date: nan | (nan)\n",
      "nan | (nan) is available on 15th April 2023 but not on 17th April 2023\n",
      "nan | (nan) is available on 15th April 2023 and 19th April 2023\n",
      "\n",
      "\n",
      "Date: nan | (nan)\n",
      "nan | (nan) is available on 15th April 2023 but not on 17th April 2023\n",
      "nan | (nan) is available on 15th April 2023 and 19th April 2023\n",
      "\n",
      "\n",
      "Date: nan | (nan)\n",
      "nan | (nan) is available on 15th April 2023 but not on 17th April 2023\n",
      "nan | (nan) is available on 15th April 2023 and 19th April 2023\n",
      "\n",
      "\n"
     ]
    }
   ],
   "source": [
    "for single_date in df_1:\n",
    "    print(f\"Date: {single_date}\")\n",
    "    if single_date in df_2:\n",
    "        print(f\"{single_date} is available on 15th April 2023 and 17th April 2023\")\n",
    "    else:\n",
    "        print(f\"{single_date} is available on 15th April 2023 but not on 17th April 2023\")\n",
    "\n",
    "    if single_date in df_3:\n",
    "        print(f\"{single_date} is available on 15th April 2023 and 19th April 2023\")\n",
    "    else:\n",
    "        print(f\"{single_date} is available on 15th April 2023 but not on 19th April 2023\")\n",
    "\n",
    "    print(\"\\n\")\n"
   ],
   "metadata": {
    "collapsed": false,
    "ExecuteTime": {
     "start_time": "2023-04-21T03:45:04.171811Z",
     "end_time": "2023-04-21T03:45:04.222299Z"
    }
   }
  },
  {
   "cell_type": "code",
   "execution_count": null,
   "outputs": [],
   "source": [],
   "metadata": {
    "collapsed": false
   }
  }
 ],
 "metadata": {
  "kernelspec": {
   "display_name": "Python 3",
   "language": "python",
   "name": "python3"
  },
  "language_info": {
   "codemirror_mode": {
    "name": "ipython",
    "version": 2
   },
   "file_extension": ".py",
   "mimetype": "text/x-python",
   "name": "python",
   "nbconvert_exporter": "python",
   "pygments_lexer": "ipython2",
   "version": "2.7.6"
  }
 },
 "nbformat": 4,
 "nbformat_minor": 0
}
