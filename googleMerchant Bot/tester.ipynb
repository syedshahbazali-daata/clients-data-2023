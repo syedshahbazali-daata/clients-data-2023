{
 "cells": [
  {
   "cell_type": "code",
   "execution_count": 50,
   "metadata": {
    "collapsed": true,
    "ExecuteTime": {
     "end_time": "2023-06-23T22:05:55.690353500Z",
     "start_time": "2023-06-23T22:05:55.648689500Z"
    }
   },
   "outputs": [],
   "source": [
    "import os\n",
    "import time, csv\n",
    "from datetime import datetime\n",
    "\n",
    "from selenium import webdriver\n",
    "from selenium.webdriver import ActionChains\n",
    "from selenium.webdriver.common.by import By\n",
    "import undetected_chromedriver as uc\n",
    "from selenium.webdriver.support.wait import WebDriverWait\n",
    "from selenium.webdriver.support import expected_conditions as EC\n",
    "from selenium.webdriver.common.keys import Keys\n",
    "import random\n",
    "from faker import Faker\n",
    "\n",
    "from textwrap import dedent\n",
    "import os\n",
    "\n",
    "########################################################################################################################\n",
    "# Functions\n",
    "\n",
    "BASE_DIR = os.path.dirname(os.path.abspath(\"_file_\"))\n",
    "\n",
    "\n",
    "def get_proxy_auth_extension(proxy):\n",
    "    if proxy.strip() == '':\n",
    "        return None\n",
    "    cred, prox = proxy.split('@')\n",
    "    PROXY_USER, PROXY_PASS = cred.split(':')\n",
    "    PROXY_HOST, PROXY_PORT = prox.split(':')\n",
    "    manifest_json = \"\"\"\n",
    "                    {\n",
    "                        \"version\": \"1.0.0\",\n",
    "                        \"manifest_version\": 2,\n",
    "                        \"name\": \"Chrome Proxy\",\n",
    "                        \"permissions\": [\n",
    "                            \"proxy\",\n",
    "                            \"tabs\",\n",
    "                            \"unlimitedStorage\",\n",
    "                            \"storage\",\n",
    "                            \"<all_urls>\",\n",
    "                            \"webRequest\",\n",
    "                            \"webRequestBlocking\"\n",
    "                        ],\n",
    "                        \"background\": {\n",
    "                            \"scripts\": [\"background.js\"]\n",
    "                        },\n",
    "                        \"minimum_chrome_version\":\"22.0.0\"\n",
    "                    }\n",
    "                    \"\"\"\n",
    "\n",
    "    background_js = \"\"\"\n",
    "                    var config = {\n",
    "                            mode: \"fixed_servers\",\n",
    "                            rules: {\n",
    "                            singleProxy: {\n",
    "                                scheme: \"http\",\n",
    "                                host: \"%s\",\n",
    "                                port: parseInt(%s)\n",
    "                            },\n",
    "                            bypassList: [\"localhost\"]\n",
    "                            }\n",
    "                        };\n",
    "\n",
    "                    chrome.proxy.settings.set({value: config, scope: \"regular\"}, function() {});\n",
    "\n",
    "                    function callbackFn(details) {\n",
    "                        return {\n",
    "                            authCredentials: {\n",
    "                                username: \"%s\",\n",
    "                                password: \"%s\"\n",
    "                            }\n",
    "                        };\n",
    "                    }\n",
    "\n",
    "                    chrome.webRequest.onAuthRequired.addListener(\n",
    "                                callbackFn,\n",
    "                                {urls: [\"<all_urls>\"]},\n",
    "                                ['blocking']\n",
    "                    );\n",
    "                    \"\"\" % (PROXY_HOST, PROXY_PORT, PROXY_USER, PROXY_PASS)\n",
    "    fn = os.path.join(BASE_DIR, 'proxy_ext')\n",
    "    if not os.path.exists(fn):\n",
    "        os.mkdir(fn)\n",
    "    m_path = os.path.join(fn, \"manifest.json\")\n",
    "    b_path = os.path.join(fn, \"background.js\")\n",
    "    with open(m_path, 'w') as f:\n",
    "        f.write(dedent(manifest_json))\n",
    "    with open(b_path, 'w') as f:\n",
    "        f.write(dedent(background_js))\n",
    "    return fn\n",
    "\n",
    "\n",
    "def get_file_data(file_name):\n",
    "    with open(file_name, 'r', encoding='utf-8') as file:\n",
    "        data = file.read().strip().split('\\n')\n",
    "    return data\n",
    "\n",
    "\n",
    "def find_element_send_text(ele, text, clear=True):\n",
    "    while True:\n",
    "        try:\n",
    "            input_field = driver.find_element(By.XPATH, ele)\n",
    "            if clear:\n",
    "                input_field.clear()\n",
    "            input_field.send_keys(text)\n",
    "\n",
    "            break\n",
    "        except:\n",
    "            time.sleep(0.1)\n",
    "\n",
    "\n",
    "def specific_clicker(ele):\n",
    "    while True:\n",
    "        try:\n",
    "            element = driver.find_element(By.XPATH, ele)\n",
    "            webdriver.ActionChains(driver).move_to_element_with_offset(element, 1, 0).click(element).perform()\n",
    "\n",
    "            break\n",
    "        except Exception as e:\n",
    "            # print(e)\n",
    "            pass\n",
    "\n",
    "\n",
    "def specific_clicker2(ele):\n",
    "    try:\n",
    "        element = driver.find_element(By.XPATH, ele)\n",
    "        webdriver.ActionChains(driver).move_to_element_with_offset(element, 1, 0).click(element).perform()\n",
    "\n",
    "    except Exception as e:\n",
    "        # print(e)\n",
    "        pass\n",
    "\n",
    "\n",
    "def element_xpath_with_text(text):\n",
    "    return f\"//*[text()='{text}' or text()='{text.upper()}' or text()='{text.lower()}' or text()='{text.capitalize()}']\"\n",
    "\n",
    "\n",
    "def get_text(ele):\n",
    "    while True:\n",
    "        try:\n",
    "            element = driver.find_elements(By.XPATH, ele)\n",
    "            texts = [str(x.text) for x in element]\n",
    "            return texts\n",
    "        except Exception as e:\n",
    "            # print(e)\n",
    "            pass\n",
    "\n",
    "\n",
    "def login_to_google_account(mail_address, mail_pwd, mail_recovery=False):\n",
    "    find_element_send_text('//input[@type=\"email\"]', mail_address)\n",
    "    time.sleep(1)\n",
    "    driver.find_element(By.XPATH, '//input[@type=\"email\"]').send_keys(Keys.ENTER)\n",
    "\n",
    "    find_element_send_text('//input[@type=\"password\"]', mail_pwd)\n",
    "    time.sleep(1)\n",
    "    driver.find_element(By.XPATH, '//input[@type=\"password\"]').send_keys(Keys.ENTER)\n",
    "\n",
    "\n",
    "def business_details_fill(b_name, b_address, card_number, card_month, card_year, card_cvv):\n",
    "    while True:\n",
    "        try:\n",
    "            iframe_element = driver.find_element(By.XPATH, '//iframe[@title=\"Enter payment info\"]')\n",
    "            driver.switch_to.frame(iframe_element)\n",
    "            print(\"switched\")\n",
    "            break\n",
    "        except:\n",
    "            time.sleep(2)\n",
    "    find_element_send_text('//input[@name=\"ORGANIZATION\"]', b_name)\n",
    "    find_element_send_text('//input[@name=\"ADDRESS_LINE_1\"]', b_address)\n",
    "    time.sleep(2)\n",
    "    while True:\n",
    "        try:\n",
    "            driver.find_element(By.XPATH, '//input[@name=\"ADDRESS_LINE_1\"]/..//div[@role=\"listbox\"]/div').click()\n",
    "            break\n",
    "        except:\n",
    "            time.sleep(3)\n",
    "\n",
    "    find_element_send_text('//input[@name=\"cardnumber\"]', card_number)\n",
    "    find_element_send_text('//input[@name=\"ccmonth\"]', card_month)\n",
    "    find_element_send_text('//input[@name=\"ccyear\"]', card_year)\n",
    "    find_element_send_text('//input[@name=\"cvc\"]', card_cvv)\n",
    "\n",
    "    try:\n",
    "\n",
    "        driver.find_element(By.XPATH, '//*[contains(@class, \"message-checkbox\")]').click()\n",
    "    except:\n",
    "        pass\n",
    "    driver.switch_to.default_content()\n",
    "    specific_clicker(\"//*[text()='Continue']\")\n",
    "\n",
    "def merchant_center_join(mail_address, mail_pwd,  b_name, b_address, card_number, card_month, card_year, card_cvv, mail_recovery=False):\n",
    "    driver.get('https://www.google.com/retail/solutions/merchant-center/')\n",
    "    # zoom out\n",
    "    driver.execute_script(\"document.body.style.zoom='70%'\")\n",
    "    time.sleep(2)\n",
    "    signup_link = driver.find_element(By.XPATH, \"//h1/..//a[text()='Sign up for free']\").get_attribute(\"href\")\n",
    "    driver.get(signup_link)\n",
    "\n",
    "    login_to_google_account(mail_address, mail_pwd, mail_recovery)\n",
    "    time.sleep(3)\n",
    "    specific_clicker('(//*[@aria-label=\"No\"])[1]')\n",
    "    time.sleep(1.5)\n",
    "    specific_clicker('(//*[@aria-label=\"No\"])[2]')\n",
    "    specific_clicker(\"//*[text()='Continue with Merchant Center Account creation']\")\n",
    "    specific_clicker(\"//*[text()='Continue to Merchant Center']\")\n",
    "\n",
    "    fake = Faker()\n",
    "    random_company_name = fake.name() + \" company\"\n",
    "    find_element_send_text('//input[@type=\"text\"]', random_company_name)\n",
    "    specific_clicker('//div[@aria-haspopup=\"listbox\"]')\n",
    "    time.sleep(1)\n",
    "    specific_clicker(\"//span[text()='Italy']\")\n",
    "    specific_clicker(\"//*[text()='Continue to Merchant Center']\")\n",
    "\n",
    "    specific_clicker(\"//span[text()='Continue']\")\n",
    "\n",
    "    specific_clicker(\"//*[text()='Growth']\")\n",
    "    time.sleep(3)\n",
    "    specific_clicker(\"//*[text()='Manage programs']\")\n",
    "\n",
    "    specific_clicker(\"//div[text()='Shopping ads']/../..//*[text()='Get started']\")\n",
    "    specific_clicker(\"//span[text()='Link to Google Ads']\")\n",
    "\n",
    "    specific_clicker(\"//*[text()='Create account & continue']\")\n",
    "    specific_clicker(\"//*[text()='Create & link account']\")\n",
    "\n",
    "    # Add billing Details\n",
    "    business_details_fill(b_name, b_address, card_number, card_month, card_year, card_cvv)\n",
    "    time.sleep(8)\n",
    "\n",
    "\n",
    "\n",
    "\n",
    "def set_google_ads(keywords, website_url, headlines, descriptions):\n",
    "    driver.get(\"https://ads.google.com/\")\n",
    "    specific_clicker(element_xpath_with_text(\"Sign in\"))\n",
    "    time.sleep(6)\n",
    "    driver.get(\"https://ads.google.com/aw/overview\")\n",
    "    specific_clicker('//button[@aria-label=\"New campaign\"]')\n",
    "    specific_clicker(\"//span[text()='Website traffic']\")\n",
    "    specific_clicker(\"//span[text()='Search']\")\n",
    "    specific_clicker(\"//div[text()='Continue']\")\n",
    "    specific_clicker(\"//*[text()='Next']\")\n",
    "    specific_clicker(\"//*[text()='Italy']/../../div\")\n",
    "    specific_clicker(\"(//material-button//span[text()='Next'])[2]\")\n",
    "    # keywords\n",
    "\n",
    "    find_element_send_text('//textarea', keywords)\n",
    "    find_element_send_text('//input[@aria-label=\"Final URL\"]', website_url)\n",
    "\n",
    "    # headlines\n",
    "    for index, headline in enumerate(headlines):\n",
    "        try:\n",
    "            driver.find_element(By.XPATH, f\"(//span[text()='Headline']/../../input)[{index+1}]\").send_keys(headline)\n",
    "        except:\n",
    "            pass\n",
    "\n",
    "\n",
    "    # descriptions\n",
    "    for index, description in enumerate(descriptions):\n",
    "        try:\n",
    "            driver.find_element(By.XPATH, f\"(//section//textarea)[{index+1}]\").send_keys(description)\n",
    "        except:\n",
    "            pass\n",
    "\n",
    "    specific_clicker(\"//*[text()='Done']\")\n",
    "    specific_clicker(\"(//span[text()='Next'])[3]\")\n",
    "\n",
    "    # budget\n",
    "    find_element_send_text('//input[@aria-label=\"Set your average daily budget for this campaign\"]', \"2.00\")\n",
    "\n",
    "    specific_clicker(\"(//span[text()='Next'])[4]\")\n",
    "    specific_clicker(\"(//span[text()='Publish campaign'])[5]\")\n",
    "\n",
    "\n",
    "\n",
    "\n",
    "\n",
    "\n",
    "\n",
    "\n",
    "\n"
   ]
  },
  {
   "cell_type": "code",
   "execution_count": 2,
   "outputs": [],
   "source": [
    "options = uc.ChromeOptions()\n",
    "# proxies_list = get_file_data('proxies.txt')\n",
    "# my_proxy = random.choice(proxies_list)\n",
    "# proxy = get_proxy_auth_extension(my_proxy)\n",
    "# options.add_argument(f'--load-extension={proxy}')\n",
    "driver = uc.Chrome(options=options)\n",
    "driver.maximize_window()\n",
    "\n"
   ],
   "metadata": {
    "collapsed": false,
    "ExecuteTime": {
     "end_time": "2023-06-23T19:55:28.950578600Z",
     "start_time": "2023-06-23T19:55:11.799305700Z"
    }
   }
  },
  {
   "cell_type": "markdown",
   "source": [],
   "metadata": {
    "collapsed": false
   }
  },
  {
   "cell_type": "code",
   "execution_count": 3,
   "outputs": [
    {
     "name": "stderr",
     "output_type": "stream",
     "text": [
      "\n",
      "KeyboardInterrupt\n",
      "\n"
     ]
    }
   ],
   "source": [
    "merchant_center_join('KevinAnderson2543201@gmail.com', 'YCAVuC9FCf8')"
   ],
   "metadata": {
    "collapsed": false,
    "ExecuteTime": {
     "end_time": "2023-06-23T19:56:47.766181200Z",
     "start_time": "2023-06-23T19:55:35.884249700Z"
    }
   }
  },
  {
   "cell_type": "code",
   "execution_count": 21,
   "outputs": [
    {
     "data": {
      "text/plain": "'https://merchants.google.com/signup/?hl=en&fmp=1&gfr_referral=true&mcsubid=us-en-web-g-mc-gfr'"
     },
     "execution_count": 21,
     "metadata": {},
     "output_type": "execute_result"
    }
   ],
   "source": [],
   "metadata": {
    "collapsed": false,
    "ExecuteTime": {
     "end_time": "2023-06-23T08:45:04.386135100Z",
     "start_time": "2023-06-23T08:45:04.264658900Z"
    }
   }
  },
  {
   "cell_type": "code",
   "execution_count": 51,
   "outputs": [],
   "source": [
    "set_google_ads(\"scarpe da uomo\", \"https://www.google.com\", [\"scarpe da uomo 1\", \"scarpe da uomo 2\", \"scarpe da uomo 3\"], [\"scarpe da uomo\", \"scarpe da uomo 2\"])"
   ],
   "metadata": {
    "collapsed": false,
    "ExecuteTime": {
     "end_time": "2023-06-23T22:10:04.827287100Z",
     "start_time": "2023-06-23T22:07:09.515923600Z"
    }
   }
  },
  {
   "cell_type": "code",
   "execution_count": 14,
   "outputs": [
    {
     "name": "stderr",
     "output_type": "stream",
     "text": [
      "\n",
      "KeyboardInterrupt\n",
      "\n"
     ]
    }
   ],
   "source": [
    "# KevinSmith3876840@gmail.com:uDpqdUty:jo.ruiz.7x1oe@rambler.ru"
   ],
   "metadata": {
    "collapsed": false,
    "ExecuteTime": {
     "end_time": "2023-06-20T07:47:13.845340500Z",
     "start_time": "2023-06-20T07:47:10.629900900Z"
    }
   }
  },
  {
   "cell_type": "code",
   "execution_count": null,
   "outputs": [],
   "source": [],
   "metadata": {
    "collapsed": false
   }
  },
  {
   "cell_type": "code",
   "execution_count": 27,
   "outputs": [],
   "source": [],
   "metadata": {
    "collapsed": false,
    "ExecuteTime": {
     "end_time": "2023-06-23T20:29:58.725243900Z",
     "start_time": "2023-06-23T20:29:32.541082600Z"
    }
   }
  },
  {
   "cell_type": "code",
   "execution_count": 28,
   "outputs": [],
   "source": [],
   "metadata": {
    "collapsed": false,
    "ExecuteTime": {
     "end_time": "2023-06-23T20:32:05.263069100Z",
     "start_time": "2023-06-23T20:31:31.336837200Z"
    }
   }
  },
  {
   "cell_type": "code",
   "execution_count": 30,
   "outputs": [],
   "source": [],
   "metadata": {
    "collapsed": false,
    "ExecuteTime": {
     "end_time": "2023-06-23T20:36:14.870328100Z",
     "start_time": "2023-06-23T20:36:08.845133800Z"
    }
   }
  },
  {
   "cell_type": "code",
   "execution_count": 31,
   "outputs": [],
   "source": [],
   "metadata": {
    "collapsed": false,
    "ExecuteTime": {
     "end_time": "2023-06-23T20:36:49.347231700Z",
     "start_time": "2023-06-23T20:36:46.698298500Z"
    }
   }
  },
  {
   "cell_type": "code",
   "execution_count": 32,
   "outputs": [],
   "source": [],
   "metadata": {
    "collapsed": false,
    "ExecuteTime": {
     "end_time": "2023-06-23T20:37:36.510848900Z",
     "start_time": "2023-06-23T20:37:34.960407900Z"
    }
   }
  },
  {
   "cell_type": "code",
   "execution_count": 33,
   "outputs": [],
   "source": [],
   "metadata": {
    "collapsed": false,
    "ExecuteTime": {
     "end_time": "2023-06-23T20:39:09.138917600Z",
     "start_time": "2023-06-23T20:39:04.966341Z"
    }
   }
  },
  {
   "cell_type": "code",
   "execution_count": 34,
   "outputs": [],
   "source": [],
   "metadata": {
    "collapsed": false,
    "ExecuteTime": {
     "end_time": "2023-06-23T20:41:31.194913Z",
     "start_time": "2023-06-23T20:41:29.874108100Z"
    }
   }
  },
  {
   "cell_type": "code",
   "execution_count": 35,
   "outputs": [],
   "source": [],
   "metadata": {
    "collapsed": false,
    "ExecuteTime": {
     "end_time": "2023-06-23T20:42:13.885133200Z",
     "start_time": "2023-06-23T20:42:11.458391Z"
    }
   }
  },
  {
   "cell_type": "code",
   "execution_count": 36,
   "outputs": [],
   "source": [],
   "metadata": {
    "collapsed": false,
    "ExecuteTime": {
     "end_time": "2023-06-23T20:43:35.517193300Z",
     "start_time": "2023-06-23T20:43:33.975781300Z"
    }
   }
  },
  {
   "cell_type": "code",
   "execution_count": 38,
   "outputs": [],
   "source": [],
   "metadata": {
    "collapsed": false,
    "ExecuteTime": {
     "end_time": "2023-06-23T21:23:38.157843200Z",
     "start_time": "2023-06-23T21:23:35.954942600Z"
    }
   }
  },
  {
   "cell_type": "code",
   "execution_count": 39,
   "outputs": [],
   "source": [],
   "metadata": {
    "collapsed": false,
    "ExecuteTime": {
     "end_time": "2023-06-23T21:25:19.162484300Z",
     "start_time": "2023-06-23T21:25:17.808482700Z"
    }
   }
  },
  {
   "cell_type": "code",
   "execution_count": 40,
   "outputs": [],
   "source": [],
   "metadata": {
    "collapsed": false,
    "ExecuteTime": {
     "end_time": "2023-06-23T21:26:36.563090200Z",
     "start_time": "2023-06-23T21:26:32.067390400Z"
    }
   }
  },
  {
   "cell_type": "code",
   "execution_count": 45,
   "outputs": [],
   "source": [],
   "metadata": {
    "collapsed": false,
    "ExecuteTime": {
     "end_time": "2023-06-23T21:35:46.294010600Z",
     "start_time": "2023-06-23T21:35:39.208471Z"
    }
   }
  },
  {
   "cell_type": "code",
   "execution_count": 46,
   "outputs": [],
   "source": [],
   "metadata": {
    "collapsed": false,
    "ExecuteTime": {
     "end_time": "2023-06-23T21:40:08.978380Z",
     "start_time": "2023-06-23T21:40:06.883083100Z"
    }
   }
  },
  {
   "cell_type": "code",
   "execution_count": 48,
   "outputs": [],
   "source": [
    "# zoom out 70%\n",
    "driver.execute_script(\"document.body.style.zoom='70%'\")"
   ],
   "metadata": {
    "collapsed": false,
    "ExecuteTime": {
     "end_time": "2023-06-23T21:41:35.456174600Z",
     "start_time": "2023-06-23T21:41:35.155884200Z"
    }
   }
  },
  {
   "cell_type": "code",
   "execution_count": 49,
   "outputs": [],
   "source": [],
   "metadata": {
    "collapsed": false,
    "ExecuteTime": {
     "end_time": "2023-06-23T21:42:05.785901900Z",
     "start_time": "2023-06-23T21:42:04.161997400Z"
    }
   }
  },
  {
   "cell_type": "code",
   "execution_count": null,
   "outputs": [],
   "source": [],
   "metadata": {
    "collapsed": false
   }
  }
 ],
 "metadata": {
  "kernelspec": {
   "display_name": "Python 3",
   "language": "python",
   "name": "python3"
  },
  "language_info": {
   "codemirror_mode": {
    "name": "ipython",
    "version": 2
   },
   "file_extension": ".py",
   "mimetype": "text/x-python",
   "name": "python",
   "nbconvert_exporter": "python",
   "pygments_lexer": "ipython2",
   "version": "2.7.6"
  }
 },
 "nbformat": 4,
 "nbformat_minor": 0
}
