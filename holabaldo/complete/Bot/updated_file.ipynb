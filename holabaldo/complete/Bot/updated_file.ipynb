{
 "cells": [
  {
   "cell_type": "code",
   "execution_count": 1,
   "metadata": {
    "collapsed": true,
    "ExecuteTime": {
     "end_time": "2023-05-20T06:57:43.825872400Z",
     "start_time": "2023-05-20T06:56:19.764757400Z"
    }
   },
   "outputs": [
    {
     "name": "stdout",
     "output_type": "stream",
     "text": [
      "Database is connected successfully\n"
     ]
    },
    {
     "data": {
      "text/plain": "''"
     },
     "execution_count": 1,
     "metadata": {},
     "output_type": "execute_result"
    }
   ],
   "source": [
    "import os\n",
    "import time, csv\n",
    "from datetime import datetime\n",
    "from selenium import webdriver\n",
    "from selenium.webdriver import ActionChains\n",
    "from selenium.webdriver.common.by import By\n",
    "import undetected_chromedriver as uc\n",
    "from selenium.webdriver.support.wait import WebDriverWait\n",
    "from selenium.webdriver.support import expected_conditions as EC\n",
    "import os\n",
    "import requests\n",
    "import mysql.connector\n",
    "import random\n",
    "\n",
    "\n",
    "########################################################################################################################\n",
    "# Functions\n",
    "\n",
    "def get_file_data(file_name):\n",
    "    with open(file_name, 'r', encoding='utf-8') as file:\n",
    "        data = file.read().strip().split('\\n')\n",
    "    return data\n",
    "\n",
    "\n",
    "def find_element_send_text(ele, text, clear=True):\n",
    "    while True:\n",
    "        try:\n",
    "            input_field = driver.find_element(By.XPATH, ele)\n",
    "            if clear:\n",
    "                input_field.clear()\n",
    "            input_field.send_keys(text)\n",
    "\n",
    "            break\n",
    "        except:\n",
    "            time.sleep(0.1)\n",
    "\n",
    "\n",
    "def specific_clicker(ele):\n",
    "    while True:\n",
    "        try:\n",
    "            element = driver.find_element(By.XPATH, ele)\n",
    "            webdriver.ActionChains(driver).move_to_element_with_offset(element, 1, 0).click(element).perform()\n",
    "\n",
    "            break\n",
    "        except Exception as e:\n",
    "            # print(e)\n",
    "            pass\n",
    "\n",
    "\n",
    "def specific_clicker2(ele):\n",
    "    try:\n",
    "        element = driver.find_element(By.XPATH, ele)\n",
    "        webdriver.ActionChains(driver).move_to_element_with_offset(element, 1, 0).click(element).perform()\n",
    "\n",
    "    except Exception as e:\n",
    "        # print(e)\n",
    "        pass\n",
    "\n",
    "\n",
    "def get_text(ele):\n",
    "    while True:\n",
    "        try:\n",
    "            element = driver.find_elements(By.XPATH, ele)\n",
    "            texts = [str(x.text) for x in element]\n",
    "            return texts\n",
    "        except Exception as e:\n",
    "            # print(e)\n",
    "            pass\n",
    "\n",
    "\n",
    "def close_chrome():\n",
    "    import os\n",
    "    try:\n",
    "        os.system(\"taskkill /im chrome.exe /f\")\n",
    "    except:\n",
    "        pass\n",
    "\n",
    "\n",
    "def data_scraper(search_term):\n",
    "    url = \"\"\n",
    "    driver.get(url)\n",
    "    time.sleep(1)\n",
    "\n",
    "    specific_clicker(\"//button[@class='btn btn-primary']\")\n",
    "    time.sleep(1)\n",
    "    data = []\n",
    "    for i in range(1, 100):\n",
    "        try:\n",
    "            data.append(get_text(f\"//div[@class='col-md-12']//div[{i}]//div[@class='card-body']//h5\"))\n",
    "        except:\n",
    "            break\n",
    "    return data\n",
    "\n",
    "\n",
    "def download_image(image_url, folder_path, file_name):\n",
    "    # Create the folder if it doesn't exist\n",
    "    os.makedirs(folder_path, exist_ok=True)\n",
    "\n",
    "    # Send a GET request to the URL\n",
    "    response = requests.get(image_url)\n",
    "\n",
    "    if response.status_code == 200:\n",
    "        # Extract the file name from the URL\n",
    "\n",
    "        # Determine the file path to save the image\n",
    "        file_path = os.path.join(folder_path, file_name)\n",
    "\n",
    "        # Save the image to the specified file path\n",
    "        with open(file_path, \"wb\") as file:\n",
    "            file.write(response.content)\n",
    "\n",
    "        print(\"Image downloaded successfully!\")\n",
    "    else:\n",
    "        print(\"Failed to download the image.\")\n",
    "\n",
    "\n",
    "connection = mysql.connector.connect(\n",
    "    user='baldo',\n",
    "    password='AVNS_31sHK4CCPIr6p4Ifgzd',\n",
    "    host='db-mysql-nyc1-47136-do-user-12226124-0.b.db.ondigitalocean.com',\n",
    "    port=25060,\n",
    "    database='Baldo',\n",
    "\n",
    ")\n",
    "\n",
    "cursor = connection.cursor()\n",
    "\n",
    "listings = cursor.execute(\"select * from listings join URL_extra_data on listings.url = URL_extra_data.url\")\n",
    "listings = cursor.fetchall()\n",
    "data = []\n",
    "for single_list in listings:\n",
    "    data.append(list(single_list))\n",
    "\n",
    "# Database is Connected Successfully\n",
    "print(\"Database is connected successfully\")\n",
    "\n",
    "close_chrome()\n",
    "options = uc.ChromeOptions()\n",
    "# path = r\"C:\\Users\\user\\AppData\\Local\\Google\\Chrome\\User Data\"\n",
    "# using os\n",
    "path = os.path.join(os.environ['USERPROFILE'], 'AppData', 'Local', 'Google', 'Chrome', 'User Data')\n",
    "options.add_argument(fr\"user-data-dir={path}\")\n",
    "options.add_argument(f'--profile-directory=Default')\n",
    "driver = uc.Chrome(options=options)\n",
    "driver.maximize_window()\n",
    "driver.get(\"https://holabaldo.com/wp-admin/\")\n",
    "input(\"PLEASE LOGIN AND PRESS ENTER: \")\n"
   ]
  },
  {
   "cell_type": "code",
   "execution_count": 40,
   "outputs": [],
   "source": [
    "# functions for adding new listings\n",
    "\n",
    "def upload_image(btn_no, image_paths):\n",
    "    specific_clicker(f\"(//button[@data-caption])[{btn_no}]\")\n",
    "    print(image_paths)\n",
    "    time.sleep(4)\n",
    "\n",
    "    for image_path in image_paths:\n",
    "        print(image_path)\n",
    "        while True:\n",
    "            try:\n",
    "                driver.find_element(By.XPATH, '//input[@type=\"file\"]').send_keys(fr\"{image_path}\")\n",
    "                break\n",
    "            except Exception as e:\n",
    "                print(e)\n",
    "                time.sleep(1)\n",
    "    time.sleep(5)\n",
    "    specific_clicker(\n",
    "        \"//div[@class='supports-drag-drop' and not(@aria-hidden)]//button[text()='Seleccionar' and not(@disabled)]\")\n",
    "\n",
    "\n",
    "def fill_product_page(title, description, price, o_culture_x, o_academia_x, plusvalia_pros_contras_x,\n",
    "                      plusvalia_comentarios_x, plusvalia_5anios_num_x):\n",
    "    find_element_send_text('//input[@name=\"post_title\"]', title)  # title\n",
    "    while True:\n",
    "        try:\n",
    "            driver.switch_to.frame(driver.find_element(By.XPATH, '//iframe[@id=\"content_ifr\"]'))\n",
    "            driver.find_element(By.XPATH, '//body').send_keys(description)  # description\n",
    "            driver.switch_to.default_content()\n",
    "            break\n",
    "        except:\n",
    "            time.sleep(0.1)\n",
    "\n",
    "    specific_clicker('//*[@data-tab=\"#basic-facts\"]')\n",
    "    find_element_send_text('//input[@id=\"es-field-price\"]', price)\n",
    "    find_element_send_text('//input[@id=\"es-field-plusvalia\"]', plusvalia_5anios_num_x)\n",
    "\n",
    "    find_element_send_text('//*[@id=\"es-field-oferta-cultural\"]', o_culture_x)\n",
    "    find_element_send_text('//*[@id=\"es-field-oferta-academica\"]', o_academia_x)\n",
    "    pros_cons = plusvalia_pros_contras_x + \"\\n\" + plusvalia_comentarios_x\n",
    "    find_element_send_text('//*[@id=\"es-field-ventajas-y-desventajas\"]', pros_cons)\n",
    "\n",
    "\n",
    "def upload_product_images():\n",
    "    specific_clicker('//*[@data-tab=\"#media\"]')\n",
    "    current_dir = os.getcwd() + \"\\\\Files\"\n",
    "    main_image = current_dir + \"\\\\image.png\"\n",
    "\n",
    "    upload_image(\"1\", [main_image])\n",
    "\n",
    "    list_of_images = os.listdir(current_dir)\n",
    "    list_of_images.remove(\"image.png\")\n",
    "    upload_image(\"2\", [current_dir + \"\\\\\" + image_x for image_x in list_of_images])\n",
    "    time.sleep(4)\n",
    "\n",
    "\n",
    "def download_image(image_url, folder_path, file_name):\n",
    "    # Create the folder if it doesn't exist\n",
    "    os.makedirs(folder_path, exist_ok=True)\n",
    "\n",
    "    # Send a GET request to the URL\n",
    "    response = requests.get(image_url)\n",
    "\n",
    "    if response.status_code == 200:\n",
    "        # Extract the file name from the URL\n",
    "\n",
    "        # Determine the file path to save the image\n",
    "        file_path = os.path.join(folder_path, file_name)\n",
    "\n",
    "        # Save the image to the specified file path\n",
    "        with open(file_path, \"wb\") as file:\n",
    "            file.write(response.content)\n",
    "\n",
    "        print(\"Image downloaded successfully!\")\n",
    "    else:\n",
    "        print(\"Failed to download the image.\")\n",
    "\n",
    "\n"
   ],
   "metadata": {
    "collapsed": false,
    "ExecuteTime": {
     "end_time": "2023-05-20T07:52:46.897721600Z",
     "start_time": "2023-05-20T07:52:46.874504300Z"
    }
   }
  },
  {
   "cell_type": "code",
   "execution_count": 14,
   "outputs": [
    {
     "name": "stdout",
     "output_type": "stream",
     "text": [
      "Image downloaded successfully!\n",
      "Image downloaded successfully!\n",
      "Image downloaded successfully!\n",
      "Image downloaded successfully!\n",
      "Image downloaded successfully!\n",
      "Image downloaded successfully!\n"
     ]
    },
    {
     "ename": "WebDriverException",
     "evalue": "Message: unknown error: path is not absolute: C\n  (Session info: chrome=113.0.5672.127)\nStacktrace:\nBacktrace:\n\tGetHandleVerifier [0x00B38893+48451]\n\t(No symbol) [0x00ACB8A1]\n\t(No symbol) [0x009D5058]\n\t(No symbol) [0x009DCE8E]\n\t(No symbol) [0x009FBE03]\n\t(No symbol) [0x00A1A2BC]\n\t(No symbol) [0x009F9586]\n\t(No symbol) [0x00A1A614]\n\t(No symbol) [0x00A2C482]\n\t(No symbol) [0x00A1A0B6]\n\t(No symbol) [0x009F7E08]\n\t(No symbol) [0x009F8F2D]\n\tGetHandleVerifier [0x00D98E3A+2540266]\n\tGetHandleVerifier [0x00DD8959+2801161]\n\tGetHandleVerifier [0x00DD295C+2776588]\n\tGetHandleVerifier [0x00BC2280+612144]\n\t(No symbol) [0x00AD4F6C]\n\t(No symbol) [0x00AD11D8]\n\t(No symbol) [0x00AD12BB]\n\t(No symbol) [0x00AC4857]\n\tBaseThreadInitThunk [0x777900C9+25]\n\tRtlGetAppContainerNamedObjectPath [0x778F7B4E+286]\n\tRtlGetAppContainerNamedObjectPath [0x778F7B1E+238]\n",
     "output_type": "error",
     "traceback": [
      "\u001B[1;31m---------------------------------------------------------------------------\u001B[0m",
      "\u001B[1;31mWebDriverException\u001B[0m                        Traceback (most recent call last)",
      "Cell \u001B[1;32mIn[14], line 33\u001B[0m\n\u001B[0;32m     30\u001B[0m find_element_send_text(\u001B[38;5;124m'\u001B[39m\u001B[38;5;124m//*[@id=\u001B[39m\u001B[38;5;124m\"\u001B[39m\u001B[38;5;124mes-field-address\u001B[39m\u001B[38;5;124m\"\u001B[39m\u001B[38;5;124m]\u001B[39m\u001B[38;5;124m'\u001B[39m, address_of_product)\n\u001B[0;32m     32\u001B[0m \u001B[38;5;66;03m# upload images\u001B[39;00m\n\u001B[1;32m---> 33\u001B[0m \u001B[43mupload_product_images\u001B[49m\u001B[43m(\u001B[49m\u001B[43m)\u001B[49m\n\u001B[0;32m     35\u001B[0m \u001B[38;5;28mprint\u001B[39m(title_of_product)\n\u001B[0;32m     36\u001B[0m \u001B[38;5;28mprint\u001B[39m(price_of_product)\n",
      "Cell \u001B[1;32mIn[13], line 37\u001B[0m, in \u001B[0;36mupload_product_images\u001B[1;34m()\u001B[0m\n\u001B[0;32m     35\u001B[0m specific_clicker(\u001B[38;5;124m'\u001B[39m\u001B[38;5;124m//*[@data-tab=\u001B[39m\u001B[38;5;124m\"\u001B[39m\u001B[38;5;124m#media\u001B[39m\u001B[38;5;124m\"\u001B[39m\u001B[38;5;124m]\u001B[39m\u001B[38;5;124m'\u001B[39m)\n\u001B[0;32m     36\u001B[0m current_dir \u001B[38;5;241m=\u001B[39m os\u001B[38;5;241m.\u001B[39mgetcwd() \u001B[38;5;241m+\u001B[39m \u001B[38;5;124m\"\u001B[39m\u001B[38;5;130;01m\\\\\u001B[39;00m\u001B[38;5;124mimages\u001B[39m\u001B[38;5;124m\"\u001B[39m\n\u001B[1;32m---> 37\u001B[0m \u001B[43mupload_image\u001B[49m\u001B[43m(\u001B[49m\u001B[38;5;124;43m\"\u001B[39;49m\u001B[38;5;124;43m1\u001B[39;49m\u001B[38;5;124;43m\"\u001B[39;49m\u001B[43m,\u001B[49m\u001B[43m \u001B[49m\u001B[43mcurrent_dir\u001B[49m\u001B[43m \u001B[49m\u001B[38;5;241;43m+\u001B[39;49m\u001B[43m \u001B[49m\u001B[38;5;124;43m\"\u001B[39;49m\u001B[38;5;130;43;01m\\\\\u001B[39;49;00m\u001B[38;5;124;43mimage.png\u001B[39;49m\u001B[38;5;124;43m\"\u001B[39;49m\u001B[43m)\u001B[49m\n\u001B[0;32m     39\u001B[0m list_of_images \u001B[38;5;241m=\u001B[39m os\u001B[38;5;241m.\u001B[39mlistdir(current_dir)\n\u001B[0;32m     40\u001B[0m list_of_images\u001B[38;5;241m.\u001B[39mremove(\u001B[38;5;124m\"\u001B[39m\u001B[38;5;124mimage.png\u001B[39m\u001B[38;5;124m\"\u001B[39m)\n",
      "Cell \u001B[1;32mIn[13], line 7\u001B[0m, in \u001B[0;36mupload_image\u001B[1;34m(btn_no, image_paths)\u001B[0m\n\u001B[0;32m      4\u001B[0m specific_clicker(\u001B[38;5;124mf\u001B[39m\u001B[38;5;124m\"\u001B[39m\u001B[38;5;124m(//button[@data-caption])[\u001B[39m\u001B[38;5;132;01m{\u001B[39;00mbtn_no\u001B[38;5;132;01m}\u001B[39;00m\u001B[38;5;124m]\u001B[39m\u001B[38;5;124m\"\u001B[39m)\n\u001B[0;32m      6\u001B[0m \u001B[38;5;28;01mfor\u001B[39;00m image_path \u001B[38;5;129;01min\u001B[39;00m image_paths:\n\u001B[1;32m----> 7\u001B[0m     \u001B[43mdriver\u001B[49m\u001B[38;5;241;43m.\u001B[39;49m\u001B[43mfind_element\u001B[49m\u001B[43m(\u001B[49m\u001B[43mBy\u001B[49m\u001B[38;5;241;43m.\u001B[39;49m\u001B[43mXPATH\u001B[49m\u001B[43m,\u001B[49m\u001B[43m \u001B[49m\u001B[38;5;124;43m'\u001B[39;49m\u001B[38;5;124;43m//input[@type=\u001B[39;49m\u001B[38;5;124;43m\"\u001B[39;49m\u001B[38;5;124;43mfile\u001B[39;49m\u001B[38;5;124;43m\"\u001B[39;49m\u001B[38;5;124;43m]\u001B[39;49m\u001B[38;5;124;43m'\u001B[39;49m\u001B[43m)\u001B[49m\u001B[38;5;241;43m.\u001B[39;49m\u001B[43msend_keys\u001B[49m\u001B[43m(\u001B[49m\u001B[43mimage_path\u001B[49m\u001B[43m)\u001B[49m\n\u001B[0;32m      8\u001B[0m time\u001B[38;5;241m.\u001B[39msleep(\u001B[38;5;241m5\u001B[39m)\n\u001B[0;32m      9\u001B[0m specific_clicker(\u001B[38;5;124m\"\u001B[39m\u001B[38;5;124m//div[@class=\u001B[39m\u001B[38;5;124m'\u001B[39m\u001B[38;5;124mmedia-modal-content\u001B[39m\u001B[38;5;124m'\u001B[39m\u001B[38;5;124m]//button[text()=\u001B[39m\u001B[38;5;124m'\u001B[39m\u001B[38;5;124mSeleccionar\u001B[39m\u001B[38;5;124m'\u001B[39m\u001B[38;5;124m and not(@disabled)]\u001B[39m\u001B[38;5;124m\"\u001B[39m)\n",
      "File \u001B[1;32m~\\AppData\\Local\\Programs\\Python\\Python311\\Lib\\site-packages\\selenium\\webdriver\\remote\\webelement.py:231\u001B[0m, in \u001B[0;36mWebElement.send_keys\u001B[1;34m(self, *value)\u001B[0m\n\u001B[0;32m    228\u001B[0m             remote_files\u001B[38;5;241m.\u001B[39mappend(\u001B[38;5;28mself\u001B[39m\u001B[38;5;241m.\u001B[39m_upload(file))\n\u001B[0;32m    229\u001B[0m         value \u001B[38;5;241m=\u001B[39m \u001B[38;5;124m\"\u001B[39m\u001B[38;5;130;01m\\n\u001B[39;00m\u001B[38;5;124m\"\u001B[39m\u001B[38;5;241m.\u001B[39mjoin(remote_files)\n\u001B[1;32m--> 231\u001B[0m \u001B[38;5;28;43mself\u001B[39;49m\u001B[38;5;241;43m.\u001B[39;49m\u001B[43m_execute\u001B[49m\u001B[43m(\u001B[49m\n\u001B[0;32m    232\u001B[0m \u001B[43m    \u001B[49m\u001B[43mCommand\u001B[49m\u001B[38;5;241;43m.\u001B[39;49m\u001B[43mSEND_KEYS_TO_ELEMENT\u001B[49m\u001B[43m,\u001B[49m\u001B[43m \u001B[49m\u001B[43m{\u001B[49m\u001B[38;5;124;43m\"\u001B[39;49m\u001B[38;5;124;43mtext\u001B[39;49m\u001B[38;5;124;43m\"\u001B[39;49m\u001B[43m:\u001B[49m\u001B[43m \u001B[49m\u001B[38;5;124;43m\"\u001B[39;49m\u001B[38;5;124;43m\"\u001B[39;49m\u001B[38;5;241;43m.\u001B[39;49m\u001B[43mjoin\u001B[49m\u001B[43m(\u001B[49m\u001B[43mkeys_to_typing\u001B[49m\u001B[43m(\u001B[49m\u001B[43mvalue\u001B[49m\u001B[43m)\u001B[49m\u001B[43m)\u001B[49m\u001B[43m,\u001B[49m\u001B[43m \u001B[49m\u001B[38;5;124;43m\"\u001B[39;49m\u001B[38;5;124;43mvalue\u001B[39;49m\u001B[38;5;124;43m\"\u001B[39;49m\u001B[43m:\u001B[49m\u001B[43m \u001B[49m\u001B[43mkeys_to_typing\u001B[49m\u001B[43m(\u001B[49m\u001B[43mvalue\u001B[49m\u001B[43m)\u001B[49m\u001B[43m}\u001B[49m\n\u001B[0;32m    233\u001B[0m \u001B[43m\u001B[49m\u001B[43m)\u001B[49m\n",
      "File \u001B[1;32m~\\AppData\\Local\\Programs\\Python\\Python311\\Lib\\site-packages\\selenium\\webdriver\\remote\\webelement.py:404\u001B[0m, in \u001B[0;36mWebElement._execute\u001B[1;34m(self, command, params)\u001B[0m\n\u001B[0;32m    402\u001B[0m     params \u001B[38;5;241m=\u001B[39m {}\n\u001B[0;32m    403\u001B[0m params[\u001B[38;5;124m\"\u001B[39m\u001B[38;5;124mid\u001B[39m\u001B[38;5;124m\"\u001B[39m] \u001B[38;5;241m=\u001B[39m \u001B[38;5;28mself\u001B[39m\u001B[38;5;241m.\u001B[39m_id\n\u001B[1;32m--> 404\u001B[0m \u001B[38;5;28;01mreturn\u001B[39;00m \u001B[38;5;28;43mself\u001B[39;49m\u001B[38;5;241;43m.\u001B[39;49m\u001B[43m_parent\u001B[49m\u001B[38;5;241;43m.\u001B[39;49m\u001B[43mexecute\u001B[49m\u001B[43m(\u001B[49m\u001B[43mcommand\u001B[49m\u001B[43m,\u001B[49m\u001B[43m \u001B[49m\u001B[43mparams\u001B[49m\u001B[43m)\u001B[49m\n",
      "File \u001B[1;32m~\\AppData\\Local\\Programs\\Python\\Python311\\Lib\\site-packages\\selenium\\webdriver\\remote\\webdriver.py:440\u001B[0m, in \u001B[0;36mWebDriver.execute\u001B[1;34m(self, driver_command, params)\u001B[0m\n\u001B[0;32m    438\u001B[0m response \u001B[38;5;241m=\u001B[39m \u001B[38;5;28mself\u001B[39m\u001B[38;5;241m.\u001B[39mcommand_executor\u001B[38;5;241m.\u001B[39mexecute(driver_command, params)\n\u001B[0;32m    439\u001B[0m \u001B[38;5;28;01mif\u001B[39;00m response:\n\u001B[1;32m--> 440\u001B[0m     \u001B[38;5;28;43mself\u001B[39;49m\u001B[38;5;241;43m.\u001B[39;49m\u001B[43merror_handler\u001B[49m\u001B[38;5;241;43m.\u001B[39;49m\u001B[43mcheck_response\u001B[49m\u001B[43m(\u001B[49m\u001B[43mresponse\u001B[49m\u001B[43m)\u001B[49m\n\u001B[0;32m    441\u001B[0m     response[\u001B[38;5;124m\"\u001B[39m\u001B[38;5;124mvalue\u001B[39m\u001B[38;5;124m\"\u001B[39m] \u001B[38;5;241m=\u001B[39m \u001B[38;5;28mself\u001B[39m\u001B[38;5;241m.\u001B[39m_unwrap_value(response\u001B[38;5;241m.\u001B[39mget(\u001B[38;5;124m\"\u001B[39m\u001B[38;5;124mvalue\u001B[39m\u001B[38;5;124m\"\u001B[39m, \u001B[38;5;28;01mNone\u001B[39;00m))\n\u001B[0;32m    442\u001B[0m     \u001B[38;5;28;01mreturn\u001B[39;00m response\n",
      "File \u001B[1;32m~\\AppData\\Local\\Programs\\Python\\Python311\\Lib\\site-packages\\selenium\\webdriver\\remote\\errorhandler.py:245\u001B[0m, in \u001B[0;36mErrorHandler.check_response\u001B[1;34m(self, response)\u001B[0m\n\u001B[0;32m    243\u001B[0m         alert_text \u001B[38;5;241m=\u001B[39m value[\u001B[38;5;124m\"\u001B[39m\u001B[38;5;124malert\u001B[39m\u001B[38;5;124m\"\u001B[39m]\u001B[38;5;241m.\u001B[39mget(\u001B[38;5;124m\"\u001B[39m\u001B[38;5;124mtext\u001B[39m\u001B[38;5;124m\"\u001B[39m)\n\u001B[0;32m    244\u001B[0m     \u001B[38;5;28;01mraise\u001B[39;00m exception_class(message, screen, stacktrace, alert_text)  \u001B[38;5;66;03m# type: ignore[call-arg]  # mypy is not smart enough here\u001B[39;00m\n\u001B[1;32m--> 245\u001B[0m \u001B[38;5;28;01mraise\u001B[39;00m exception_class(message, screen, stacktrace)\n",
      "\u001B[1;31mWebDriverException\u001B[0m: Message: unknown error: path is not absolute: C\n  (Session info: chrome=113.0.5672.127)\nStacktrace:\nBacktrace:\n\tGetHandleVerifier [0x00B38893+48451]\n\t(No symbol) [0x00ACB8A1]\n\t(No symbol) [0x009D5058]\n\t(No symbol) [0x009DCE8E]\n\t(No symbol) [0x009FBE03]\n\t(No symbol) [0x00A1A2BC]\n\t(No symbol) [0x009F9586]\n\t(No symbol) [0x00A1A614]\n\t(No symbol) [0x00A2C482]\n\t(No symbol) [0x00A1A0B6]\n\t(No symbol) [0x009F7E08]\n\t(No symbol) [0x009F8F2D]\n\tGetHandleVerifier [0x00D98E3A+2540266]\n\tGetHandleVerifier [0x00DD8959+2801161]\n\tGetHandleVerifier [0x00DD295C+2776588]\n\tGetHandleVerifier [0x00BC2280+612144]\n\t(No symbol) [0x00AD4F6C]\n\t(No symbol) [0x00AD11D8]\n\t(No symbol) [0x00AD12BB]\n\t(No symbol) [0x00AC4857]\n\tBaseThreadInitThunk [0x777900C9+25]\n\tRtlGetAppContainerNamedObjectPath [0x778F7B4E+286]\n\tRtlGetAppContainerNamedObjectPath [0x778F7B1E+238]\n"
     ]
    }
   ],
   "source": [
    "\n",
    "for single_product_record in data:\n",
    "    driver.get(\"https://holabaldo.com/wp-admin/post-new.php?post_type=properties\")\n",
    "    title_of_product = single_product_record[1]\n",
    "    price_of_product = single_product_record[2]\n",
    "    description_of_product = single_product_record[3]\n",
    "    features_of_product = single_product_record[4]\n",
    "    address_of_product = single_product_record[5]\n",
    "    images_of_product = str(single_product_record[8]).split(\",\")\n",
    "\n",
    "    o_culture = single_product_record[10]\n",
    "    o_academia = single_product_record[11]\n",
    "    plusvalia_pros_contras = single_product_record[12]\n",
    "    plusvalia_comentarios = single_product_record[13]\n",
    "    plusvalia_5anios_num = single_product_record[14]\n",
    "\n",
    "    try:\n",
    "        download_image(images_of_product[0], \"Files\", \"image.png\")\n",
    "    except:\n",
    "        pass\n",
    "    for image in images_of_product:\n",
    "        file_name_x = \"image-\" + str(random.randint(1, 10040)) + str(random.randint(1, 10400)) + \".png\"\n",
    "        download_image(image, \"Files\", file_name_x)\n",
    "\n",
    "    # fill data on basic page\n",
    "    fill_product_page(title_of_product, description_of_product, price_of_product, o_culture, o_academia,\n",
    "                      plusvalia_pros_contras, plusvalia_comentarios, plusvalia_5anios_num)\n",
    "\n",
    "    # fill location data\n",
    "    specific_clicker('//*[@data-tab=\"#location\"]')\n",
    "    find_element_send_text('//*[@id=\"es-field-address\"]', address_of_product)\n",
    "\n",
    "    # upload images\n",
    "    upload_product_images()\n",
    "\n",
    "    print(title_of_product)\n",
    "    print(price_of_product)\n",
    "    print(description_of_product)\n",
    "    print(features_of_product)\n",
    "    print(address_of_product)\n",
    "    print(images_of_product)\n",
    "    break"
   ],
   "metadata": {
    "collapsed": false,
    "ExecuteTime": {
     "end_time": "2023-05-20T07:25:47.416613400Z",
     "start_time": "2023-05-20T07:25:28.065753500Z"
    }
   }
  },
  {
   "cell_type": "code",
   "execution_count": null,
   "outputs": [],
   "source": [],
   "metadata": {
    "collapsed": false
   }
  },
  {
   "cell_type": "code",
   "execution_count": 41,
   "outputs": [
    {
     "name": "stdout",
     "output_type": "stream",
     "text": [
      "['C:\\\\Users\\\\shahb\\\\PycharmProjects\\\\ClientsData\\\\holabaldo\\\\complete\\\\Bot\\\\Files\\\\image.png']\n",
      "C:\\Users\\shahb\\PycharmProjects\\ClientsData\\holabaldo\\complete\\Bot\\Files\\image.png\n",
      "['C:\\\\Users\\\\shahb\\\\PycharmProjects\\\\ClientsData\\\\holabaldo\\\\complete\\\\Bot\\\\Files\\\\image-69805377.png', 'C:\\\\Users\\\\shahb\\\\PycharmProjects\\\\ClientsData\\\\holabaldo\\\\complete\\\\Bot\\\\Files\\\\image-79529472.png', 'C:\\\\Users\\\\shahb\\\\PycharmProjects\\\\ClientsData\\\\holabaldo\\\\complete\\\\Bot\\\\Files\\\\image-83912978.png']\n",
      "C:\\Users\\shahb\\PycharmProjects\\ClientsData\\holabaldo\\complete\\Bot\\Files\\image-69805377.png\n",
      "C:\\Users\\shahb\\PycharmProjects\\ClientsData\\holabaldo\\complete\\Bot\\Files\\image-79529472.png\n",
      "C:\\Users\\shahb\\PycharmProjects\\ClientsData\\holabaldo\\complete\\Bot\\Files\\image-83912978.png\n"
     ]
    }
   ],
   "source": [
    "upload_product_images()"
   ],
   "metadata": {
    "collapsed": false,
    "ExecuteTime": {
     "end_time": "2023-05-20T07:53:44.382846400Z",
     "start_time": "2023-05-20T07:52:53.932418600Z"
    }
   }
  },
  {
   "cell_type": "code",
   "execution_count": 39,
   "outputs": [
    {
     "name": "stdout",
     "output_type": "stream",
     "text": [
      "['C:\\\\Users\\\\shahb\\\\PycharmProjects\\\\ClientsData\\\\holabaldo\\\\complete\\\\Bot\\\\images\\\\image.png']\n",
      "C:\\Users\\shahb\\PycharmProjects\\ClientsData\\holabaldo\\complete\\Bot\\images\\image.png\n"
     ]
    },
    {
     "name": "stderr",
     "output_type": "stream",
     "text": [
      "\n",
      "KeyboardInterrupt\n",
      "\n"
     ]
    }
   ],
   "source": [
    "upload_image(\"1\", [r\"\"])"
   ],
   "metadata": {
    "collapsed": false,
    "ExecuteTime": {
     "end_time": "2023-05-20T07:51:57.049791Z",
     "start_time": "2023-05-20T07:51:44.162395100Z"
    }
   }
  },
  {
   "cell_type": "code",
   "execution_count": 42,
   "outputs": [],
   "source": [
    "for file in os.listdir(\"Files\"):\n",
    "    os.remove(\"Files\\\\\" + file)"
   ],
   "metadata": {
    "collapsed": false,
    "ExecuteTime": {
     "end_time": "2023-05-20T08:21:28.140529500Z",
     "start_time": "2023-05-20T08:21:28.135540900Z"
    }
   }
  },
  {
   "cell_type": "code",
   "execution_count": null,
   "outputs": [],
   "source": [],
   "metadata": {
    "collapsed": false
   }
  }
 ],
 "metadata": {
  "kernelspec": {
   "display_name": "Python 3",
   "language": "python",
   "name": "python3"
  },
  "language_info": {
   "codemirror_mode": {
    "name": "ipython",
    "version": 2
   },
   "file_extension": ".py",
   "mimetype": "text/x-python",
   "name": "python",
   "nbconvert_exporter": "python",
   "pygments_lexer": "ipython2",
   "version": "2.7.6"
  }
 },
 "nbformat": 4,
 "nbformat_minor": 0
}
