{
 "cells": [
  {
   "cell_type": "code",
   "execution_count": 40,
   "metadata": {
    "collapsed": true,
    "ExecuteTime": {
     "end_time": "2023-05-18T18:55:39.062243Z",
     "start_time": "2023-05-18T18:55:36.491246800Z"
    }
   },
   "outputs": [
    {
     "name": "stdout",
     "output_type": "stream",
     "text": [
      "Database is connected successfully\n"
     ]
    }
   ],
   "source": [
    "import os\n",
    "import time, csv\n",
    "from datetime import datetime\n",
    "\n",
    "import pyautogui\n",
    "from selenium import webdriver\n",
    "from selenium.webdriver import ActionChains\n",
    "from selenium.webdriver.common.by import By\n",
    "import undetected_chromedriver as uc\n",
    "from selenium.webdriver.support.wait import WebDriverWait\n",
    "from selenium.webdriver.support import expected_conditions as EC\n",
    "\n",
    "\n",
    "########################################################################################################################\n",
    "# Functions\n",
    "\n",
    "def get_file_data(file_name):\n",
    "    with open(file_name, 'r', encoding='utf-8') as file:\n",
    "        data = file.read().strip().split('\\n')\n",
    "    return data\n",
    "\n",
    "\n",
    "def find_element_send_text(ele, text, clear=True):\n",
    "    while True:\n",
    "        try:\n",
    "            input_field = driver.find_element(By.XPATH, ele)\n",
    "            if clear:\n",
    "                input_field.clear()\n",
    "            input_field.send_keys(text)\n",
    "\n",
    "            break\n",
    "        except:\n",
    "            time.sleep(0.1)\n",
    "\n",
    "\n",
    "def specific_clicker(ele):\n",
    "    while True:\n",
    "        try:\n",
    "            element = driver.find_element(By.XPATH, ele)\n",
    "            webdriver.ActionChains(driver).move_to_element_with_offset(element, 1, 0).click(element).perform()\n",
    "\n",
    "            break\n",
    "        except Exception as e:\n",
    "            # print(e)\n",
    "            pass\n",
    "\n",
    "\n",
    "def specific_clicker2(ele):\n",
    "    try:\n",
    "        element = driver.find_element(By.XPATH, ele)\n",
    "        webdriver.ActionChains(driver).move_to_element_with_offset(element, 1, 0).click(element).perform()\n",
    "\n",
    "    except Exception as e:\n",
    "        # print(e)\n",
    "        pass\n",
    "\n",
    "\n",
    "def get_text(ele):\n",
    "    while True:\n",
    "        try:\n",
    "            element = driver.find_elements(By.XPATH, ele)\n",
    "            texts = [str(x.text) for x in element]\n",
    "            return texts\n",
    "        except Exception as e:\n",
    "            # print(e)\n",
    "            pass\n",
    "\n",
    "\n",
    "def close_chrome():\n",
    "    import os\n",
    "    try:\n",
    "        os.system(\"taskkill /im chrome.exe /f\")\n",
    "    except:\n",
    "        pass\n",
    "\n",
    "\n",
    "def data_scraper(search_term):\n",
    "    url = \"\"\n",
    "    driver.get(url)\n",
    "    time.sleep(1)\n",
    "\n",
    "    specific_clicker(\"//button[@class='btn btn-primary']\")\n",
    "    time.sleep(1)\n",
    "    data = []\n",
    "    for i in range(1, 100):\n",
    "        try:\n",
    "            data.append(get_text(f\"//div[@class='col-md-12']//div[{i}]//div[@class='card-body']//h5\"))\n",
    "        except:\n",
    "            break\n",
    "    return data\n",
    "\n",
    "\n",
    "import mysql.connector\n",
    "\n",
    "connection = mysql.connector.connect(\n",
    "    user='baldo',\n",
    "    password='AVNS_31sHK4CCPIr6p4Ifgzd',\n",
    "    host='db-mysql-nyc1-47136-do-user-12226124-0.b.db.ondigitalocean.com',\n",
    "    port=25060,\n",
    "    database='Baldo',\n",
    "\n",
    ")\n",
    "\n",
    "cursor = connection.cursor()\n",
    "\n",
    "close_chrome()\n",
    "# Database is Connected Successfully\n",
    "print(\"Database is connected successfully\")\n"
   ]
  },
  {
   "cell_type": "code",
   "execution_count": 41,
   "outputs": [],
   "source": [
    "options = uc.ChromeOptions()\n",
    "# path = r\"C:\\Users\\user\\AppData\\Local\\Google\\Chrome\\User Data\"\n",
    "# using os\n",
    "path = os.path.join(os.environ['USERPROFILE'], 'AppData', 'Local', 'Google', 'Chrome', 'User Data')\n",
    "options.add_argument(fr\"user-data-dir={path}\")\n",
    "options.add_argument(f'--profile-directory=Default')\n",
    "driver = uc.Chrome(options=options)"
   ],
   "metadata": {
    "collapsed": false,
    "ExecuteTime": {
     "end_time": "2023-05-18T18:55:46.804440Z",
     "start_time": "2023-05-18T18:55:40.997737Z"
    }
   }
  },
  {
   "cell_type": "code",
   "execution_count": 42,
   "outputs": [],
   "source": [
    "driver.maximize_window()\n",
    "driver.get(\"https://holabaldo.com/wp-admin/\")"
   ],
   "metadata": {
    "collapsed": false,
    "ExecuteTime": {
     "end_time": "2023-05-18T18:55:55.190047Z",
     "start_time": "2023-05-18T18:55:46.800450600Z"
    }
   }
  },
  {
   "cell_type": "code",
   "execution_count": 43,
   "outputs": [],
   "source": [
    "# upload Product\n",
    "driver.get(\"https://holabaldo.com/wp-admin/post-new.php?post_type=properties\")"
   ],
   "metadata": {
    "collapsed": false,
    "ExecuteTime": {
     "end_time": "2023-05-18T18:56:28.148605800Z",
     "start_time": "2023-05-18T18:56:20.092230400Z"
    }
   }
  },
  {
   "cell_type": "code",
   "execution_count": 12,
   "outputs": [],
   "source": [
    "find_element_send_text('//input[@name=\"post_title\"]', \"test\")  # title\n",
    "while True:\n",
    "    try:\n",
    "        driver.switch_to.frame(driver.find_element(By.XPATH, '//iframe[@id=\"content_ifr\"]'))\n",
    "        driver.find_element(By.XPATH, '//body').send_keys(\"test\")  # description\n",
    "        driver.switch_to.default_content()\n",
    "        break\n",
    "    except:\n",
    "        time.sleep(0.1)\n"
   ],
   "metadata": {
    "collapsed": false,
    "ExecuteTime": {
     "end_time": "2023-05-18T18:19:26.325942600Z",
     "start_time": "2023-05-18T18:19:24.734448300Z"
    }
   }
  },
  {
   "cell_type": "code",
   "execution_count": 21,
   "outputs": [],
   "source": [
    "# upload Image\n",
    "specific_clicker(\"//button[@data-caption]\")"
   ],
   "metadata": {
    "collapsed": false,
    "ExecuteTime": {
     "end_time": "2023-05-18T18:31:53.295175400Z",
     "start_time": "2023-05-18T18:31:51.850453700Z"
    }
   }
  },
  {
   "cell_type": "code",
   "execution_count": 22,
   "outputs": [],
   "source": [
    "specific_clicker('/html/body/div[30]/div[1]/div/div/div[3]/div[1]/div/button[1]')"
   ],
   "metadata": {
    "collapsed": false,
    "ExecuteTime": {
     "end_time": "2023-05-18T18:33:26.167049600Z",
     "start_time": "2023-05-18T18:33:25.517226300Z"
    }
   }
  },
  {
   "cell_type": "code",
   "execution_count": 23,
   "outputs": [],
   "source": [
    "driver.find_element(By.XPATH, '//input[@type=\"file\"]') \\\n",
    "    .send_keys(r\"C:\\Users\\shahb\\PycharmProjects\\ClientsData\\holabaldo\\complete\\Bot\\unnamed (1).png\")"
   ],
   "metadata": {
    "collapsed": false,
    "ExecuteTime": {
     "end_time": "2023-05-18T18:37:18.355061900Z",
     "start_time": "2023-05-18T18:37:18.266494600Z"
    }
   }
  },
  {
   "cell_type": "code",
   "execution_count": 24,
   "outputs": [],
   "source": [
    "specific_clicker('/html/body/div[30]/div[1]/div/div/div[4]/div/div[2]/button')"
   ],
   "metadata": {
    "collapsed": false,
    "ExecuteTime": {
     "end_time": "2023-05-18T18:38:10.500495200Z",
     "start_time": "2023-05-18T18:38:09.267008900Z"
    }
   }
  },
  {
   "cell_type": "code",
   "execution_count": 72,
   "outputs": [
    {
     "name": "stdout",
     "output_type": "stream",
     "text": [
      "C:\\Users\\shahb\\PycharmProjects\\ClientsData\\holabaldo\\complete\\Bot\\Files\\image.png\n"
     ]
    },
    {
     "name": "stderr",
     "output_type": "stream",
     "text": [
      "\n",
      "KeyboardInterrupt\n",
      "\n"
     ]
    }
   ],
   "source": [
    "def upload_image(btn_no, image_paths):\n",
    "    specific_clicker(f\"(//button[@data-caption])[{btn_no}]\")\n",
    "\n",
    "    for image_path in image_paths:\n",
    "        print(image_path)\n",
    "        while True:\n",
    "            try:\n",
    "                driver.find_element(By.XPATH, '//input[@type=\"file\"]').send_keys(image_path)\n",
    "                break\n",
    "            except:\n",
    "                time.sleep(1)\n",
    "    time.sleep(4)\n",
    "    specific_clicker('//*[@id=\"__wp-uploader-id-9\"]/div[4]/div/div[2]/button[not(@disabled)]')\n",
    "\n",
    "\n",
    "\n",
    "upload_image(\"1\", [r'C:\\Users\\shahb\\PycharmProjects\\ClientsData\\holabaldo\\complete\\Bot\\Files\\image.png'])\n",
    "\n"
   ],
   "metadata": {
    "collapsed": false,
    "ExecuteTime": {
     "end_time": "2023-05-18T19:45:41.051481600Z",
     "start_time": "2023-05-18T19:45:09.507269900Z"
    }
   }
  },
  {
   "cell_type": "code",
   "execution_count": 48,
   "outputs": [],
   "source": [
    "\n",
    "listings = cursor.execute(\"select * from listings join URL_extra_data on listings.url = URL_extra_data.url\")\n",
    "listings = cursor.fetchall()\n",
    "\n",
    "# join two tables on base of url [URL_extra_data, listings]\n",
    "# select * from URL_extra_data join listings on URL_extra_data.url = listings.url\n"
   ],
   "metadata": {
    "collapsed": false,
    "ExecuteTime": {
     "end_time": "2023-05-18T19:01:27.922238800Z",
     "start_time": "2023-05-18T19:01:05.145913600Z"
    }
   }
  },
  {
   "cell_type": "code",
   "execution_count": 49,
   "outputs": [],
   "source": [
    "data = []\n",
    "for single_list in listings:\n",
    "    data.append(list(single_list))\n",
    "\n",
    "\n",
    "\n"
   ],
   "metadata": {
    "collapsed": false,
    "ExecuteTime": {
     "end_time": "2023-05-18T19:01:30.764756700Z",
     "start_time": "2023-05-18T19:01:30.748800600Z"
    }
   }
  },
  {
   "cell_type": "code",
   "execution_count": 51,
   "outputs": [
    {
     "name": "stdout",
     "output_type": "stream",
     "text": [
      "https://assets.easybroker.com/property_images/2036863/31227984/EB-GU6863.png?version=1613535633, https://assets.easybroker.com/property_images/2036863/31227982/EB-GU6863.png?version=1613535633, https://assets.easybroker.com/property_images/2036863/31227981/EB-GU6863.jpeg?version=1613535633, https://assets.easybroker.com/property_images/2036863/31227991/EB-GU6863.jpeg?version=1613535633, https://assets.easybroker.com/property_images/2036863/31227993/EB-GU6863.jpeg?version=1613535633\n",
      "1,4 El Castillo Guanajuato.\n"
     ]
    }
   ],
   "source": [],
   "metadata": {
    "collapsed": false,
    "ExecuteTime": {
     "end_time": "2023-05-18T19:04:06.562340600Z",
     "start_time": "2023-05-18T19:04:06.542755200Z"
    }
   }
  },
  {
   "cell_type": "code",
   "execution_count": 62,
   "outputs": [],
   "source": [
    "def upload_product(title, description, price, percent, address):\n",
    "    find_element_send_text('//input[@name=\"post_title\"]', title)  # title\n",
    "    while True:\n",
    "        try:\n",
    "            driver.switch_to.frame(driver.find_element(By.XPATH, '//iframe[@id=\"content_ifr\"]'))\n",
    "            driver.find_element(By.XPATH, '//body').send_keys(description)  # description\n",
    "            driver.switch_to.default_content()\n",
    "            break\n",
    "        except:\n",
    "            time.sleep(0.1)\n",
    "\n",
    "    specific_clicker('//*[@data-tab=\"#basic-facts\"]')\n",
    "    find_element_send_text('//input[@id=\"es-field-price\"]', price)\n",
    "    find_element_send_text('//input[@id=\"es-field-plusvalia\"]', percent)\n",
    "\n",
    "    specific_clicker('//*[@data-tab=\"#media\"]')\n",
    "    current_dir = os.getcwd() + \"\\\\images\"\n",
    "    upload_image(\"1\", current_dir + \"\\\\image.png\")\n",
    "\n",
    "    # all images in Files folder except image.png\n",
    "    list_of_images = os.listdir(current_dir)\n",
    "    list_of_images.remove(\"image.png\")\n",
    "    upload_image(\"2\", [current_dir + \"\\\\\" + image_x for image_x in list_of_images])\n",
    "    time.sleep(4)\n",
    "\n",
    "    specific_clicker('//a[@data-tab=\"#location\"]')\n",
    "    find_element_send_text('//input[@id=\"es-field-address\"]', address)\n",
    "    time.sleep(1)\n",
    "\n",
    "\n",
    "\n",
    "\n",
    "\n",
    "\n",
    "\n",
    "\n"
   ],
   "metadata": {
    "collapsed": false,
    "ExecuteTime": {
     "end_time": "2023-05-18T19:31:15.992091300Z",
     "start_time": "2023-05-18T19:31:15.977979600Z"
    }
   }
  },
  {
   "cell_type": "code",
   "execution_count": 45,
   "outputs": [],
   "source": [
    "# upload Images\n",
    "specific_clicker('//li/a[@data-tab=\"#media\"]')"
   ],
   "metadata": {
    "collapsed": false,
    "ExecuteTime": {
     "end_time": "2023-05-18T18:58:34.672096100Z",
     "start_time": "2023-05-18T18:58:33.453457400Z"
    }
   }
  },
  {
   "cell_type": "code",
   "execution_count": 54,
   "outputs": [],
   "source": [
    "import os\n",
    "import requests\n",
    "import random\n",
    "\n",
    "\n",
    "def download_image(image_url, folder_path, file_name):\n",
    "    # Create the folder if it doesn't exist\n",
    "    os.makedirs(folder_path, exist_ok=True)\n",
    "\n",
    "    # Send a GET request to the URL\n",
    "    response = requests.get(image_url)\n",
    "\n",
    "    if response.status_code == 200:\n",
    "        # Extract the file name from the URL\n",
    "\n",
    "\n",
    "\n",
    "        # Determine the file path to save the image\n",
    "        file_path = os.path.join(folder_path, file_name)\n",
    "\n",
    "        # Save the image to the specified file path\n",
    "        with open(file_path, \"wb\") as file:\n",
    "            file.write(response.content)\n",
    "\n",
    "        print(\"Image downloaded successfully!\")\n",
    "    else:\n",
    "        print(\"Failed to download the image.\")\n",
    "\n",
    "\n",
    "# Example usage\n",
    "url = \"https://assets.easybroker.com/property_images/2036863/31227984/EB-GU6863.png?version=1613535633\"\n",
    "folder = \"Files\"\n",
    "\n"
   ],
   "metadata": {
    "collapsed": false,
    "ExecuteTime": {
     "end_time": "2023-05-18T19:20:19.219024Z",
     "start_time": "2023-05-18T19:20:19.204786300Z"
    }
   }
  },
  {
   "cell_type": "code",
   "execution_count": 74,
   "outputs": [
    {
     "name": "stdout",
     "output_type": "stream",
     "text": [
      "['14', '000 m² de terreno', ' 175 m de largo', ' 80 m de ancho']\n"
     ]
    }
   ],
   "source": [
    "for single_product_record in data:\n",
    "    title_of_product = single_product_record[1]\n",
    "    price_of_product = single_product_record[2]\n",
    "    description_of_product = single_product_record[3]\n",
    "    features_of_product = str(single_product_record[4]).split(\",\")\n",
    "    address_of_product = single_product_record[5]\n",
    "    images_of_product = str(single_product_record[8]).split(\",\")\n",
    "    print(features_of_product)\n",
    "    break\n",
    "    print(images_of_product)\n",
    "    try:\n",
    "        download_image(images_of_product[0], \"Files\", \"image.png\")\n",
    "    except:\n",
    "        pass\n",
    "    for image in images_of_product:\n",
    "        file_name_x = \"image-\" + str(random.randint(1, 10040)) + str(random.randint(1, 10400)) + \".png\"\n",
    "        download_image(image, \"Files\", file_name_x)\n",
    "\n",
    "\n",
    "    print([title_of_product, description_of_product, price_of_product, features_of_product, address_of_product])\n",
    "    upload_product(title_of_product, description_of_product, price_of_product, \"10\", address_of_product)\n",
    "    break"
   ],
   "metadata": {
    "collapsed": false,
    "ExecuteTime": {
     "end_time": "2023-05-18T21:21:32.878398600Z",
     "start_time": "2023-05-18T21:21:32.846843500Z"
    }
   }
  },
  {
   "cell_type": "code",
   "execution_count": 55,
   "outputs": [],
   "source": [],
   "metadata": {
    "collapsed": false,
    "ExecuteTime": {
     "end_time": "2023-05-18T19:23:38.420179800Z",
     "start_time": "2023-05-18T19:23:38.394874Z"
    }
   }
  },
  {
   "cell_type": "code",
   "execution_count": 56,
   "outputs": [
    {
     "data": {
      "text/plain": "'C:\\\\Users\\\\shahb\\\\PycharmProjects\\\\ClientsData\\\\holabaldo\\\\complete\\\\Bot'"
     },
     "execution_count": 56,
     "metadata": {},
     "output_type": "execute_result"
    }
   ],
   "source": [],
   "metadata": {
    "collapsed": false,
    "ExecuteTime": {
     "end_time": "2023-05-18T19:23:42.698214600Z",
     "start_time": "2023-05-18T19:23:42.660155800Z"
    }
   }
  },
  {
   "cell_type": "code",
   "execution_count": null,
   "outputs": [],
   "source": [],
   "metadata": {
    "collapsed": false
   }
  }
 ],
 "metadata": {
  "kernelspec": {
   "display_name": "Python 3",
   "language": "python",
   "name": "python3"
  },
  "language_info": {
   "codemirror_mode": {
    "name": "ipython",
    "version": 2
   },
   "file_extension": ".py",
   "mimetype": "text/x-python",
   "name": "python",
   "nbconvert_exporter": "python",
   "pygments_lexer": "ipython2",
   "version": "2.7.6"
  }
 },
 "nbformat": 4,
 "nbformat_minor": 0
}
