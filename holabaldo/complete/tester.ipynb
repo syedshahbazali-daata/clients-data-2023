{
 "cells": [
  {
   "cell_type": "code",
   "execution_count": null,
   "metadata": {
    "collapsed": true
   },
   "outputs": [],
   "source": []
  },
  {
   "cell_type": "code",
   "execution_count": 1,
   "outputs": [
    {
     "ename": "OperationalError",
     "evalue": "2013 (HY000): Lost connection to MySQL server during query",
     "output_type": "error",
     "traceback": [
      "\u001B[1;31m---------------------------------------------------------------------------\u001B[0m",
      "\u001B[1;31mMySQLInterfaceError\u001B[0m                       Traceback (most recent call last)",
      "File \u001B[1;32m~\\AppData\\Local\\Programs\\Python\\Python311\\Lib\\site-packages\\mysql\\connector\\connection_cext.py:288\u001B[0m, in \u001B[0;36mCMySQLConnection._open_connection\u001B[1;34m(self)\u001B[0m\n\u001B[0;32m    287\u001B[0m \u001B[38;5;28;01mtry\u001B[39;00m:\n\u001B[1;32m--> 288\u001B[0m     \u001B[38;5;28;43mself\u001B[39;49m\u001B[38;5;241;43m.\u001B[39;49m\u001B[43m_cmysql\u001B[49m\u001B[38;5;241;43m.\u001B[39;49m\u001B[43mconnect\u001B[49m\u001B[43m(\u001B[49m\u001B[38;5;241;43m*\u001B[39;49m\u001B[38;5;241;43m*\u001B[39;49m\u001B[43mcnx_kwargs\u001B[49m\u001B[43m)\u001B[49m\n\u001B[0;32m    289\u001B[0m     \u001B[38;5;28mself\u001B[39m\u001B[38;5;241m.\u001B[39m_cmysql\u001B[38;5;241m.\u001B[39mconverter_str_fallback \u001B[38;5;241m=\u001B[39m \u001B[38;5;28mself\u001B[39m\u001B[38;5;241m.\u001B[39m_converter_str_fallback\n",
      "\u001B[1;31mMySQLInterfaceError\u001B[0m: Lost connection to MySQL server during query",
      "\nThe above exception was the direct cause of the following exception:\n",
      "\u001B[1;31mOperationalError\u001B[0m                          Traceback (most recent call last)",
      "Cell \u001B[1;32mIn[1], line 95\u001B[0m\n\u001B[0;32m     89\u001B[0m     \u001B[38;5;28;01mreturn\u001B[39;00m data\n\u001B[0;32m     93\u001B[0m \u001B[38;5;28;01mimport\u001B[39;00m \u001B[38;5;21;01mmysql\u001B[39;00m\u001B[38;5;21;01m.\u001B[39;00m\u001B[38;5;21;01mconnector\u001B[39;00m\n\u001B[1;32m---> 95\u001B[0m connection \u001B[38;5;241m=\u001B[39m \u001B[43mmysql\u001B[49m\u001B[38;5;241;43m.\u001B[39;49m\u001B[43mconnector\u001B[49m\u001B[38;5;241;43m.\u001B[39;49m\u001B[43mconnect\u001B[49m\u001B[43m(\u001B[49m\n\u001B[0;32m     96\u001B[0m \u001B[43m    \u001B[49m\u001B[43muser\u001B[49m\u001B[38;5;241;43m=\u001B[39;49m\u001B[38;5;124;43m'\u001B[39;49m\u001B[38;5;124;43mbaldo\u001B[39;49m\u001B[38;5;124;43m'\u001B[39;49m\u001B[43m,\u001B[49m\n\u001B[0;32m     97\u001B[0m \u001B[43m    \u001B[49m\u001B[43mpassword\u001B[49m\u001B[38;5;241;43m=\u001B[39;49m\u001B[38;5;124;43m'\u001B[39;49m\u001B[38;5;124;43mAVNS_31sHK4CCPIr6p4Ifgzd\u001B[39;49m\u001B[38;5;124;43m'\u001B[39;49m\u001B[43m,\u001B[49m\n\u001B[0;32m     98\u001B[0m \u001B[43m    \u001B[49m\u001B[43mhost\u001B[49m\u001B[38;5;241;43m=\u001B[39;49m\u001B[38;5;124;43m'\u001B[39;49m\u001B[38;5;124;43mdb-mysql-nyc1-47136-do-user-12226124-0.b.db.ondigitalocean.com\u001B[39;49m\u001B[38;5;124;43m'\u001B[39;49m\u001B[43m,\u001B[49m\n\u001B[0;32m     99\u001B[0m \u001B[43m    \u001B[49m\u001B[43mport\u001B[49m\u001B[38;5;241;43m=\u001B[39;49m\u001B[38;5;241;43m25060\u001B[39;49m\u001B[43m,\u001B[49m\n\u001B[0;32m    100\u001B[0m \u001B[43m    \u001B[49m\u001B[43mdatabase\u001B[49m\u001B[38;5;241;43m=\u001B[39;49m\u001B[38;5;124;43m'\u001B[39;49m\u001B[38;5;124;43mBaldo\u001B[39;49m\u001B[38;5;124;43m'\u001B[39;49m\u001B[43m,\u001B[49m\n\u001B[0;32m    101\u001B[0m \n\u001B[0;32m    102\u001B[0m \u001B[43m)\u001B[49m\n\u001B[0;32m    104\u001B[0m cursor \u001B[38;5;241m=\u001B[39m connection\u001B[38;5;241m.\u001B[39mcursor()\n\u001B[0;32m    106\u001B[0m close_chrome()\n",
      "File \u001B[1;32m~\\AppData\\Local\\Programs\\Python\\Python311\\Lib\\site-packages\\mysql\\connector\\pooling.py:293\u001B[0m, in \u001B[0;36mconnect\u001B[1;34m(*args, **kwargs)\u001B[0m\n\u001B[0;32m    290\u001B[0m         \u001B[38;5;28;01mraise\u001B[39;00m \u001B[38;5;167;01mImportError\u001B[39;00m(ERROR_NO_CEXT)\n\u001B[0;32m    292\u001B[0m \u001B[38;5;28;01mif\u001B[39;00m CMySQLConnection \u001B[38;5;129;01mand\u001B[39;00m \u001B[38;5;129;01mnot\u001B[39;00m use_pure:\n\u001B[1;32m--> 293\u001B[0m     \u001B[38;5;28;01mreturn\u001B[39;00m \u001B[43mCMySQLConnection\u001B[49m\u001B[43m(\u001B[49m\u001B[38;5;241;43m*\u001B[39;49m\u001B[43margs\u001B[49m\u001B[43m,\u001B[49m\u001B[43m \u001B[49m\u001B[38;5;241;43m*\u001B[39;49m\u001B[38;5;241;43m*\u001B[39;49m\u001B[43mkwargs\u001B[49m\u001B[43m)\u001B[49m\n\u001B[0;32m    294\u001B[0m \u001B[38;5;28;01mreturn\u001B[39;00m MySQLConnection(\u001B[38;5;241m*\u001B[39margs, \u001B[38;5;241m*\u001B[39m\u001B[38;5;241m*\u001B[39mkwargs)\n",
      "File \u001B[1;32m~\\AppData\\Local\\Programs\\Python\\Python311\\Lib\\site-packages\\mysql\\connector\\connection_cext.py:118\u001B[0m, in \u001B[0;36mCMySQLConnection.__init__\u001B[1;34m(self, **kwargs)\u001B[0m\n\u001B[0;32m    115\u001B[0m \u001B[38;5;28msuper\u001B[39m()\u001B[38;5;241m.\u001B[39m\u001B[38;5;21m__init__\u001B[39m()\n\u001B[0;32m    117\u001B[0m \u001B[38;5;28;01mif\u001B[39;00m kwargs:\n\u001B[1;32m--> 118\u001B[0m     \u001B[38;5;28;43mself\u001B[39;49m\u001B[38;5;241;43m.\u001B[39;49m\u001B[43mconnect\u001B[49m\u001B[43m(\u001B[49m\u001B[38;5;241;43m*\u001B[39;49m\u001B[38;5;241;43m*\u001B[39;49m\u001B[43mkwargs\u001B[49m\u001B[43m)\u001B[49m\n",
      "File \u001B[1;32m~\\AppData\\Local\\Programs\\Python\\Python311\\Lib\\site-packages\\mysql\\connector\\abstracts.py:1178\u001B[0m, in \u001B[0;36mMySQLConnectionAbstract.connect\u001B[1;34m(self, **kwargs)\u001B[0m\n\u001B[0;32m   1175\u001B[0m     \u001B[38;5;28mself\u001B[39m\u001B[38;5;241m.\u001B[39mconfig(\u001B[38;5;241m*\u001B[39m\u001B[38;5;241m*\u001B[39mkwargs)\n\u001B[0;32m   1177\u001B[0m \u001B[38;5;28mself\u001B[39m\u001B[38;5;241m.\u001B[39mdisconnect()\n\u001B[1;32m-> 1178\u001B[0m \u001B[38;5;28;43mself\u001B[39;49m\u001B[38;5;241;43m.\u001B[39;49m\u001B[43m_open_connection\u001B[49m\u001B[43m(\u001B[49m\u001B[43m)\u001B[49m\n\u001B[0;32m   1179\u001B[0m \u001B[38;5;66;03m# Server does not allow to run any other statement different from ALTER\u001B[39;00m\n\u001B[0;32m   1180\u001B[0m \u001B[38;5;66;03m# when user's password has been expired.\u001B[39;00m\n\u001B[0;32m   1181\u001B[0m \u001B[38;5;28;01mif\u001B[39;00m \u001B[38;5;129;01mnot\u001B[39;00m \u001B[38;5;28mself\u001B[39m\u001B[38;5;241m.\u001B[39m_client_flags \u001B[38;5;241m&\u001B[39m ClientFlag\u001B[38;5;241m.\u001B[39mCAN_HANDLE_EXPIRED_PASSWORDS:\n",
      "File \u001B[1;32m~\\AppData\\Local\\Programs\\Python\\Python311\\Lib\\site-packages\\mysql\\connector\\connection_cext.py:293\u001B[0m, in \u001B[0;36mCMySQLConnection._open_connection\u001B[1;34m(self)\u001B[0m\n\u001B[0;32m    291\u001B[0m         \u001B[38;5;28mself\u001B[39m\u001B[38;5;241m.\u001B[39mconverter\u001B[38;5;241m.\u001B[39mstr_fallback \u001B[38;5;241m=\u001B[39m \u001B[38;5;28mself\u001B[39m\u001B[38;5;241m.\u001B[39m_converter_str_fallback\n\u001B[0;32m    292\u001B[0m \u001B[38;5;28;01mexcept\u001B[39;00m MySQLInterfaceError \u001B[38;5;28;01mas\u001B[39;00m err:\n\u001B[1;32m--> 293\u001B[0m     \u001B[38;5;28;01mraise\u001B[39;00m get_mysql_exception(\n\u001B[0;32m    294\u001B[0m         msg\u001B[38;5;241m=\u001B[39merr\u001B[38;5;241m.\u001B[39mmsg, errno\u001B[38;5;241m=\u001B[39merr\u001B[38;5;241m.\u001B[39merrno, sqlstate\u001B[38;5;241m=\u001B[39merr\u001B[38;5;241m.\u001B[39msqlstate\n\u001B[0;32m    295\u001B[0m     ) \u001B[38;5;28;01mfrom\u001B[39;00m \u001B[38;5;21;01merr\u001B[39;00m\n\u001B[0;32m    297\u001B[0m \u001B[38;5;28mself\u001B[39m\u001B[38;5;241m.\u001B[39m_do_handshake()\n",
      "\u001B[1;31mOperationalError\u001B[0m: 2013 (HY000): Lost connection to MySQL server during query"
     ]
    }
   ],
   "source": [
    "import os\n",
    "import time, csv\n",
    "from datetime import datetime\n",
    "\n",
    "import pyautogui\n",
    "from selenium import webdriver\n",
    "from selenium.webdriver import ActionChains\n",
    "from selenium.webdriver.common.by import By\n",
    "import undetected_chromedriver as uc\n",
    "from selenium.webdriver.support.wait import WebDriverWait\n",
    "from selenium.webdriver.support import expected_conditions as EC\n",
    "\n",
    "\n",
    "########################################################################################################################\n",
    "# Functions\n",
    "\n",
    "def get_file_data(file_name):\n",
    "    with open(file_name, 'r', encoding='utf-8') as file:\n",
    "        data = file.read().strip().split('\\n')\n",
    "    return data\n",
    "\n",
    "\n",
    "def find_element_send_text(ele, text, clear=True):\n",
    "    while True:\n",
    "        try:\n",
    "            input_field = driver.find_element(By.XPATH, ele)\n",
    "            if clear:\n",
    "                input_field.clear()\n",
    "            input_field.send_keys(text)\n",
    "\n",
    "            break\n",
    "        except:\n",
    "            time.sleep(0.1)\n",
    "\n",
    "\n",
    "def specific_clicker(ele):\n",
    "    while True:\n",
    "        try:\n",
    "            element = driver.find_element(By.XPATH, ele)\n",
    "            webdriver.ActionChains(driver).move_to_element_with_offset(element, 1, 0).click(element).perform()\n",
    "\n",
    "            break\n",
    "        except Exception as e:\n",
    "            # print(e)\n",
    "            pass\n",
    "\n",
    "\n",
    "def specific_clicker2(ele):\n",
    "    try:\n",
    "        element = driver.find_element(By.XPATH, ele)\n",
    "        webdriver.ActionChains(driver).move_to_element_with_offset(element, 1, 0).click(element).perform()\n",
    "\n",
    "    except Exception as e:\n",
    "        # print(e)\n",
    "        pass\n",
    "\n",
    "\n",
    "def get_text(ele):\n",
    "    while True:\n",
    "        try:\n",
    "            element = driver.find_elements(By.XPATH, ele)\n",
    "            texts = [str(x.text) for x in element]\n",
    "            return texts\n",
    "        except Exception as e:\n",
    "            # print(e)\n",
    "            pass\n",
    "\n",
    "\n",
    "def close_chrome():\n",
    "    import os\n",
    "    try:\n",
    "        os.system(\"taskkill /im chrome.exe /f\")\n",
    "    except:\n",
    "        pass\n",
    "\n",
    "def data_scraper(search_term):\n",
    "    url = \"\"\n",
    "    driver.get(url)\n",
    "    time.sleep(1)\n",
    "\n",
    "    specific_clicker(\"//button[@class='btn btn-primary']\")\n",
    "    time.sleep(1)\n",
    "    data = []\n",
    "    for i in range(1, 100):\n",
    "        try:\n",
    "            data.append(get_text(f\"//div[@class='col-md-12']//div[{i}]//div[@class='card-body']//h5\"))\n",
    "        except:\n",
    "            break\n",
    "    return data\n",
    "\n",
    "\n",
    "\n",
    "import mysql.connector\n",
    "\n",
    "connection = mysql.connector.connect(\n",
    "    user='baldo',\n",
    "    password='AVNS_31sHK4CCPIr6p4Ifgzd',\n",
    "    host='db-mysql-nyc1-47136-do-user-12226124-0.b.db.ondigitalocean.com',\n",
    "    port=25060,\n",
    "    database='Baldo',\n",
    "\n",
    ")\n",
    "\n",
    "cursor = connection.cursor()\n",
    "\n",
    "close_chrome()\n",
    "# Database is Connected Successfully\n",
    "print(\"Database is connected successfully\")\n",
    "\n",
    "options = uc.ChromeOptions()\n",
    "# path = r\"C:\\Users\\user\\AppData\\Local\\Google\\Chrome\\User Data\"\n",
    "# using os\n",
    "path = os.path.join(os.environ['USERPROFILE'], 'AppData', 'Local', 'Google', 'Chrome', 'User Data')\n",
    "options.add_argument(fr\"user-data-dir={path}\")\n",
    "options.add_argument(f'--profile-directory=Profile 1')\n",
    "driver = uc.Chrome(options=options)"
   ],
   "metadata": {
    "collapsed": false,
    "ExecuteTime": {
     "end_time": "2023-05-18T18:03:32.586308600Z",
     "start_time": "2023-05-18T18:03:07.564427600Z"
    }
   }
  },
  {
   "cell_type": "code",
   "execution_count": null,
   "outputs": [],
   "source": [],
   "metadata": {
    "collapsed": false
   }
  },
  {
   "cell_type": "code",
   "execution_count": null,
   "outputs": [],
   "source": [],
   "metadata": {
    "collapsed": false
   }
  },
  {
   "cell_type": "code",
   "execution_count": 30,
   "outputs": [],
   "source": [
    "driver.maximize_window()\n",
    "driver.get(\"https://www.easybroker.com/agent/mls_properties?country=mx&reset_page=true\")"
   ],
   "metadata": {
    "collapsed": false,
    "ExecuteTime": {
     "start_time": "2023-04-28T23:00:53.593525Z",
     "end_time": "2023-04-28T23:01:04.761557Z"
    }
   }
  },
  {
   "cell_type": "code",
   "execution_count": 31,
   "outputs": [
    {
     "name": "stdout",
     "output_type": "stream",
     "text": [
      "1\n",
      "1\n",
      "2\n"
     ]
    }
   ],
   "source": [
    "no_of_pages = 1\n",
    "\n",
    "list_of_urls = []\n",
    "while True:\n",
    "    try:\n",
    "        current_page = driver.find_element(By.XPATH, '//span[@class=\"pagination-button page current\"]')\n",
    "        current_page = int(current_page.text)\n",
    "        print(current_page)\n",
    "    except:\n",
    "        continue\n",
    "\n",
    "    if current_page > no_of_pages:\n",
    "        break\n",
    "\n",
    "\n",
    "    # //h6/a\n",
    "\n",
    "    property_urls = driver.find_elements(By.XPATH, '//h6/a')\n",
    "    property_urls = [x.get_attribute('href') for x in property_urls]\n",
    "    already_scraped = get_file_data('Already_scraper.txt')\n",
    "\n",
    "    with open(\"Already_scraper.txt\", 'a', encoding='utf-8') as file:\n",
    "        for url in property_urls:\n",
    "            if url not in already_scraped:\n",
    "                file.write(url + '\\n')\n",
    "                list_of_urls.append(url)\n",
    "    specific_clicker('//*[@class=\"next page pagination-button \"]')\n",
    "    time.sleep(5)\n",
    "\n",
    "\n",
    "\n",
    "\n",
    "\n",
    "\n",
    "\n",
    "# for single_property in list_of_urls:\n",
    "#     driver.get(single_property)\n",
    "#\n",
    "#\n",
    "\n",
    "\n",
    "\n"
   ],
   "metadata": {
    "collapsed": false,
    "ExecuteTime": {
     "start_time": "2023-04-28T23:01:30.328049Z",
     "end_time": "2023-04-28T23:01:44.426652Z"
    }
   }
  },
  {
   "cell_type": "code",
   "execution_count": 32,
   "outputs": [],
   "source": [
    "def get_text_pass(xpath):\n",
    "    try:\n",
    "        text = driver.find_element(By.XPATH, xpath).text\n",
    "        return text\n",
    "    except:\n",
    "        return \"\"\n"
   ],
   "metadata": {
    "collapsed": false,
    "ExecuteTime": {
     "start_time": "2023-04-28T23:02:21.543416Z",
     "end_time": "2023-04-28T23:02:21.577751Z"
    }
   }
  },
  {
   "cell_type": "code",
   "execution_count": 14,
   "outputs": [
    {
     "name": "stdout",
     "output_type": "stream",
     "text": [
      "3 recámaras, 3 baños, 1 medio baño, 5 estacionamientos, 525 m²de construcción, 391 m² de terreno, año de construcción: 1987, cantidad de pisos en el edificio: 3, mantenimiento: $1,700\n"
     ]
    }
   ],
   "source": [
    "images = driver.find_elements(By.XPATH, '//div[@class=\"gallery\"]//img')\n",
    "images = [x.get_attribute('src') for x in images]\n",
    "\n",
    "title = get_text('//section/div[@class=\"property-title\"]')\n",
    "price = get_text('//div[@class=\"price\"]/*[@class=\"digits\"]')\n",
    "description = get_text_pass('//p[@class=\"text-description\"]')\n",
    "\n",
    "features = driver.find_elements(By.XPATH, '//div[@class=\"listing__features\"]/div')\n",
    "features = [str(x.text).lower() for x in features]\n",
    "features = \", \".join(features)\n",
    "\n",
    "try:\n",
    "    # switch to iframe\n",
    "    driver.switch_to.frame(driver.find_element(By.XPATH, '//div[@id=\"map_container\"]/iframe'))\n",
    "\n",
    "except:\n",
    "    pass\n",
    "\n",
    "address = get_text_pass('//div[@class=\"address\"]')\n",
    "driver.switch_to.default_content()\n",
    "\n",
    "\n",
    "\n",
    "\n"
   ],
   "metadata": {
    "collapsed": false,
    "ExecuteTime": {
     "start_time": "2023-04-28T22:38:25.668174Z",
     "end_time": "2023-04-28T22:38:25.852970Z"
    }
   }
  },
  {
   "cell_type": "code",
   "execution_count": 15,
   "outputs": [],
   "source": [
    "driver.switch_to.frame(driver.find_element(By.XPATH, '//div[@id=\"map_container\"]/iframe'))"
   ],
   "metadata": {
    "collapsed": false,
    "ExecuteTime": {
     "start_time": "2023-04-28T22:45:56.643947Z",
     "end_time": "2023-04-28T22:45:56.731415Z"
    }
   }
  },
  {
   "cell_type": "code",
   "execution_count": 37,
   "outputs": [],
   "source": [
    "def insert_record(record_x:tuple):\n",
    "    sql = \"INSERT INTO listings (url, title, price, description, features, address, images) VALUES (%s, %s, %s, %s, %s, %s, %s)\"\n",
    "    cursor.execute(sql, record_x)\n",
    "    connection.commit()\n",
    "    print(cursor.rowcount, \"record inserted.\")"
   ],
   "metadata": {
    "collapsed": false,
    "ExecuteTime": {
     "start_time": "2023-04-28T23:06:18.097437Z",
     "end_time": "2023-04-28T23:06:18.117646Z"
    }
   }
  },
  {
   "cell_type": "code",
   "execution_count": 39,
   "outputs": [
    {
     "name": "stdout",
     "output_type": "stream",
     "text": [
      "Paseo Opera No.4, Interior 303 y 401. Town Center Sonata, Edificio Escala, Santo Entierro, 72830 San Andrés Cholula, Pue., Mexico\n",
      "-------------\n",
      "('https://www.easybroker.com/agent/mls_properties/a01-casa-en-venta-lomas-de-angelos-iii-en-altaria-residencial', '', '$2,924,842', 'CASA EN VENTA EN ALTARIA RESIDENCIAL LOMAS DE ANGELÓPOLIS III, CLÚSTER CON AMENIDADES, ALBERCA Y CASA CLUB Y GIMNASIO.\\n\\nDescripción\\nTerreno 128 mts\\nConstrucción 125.10 m2\\nPrecio:$2,924,842.00/ Negociable.\\n\\nPlanta baja\\nEstancia\\nSala\\nComedor\\nCocina integral\\nMedio baño\\nJardín\\nÁrea de lavado\\nCochera para dos autos\\nJardín\\nPasillo de servicio\\n\\nPlata alta\\nÁrea de tv.\\nRecamara principal con vestidor y baño completo\\n2 Recamara comparten baño completo\\n\\n\\n¡ VEN Y CONOCE TU NUEVA CASA, PIDE INFORMES HOY MISMO Y AGENDA TU CITA NUESTRO EQUIPO DE PROFESIONALES TE ATENDERÁ!\\n\\nSETTLE IN CREATING HOMES\\nCONTACTANOS\\n222 364 1180\\n2231214838\\nwww.settleinpuebla.com', '3 recámaras, 2 baños, 1 medio baño, 2 estacionamientos, 125.1 m²de construcción, 128 m² de terreno, año de construcción: a estrenar, cantidad de pisos en el edificio: 2', 'Paseo Opera No.4, Interior 303 y 401. Town Center Sonata, Edificio Escala, Santo Entierro, 72830 San Andrés Cholula, Pue., Mexico', 'https://assets.easybroker.com/property_images/3155306/50480116/EB-LC5306.jpg?version=1659218713, https://assets.easybroker.com/property_images/3155306/50480117/EB-LC5306.jpg?version=1659218714, https://assets.easybroker.com/property_images/3155306/50480118/EB-LC5306.jpg?version=1659218714, https://assets.easybroker.com/property_images/3155306/50480119/EB-LC5306.jpg?version=1659218715, https://assets.easybroker.com/property_images/3155306/50480120/EB-LC5306.jpg?version=1659218715')\n",
      "1062 (23000): Duplicate entry 'https://www.easybroker.com/agent/mls_properties/a01-casa-en-vent' for key 'listings.PRIMARY'\n",
      "C. Lago Müritz 316, Anáhuac I Secc, Miguel Hidalgo, 11320 Ciudad de México, CDMX, Mexico\n",
      "-------------\n",
      "('https://www.easybroker.com/agent/mls_properties/departamento-en-anahuac-i-seccion-miguel-hidalgo-359df628-b024-4895-b54d-6be422c7bace', '', '$11,000', 'DISFRUTA DE UN DEPARTAMENTO EN MIGUEL HIDALGO\\n\\nCuenta con:\\n-2 habitaciones\\n-1 baño completo\\n-Sala, comedor y cocina\\n-Área de lavado\\n-NO TIENE ESTACIONAMIENTO\\n-Pequeño Balcón\\n\\nCerco a:\\nParque Salesiano, Metro Colegio Militar, Oxxo Zirahuen, Bodega Aurrera Express, Panaderia Lecaroz, Banorte, Gasolinera Pemex, Tiendas 3B, Metro Normal etc.\\n\\nRequisitos:\\n-Póliza jurídica\\n\\nSOMOS LA OPCIÓN MAS SEGURA,SIMPLE Y RAPIDA PARA QUE ADQUIERAS TU INMUEBLE\\nAGILIZAMOS TU PROCESO DE COMPRA.', '2 recámaras, 1 baño', 'C. Lago Müritz 316, Anáhuac I Secc, Miguel Hidalgo, 11320 Ciudad de México, CDMX, Mexico', 'https://assets.easybroker.com/property_images/3710404/60651140/EB-NG0404.jpg?version=1682701150, https://assets.easybroker.com/property_images/3710404/60651138/EB-NG0404.jpg?version=1682701150, https://assets.easybroker.com/property_images/3710404/60651145/EB-NG0404.jpg?version=1682701150, https://assets.easybroker.com/property_images/3710404/60651142/EB-NG0404.jpg?version=1682701150, https://assets.easybroker.com/property_images/3710404/60651139/EB-NG0404.jpg?version=1682701150')\n",
      "1062 (23000): Duplicate entry 'https://www.easybroker.com/agent/mls_properties/departamento-en-' for key 'listings.PRIMARY'\n"
     ]
    },
    {
     "ename": "KeyboardInterrupt",
     "evalue": "",
     "output_type": "error",
     "traceback": [
      "\u001B[1;31m---------------------------------------------------------------------------\u001B[0m",
      "\u001B[1;31mKeyboardInterrupt\u001B[0m                         Traceback (most recent call last)",
      "Cell \u001B[1;32mIn[39], line 2\u001B[0m\n\u001B[0;32m      1\u001B[0m \u001B[38;5;28;01mfor\u001B[39;00m url \u001B[38;5;129;01min\u001B[39;00m list_of_urls:\n\u001B[1;32m----> 2\u001B[0m     \u001B[43mdriver\u001B[49m\u001B[38;5;241;43m.\u001B[39;49m\u001B[43mget\u001B[49m\u001B[43m(\u001B[49m\u001B[43murl\u001B[49m\u001B[43m)\u001B[49m\n\u001B[0;32m      3\u001B[0m     time\u001B[38;5;241m.\u001B[39msleep(\u001B[38;5;241m3\u001B[39m)\n\u001B[0;32m      4\u001B[0m     images \u001B[38;5;241m=\u001B[39m driver\u001B[38;5;241m.\u001B[39mfind_elements(By\u001B[38;5;241m.\u001B[39mXPATH, \u001B[38;5;124m'\u001B[39m\u001B[38;5;124m//div[@class=\u001B[39m\u001B[38;5;124m\"\u001B[39m\u001B[38;5;124mgallery\u001B[39m\u001B[38;5;124m\"\u001B[39m\u001B[38;5;124m]//img\u001B[39m\u001B[38;5;124m'\u001B[39m)\n",
      "File \u001B[1;32m~\\AppData\\Local\\Programs\\Python\\Python311\\Lib\\site-packages\\undetected_chromedriver\\__init__.py:645\u001B[0m, in \u001B[0;36mChrome.get\u001B[1;34m(self, url)\u001B[0m\n\u001B[0;32m    642\u001B[0m \u001B[38;5;28;01mdef\u001B[39;00m \u001B[38;5;21mget\u001B[39m(\u001B[38;5;28mself\u001B[39m, url):\n\u001B[0;32m    643\u001B[0m     \u001B[38;5;66;03m# if self._get_cdc_props():\u001B[39;00m\n\u001B[0;32m    644\u001B[0m     \u001B[38;5;66;03m#     self._hook_remove_cdc_props()\u001B[39;00m\n\u001B[1;32m--> 645\u001B[0m     \u001B[38;5;28;01mreturn\u001B[39;00m \u001B[38;5;28;43msuper\u001B[39;49m\u001B[43m(\u001B[49m\u001B[43m)\u001B[49m\u001B[38;5;241;43m.\u001B[39;49m\u001B[43mget\u001B[49m\u001B[43m(\u001B[49m\u001B[43murl\u001B[49m\u001B[43m)\u001B[49m\n",
      "File \u001B[1;32m~\\AppData\\Local\\Programs\\Python\\Python311\\Lib\\site-packages\\selenium\\webdriver\\remote\\webdriver.py:449\u001B[0m, in \u001B[0;36mWebDriver.get\u001B[1;34m(self, url)\u001B[0m\n\u001B[0;32m    447\u001B[0m \u001B[38;5;28;01mdef\u001B[39;00m \u001B[38;5;21mget\u001B[39m(\u001B[38;5;28mself\u001B[39m, url: \u001B[38;5;28mstr\u001B[39m) \u001B[38;5;241m-\u001B[39m\u001B[38;5;241m>\u001B[39m \u001B[38;5;28;01mNone\u001B[39;00m:\n\u001B[0;32m    448\u001B[0m \u001B[38;5;250m    \u001B[39m\u001B[38;5;124;03m\"\"\"Loads a web page in the current browser session.\"\"\"\u001B[39;00m\n\u001B[1;32m--> 449\u001B[0m     \u001B[38;5;28;43mself\u001B[39;49m\u001B[38;5;241;43m.\u001B[39;49m\u001B[43mexecute\u001B[49m\u001B[43m(\u001B[49m\u001B[43mCommand\u001B[49m\u001B[38;5;241;43m.\u001B[39;49m\u001B[43mGET\u001B[49m\u001B[43m,\u001B[49m\u001B[43m \u001B[49m\u001B[43m{\u001B[49m\u001B[38;5;124;43m\"\u001B[39;49m\u001B[38;5;124;43murl\u001B[39;49m\u001B[38;5;124;43m\"\u001B[39;49m\u001B[43m:\u001B[49m\u001B[43m \u001B[49m\u001B[43murl\u001B[49m\u001B[43m}\u001B[49m\u001B[43m)\u001B[49m\n",
      "File \u001B[1;32m~\\AppData\\Local\\Programs\\Python\\Python311\\Lib\\site-packages\\selenium\\webdriver\\remote\\webdriver.py:438\u001B[0m, in \u001B[0;36mWebDriver.execute\u001B[1;34m(self, driver_command, params)\u001B[0m\n\u001B[0;32m    435\u001B[0m     \u001B[38;5;28;01melif\u001B[39;00m \u001B[38;5;124m\"\u001B[39m\u001B[38;5;124msessionId\u001B[39m\u001B[38;5;124m\"\u001B[39m \u001B[38;5;129;01mnot\u001B[39;00m \u001B[38;5;129;01min\u001B[39;00m params:\n\u001B[0;32m    436\u001B[0m         params[\u001B[38;5;124m\"\u001B[39m\u001B[38;5;124msessionId\u001B[39m\u001B[38;5;124m\"\u001B[39m] \u001B[38;5;241m=\u001B[39m \u001B[38;5;28mself\u001B[39m\u001B[38;5;241m.\u001B[39msession_id\n\u001B[1;32m--> 438\u001B[0m response \u001B[38;5;241m=\u001B[39m \u001B[38;5;28;43mself\u001B[39;49m\u001B[38;5;241;43m.\u001B[39;49m\u001B[43mcommand_executor\u001B[49m\u001B[38;5;241;43m.\u001B[39;49m\u001B[43mexecute\u001B[49m\u001B[43m(\u001B[49m\u001B[43mdriver_command\u001B[49m\u001B[43m,\u001B[49m\u001B[43m \u001B[49m\u001B[43mparams\u001B[49m\u001B[43m)\u001B[49m\n\u001B[0;32m    439\u001B[0m \u001B[38;5;28;01mif\u001B[39;00m response:\n\u001B[0;32m    440\u001B[0m     \u001B[38;5;28mself\u001B[39m\u001B[38;5;241m.\u001B[39merror_handler\u001B[38;5;241m.\u001B[39mcheck_response(response)\n",
      "File \u001B[1;32m~\\AppData\\Local\\Programs\\Python\\Python311\\Lib\\site-packages\\selenium\\webdriver\\remote\\remote_connection.py:290\u001B[0m, in \u001B[0;36mRemoteConnection.execute\u001B[1;34m(self, command, params)\u001B[0m\n\u001B[0;32m    288\u001B[0m data \u001B[38;5;241m=\u001B[39m utils\u001B[38;5;241m.\u001B[39mdump_json(params)\n\u001B[0;32m    289\u001B[0m url \u001B[38;5;241m=\u001B[39m \u001B[38;5;124mf\u001B[39m\u001B[38;5;124m\"\u001B[39m\u001B[38;5;132;01m{\u001B[39;00m\u001B[38;5;28mself\u001B[39m\u001B[38;5;241m.\u001B[39m_url\u001B[38;5;132;01m}\u001B[39;00m\u001B[38;5;132;01m{\u001B[39;00mpath\u001B[38;5;132;01m}\u001B[39;00m\u001B[38;5;124m\"\u001B[39m\n\u001B[1;32m--> 290\u001B[0m \u001B[38;5;28;01mreturn\u001B[39;00m \u001B[38;5;28;43mself\u001B[39;49m\u001B[38;5;241;43m.\u001B[39;49m\u001B[43m_request\u001B[49m\u001B[43m(\u001B[49m\u001B[43mcommand_info\u001B[49m\u001B[43m[\u001B[49m\u001B[38;5;241;43m0\u001B[39;49m\u001B[43m]\u001B[49m\u001B[43m,\u001B[49m\u001B[43m \u001B[49m\u001B[43murl\u001B[49m\u001B[43m,\u001B[49m\u001B[43m \u001B[49m\u001B[43mbody\u001B[49m\u001B[38;5;241;43m=\u001B[39;49m\u001B[43mdata\u001B[49m\u001B[43m)\u001B[49m\n",
      "File \u001B[1;32m~\\AppData\\Local\\Programs\\Python\\Python311\\Lib\\site-packages\\selenium\\webdriver\\remote\\remote_connection.py:311\u001B[0m, in \u001B[0;36mRemoteConnection._request\u001B[1;34m(self, method, url, body)\u001B[0m\n\u001B[0;32m    308\u001B[0m     body \u001B[38;5;241m=\u001B[39m \u001B[38;5;28;01mNone\u001B[39;00m\n\u001B[0;32m    310\u001B[0m \u001B[38;5;28;01mif\u001B[39;00m \u001B[38;5;28mself\u001B[39m\u001B[38;5;241m.\u001B[39mkeep_alive:\n\u001B[1;32m--> 311\u001B[0m     response \u001B[38;5;241m=\u001B[39m \u001B[38;5;28;43mself\u001B[39;49m\u001B[38;5;241;43m.\u001B[39;49m\u001B[43m_conn\u001B[49m\u001B[38;5;241;43m.\u001B[39;49m\u001B[43mrequest\u001B[49m\u001B[43m(\u001B[49m\u001B[43mmethod\u001B[49m\u001B[43m,\u001B[49m\u001B[43m \u001B[49m\u001B[43murl\u001B[49m\u001B[43m,\u001B[49m\u001B[43m \u001B[49m\u001B[43mbody\u001B[49m\u001B[38;5;241;43m=\u001B[39;49m\u001B[43mbody\u001B[49m\u001B[43m,\u001B[49m\u001B[43m \u001B[49m\u001B[43mheaders\u001B[49m\u001B[38;5;241;43m=\u001B[39;49m\u001B[43mheaders\u001B[49m\u001B[43m)\u001B[49m\n\u001B[0;32m    312\u001B[0m     statuscode \u001B[38;5;241m=\u001B[39m response\u001B[38;5;241m.\u001B[39mstatus\n\u001B[0;32m    313\u001B[0m \u001B[38;5;28;01melse\u001B[39;00m:\n",
      "File \u001B[1;32m~\\AppData\\Local\\Programs\\Python\\Python311\\Lib\\site-packages\\urllib3\\request.py:78\u001B[0m, in \u001B[0;36mRequestMethods.request\u001B[1;34m(self, method, url, fields, headers, **urlopen_kw)\u001B[0m\n\u001B[0;32m     74\u001B[0m     \u001B[38;5;28;01mreturn\u001B[39;00m \u001B[38;5;28mself\u001B[39m\u001B[38;5;241m.\u001B[39mrequest_encode_url(\n\u001B[0;32m     75\u001B[0m         method, url, fields\u001B[38;5;241m=\u001B[39mfields, headers\u001B[38;5;241m=\u001B[39mheaders, \u001B[38;5;241m*\u001B[39m\u001B[38;5;241m*\u001B[39murlopen_kw\n\u001B[0;32m     76\u001B[0m     )\n\u001B[0;32m     77\u001B[0m \u001B[38;5;28;01melse\u001B[39;00m:\n\u001B[1;32m---> 78\u001B[0m     \u001B[38;5;28;01mreturn\u001B[39;00m \u001B[38;5;28;43mself\u001B[39;49m\u001B[38;5;241;43m.\u001B[39;49m\u001B[43mrequest_encode_body\u001B[49m\u001B[43m(\u001B[49m\n\u001B[0;32m     79\u001B[0m \u001B[43m        \u001B[49m\u001B[43mmethod\u001B[49m\u001B[43m,\u001B[49m\u001B[43m \u001B[49m\u001B[43murl\u001B[49m\u001B[43m,\u001B[49m\u001B[43m \u001B[49m\u001B[43mfields\u001B[49m\u001B[38;5;241;43m=\u001B[39;49m\u001B[43mfields\u001B[49m\u001B[43m,\u001B[49m\u001B[43m \u001B[49m\u001B[43mheaders\u001B[49m\u001B[38;5;241;43m=\u001B[39;49m\u001B[43mheaders\u001B[49m\u001B[43m,\u001B[49m\u001B[43m \u001B[49m\u001B[38;5;241;43m*\u001B[39;49m\u001B[38;5;241;43m*\u001B[39;49m\u001B[43murlopen_kw\u001B[49m\n\u001B[0;32m     80\u001B[0m \u001B[43m    \u001B[49m\u001B[43m)\u001B[49m\n",
      "File \u001B[1;32m~\\AppData\\Local\\Programs\\Python\\Python311\\Lib\\site-packages\\urllib3\\request.py:170\u001B[0m, in \u001B[0;36mRequestMethods.request_encode_body\u001B[1;34m(self, method, url, fields, headers, encode_multipart, multipart_boundary, **urlopen_kw)\u001B[0m\n\u001B[0;32m    167\u001B[0m extra_kw[\u001B[38;5;124m\"\u001B[39m\u001B[38;5;124mheaders\u001B[39m\u001B[38;5;124m\"\u001B[39m]\u001B[38;5;241m.\u001B[39mupdate(headers)\n\u001B[0;32m    168\u001B[0m extra_kw\u001B[38;5;241m.\u001B[39mupdate(urlopen_kw)\n\u001B[1;32m--> 170\u001B[0m \u001B[38;5;28;01mreturn\u001B[39;00m \u001B[38;5;28;43mself\u001B[39;49m\u001B[38;5;241;43m.\u001B[39;49m\u001B[43murlopen\u001B[49m\u001B[43m(\u001B[49m\u001B[43mmethod\u001B[49m\u001B[43m,\u001B[49m\u001B[43m \u001B[49m\u001B[43murl\u001B[49m\u001B[43m,\u001B[49m\u001B[43m \u001B[49m\u001B[38;5;241;43m*\u001B[39;49m\u001B[38;5;241;43m*\u001B[39;49m\u001B[43mextra_kw\u001B[49m\u001B[43m)\u001B[49m\n",
      "File \u001B[1;32m~\\AppData\\Local\\Programs\\Python\\Python311\\Lib\\site-packages\\urllib3\\poolmanager.py:376\u001B[0m, in \u001B[0;36mPoolManager.urlopen\u001B[1;34m(self, method, url, redirect, **kw)\u001B[0m\n\u001B[0;32m    374\u001B[0m     response \u001B[38;5;241m=\u001B[39m conn\u001B[38;5;241m.\u001B[39murlopen(method, url, \u001B[38;5;241m*\u001B[39m\u001B[38;5;241m*\u001B[39mkw)\n\u001B[0;32m    375\u001B[0m \u001B[38;5;28;01melse\u001B[39;00m:\n\u001B[1;32m--> 376\u001B[0m     response \u001B[38;5;241m=\u001B[39m \u001B[43mconn\u001B[49m\u001B[38;5;241;43m.\u001B[39;49m\u001B[43murlopen\u001B[49m\u001B[43m(\u001B[49m\u001B[43mmethod\u001B[49m\u001B[43m,\u001B[49m\u001B[43m \u001B[49m\u001B[43mu\u001B[49m\u001B[38;5;241;43m.\u001B[39;49m\u001B[43mrequest_uri\u001B[49m\u001B[43m,\u001B[49m\u001B[43m \u001B[49m\u001B[38;5;241;43m*\u001B[39;49m\u001B[38;5;241;43m*\u001B[39;49m\u001B[43mkw\u001B[49m\u001B[43m)\u001B[49m\n\u001B[0;32m    378\u001B[0m redirect_location \u001B[38;5;241m=\u001B[39m redirect \u001B[38;5;129;01mand\u001B[39;00m response\u001B[38;5;241m.\u001B[39mget_redirect_location()\n\u001B[0;32m    379\u001B[0m \u001B[38;5;28;01mif\u001B[39;00m \u001B[38;5;129;01mnot\u001B[39;00m redirect_location:\n",
      "File \u001B[1;32m~\\AppData\\Local\\Programs\\Python\\Python311\\Lib\\site-packages\\urllib3\\connectionpool.py:703\u001B[0m, in \u001B[0;36mHTTPConnectionPool.urlopen\u001B[1;34m(self, method, url, body, headers, retries, redirect, assert_same_host, timeout, pool_timeout, release_conn, chunked, body_pos, **response_kw)\u001B[0m\n\u001B[0;32m    700\u001B[0m     \u001B[38;5;28mself\u001B[39m\u001B[38;5;241m.\u001B[39m_prepare_proxy(conn)\n\u001B[0;32m    702\u001B[0m \u001B[38;5;66;03m# Make the request on the httplib connection object.\u001B[39;00m\n\u001B[1;32m--> 703\u001B[0m httplib_response \u001B[38;5;241m=\u001B[39m \u001B[38;5;28;43mself\u001B[39;49m\u001B[38;5;241;43m.\u001B[39;49m\u001B[43m_make_request\u001B[49m\u001B[43m(\u001B[49m\n\u001B[0;32m    704\u001B[0m \u001B[43m    \u001B[49m\u001B[43mconn\u001B[49m\u001B[43m,\u001B[49m\n\u001B[0;32m    705\u001B[0m \u001B[43m    \u001B[49m\u001B[43mmethod\u001B[49m\u001B[43m,\u001B[49m\n\u001B[0;32m    706\u001B[0m \u001B[43m    \u001B[49m\u001B[43murl\u001B[49m\u001B[43m,\u001B[49m\n\u001B[0;32m    707\u001B[0m \u001B[43m    \u001B[49m\u001B[43mtimeout\u001B[49m\u001B[38;5;241;43m=\u001B[39;49m\u001B[43mtimeout_obj\u001B[49m\u001B[43m,\u001B[49m\n\u001B[0;32m    708\u001B[0m \u001B[43m    \u001B[49m\u001B[43mbody\u001B[49m\u001B[38;5;241;43m=\u001B[39;49m\u001B[43mbody\u001B[49m\u001B[43m,\u001B[49m\n\u001B[0;32m    709\u001B[0m \u001B[43m    \u001B[49m\u001B[43mheaders\u001B[49m\u001B[38;5;241;43m=\u001B[39;49m\u001B[43mheaders\u001B[49m\u001B[43m,\u001B[49m\n\u001B[0;32m    710\u001B[0m \u001B[43m    \u001B[49m\u001B[43mchunked\u001B[49m\u001B[38;5;241;43m=\u001B[39;49m\u001B[43mchunked\u001B[49m\u001B[43m,\u001B[49m\n\u001B[0;32m    711\u001B[0m \u001B[43m\u001B[49m\u001B[43m)\u001B[49m\n\u001B[0;32m    713\u001B[0m \u001B[38;5;66;03m# If we're going to release the connection in ``finally:``, then\u001B[39;00m\n\u001B[0;32m    714\u001B[0m \u001B[38;5;66;03m# the response doesn't need to know about the connection. Otherwise\u001B[39;00m\n\u001B[0;32m    715\u001B[0m \u001B[38;5;66;03m# it will also try to release it and we'll have a double-release\u001B[39;00m\n\u001B[0;32m    716\u001B[0m \u001B[38;5;66;03m# mess.\u001B[39;00m\n\u001B[0;32m    717\u001B[0m response_conn \u001B[38;5;241m=\u001B[39m conn \u001B[38;5;28;01mif\u001B[39;00m \u001B[38;5;129;01mnot\u001B[39;00m release_conn \u001B[38;5;28;01melse\u001B[39;00m \u001B[38;5;28;01mNone\u001B[39;00m\n",
      "File \u001B[1;32m~\\AppData\\Local\\Programs\\Python\\Python311\\Lib\\site-packages\\urllib3\\connectionpool.py:449\u001B[0m, in \u001B[0;36mHTTPConnectionPool._make_request\u001B[1;34m(self, conn, method, url, timeout, chunked, **httplib_request_kw)\u001B[0m\n\u001B[0;32m    444\u001B[0m             httplib_response \u001B[38;5;241m=\u001B[39m conn\u001B[38;5;241m.\u001B[39mgetresponse()\n\u001B[0;32m    445\u001B[0m         \u001B[38;5;28;01mexcept\u001B[39;00m \u001B[38;5;167;01mBaseException\u001B[39;00m \u001B[38;5;28;01mas\u001B[39;00m e:\n\u001B[0;32m    446\u001B[0m             \u001B[38;5;66;03m# Remove the TypeError from the exception chain in\u001B[39;00m\n\u001B[0;32m    447\u001B[0m             \u001B[38;5;66;03m# Python 3 (including for exceptions like SystemExit).\u001B[39;00m\n\u001B[0;32m    448\u001B[0m             \u001B[38;5;66;03m# Otherwise it looks like a bug in the code.\u001B[39;00m\n\u001B[1;32m--> 449\u001B[0m             \u001B[43msix\u001B[49m\u001B[38;5;241;43m.\u001B[39;49m\u001B[43mraise_from\u001B[49m\u001B[43m(\u001B[49m\u001B[43me\u001B[49m\u001B[43m,\u001B[49m\u001B[43m \u001B[49m\u001B[38;5;28;43;01mNone\u001B[39;49;00m\u001B[43m)\u001B[49m\n\u001B[0;32m    450\u001B[0m \u001B[38;5;28;01mexcept\u001B[39;00m (SocketTimeout, BaseSSLError, SocketError) \u001B[38;5;28;01mas\u001B[39;00m e:\n\u001B[0;32m    451\u001B[0m     \u001B[38;5;28mself\u001B[39m\u001B[38;5;241m.\u001B[39m_raise_timeout(err\u001B[38;5;241m=\u001B[39me, url\u001B[38;5;241m=\u001B[39murl, timeout_value\u001B[38;5;241m=\u001B[39mread_timeout)\n",
      "File \u001B[1;32m<string>:3\u001B[0m, in \u001B[0;36mraise_from\u001B[1;34m(value, from_value)\u001B[0m\n",
      "File \u001B[1;32m~\\AppData\\Local\\Programs\\Python\\Python311\\Lib\\site-packages\\urllib3\\connectionpool.py:444\u001B[0m, in \u001B[0;36mHTTPConnectionPool._make_request\u001B[1;34m(self, conn, method, url, timeout, chunked, **httplib_request_kw)\u001B[0m\n\u001B[0;32m    441\u001B[0m \u001B[38;5;28;01mexcept\u001B[39;00m \u001B[38;5;167;01mTypeError\u001B[39;00m:\n\u001B[0;32m    442\u001B[0m     \u001B[38;5;66;03m# Python 3\u001B[39;00m\n\u001B[0;32m    443\u001B[0m     \u001B[38;5;28;01mtry\u001B[39;00m:\n\u001B[1;32m--> 444\u001B[0m         httplib_response \u001B[38;5;241m=\u001B[39m \u001B[43mconn\u001B[49m\u001B[38;5;241;43m.\u001B[39;49m\u001B[43mgetresponse\u001B[49m\u001B[43m(\u001B[49m\u001B[43m)\u001B[49m\n\u001B[0;32m    445\u001B[0m     \u001B[38;5;28;01mexcept\u001B[39;00m \u001B[38;5;167;01mBaseException\u001B[39;00m \u001B[38;5;28;01mas\u001B[39;00m e:\n\u001B[0;32m    446\u001B[0m         \u001B[38;5;66;03m# Remove the TypeError from the exception chain in\u001B[39;00m\n\u001B[0;32m    447\u001B[0m         \u001B[38;5;66;03m# Python 3 (including for exceptions like SystemExit).\u001B[39;00m\n\u001B[0;32m    448\u001B[0m         \u001B[38;5;66;03m# Otherwise it looks like a bug in the code.\u001B[39;00m\n\u001B[0;32m    449\u001B[0m         six\u001B[38;5;241m.\u001B[39mraise_from(e, \u001B[38;5;28;01mNone\u001B[39;00m)\n",
      "File \u001B[1;32m~\\AppData\\Local\\Programs\\Python\\Python311\\Lib\\http\\client.py:1374\u001B[0m, in \u001B[0;36mHTTPConnection.getresponse\u001B[1;34m(self)\u001B[0m\n\u001B[0;32m   1372\u001B[0m \u001B[38;5;28;01mtry\u001B[39;00m:\n\u001B[0;32m   1373\u001B[0m     \u001B[38;5;28;01mtry\u001B[39;00m:\n\u001B[1;32m-> 1374\u001B[0m         \u001B[43mresponse\u001B[49m\u001B[38;5;241;43m.\u001B[39;49m\u001B[43mbegin\u001B[49m\u001B[43m(\u001B[49m\u001B[43m)\u001B[49m\n\u001B[0;32m   1375\u001B[0m     \u001B[38;5;28;01mexcept\u001B[39;00m \u001B[38;5;167;01mConnectionError\u001B[39;00m:\n\u001B[0;32m   1376\u001B[0m         \u001B[38;5;28mself\u001B[39m\u001B[38;5;241m.\u001B[39mclose()\n",
      "File \u001B[1;32m~\\AppData\\Local\\Programs\\Python\\Python311\\Lib\\http\\client.py:318\u001B[0m, in \u001B[0;36mHTTPResponse.begin\u001B[1;34m(self)\u001B[0m\n\u001B[0;32m    316\u001B[0m \u001B[38;5;66;03m# read until we get a non-100 response\u001B[39;00m\n\u001B[0;32m    317\u001B[0m \u001B[38;5;28;01mwhile\u001B[39;00m \u001B[38;5;28;01mTrue\u001B[39;00m:\n\u001B[1;32m--> 318\u001B[0m     version, status, reason \u001B[38;5;241m=\u001B[39m \u001B[38;5;28;43mself\u001B[39;49m\u001B[38;5;241;43m.\u001B[39;49m\u001B[43m_read_status\u001B[49m\u001B[43m(\u001B[49m\u001B[43m)\u001B[49m\n\u001B[0;32m    319\u001B[0m     \u001B[38;5;28;01mif\u001B[39;00m status \u001B[38;5;241m!=\u001B[39m CONTINUE:\n\u001B[0;32m    320\u001B[0m         \u001B[38;5;28;01mbreak\u001B[39;00m\n",
      "File \u001B[1;32m~\\AppData\\Local\\Programs\\Python\\Python311\\Lib\\http\\client.py:279\u001B[0m, in \u001B[0;36mHTTPResponse._read_status\u001B[1;34m(self)\u001B[0m\n\u001B[0;32m    278\u001B[0m \u001B[38;5;28;01mdef\u001B[39;00m \u001B[38;5;21m_read_status\u001B[39m(\u001B[38;5;28mself\u001B[39m):\n\u001B[1;32m--> 279\u001B[0m     line \u001B[38;5;241m=\u001B[39m \u001B[38;5;28mstr\u001B[39m(\u001B[38;5;28mself\u001B[39m\u001B[38;5;241m.\u001B[39mfp\u001B[38;5;241m.\u001B[39mreadline(_MAXLINE \u001B[38;5;241m+\u001B[39m \u001B[38;5;241m1\u001B[39m), \u001B[38;5;124m\"\u001B[39m\u001B[38;5;124miso-8859-1\u001B[39m\u001B[38;5;124m\"\u001B[39m)\n\u001B[0;32m    280\u001B[0m     \u001B[38;5;28;01mif\u001B[39;00m \u001B[38;5;28mlen\u001B[39m(line) \u001B[38;5;241m>\u001B[39m _MAXLINE:\n\u001B[0;32m    281\u001B[0m         \u001B[38;5;28;01mraise\u001B[39;00m LineTooLong(\u001B[38;5;124m\"\u001B[39m\u001B[38;5;124mstatus line\u001B[39m\u001B[38;5;124m\"\u001B[39m)\n",
      "File \u001B[1;32m~\\AppData\\Local\\Programs\\Python\\Python311\\Lib\\socket.py:706\u001B[0m, in \u001B[0;36mSocketIO.readinto\u001B[1;34m(self, b)\u001B[0m\n\u001B[0;32m    704\u001B[0m \u001B[38;5;28;01mwhile\u001B[39;00m \u001B[38;5;28;01mTrue\u001B[39;00m:\n\u001B[0;32m    705\u001B[0m     \u001B[38;5;28;01mtry\u001B[39;00m:\n\u001B[1;32m--> 706\u001B[0m         \u001B[38;5;28;01mreturn\u001B[39;00m \u001B[38;5;28;43mself\u001B[39;49m\u001B[38;5;241;43m.\u001B[39;49m\u001B[43m_sock\u001B[49m\u001B[38;5;241;43m.\u001B[39;49m\u001B[43mrecv_into\u001B[49m\u001B[43m(\u001B[49m\u001B[43mb\u001B[49m\u001B[43m)\u001B[49m\n\u001B[0;32m    707\u001B[0m     \u001B[38;5;28;01mexcept\u001B[39;00m timeout:\n\u001B[0;32m    708\u001B[0m         \u001B[38;5;28mself\u001B[39m\u001B[38;5;241m.\u001B[39m_timeout_occurred \u001B[38;5;241m=\u001B[39m \u001B[38;5;28;01mTrue\u001B[39;00m\n",
      "\u001B[1;31mKeyboardInterrupt\u001B[0m: "
     ]
    }
   ],
   "source": [
    "\n",
    "for url in list_of_urls:\n",
    "    driver.get(url)\n",
    "    time.sleep(3)\n",
    "    images = driver.find_elements(By.XPATH, '//div[@class=\"gallery\"]//img')\n",
    "    images = [x.get_attribute('src') for x in images]\n",
    "    images= \", \".join(images)\n",
    "\n",
    "    title = get_text_pass('//section/div[@class=\"property-title\"]')\n",
    "    price = get_text_pass('//div[@class=\"price\"]/*[@class=\"digits\"]')\n",
    "    description = get_text_pass('//p[@class=\"text-description\"]')\n",
    "\n",
    "    features = driver.find_elements(By.XPATH, '//div[@class=\"listing__features\"]/div')\n",
    "    features = [str(x.text).lower() for x in features]\n",
    "    features = \", \".join(features)\n",
    "\n",
    "    # scroll bottom\n",
    "\n",
    "    driver.execute_script(\"window.scrollTo(0, document.body.scrollHeight);\")\n",
    "    time.sleep(3)\n",
    "    try:\n",
    "        # switch to iframe\n",
    "        driver.switch_to.frame(driver.find_element(By.XPATH, '//div[@id=\"map_container\"]/iframe'))\n",
    "\n",
    "    except:\n",
    "        pass\n",
    "\n",
    "    address = get_text_pass('//div[@class=\"address\"]')\n",
    "    print(address)\n",
    "    print(\"-------------\")\n",
    "    driver.switch_to.default_content()\n",
    "\n",
    "    record = (url, title, price, description, features, address, images)\n",
    "    print(record)\n",
    "    try:\n",
    "        insert_record(record)\n",
    "    except Exception as e:\n",
    "        print(e)\n"
   ],
   "metadata": {
    "collapsed": false,
    "ExecuteTime": {
     "start_time": "2023-04-28T23:04:02.374972Z",
     "end_time": "2023-04-28T23:04:24.554524Z"
    }
   }
  },
  {
   "cell_type": "code",
   "execution_count": 2,
   "outputs": [
    {
     "name": "stdout",
     "output_type": "stream",
     "text": [
      "Database is connected successfully\n"
     ]
    }
   ],
   "source": [
    "\n",
    "import mysql.connector\n",
    "\n",
    "connection = mysql.connector.connect(\n",
    "    user='baldo',\n",
    "    password='AVNS_31sHK4CCPIr6p4Ifgzd',\n",
    "    host='db-mysql-nyc1-47136-do-user-12226124-0.b.db.ondigitalocean.com',\n",
    "    port=25060,\n",
    "    database='Baldo',\n",
    "\n",
    ")\n",
    "\n",
    "cursor = connection.cursor()\n",
    "\n",
    "close_chrome()\n",
    "# Database is Connected Successfully\n",
    "print(\"Database is connected successfully\")"
   ],
   "metadata": {
    "collapsed": false,
    "ExecuteTime": {
     "start_time": "2023-04-30T02:21:35.247648Z",
     "end_time": "2023-04-30T02:21:38.464792Z"
    }
   }
  },
  {
   "cell_type": "code",
   "execution_count": 6,
   "outputs": [
    {
     "name": "stdout",
     "output_type": "stream",
     "text": [
      "('https://www.easybroker.com/agent/mls_properties/a01-casa-en-venta-lomas-de-angelos-iii-en-altaria-residencial', '', '$2,924,842', 'CASA EN VENTA EN ALTARIA RESIDENCIAL LOMAS DE ANGELÓPOLIS III, CLÚSTER CON AMENIDADES, ALBERCA Y CASA CLUB Y GIMNASIO.\\n\\nDescripción\\nTerreno 128 mts\\nConstrucción 125.10 m2\\nPrecio:$2,924,842.00/ Negociable.\\n\\nPlanta baja\\nEstancia\\nSala\\nComedor\\nCocina integral\\nMedio baño\\nJardín\\nÁrea de lavado\\nCochera para dos autos\\nJardín\\nPasillo de servicio\\n\\nPlata alta\\nÁrea de tv.\\nRecamara principal con vestidor y baño completo\\n2 Recamara comparten baño completo\\n\\n\\n¡ VEN Y CONOCE TU NUEVA CASA, PIDE INFORMES HOY MISMO Y AGENDA TU CITA NUESTRO EQUIPO DE PROFESIONALES TE ATENDERÁ!\\n\\nSETTLE IN CREATING HOMES\\nCONTACTANOS\\n222 364 1180\\n2231214838\\nwww.settleinpuebla.com', '3 recámaras, 2 baños, 1 medio baño, 2 estacionamientos, 125.1 m²de construcción, 128 m² de terreno, año de construcción: a estrenar, cantidad de pisos en el edificio: 2', '', 'https://assets.easybroker.com/property_images/3155306/50480116/EB-LC5306.jpg?version=1659218713, https://assets.easybroker.com/property_images/3155306/50480117/EB-LC5306.jpg?version=1659218714, https://assets.easybroker.com/property_images/3155306/50480118/EB-LC5306.jpg?version=1659218714, https://assets.easybroker.com/property_images/3155306/50480119/EB-LC5306.jpg?version=1659218715, https://assets.easybroker.com/property_images/3155306/50480120/EB-LC5306.jpg?version=1659218715')\n",
      "('https://www.easybroker.com/agent/mls_properties/departamento-en-anahuac-i-seccion-miguel-hidalgo-359df628-b024-4895-b54d-6be422c7bace', '', '$11,000', 'DISFRUTA DE UN DEPARTAMENTO EN MIGUEL HIDALGO\\n\\nCuenta con:\\n-2 habitaciones\\n-1 baño completo\\n-Sala, comedor y cocina\\n-Área de lavado\\n-NO TIENE ESTACIONAMIENTO\\n-Pequeño Balcón\\n\\nCerco a:\\nParque Salesiano, Metro Colegio Militar, Oxxo Zirahuen, Bodega Aurrera Express, Panaderia Lecaroz, Banorte, Gasolinera Pemex, Tiendas 3B, Metro Normal etc.\\n\\nRequisitos:\\n-Póliza jurídica\\n\\nSOMOS LA OPCIÓN MAS SEGURA,SIMPLE Y RAPIDA PARA QUE ADQUIERAS TU INMUEBLE\\nAGILIZAMOS TU PROCESO DE COMPRA.', '2 recámaras, 1 baño', '', 'https://assets.easybroker.com/property_images/3710404/60651140/EB-NG0404.jpg?version=1682701150, https://assets.easybroker.com/property_images/3710404/60651138/EB-NG0404.jpg?version=1682701150, https://assets.easybroker.com/property_images/3710404/60651145/EB-NG0404.jpg?version=1682701150, https://assets.easybroker.com/property_images/3710404/60651142/EB-NG0404.jpg?version=1682701150, https://assets.easybroker.com/property_images/3710404/60651139/EB-NG0404.jpg?version=1682701150')\n",
      "('https://www.easybroker.com/agent/mls_properties/departamento-en-renta-zona-udlap-atzala-san-andres-cholula', '', '$10,000', 'Departamento en renta con excelente ubicación a solo cinco minutos caminando de la udlap, rodeado de zonas comerciales, y vías rápidas de comunicación. Se ubica en tercer nivel con la siguiente distribución : sala, cocina integral con parrilla, barra comedor, recamara con closets y baño completo, closet de lavado, estacionamiento techado para un auto con acceso con portón eléctrico, roof garden, terraza y área social.', '1 recámara, 1 baño, 1 estacionamientos, 60 m²de construcción, año de construcción: a estrenar, piso: 3, mantenimiento: 1', '', 'https://assets.easybroker.com/property_images/3709690/60649546/EB-NF9690.jpeg?version=1682699610, https://assets.easybroker.com/property_images/3709690/60649534/EB-NF9690.jpeg?version=1682699610, https://assets.easybroker.com/property_images/3709690/60649535/EB-NF9690.jpeg?version=1682699610, https://assets.easybroker.com/property_images/3709690/60649536/EB-NF9690.jpeg?version=1682699610, https://assets.easybroker.com/property_images/3709690/60649537/EB-NF9690.jpeg?version=1682699610')\n",
      "('https://www.easybroker.com/agent/mls_properties/departamento-tipo-loft-en-venta-a-5-minutos-de-explanada', '', '$1,800,000', 'Departamento tipo Loft a 2 minutos de Explanada\\nLoft amplio y moderno, con vigilancia y cámaras de seguridad las 24 horas. En Primer Nivel.\\nUbicado a 5 minutos de Explanada, 3 minutos de Periferico Ecológico, a 8 minutos del centro de Cholula.\\nDistribuido en sala- comedor, cocina integral, recamara principal con closet y baño completo, segunda recamara con closet, un baño completo.\\nAcabados en tonos cafe con grism lo cual hace una armonia en todo el edificio.\\n\\nPrecio sujeto a cambio sin previo aviso', '2 recámaras, 2 baños, 1 estacionamientos, 88 m²de construcción, año de construcción: a estrenar, piso: 1, mantenimiento: n/a', '', 'https://assets.easybroker.com/property_images/3702690/60525555/EB-NF2690.jpeg?version=1682529043, https://assets.easybroker.com/property_images/3702690/60525537/EB-NF2690.jpeg?version=1682529043, https://assets.easybroker.com/property_images/3702690/60525535/EB-NF2690.jpeg?version=1682529043, https://assets.easybroker.com/property_images/3702690/60525536/EB-NF2690.jpeg?version=1682529043, https://assets.easybroker.com/property_images/3702690/60525539/EB-NF2690.jpeg?version=1682529043')\n"
     ]
    }
   ],
   "source": [],
   "metadata": {
    "collapsed": false,
    "ExecuteTime": {
     "start_time": "2023-04-30T02:22:27.939783Z",
     "end_time": "2023-04-30T02:22:28.373084Z"
    }
   }
  }
 ],
 "metadata": {
  "kernelspec": {
   "display_name": "Python 3",
   "language": "python",
   "name": "python3"
  },
  "language_info": {
   "codemirror_mode": {
    "name": "ipython",
    "version": 2
   },
   "file_extension": ".py",
   "mimetype": "text/x-python",
   "name": "python",
   "nbconvert_exporter": "python",
   "pygments_lexer": "ipython2",
   "version": "2.7.6"
  }
 },
 "nbformat": 4,
 "nbformat_minor": 0
}
