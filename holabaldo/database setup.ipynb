{
 "cells": [
  {
   "cell_type": "code",
   "execution_count": 1,
   "metadata": {
    "collapsed": true,
    "ExecuteTime": {
     "start_time": "2023-05-04T18:42:35.333309Z",
     "end_time": "2023-05-04T18:42:37.835997Z"
    }
   },
   "outputs": [],
   "source": [
    "\"\"\"\n",
    "username = baldo\n",
    "password = AVNS_31sHK4CCPIr6p4Ifgzd\n",
    "host = db-mysql-nyc1-47136-do-user-12226124-0.b.db.ondigitalocean.com\n",
    "port = 25060\n",
    "database = Baldo\n",
    "sslmode = REQUIRED\n",
    "\"\"\"\n",
    "\n",
    "\n",
    "import mysql.connector\n",
    "from mysql import connector\n",
    "from mysql.connector import errorcode\n",
    "import os\n",
    "\n",
    "\n",
    "connection = mysql.connector.connect(\n",
    "    user='baldo',\n",
    "    password='AVNS_31sHK4CCPIr6p4Ifgzd',\n",
    "    host='db-mysql-nyc1-47136-do-user-12226124-0.b.db.ondigitalocean.com',\n",
    "    port=25060,\n",
    "    database='Baldo',\n",
    "\n",
    "\n",
    ")\n",
    "\n",
    "cursor = connection.cursor()\n",
    "\n"
   ]
  },
  {
   "cell_type": "code",
   "execution_count": 17,
   "outputs": [],
   "source": [
    "# record = [title, price, description, features, address, url, images]\n",
    "\n",
    "# make a table with the following columns\n",
    "# url(primary key and not duplicate), title, price, description (long text), features, address, images(long text)\n",
    "\n",
    "cursor.execute(\"CREATE TABLE listings (url VARCHAR(255) PRIMARY KEY, title VARCHAR(255), price VARCHAR(255), description LONGTEXT, features LONGTEXT, address VARCHAR(255), images LONGTEXT)\")\n"
   ],
   "metadata": {
    "collapsed": false,
    "ExecuteTime": {
     "start_time": "2023-04-28T23:06:08.170136Z",
     "end_time": "2023-04-28T23:06:09.082727Z"
    }
   }
  },
  {
   "cell_type": "code",
   "execution_count": 10,
   "outputs": [],
   "source": [],
   "metadata": {
    "collapsed": false,
    "ExecuteTime": {
     "start_time": "2023-04-28T23:04:33.784731Z",
     "end_time": "2023-04-28T23:04:34.232990Z"
    }
   }
  },
  {
   "cell_type": "code",
   "execution_count": 8,
   "outputs": [
    {
     "name": "stdout",
     "output_type": "stream",
     "text": [
      "[('listings',)]\n"
     ]
    }
   ],
   "source": [
    "# insert a record into the table\n",
    "def insert_record(record:list):\n",
    "    sql = \"INSERT INTO listings (url, title, price, description, features, address, images) VALUES (%s, %s, %s, %s, %s, %s, %s)\"\n",
    "    cursor.execute(sql, record)\n",
    "    connection.commit()\n",
    "    print(cursor.rowcount, \"record inserted.\")"
   ],
   "metadata": {
    "collapsed": false,
    "ExecuteTime": {
     "start_time": "2023-04-28T22:54:29.251779Z",
     "end_time": "2023-04-28T22:54:29.258760Z"
    }
   }
  },
  {
   "cell_type": "code",
   "execution_count": 11,
   "outputs": [
    {
     "ename": "InternalError",
     "evalue": "Unread result found",
     "output_type": "error",
     "traceback": [
      "\u001B[1;31m---------------------------------------------------------------------------\u001B[0m",
      "\u001B[1;31mInternalError\u001B[0m                             Traceback (most recent call last)",
      "Cell \u001B[1;32mIn[11], line 2\u001B[0m\n\u001B[0;32m      1\u001B[0m \u001B[38;5;66;03m# delete all tables\u001B[39;00m\n\u001B[1;32m----> 2\u001B[0m \u001B[43mcursor\u001B[49m\u001B[38;5;241;43m.\u001B[39;49m\u001B[43mexecute\u001B[49m\u001B[43m(\u001B[49m\u001B[38;5;124;43m\"\u001B[39;49m\u001B[38;5;124;43mDROP TABLE scraper_listings\u001B[39;49m\u001B[38;5;124;43m\"\u001B[39;49m\u001B[43m)\u001B[49m\n",
      "File \u001B[1;32m~\\AppData\\Local\\Programs\\Python\\Python311\\Lib\\site-packages\\mysql\\connector\\cursor_cext.py:303\u001B[0m, in \u001B[0;36mCMySQLCursor.execute\u001B[1;34m(self, operation, params, multi)\u001B[0m\n\u001B[0;32m    301\u001B[0m \u001B[38;5;28;01mexcept\u001B[39;00m (ProgrammingError, \u001B[38;5;167;01mReferenceError\u001B[39;00m) \u001B[38;5;28;01mas\u001B[39;00m err:\n\u001B[0;32m    302\u001B[0m     \u001B[38;5;28;01mraise\u001B[39;00m ProgrammingError(\u001B[38;5;124m\"\u001B[39m\u001B[38;5;124mCursor is not connected\u001B[39m\u001B[38;5;124m\"\u001B[39m, \u001B[38;5;241m2055\u001B[39m) \u001B[38;5;28;01mfrom\u001B[39;00m \u001B[38;5;21;01merr\u001B[39;00m\n\u001B[1;32m--> 303\u001B[0m \u001B[38;5;28;43mself\u001B[39;49m\u001B[38;5;241;43m.\u001B[39;49m\u001B[43m_cnx\u001B[49m\u001B[38;5;241;43m.\u001B[39;49m\u001B[43mhandle_unread_result\u001B[49m\u001B[43m(\u001B[49m\u001B[43m)\u001B[49m\n\u001B[0;32m    305\u001B[0m stmt \u001B[38;5;241m=\u001B[39m \u001B[38;5;124m\"\u001B[39m\u001B[38;5;124m\"\u001B[39m\n\u001B[0;32m    306\u001B[0m \u001B[38;5;28mself\u001B[39m\u001B[38;5;241m.\u001B[39mreset()\n",
      "File \u001B[1;32m~\\AppData\\Local\\Programs\\Python\\Python311\\Lib\\site-packages\\mysql\\connector\\connection_cext.py:921\u001B[0m, in \u001B[0;36mCMySQLConnection.handle_unread_result\u001B[1;34m(self, prepared)\u001B[0m\n\u001B[0;32m    919\u001B[0m     \u001B[38;5;28mself\u001B[39m\u001B[38;5;241m.\u001B[39mconsume_results()\n\u001B[0;32m    920\u001B[0m \u001B[38;5;28;01melif\u001B[39;00m unread_result:\n\u001B[1;32m--> 921\u001B[0m     \u001B[38;5;28;01mraise\u001B[39;00m InternalError(\u001B[38;5;124m\"\u001B[39m\u001B[38;5;124mUnread result found\u001B[39m\u001B[38;5;124m\"\u001B[39m)\n",
      "\u001B[1;31mInternalError\u001B[0m: Unread result found"
     ]
    }
   ],
   "source": [
    "# delete all tables\n",
    "cursor.execute(\"DROP TABLE scraper_listings\")"
   ],
   "metadata": {
    "collapsed": false
   }
  },
  {
   "cell_type": "code",
   "execution_count": 14,
   "outputs": [
    {
     "name": "stdout",
     "output_type": "stream",
     "text": [
      "('listings',)\n",
      "('scraper_listings',)\n"
     ]
    }
   ],
   "source": [
    "# current tables\n",
    "cursor.execute(\"SHOW TABLES\")\n",
    "for x in cursor:\n"
   ],
   "metadata": {
    "collapsed": false,
    "ExecuteTime": {
     "start_time": "2023-04-28T23:05:19.633982Z",
     "end_time": "2023-04-28T23:05:20.341997Z"
    }
   }
  },
  {
   "cell_type": "code",
   "execution_count": 2,
   "outputs": [],
   "source": [
    "cursor.execute(\"DROP TABLE listings\")"
   ],
   "metadata": {
    "collapsed": false,
    "ExecuteTime": {
     "start_time": "2023-05-04T18:48:38.669694Z",
     "end_time": "2023-05-04T18:48:38.972838Z"
    }
   }
  },
  {
   "cell_type": "code",
   "execution_count": 3,
   "outputs": [],
   "source": [
    "cursor.execute(\"CREATE TABLE listings (url VARCHAR(255) PRIMARY KEY, title VARCHAR(255), price VARCHAR(255), description LONGTEXT, features LONGTEXT, address VARCHAR(255), zip_code VARCHAR(255), neighborhood VARCHAR(255), images LONGTEXT)\")"
   ],
   "metadata": {
    "collapsed": false,
    "ExecuteTime": {
     "start_time": "2023-05-04T18:49:18.564382Z",
     "end_time": "2023-05-04T18:49:18.817911Z"
    }
   }
  },
  {
   "cell_type": "code",
   "execution_count": null,
   "outputs": [],
   "source": [
    "# insert a record into the table\n",
    "def insert_record(record:list):\n",
    "    sql = \"INSERT INTO listings (url, title, price, description, features, address, zip_code, neighborhood, images) VALUES (%s, %s, %s, %s, %s, %s, %s, %s, %s)\"\n",
    "    cursor.execute(sql, record)\n",
    "    connection.commit()\n",
    "    print(cursor.rowcount, \"record inserted.\")"
   ],
   "metadata": {
    "collapsed": false
   }
  }
 ],
 "metadata": {
  "kernelspec": {
   "display_name": "Python 3",
   "language": "python",
   "name": "python3"
  },
  "language_info": {
   "codemirror_mode": {
    "name": "ipython",
    "version": 2
   },
   "file_extension": ".py",
   "mimetype": "text/x-python",
   "name": "python",
   "nbconvert_exporter": "python",
   "pygments_lexer": "ipython2",
   "version": "2.7.6"
  }
 },
 "nbformat": 4,
 "nbformat_minor": 0
}
