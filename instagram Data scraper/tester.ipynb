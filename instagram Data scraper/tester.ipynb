{
 "cells": [
  {
   "cell_type": "code",
   "execution_count": 30,
   "metadata": {
    "collapsed": true,
    "ExecuteTime": {
     "start_time": "2023-04-28T19:35:41.740896Z",
     "end_time": "2023-04-28T19:35:56.023314Z"
    }
   },
   "outputs": [],
   "source": [
    "import time, os\n",
    "from selenium import webdriver\n",
    "from selenium.webdriver.common.by import By\n",
    "from selenium.webdriver.support.ui import WebDriverWait\n",
    "from selenium.webdriver.common.action_chains import ActionChains\n",
    "from selenium.webdriver.support import expected_conditions as EC\n",
    "from selenium.webdriver.common.keys import Keys\n",
    "from selenium.common.exceptions import NoSuchElementException\n",
    "import undetected_chromedriver as uc\n",
    "\n",
    "\n",
    "def close_chrome():\n",
    "    import os\n",
    "    try:\n",
    "        os.system(\"taskkill /im chrome.exe /f\")\n",
    "    except:\n",
    "        pass\n",
    "\n",
    "\n",
    "TIMEOUT = 10\n",
    "\n",
    "close_chrome()\n",
    "usr = input('[Required] - Whose followers do you want to scrape: ')\n",
    "\n",
    "user_input = int(\n",
    "    input('[Required] - How many followers do you want to scrape (60-500 recommended): '))\n",
    "\n",
    "options = webdriver.ChromeOptions()\n",
    "path = os.path.join(os.environ['USERPROFILE'], 'AppData', 'Local', 'Google', 'Chrome', 'User Data')\n",
    "options.add_argument(fr\"user-data-dir={path}\")\n",
    "options.add_argument(f'--profile-directory=Default')\n",
    "\n",
    "bot = uc.Chrome(options=options)\n",
    "\n",
    "bot.get('https://www.instagram.com/{}/'.format(usr))\n",
    "bot.maximize_window()"
   ]
  },
  {
   "cell_type": "code",
   "execution_count": 2,
   "outputs": [],
   "source": [
    "bot.get(\"https://www.instagram.com/kritisanon/followers/\")"
   ],
   "metadata": {
    "collapsed": false,
    "ExecuteTime": {
     "start_time": "2023-04-28T18:16:05.156427Z",
     "end_time": "2023-04-28T18:16:07.384877Z"
    }
   }
  },
  {
   "cell_type": "code",
   "execution_count": 32,
   "outputs": [],
   "source": [
    "# switch to iframe\n",
    "bot.switch_to.frame(bot.find_element(By.XPATH, \"(//iframe)[3]\"))"
   ],
   "metadata": {
    "collapsed": false,
    "ExecuteTime": {
     "start_time": "2023-04-28T19:41:43.523752Z",
     "end_time": "2023-04-28T19:41:43.596263Z"
    }
   }
  },
  {
   "cell_type": "code",
   "execution_count": 47,
   "outputs": [
    {
     "name": "stdout",
     "output_type": "stream",
     "text": [
      "https://www.instagram.com/poemas.e.frases15/followers/\n"
     ]
    }
   ],
   "source": [
    "current_tabs = bot.window_handles\n",
    "for tab in current_tabs:\n",
    "    bot.switch_to.window(tab)\n",
    "print(bot.current_url)\n",
    "\n"
   ],
   "metadata": {
    "collapsed": false,
    "ExecuteTime": {
     "start_time": "2023-04-28T20:24:49.753887Z",
     "end_time": "2023-04-28T20:24:49.794340Z"
    }
   }
  },
  {
   "cell_type": "code",
   "execution_count": 41,
   "outputs": [],
   "source": [
    "# scroll to bottom\n",
    "bot.execute_script(\"window.scrollTo(0, document.body.scrollHeight);\")"
   ],
   "metadata": {
    "collapsed": false,
    "ExecuteTime": {
     "start_time": "2023-04-28T19:47:33.236854Z",
     "end_time": "2023-04-28T19:47:33.249745Z"
    }
   }
  },
  {
   "cell_type": "code",
   "execution_count": 44,
   "outputs": [
    {
     "name": "stdout",
     "output_type": "stream",
     "text": [
      "https://www.instagram.com/http.ayeshaaa/\n",
      "https://www.instagram.com/saad_0343/\n",
      "https://www.instagram.com/ghauris_23/\n",
      "https://www.instagram.com/jay_spam110/\n",
      "https://www.instagram.com/saaimhere/\n",
      "https://www.instagram.com/itx._.faixi102/\n",
      "https://www.instagram.com/_imhaxxad/\n",
      "https://www.instagram.com/wajahat.tehseen/\n",
      "https://www.instagram.com/_inshalrajpoot/\n",
      "https://www.instagram.com/rana_behzad/\n",
      "https://www.instagram.com/_incursio/\n",
      "https://www.instagram.com/okaylily5427/\n",
      "https://www.instagram.com/yusra.024/\n",
      "https://www.instagram.com/eish048/\n",
      "https://www.instagram.com/rafayy.02/\n",
      "https://www.instagram.com/itz._.tabeey_/\n",
      "https://www.instagram.com/_.itsshahzamanhamza/\n",
      "https://www.instagram.com/ahmadshz_/\n",
      "https://www.instagram.com/sadiazaid11/\n",
      "https://www.instagram.com/lilsheikh3/\n",
      "https://www.instagram.com/adnan.mudassir_majur/\n",
      "https://www.instagram.com/rayyanbutt64/\n",
      "https://www.instagram.com/detectiv__01/\n",
      "https://www.instagram.com/shamaim_azhar_15/\n",
      "https://www.instagram.com/mehr_areeb/\n",
      "https://www.instagram.com/ab.3x7_/\n",
      "https://www.instagram.com/sonaak4r/\n",
      "https://www.instagram.com/memes.haha00/\n",
      "https://www.instagram.com/itx_samrah12/\n",
      "https://www.instagram.com/ahsan_chaudhary_777/\n",
      "https://www.instagram.com/umai.r4139/\n",
      "https://www.instagram.com/aizazulhasan/\n",
      "https://www.instagram.com/afnan_h56/\n",
      "https://www.instagram.com/iayeshahanif7/\n",
      "https://www.instagram.com/sahilparray99/\n",
      "https://www.instagram.com/rana_hammad_13/\n",
      "https://www.instagram.com/aroobfarooqi67/\n",
      "https://www.instagram.com/mvaaz.x/\n",
      "https://www.instagram.com/zara_zaidi12/\n",
      "https://www.instagram.com/subhan_o7_/\n",
      "https://www.instagram.com/ahhmddd1624/\n",
      "https://www.instagram.com/aj__1282001/\n",
      "https://www.instagram.com/equansha8/\n",
      "https://www.instagram.com/syedadeel.raza.98/\n",
      "https://www.instagram.com/mark.eter2009/\n",
      "https://www.instagram.com/_.aliimranwar/\n",
      "https://www.instagram.com/i.k.javed/\n",
      "https://www.instagram.com/aliakbr08/\n",
      "https://www.instagram.com/jawadzafar125/\n",
      "https://www.instagram.com/muhammad.ahsan94/\n",
      "https://www.instagram.com/a.akhan_13/\n",
      "https://www.instagram.com/abdullahasim6969/\n",
      "https://www.instagram.com/md.ali.noorka/\n",
      "https://www.instagram.com/5omerrr/\n",
      "https://www.instagram.com/its.ali._.abbas/\n",
      "https://www.instagram.com/saqib.hussain2077/\n",
      "https://www.instagram.com/amjaddaniyal355/\n",
      "https://www.instagram.com/your_broski_03/\n",
      "https://www.instagram.com/shifa_ali_1911/\n",
      "https://www.instagram.com/ahmed_ali5539/\n",
      "https://www.instagram.com/rukh.sar356/\n",
      "https://www.instagram.com/_abdulsamad08/\n",
      "https://www.instagram.com/binyafeez99/\n",
      "https://www.instagram.com/chaudary.faixq/\n",
      "https://www.instagram.com/areejwaseem05/\n"
     ]
    },
    {
     "ename": "StaleElementReferenceException",
     "evalue": "Message: stale element reference: element is not attached to the page document\n  (Session info: chrome=112.0.5615.138)\nStacktrace:\nBacktrace:\n\tGetHandleVerifier [0x00B0DCE3+50899]\n\t(No symbol) [0x00A9E111]\n\t(No symbol) [0x009A5588]\n\t(No symbol) [0x009A7EDB]\n\t(No symbol) [0x009A7DB0]\n\t(No symbol) [0x009A8690]\n\t(No symbol) [0x009FE98D]\n\t(No symbol) [0x009EB8FC]\n\t(No symbol) [0x009FE01C]\n\t(No symbol) [0x009EB6F6]\n\t(No symbol) [0x009C7708]\n\t(No symbol) [0x009C886D]\n\tGetHandleVerifier [0x00D73EAE+2566302]\n\tGetHandleVerifier [0x00DA92B1+2784417]\n\tGetHandleVerifier [0x00DA327C+2759788]\n\tGetHandleVerifier [0x00BA5740+672048]\n\t(No symbol) [0x00AA8872]\n\t(No symbol) [0x00AA41C8]\n\t(No symbol) [0x00AA42AB]\n\t(No symbol) [0x00A971B7]\n\tBaseThreadInitThunk [0x75F00099+25]\n\tRtlGetAppContainerNamedObjectPath [0x76F57B6E+286]\n\tRtlGetAppContainerNamedObjectPath [0x76F57B3E+238]\n",
     "output_type": "error",
     "traceback": [
      "\u001B[1;31m---------------------------------------------------------------------------\u001B[0m",
      "\u001B[1;31mStaleElementReferenceException\u001B[0m            Traceback (most recent call last)",
      "Cell \u001B[1;32mIn[44], line 3\u001B[0m\n\u001B[0;32m      1\u001B[0m followers \u001B[38;5;241m=\u001B[39m bot\u001B[38;5;241m.\u001B[39mfind_elements(By\u001B[38;5;241m.\u001B[39mXPATH, \u001B[38;5;124m\"\u001B[39m\u001B[38;5;124m//a/img/..\u001B[39m\u001B[38;5;124m\"\u001B[39m)\n\u001B[0;32m      2\u001B[0m \u001B[38;5;28;01mfor\u001B[39;00m follower \u001B[38;5;129;01min\u001B[39;00m followers:\n\u001B[1;32m----> 3\u001B[0m     \u001B[38;5;28mprint\u001B[39m(\u001B[43mfollower\u001B[49m\u001B[38;5;241;43m.\u001B[39;49m\u001B[43mget_attribute\u001B[49m\u001B[43m(\u001B[49m\u001B[38;5;124;43m\"\u001B[39;49m\u001B[38;5;124;43mhref\u001B[39;49m\u001B[38;5;124;43m\"\u001B[39;49m\u001B[43m)\u001B[49m)\n",
      "File \u001B[1;32m~\\AppData\\Local\\Programs\\Python\\Python311\\Lib\\site-packages\\selenium\\webdriver\\remote\\webelement.py:178\u001B[0m, in \u001B[0;36mWebElement.get_attribute\u001B[1;34m(self, name)\u001B[0m\n\u001B[0;32m    176\u001B[0m \u001B[38;5;28;01mif\u001B[39;00m getAttribute_js \u001B[38;5;129;01mis\u001B[39;00m \u001B[38;5;28;01mNone\u001B[39;00m:\n\u001B[0;32m    177\u001B[0m     _load_js()\n\u001B[1;32m--> 178\u001B[0m attribute_value \u001B[38;5;241m=\u001B[39m \u001B[38;5;28;43mself\u001B[39;49m\u001B[38;5;241;43m.\u001B[39;49m\u001B[43mparent\u001B[49m\u001B[38;5;241;43m.\u001B[39;49m\u001B[43mexecute_script\u001B[49m\u001B[43m(\u001B[49m\n\u001B[0;32m    179\u001B[0m \u001B[43m    \u001B[49m\u001B[38;5;124;43mf\u001B[39;49m\u001B[38;5;124;43m\"\u001B[39;49m\u001B[38;5;124;43m/* getAttribute */return (\u001B[39;49m\u001B[38;5;132;43;01m{\u001B[39;49;00m\u001B[43mgetAttribute_js\u001B[49m\u001B[38;5;132;43;01m}\u001B[39;49;00m\u001B[38;5;124;43m).apply(null, arguments);\u001B[39;49m\u001B[38;5;124;43m\"\u001B[39;49m\u001B[43m,\u001B[49m\u001B[43m \u001B[49m\u001B[38;5;28;43mself\u001B[39;49m\u001B[43m,\u001B[49m\u001B[43m \u001B[49m\u001B[43mname\u001B[49m\n\u001B[0;32m    180\u001B[0m \u001B[43m\u001B[49m\u001B[43m)\u001B[49m\n\u001B[0;32m    181\u001B[0m \u001B[38;5;28;01mreturn\u001B[39;00m attribute_value\n",
      "File \u001B[1;32m~\\AppData\\Local\\Programs\\Python\\Python311\\Lib\\site-packages\\selenium\\webdriver\\remote\\webdriver.py:500\u001B[0m, in \u001B[0;36mWebDriver.execute_script\u001B[1;34m(self, script, *args)\u001B[0m\n\u001B[0;32m    497\u001B[0m converted_args \u001B[38;5;241m=\u001B[39m \u001B[38;5;28mlist\u001B[39m(args)\n\u001B[0;32m    498\u001B[0m command \u001B[38;5;241m=\u001B[39m Command\u001B[38;5;241m.\u001B[39mW3C_EXECUTE_SCRIPT\n\u001B[1;32m--> 500\u001B[0m \u001B[38;5;28;01mreturn\u001B[39;00m \u001B[38;5;28;43mself\u001B[39;49m\u001B[38;5;241;43m.\u001B[39;49m\u001B[43mexecute\u001B[49m\u001B[43m(\u001B[49m\u001B[43mcommand\u001B[49m\u001B[43m,\u001B[49m\u001B[43m \u001B[49m\u001B[43m{\u001B[49m\u001B[38;5;124;43m\"\u001B[39;49m\u001B[38;5;124;43mscript\u001B[39;49m\u001B[38;5;124;43m\"\u001B[39;49m\u001B[43m:\u001B[49m\u001B[43m \u001B[49m\u001B[43mscript\u001B[49m\u001B[43m,\u001B[49m\u001B[43m \u001B[49m\u001B[38;5;124;43m\"\u001B[39;49m\u001B[38;5;124;43margs\u001B[39;49m\u001B[38;5;124;43m\"\u001B[39;49m\u001B[43m:\u001B[49m\u001B[43m \u001B[49m\u001B[43mconverted_args\u001B[49m\u001B[43m}\u001B[49m\u001B[43m)\u001B[49m[\u001B[38;5;124m\"\u001B[39m\u001B[38;5;124mvalue\u001B[39m\u001B[38;5;124m\"\u001B[39m]\n",
      "File \u001B[1;32m~\\AppData\\Local\\Programs\\Python\\Python311\\Lib\\site-packages\\selenium\\webdriver\\remote\\webdriver.py:440\u001B[0m, in \u001B[0;36mWebDriver.execute\u001B[1;34m(self, driver_command, params)\u001B[0m\n\u001B[0;32m    438\u001B[0m response \u001B[38;5;241m=\u001B[39m \u001B[38;5;28mself\u001B[39m\u001B[38;5;241m.\u001B[39mcommand_executor\u001B[38;5;241m.\u001B[39mexecute(driver_command, params)\n\u001B[0;32m    439\u001B[0m \u001B[38;5;28;01mif\u001B[39;00m response:\n\u001B[1;32m--> 440\u001B[0m     \u001B[38;5;28;43mself\u001B[39;49m\u001B[38;5;241;43m.\u001B[39;49m\u001B[43merror_handler\u001B[49m\u001B[38;5;241;43m.\u001B[39;49m\u001B[43mcheck_response\u001B[49m\u001B[43m(\u001B[49m\u001B[43mresponse\u001B[49m\u001B[43m)\u001B[49m\n\u001B[0;32m    441\u001B[0m     response[\u001B[38;5;124m\"\u001B[39m\u001B[38;5;124mvalue\u001B[39m\u001B[38;5;124m\"\u001B[39m] \u001B[38;5;241m=\u001B[39m \u001B[38;5;28mself\u001B[39m\u001B[38;5;241m.\u001B[39m_unwrap_value(response\u001B[38;5;241m.\u001B[39mget(\u001B[38;5;124m\"\u001B[39m\u001B[38;5;124mvalue\u001B[39m\u001B[38;5;124m\"\u001B[39m, \u001B[38;5;28;01mNone\u001B[39;00m))\n\u001B[0;32m    442\u001B[0m     \u001B[38;5;28;01mreturn\u001B[39;00m response\n",
      "File \u001B[1;32m~\\AppData\\Local\\Programs\\Python\\Python311\\Lib\\site-packages\\selenium\\webdriver\\remote\\errorhandler.py:245\u001B[0m, in \u001B[0;36mErrorHandler.check_response\u001B[1;34m(self, response)\u001B[0m\n\u001B[0;32m    243\u001B[0m         alert_text \u001B[38;5;241m=\u001B[39m value[\u001B[38;5;124m\"\u001B[39m\u001B[38;5;124malert\u001B[39m\u001B[38;5;124m\"\u001B[39m]\u001B[38;5;241m.\u001B[39mget(\u001B[38;5;124m\"\u001B[39m\u001B[38;5;124mtext\u001B[39m\u001B[38;5;124m\"\u001B[39m)\n\u001B[0;32m    244\u001B[0m     \u001B[38;5;28;01mraise\u001B[39;00m exception_class(message, screen, stacktrace, alert_text)  \u001B[38;5;66;03m# type: ignore[call-arg]  # mypy is not smart enough here\u001B[39;00m\n\u001B[1;32m--> 245\u001B[0m \u001B[38;5;28;01mraise\u001B[39;00m exception_class(message, screen, stacktrace)\n",
      "\u001B[1;31mStaleElementReferenceException\u001B[0m: Message: stale element reference: element is not attached to the page document\n  (Session info: chrome=112.0.5615.138)\nStacktrace:\nBacktrace:\n\tGetHandleVerifier [0x00B0DCE3+50899]\n\t(No symbol) [0x00A9E111]\n\t(No symbol) [0x009A5588]\n\t(No symbol) [0x009A7EDB]\n\t(No symbol) [0x009A7DB0]\n\t(No symbol) [0x009A8690]\n\t(No symbol) [0x009FE98D]\n\t(No symbol) [0x009EB8FC]\n\t(No symbol) [0x009FE01C]\n\t(No symbol) [0x009EB6F6]\n\t(No symbol) [0x009C7708]\n\t(No symbol) [0x009C886D]\n\tGetHandleVerifier [0x00D73EAE+2566302]\n\tGetHandleVerifier [0x00DA92B1+2784417]\n\tGetHandleVerifier [0x00DA327C+2759788]\n\tGetHandleVerifier [0x00BA5740+672048]\n\t(No symbol) [0x00AA8872]\n\t(No symbol) [0x00AA41C8]\n\t(No symbol) [0x00AA42AB]\n\t(No symbol) [0x00A971B7]\n\tBaseThreadInitThunk [0x75F00099+25]\n\tRtlGetAppContainerNamedObjectPath [0x76F57B6E+286]\n\tRtlGetAppContainerNamedObjectPath [0x76F57B3E+238]\n"
     ]
    }
   ],
   "source": [
    "followers = bot.find_elements(By.XPATH, \"//a/img/..\")\n",
    "for follower in followers:\n",
    "    print(follower.get_attribute(\"href\"))"
   ],
   "metadata": {
    "collapsed": false,
    "ExecuteTime": {
     "start_time": "2023-04-28T19:49:11.095942Z",
     "end_time": "2023-04-28T19:49:11.810286Z"
    }
   }
  },
  {
   "cell_type": "code",
   "execution_count": null,
   "outputs": [],
   "source": [
    "print(followers)"
   ],
   "metadata": {
    "collapsed": false,
    "ExecuteTime": {
     "start_time": "2023-04-28T19:43:32.922456Z",
     "end_time": "2023-04-28T19:43:32.929442Z"
    }
   }
  },
  {
   "cell_type": "code",
   "execution_count": 51,
   "outputs": [
    {
     "name": "stdout",
     "output_type": "stream",
     "text": [
      "https://www.instagram.com/eudadeaguiar/\n",
      "https://www.instagram.com/viih_princes07/\n",
      "https://www.instagram.com/ru4n_31/\n",
      "https://www.instagram.com/any.carolinez/\n",
      "https://www.instagram.com/poesia_5808/\n",
      "https://www.instagram.com/eshely_sz/\n",
      "https://www.instagram.com/rafael__fda/\n",
      "https://www.instagram.com/r.rafaela___/\n",
      "https://www.instagram.com/kaique_b13/\n",
      "https://www.instagram.com/wolf.llonely/\n",
      "https://www.instagram.com/jack_off_600/\n",
      "https://www.instagram.com/wanessaancelmo/\n",
      "https://www.instagram.com/guilherme_batsta/\n",
      "https://www.instagram.com/_orleanssantos/\n",
      "https://www.instagram.com/gato_do_frete/\n",
      "https://www.instagram.com/camylavitoriaa/\n",
      "https://www.instagram.com/preettinha_03/\n",
      "https://www.instagram.com/reisjaneclea/\n",
      "https://www.instagram.com/sheila123valentim/\n",
      "https://www.instagram.com/weslayne_oliveiraofc/\n",
      "https://www.instagram.com/michelly_lourenco15/\n",
      "https://www.instagram.com/layanne_souza7_/\n",
      "https://www.instagram.com/n7__cortes/\n",
      "https://www.instagram.com/jonathas_1927/\n",
      "https://www.instagram.com/cristian_risonho/\n",
      "https://www.instagram.com/_.anny._vt/\n",
      "https://www.instagram.com/79citou/\n",
      "https://www.instagram.com/ldk.lua.w/\n",
      "https://www.instagram.com/buchimx/\n",
      "https://www.instagram.com/franci_x.s/\n",
      "https://www.instagram.com/desenvolvedorallefesamuel_/\n",
      "https://www.instagram.com/keylla_g4byh/\n",
      "https://www.instagram.com/renatamarques352_/\n",
      "https://www.instagram.com/josantos295/\n",
      "https://www.instagram.com/italo_clezio/\n",
      "https://www.instagram.com/anakesyasantos/\n",
      "https://www.instagram.com/anitaa.carvalho/\n",
      "https://www.instagram.com/angela_cristinan/\n",
      "https://www.instagram.com/caua_sntts/\n",
      "https://www.instagram.com/abarbie079/\n",
      "https://www.instagram.com/zakih_079/\n",
      "https://www.instagram.com/leoneldiaas/\n",
      "https://www.instagram.com/brunavieiraa__/\n",
      "https://www.instagram.com/___gabrielluiz___/\n",
      "https://www.instagram.com/jusseliaf/\n",
      "https://www.instagram.com/jessica_conceicao_bjj/\n",
      "https://www.instagram.com/junior_keyboard/\n",
      "https://www.instagram.com/prof.birabarreto/\n",
      "https://www.instagram.com/isysgsa/\n",
      "https://www.instagram.com/eu_wenderr/\n"
     ]
    }
   ],
   "source": [
    "# slow scroll to bottom\n",
    "bot.execute_script(\"window.scrollTo(0, 100);\")\n",
    "followers = bot.find_elements(By.XPATH, \"//a/img/..\")[:50]\n",
    "for follower in followers:\n",
    "    print(follower.get_attribute(\"href\"))"
   ],
   "metadata": {
    "collapsed": false,
    "ExecuteTime": {
     "start_time": "2023-04-28T20:26:30.318999Z",
     "end_time": "2023-04-28T20:26:30.830552Z"
    }
   }
  },
  {
   "cell_type": "code",
   "execution_count": null,
   "outputs": [],
   "source": [],
   "metadata": {
    "collapsed": false
   }
  }
 ],
 "metadata": {
  "kernelspec": {
   "display_name": "Python 3",
   "language": "python",
   "name": "python3"
  },
  "language_info": {
   "codemirror_mode": {
    "name": "ipython",
    "version": 2
   },
   "file_extension": ".py",
   "mimetype": "text/x-python",
   "name": "python",
   "nbconvert_exporter": "python",
   "pygments_lexer": "ipython2",
   "version": "2.7.6"
  }
 },
 "nbformat": 4,
 "nbformat_minor": 0
}
