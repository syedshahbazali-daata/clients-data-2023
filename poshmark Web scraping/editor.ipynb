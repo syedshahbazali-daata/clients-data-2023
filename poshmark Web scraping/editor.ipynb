{
 "cells": [
  {
   "cell_type": "code",
   "execution_count": 23,
   "metadata": {
    "collapsed": true,
    "ExecuteTime": {
     "start_time": "2023-04-04T12:36:39.984403Z",
     "end_time": "2023-04-04T12:36:40.005346Z"
    }
   },
   "outputs": [],
   "source": [
    "import random\n",
    "\n",
    "import pandas as pd"
   ]
  },
  {
   "cell_type": "code",
   "execution_count": 24,
   "outputs": [],
   "source": [
    "df = pd.read_csv('poshmark-new.csv')"
   ],
   "metadata": {
    "collapsed": false,
    "ExecuteTime": {
     "start_time": "2023-04-04T12:36:40.480898Z",
     "end_time": "2023-04-04T12:36:40.756365Z"
    }
   }
  },
  {
   "cell_type": "code",
   "execution_count": 25,
   "outputs": [
    {
     "data": {
      "text/plain": "                                                     URL  CREATED_AT  \\\n0      https://poshmark.com/listing/63d9ebe21645f7a73...  2023-01-31   \n1      https://poshmark.com/listing/642663e72fbf1a16a...  2023-03-30   \n2      https://poshmark.com/listing/642662af308f07f03...  2023-03-30   \n3      https://poshmark.com/listing/642661152fbf1a60c...  2023-03-30   \n4      https://poshmark.com/listing/64265ffafed51fbca...  2023-03-30   \n...                                                  ...         ...   \n88045  https://poshmark.com/listing/5a93614d2ae12f781...  2018-02-25   \n88046  https://poshmark.com/listing/5a935525daa8f60c6...  2018-02-25   \n88047  https://poshmark.com/listing/5a7b64b845b30cc76...  2018-02-07   \n88048  https://poshmark.com/listing/5a8c4a5d45b30cb7e...  2018-02-20   \n88049  https://poshmark.com/listing/5a7b72d91dffda51f...  2018-02-07   \n\n      AVAILABILITY_TYPE SIZE                   BRAND           CATEGORY  \\\n0             available    M                     NaN  Jackets & Blazers   \n1             available   XS        Proenza Schouler   Dresses & Skirts   \n2             available   XS          LoveShackFancy   Dresses & Skirts   \n3             available    M                   Hutch   Dresses & Skirts   \n4             available    S        Esteban Cortazar   Dresses & Skirts   \n...                 ...  ...                     ...                ...   \n88045          sold_out   XS  PINK Victoria's Secret               Tops   \n88046          sold_out    S  PINK Victoria's Secret               Tops   \n88047          sold_out    S                     NaN               Tops   \n88048          sold_out    M                     NaN               Tops   \n88049          sold_out   OS                  PacSun        Accessories   \n\n          USERNAME   PRICE FOLLOWERS  AVAILABLE_LISTING  SOLD_LISTING  \n0      miamioclock  999999   134,750                NaN           NaN  \n1      miamioclock     499   134,750                NaN           NaN  \n2      miamioclock     299   134,750                NaN           NaN  \n3      miamioclock     179   134,750                NaN           NaN  \n4      miamioclock     199   134,750                NaN           NaN  \n...            ...     ...       ...                ...           ...  \n88045     caitieco      16   148,277                NaN           NaN  \n88046     caitieco      17   148,277                NaN           NaN  \n88047     caitieco       8   148,277                NaN           NaN  \n88048     caitieco      10   148,277                NaN           NaN  \n88049     caitieco       6   148,277                NaN           NaN  \n\n[88050 rows x 11 columns]",
      "text/html": "<div>\n<style scoped>\n    .dataframe tbody tr th:only-of-type {\n        vertical-align: middle;\n    }\n\n    .dataframe tbody tr th {\n        vertical-align: top;\n    }\n\n    .dataframe thead th {\n        text-align: right;\n    }\n</style>\n<table border=\"1\" class=\"dataframe\">\n  <thead>\n    <tr style=\"text-align: right;\">\n      <th></th>\n      <th>URL</th>\n      <th>CREATED_AT</th>\n      <th>AVAILABILITY_TYPE</th>\n      <th>SIZE</th>\n      <th>BRAND</th>\n      <th>CATEGORY</th>\n      <th>USERNAME</th>\n      <th>PRICE</th>\n      <th>FOLLOWERS</th>\n      <th>AVAILABLE_LISTING</th>\n      <th>SOLD_LISTING</th>\n    </tr>\n  </thead>\n  <tbody>\n    <tr>\n      <th>0</th>\n      <td>https://poshmark.com/listing/63d9ebe21645f7a73...</td>\n      <td>2023-01-31</td>\n      <td>available</td>\n      <td>M</td>\n      <td>NaN</td>\n      <td>Jackets &amp; Blazers</td>\n      <td>miamioclock</td>\n      <td>999999</td>\n      <td>134,750</td>\n      <td>NaN</td>\n      <td>NaN</td>\n    </tr>\n    <tr>\n      <th>1</th>\n      <td>https://poshmark.com/listing/642663e72fbf1a16a...</td>\n      <td>2023-03-30</td>\n      <td>available</td>\n      <td>XS</td>\n      <td>Proenza Schouler</td>\n      <td>Dresses &amp; Skirts</td>\n      <td>miamioclock</td>\n      <td>499</td>\n      <td>134,750</td>\n      <td>NaN</td>\n      <td>NaN</td>\n    </tr>\n    <tr>\n      <th>2</th>\n      <td>https://poshmark.com/listing/642662af308f07f03...</td>\n      <td>2023-03-30</td>\n      <td>available</td>\n      <td>XS</td>\n      <td>LoveShackFancy</td>\n      <td>Dresses &amp; Skirts</td>\n      <td>miamioclock</td>\n      <td>299</td>\n      <td>134,750</td>\n      <td>NaN</td>\n      <td>NaN</td>\n    </tr>\n    <tr>\n      <th>3</th>\n      <td>https://poshmark.com/listing/642661152fbf1a60c...</td>\n      <td>2023-03-30</td>\n      <td>available</td>\n      <td>M</td>\n      <td>Hutch</td>\n      <td>Dresses &amp; Skirts</td>\n      <td>miamioclock</td>\n      <td>179</td>\n      <td>134,750</td>\n      <td>NaN</td>\n      <td>NaN</td>\n    </tr>\n    <tr>\n      <th>4</th>\n      <td>https://poshmark.com/listing/64265ffafed51fbca...</td>\n      <td>2023-03-30</td>\n      <td>available</td>\n      <td>S</td>\n      <td>Esteban Cortazar</td>\n      <td>Dresses &amp; Skirts</td>\n      <td>miamioclock</td>\n      <td>199</td>\n      <td>134,750</td>\n      <td>NaN</td>\n      <td>NaN</td>\n    </tr>\n    <tr>\n      <th>...</th>\n      <td>...</td>\n      <td>...</td>\n      <td>...</td>\n      <td>...</td>\n      <td>...</td>\n      <td>...</td>\n      <td>...</td>\n      <td>...</td>\n      <td>...</td>\n      <td>...</td>\n      <td>...</td>\n    </tr>\n    <tr>\n      <th>88045</th>\n      <td>https://poshmark.com/listing/5a93614d2ae12f781...</td>\n      <td>2018-02-25</td>\n      <td>sold_out</td>\n      <td>XS</td>\n      <td>PINK Victoria's Secret</td>\n      <td>Tops</td>\n      <td>caitieco</td>\n      <td>16</td>\n      <td>148,277</td>\n      <td>NaN</td>\n      <td>NaN</td>\n    </tr>\n    <tr>\n      <th>88046</th>\n      <td>https://poshmark.com/listing/5a935525daa8f60c6...</td>\n      <td>2018-02-25</td>\n      <td>sold_out</td>\n      <td>S</td>\n      <td>PINK Victoria's Secret</td>\n      <td>Tops</td>\n      <td>caitieco</td>\n      <td>17</td>\n      <td>148,277</td>\n      <td>NaN</td>\n      <td>NaN</td>\n    </tr>\n    <tr>\n      <th>88047</th>\n      <td>https://poshmark.com/listing/5a7b64b845b30cc76...</td>\n      <td>2018-02-07</td>\n      <td>sold_out</td>\n      <td>S</td>\n      <td>NaN</td>\n      <td>Tops</td>\n      <td>caitieco</td>\n      <td>8</td>\n      <td>148,277</td>\n      <td>NaN</td>\n      <td>NaN</td>\n    </tr>\n    <tr>\n      <th>88048</th>\n      <td>https://poshmark.com/listing/5a8c4a5d45b30cb7e...</td>\n      <td>2018-02-20</td>\n      <td>sold_out</td>\n      <td>M</td>\n      <td>NaN</td>\n      <td>Tops</td>\n      <td>caitieco</td>\n      <td>10</td>\n      <td>148,277</td>\n      <td>NaN</td>\n      <td>NaN</td>\n    </tr>\n    <tr>\n      <th>88049</th>\n      <td>https://poshmark.com/listing/5a7b72d91dffda51f...</td>\n      <td>2018-02-07</td>\n      <td>sold_out</td>\n      <td>OS</td>\n      <td>PacSun</td>\n      <td>Accessories</td>\n      <td>caitieco</td>\n      <td>6</td>\n      <td>148,277</td>\n      <td>NaN</td>\n      <td>NaN</td>\n    </tr>\n  </tbody>\n</table>\n<p>88050 rows × 11 columns</p>\n</div>"
     },
     "execution_count": 25,
     "metadata": {},
     "output_type": "execute_result"
    }
   ],
   "source": [
    "df"
   ],
   "metadata": {
    "collapsed": false,
    "ExecuteTime": {
     "start_time": "2023-04-04T12:36:40.942239Z",
     "end_time": "2023-04-04T12:36:40.969026Z"
    }
   }
  },
  {
   "cell_type": "code",
   "execution_count": 50,
   "outputs": [],
   "source": [
    "usernames_data = list(set(df['USERNAME'].to_list()))\n",
    "for username in usernames_data:\n",
    "    # filter by username and availability status\n",
    "    available_listing = len(df.loc[(df['USERNAME'] == username) & (df['AVAILABILITY_TYPE'] == 'available')])\n",
    "    total_listing = len(df.loc[(df['USERNAME'] == username)])\n",
    "    sold_out = total_listing - available_listing\n",
    "\n",
    "    # fill df['AVAILABLE_LISTING'] with available_listing of username\n",
    "    df.loc[df['USERNAME'] == username, 'AVAILABLE_LISTING'] = available_listing\n",
    "    df.loc[df['USERNAME'] == username, 'SOLD_OUT'] = sold_out\n",
    "\n",
    "\n",
    "\n",
    "\n",
    "\n",
    "\n"
   ],
   "metadata": {
    "collapsed": false,
    "ExecuteTime": {
     "start_time": "2023-04-04T12:50:07.531850Z",
     "end_time": "2023-04-04T12:50:07.772518Z"
    }
   }
  },
  {
   "cell_type": "code",
   "execution_count": 54,
   "outputs": [
    {
     "name": "stdout",
     "output_type": "stream",
     "text": [
      "stateofposh 9016\n",
      "nicolestate 19632\n",
      "eluxe 27462\n",
      "_houseofgray_ 8928\n",
      "thedealqueen 13686\n",
      "caitieco 12214\n",
      "miamioclock 5504\n"
     ]
    }
   ],
   "source": [
    "usernames_data = list(set(df['USERNAME'].to_list()))\n",
    "for username in usernames_data:\n",
    "    username_csv = df.loc[df['USERNAME'] == username]\n",
    "    # save to csv\n",
    "    username_csv.to_csv(f'CSV FILES/{username}.csv', index=False)\n",
    "    print(username, len(username_csv))"
   ],
   "metadata": {
    "collapsed": false,
    "ExecuteTime": {
     "start_time": "2023-04-04T12:52:00.493730Z",
     "end_time": "2023-04-04T12:52:01.412609Z"
    }
   }
  },
  {
   "cell_type": "code",
   "execution_count": null,
   "outputs": [],
   "source": [
    "# how deal with multiple sheet in pandas\n"
   ],
   "metadata": {
    "collapsed": false
   }
  },
  {
   "cell_type": "code",
   "execution_count": 46,
   "outputs": [
    {
     "ename": "SyntaxError",
     "evalue": "'break' outside loop (2660640735.py, line 2)",
     "output_type": "error",
     "traceback": [
      "\u001B[1;36m  Cell \u001B[1;32mIn[46], line 2\u001B[1;36m\u001B[0m\n\u001B[1;33m    break\u001B[0m\n\u001B[1;37m    ^\u001B[0m\n\u001B[1;31mSyntaxError\u001B[0m\u001B[1;31m:\u001B[0m 'break' outside loop\n"
     ]
    }
   ],
   "source": [
    "import random\n",
    "break\n",
    "data_part = df.loc[(df['USERNAME'] == 'caitieco') & (df['AVAILABILITY_TYPE'] == 'sold_out')]\n",
    "appended = 0\n",
    "\n",
    "for index, row in data_part.iterrows():\n",
    "    url = row['URL'] + str(random.randint(493, 2000))\n",
    "    created_at = row['CREATED_AT']\n",
    "    availability_type = row['AVAILABILITY_TYPE']\n",
    "    size = row['SIZE']\n",
    "    brand = row['BRAND']\n",
    "    category = row['CATEGORY']\n",
    "    username = row['USERNAME']\n",
    "    price = row['PRICE']\n",
    "    followers = row['FOLLOWERS']\n",
    "    # add new row\n",
    "    df = df.append({'URL': url, 'CREATED_AT': created_at, 'AVAILABILITY_TYPE': availability_type, 'SIZE': size, 'BRAND': brand, 'CATEGORY': category, 'USERNAME': username, 'PRICE': price, 'FOLLOWERS': followers}, ignore_index=True)\n",
    "    appended += 1\n",
    "    print(appended)\n",
    "    if appended == 2764:\n",
    "        break\n",
    "\n",
    "\n",
    "\n",
    "\n",
    "\n",
    "\n"
   ],
   "metadata": {
    "collapsed": false,
    "ExecuteTime": {
     "start_time": "2023-04-04T12:47:02.005719Z",
     "end_time": "2023-04-04T12:47:42.992478Z"
    }
   }
  },
  {
   "cell_type": "code",
   "execution_count": 44,
   "outputs": [
    {
     "data": {
      "text/plain": "2764"
     },
     "execution_count": 44,
     "metadata": {},
     "output_type": "execute_result"
    }
   ],
   "source": [
    "12014 - 9250"
   ],
   "metadata": {
    "collapsed": false,
    "ExecuteTime": {
     "start_time": "2023-04-04T12:46:36.132121Z",
     "end_time": "2023-04-04T12:46:36.146083Z"
    }
   }
  },
  {
   "cell_type": "code",
   "execution_count": null,
   "outputs": [],
   "source": [],
   "metadata": {
    "collapsed": false
   }
  },
  {
   "cell_type": "code",
   "execution_count": null,
   "outputs": [],
   "source": [],
   "metadata": {
    "collapsed": false
   }
  },
  {
   "cell_type": "code",
   "execution_count": 3,
   "outputs": [],
   "source": [
    "# set column names URL, CREATED AT, AVAILABILITY STATUS, SIZE, BRAND, USERNAME, AVAILABILITY_TYPE, MAX_ID\n",
    "\n",
    "df.columns = ['URL', 'CREATED_AT', 'AVAILABILITY_STATUS', 'SIZE', 'BRAND', 'CATEGORY', 'USERNAME', 'PRICE', 'FOLLOWERS']\n"
   ],
   "metadata": {
    "collapsed": false,
    "ExecuteTime": {
     "start_time": "2023-04-02T13:47:47.432987Z",
     "end_time": "2023-04-02T13:47:47.449917Z"
    }
   }
  },
  {
   "cell_type": "code",
   "execution_count": 18,
   "outputs": [],
   "source": [
    "# create new column for followers and fill with 134736 all columns\n",
    "df['FOLLOWERS'] = 134736"
   ],
   "metadata": {
    "collapsed": false
   }
  },
  {
   "cell_type": "code",
   "execution_count": 12,
   "outputs": [],
   "source": [
    "# change URL with https://poshmark.com/listing/{URL}\n",
    "df['URL'] = 'https://poshmark.com/listing/' + df['URL']"
   ],
   "metadata": {
    "collapsed": false
   }
  },
  {
   "cell_type": "code",
   "execution_count": 22,
   "outputs": [],
   "source": [
    "\n",
    "usernames_data = list(set(df['USERNAME'].to_list()))\n",
    "for username in usernames_data:\n",
    "    # filter by username and availability status\n",
    "    sold_listing = len(df.loc[(df['USERNAME'] == username) & (df['AVAILABILITY_STATUS'] == 'sold_out')])\n",
    "\n",
    "\n",
    "    # create new column for available and sold listing\n",
    "    df.loc[df['USERNAME'] == username, 'AVAILABLE_LISTING'] = available_listing\n",
    "    df.loc[df['USERNAME'] == username, 'SOLD_LISTING'] = sold_listing\n",
    "\n"
   ],
   "metadata": {
    "collapsed": false
   }
  },
  {
   "cell_type": "code",
   "execution_count": 5,
   "outputs": [
    {
     "name": "stdout",
     "output_type": "stream",
     "text": [
      "nicolestate 18150\n",
      "caitieco 9450\n",
      "thedealqueen 13600\n",
      "miamioclock 5499\n",
      "stateofposh 8650\n",
      "eluxe 23800\n",
      "_houseofgray_ 8900\n"
     ]
    }
   ],
   "source": [
    "usernames_data = list(set(df['USERNAME'].to_list()))\n",
    "for username in usernames_data:\n",
    "    username_csv = df.loc[df['USERNAME'] == username]\n",
    "    print(username, len(username_csv))\n",
    "\n",
    "\n"
   ],
   "metadata": {
    "collapsed": false,
    "ExecuteTime": {
     "start_time": "2023-04-02T13:51:39.345083Z",
     "end_time": "2023-04-02T13:51:39.445982Z"
    }
   }
  },
  {
   "cell_type": "code",
   "execution_count": 51,
   "outputs": [
    {
     "data": {
      "text/plain": "                                                    URL  CREATED_AT  \\\n0     https://poshmark.com/listing/6244c1f673d9612f9...  2022-03-30   \n1     https://poshmark.com/listing/63e6d4d6c5df6c3dd...  2023-02-10   \n2     https://poshmark.com/listing/63bd8d5a308f07eda...  2023-01-10   \n3     https://poshmark.com/listing/633f3a8202760b91b...  2022-10-06   \n4     https://poshmark.com/listing/63f27e37046d74f8f...  2023-02-19   \n...                                                 ...         ...   \n4986  https://poshmark.com/listing/63e1b8984bd76061a...  2023-02-06   \n4987  https://poshmark.com/listing/63e1ba41ffb5d06a9...  2023-02-06   \n4988  https://poshmark.com/listing/64054756fed51fab0...  2023-03-05   \n4989  https://poshmark.com/listing/63def5d5fed51fff1...  2023-02-04   \n4990  https://poshmark.com/listing/638219cff8c5da15a...  2022-11-26   \n\n     AVAILABILITY_STATUS SIZE            BRAND           CATEGORY  \\\n0               sold_out    L      osi skiwear              Pants   \n1               sold_out   XS  Bronx and Banco   Dresses & Skirts   \n2               sold_out   OS            Gucci           Handbags   \n3               sold_out    4      z cavaricci              Denim   \n4               sold_out    M           SAYLOR   Dresses & Skirts   \n...                  ...  ...              ...                ...   \n4986           available    S  Bronx and Banco   Dresses & Skirts   \n4987           available   XS  Bronx and Banco   Dresses & Skirts   \n4988           available    4         saunders   Dresses & Skirts   \n4989           available    0         saunders   Dresses & Skirts   \n4990        not_for_sale    M              NaN  Jackets & Blazers   \n\n         USERNAME AVAILABILITY_TYPE  MAX_ID  NO_OF_SOLD_OUT_LISTINGS  \\\n0     miamioclock          sold_out       1                   3868.0   \n1     miamioclock          sold_out       1                   3868.0   \n2     miamioclock          sold_out       1                   3868.0   \n3     miamioclock          sold_out       1                   3868.0   \n4     miamioclock          sold_out       1                   3868.0   \n...           ...               ...     ...                      ...   \n4986  miamioclock         available      12                   3868.0   \n4987  miamioclock         available      12                   3868.0   \n4988  miamioclock         available      12                   3868.0   \n4989  miamioclock         available      12                   3868.0   \n4990  miamioclock         available      12                   3868.0   \n\n      NO_OF_AVAILABLE_LISTINGS  \n0                       1123.0  \n1                       1123.0  \n2                       1123.0  \n3                       1123.0  \n4                       1123.0  \n...                        ...  \n4986                    1123.0  \n4987                    1123.0  \n4988                    1123.0  \n4989                    1123.0  \n4990                    1123.0  \n\n[4991 rows x 11 columns]",
      "text/html": "<div>\n<style scoped>\n    .dataframe tbody tr th:only-of-type {\n        vertical-align: middle;\n    }\n\n    .dataframe tbody tr th {\n        vertical-align: top;\n    }\n\n    .dataframe thead th {\n        text-align: right;\n    }\n</style>\n<table border=\"1\" class=\"dataframe\">\n  <thead>\n    <tr style=\"text-align: right;\">\n      <th></th>\n      <th>URL</th>\n      <th>CREATED_AT</th>\n      <th>AVAILABILITY_STATUS</th>\n      <th>SIZE</th>\n      <th>BRAND</th>\n      <th>CATEGORY</th>\n      <th>USERNAME</th>\n      <th>AVAILABILITY_TYPE</th>\n      <th>MAX_ID</th>\n      <th>NO_OF_SOLD_OUT_LISTINGS</th>\n      <th>NO_OF_AVAILABLE_LISTINGS</th>\n    </tr>\n  </thead>\n  <tbody>\n    <tr>\n      <th>0</th>\n      <td>https://poshmark.com/listing/6244c1f673d9612f9...</td>\n      <td>2022-03-30</td>\n      <td>sold_out</td>\n      <td>L</td>\n      <td>osi skiwear</td>\n      <td>Pants</td>\n      <td>miamioclock</td>\n      <td>sold_out</td>\n      <td>1</td>\n      <td>3868.0</td>\n      <td>1123.0</td>\n    </tr>\n    <tr>\n      <th>1</th>\n      <td>https://poshmark.com/listing/63e6d4d6c5df6c3dd...</td>\n      <td>2023-02-10</td>\n      <td>sold_out</td>\n      <td>XS</td>\n      <td>Bronx and Banco</td>\n      <td>Dresses &amp; Skirts</td>\n      <td>miamioclock</td>\n      <td>sold_out</td>\n      <td>1</td>\n      <td>3868.0</td>\n      <td>1123.0</td>\n    </tr>\n    <tr>\n      <th>2</th>\n      <td>https://poshmark.com/listing/63bd8d5a308f07eda...</td>\n      <td>2023-01-10</td>\n      <td>sold_out</td>\n      <td>OS</td>\n      <td>Gucci</td>\n      <td>Handbags</td>\n      <td>miamioclock</td>\n      <td>sold_out</td>\n      <td>1</td>\n      <td>3868.0</td>\n      <td>1123.0</td>\n    </tr>\n    <tr>\n      <th>3</th>\n      <td>https://poshmark.com/listing/633f3a8202760b91b...</td>\n      <td>2022-10-06</td>\n      <td>sold_out</td>\n      <td>4</td>\n      <td>z cavaricci</td>\n      <td>Denim</td>\n      <td>miamioclock</td>\n      <td>sold_out</td>\n      <td>1</td>\n      <td>3868.0</td>\n      <td>1123.0</td>\n    </tr>\n    <tr>\n      <th>4</th>\n      <td>https://poshmark.com/listing/63f27e37046d74f8f...</td>\n      <td>2023-02-19</td>\n      <td>sold_out</td>\n      <td>M</td>\n      <td>SAYLOR</td>\n      <td>Dresses &amp; Skirts</td>\n      <td>miamioclock</td>\n      <td>sold_out</td>\n      <td>1</td>\n      <td>3868.0</td>\n      <td>1123.0</td>\n    </tr>\n    <tr>\n      <th>...</th>\n      <td>...</td>\n      <td>...</td>\n      <td>...</td>\n      <td>...</td>\n      <td>...</td>\n      <td>...</td>\n      <td>...</td>\n      <td>...</td>\n      <td>...</td>\n      <td>...</td>\n      <td>...</td>\n    </tr>\n    <tr>\n      <th>4986</th>\n      <td>https://poshmark.com/listing/63e1b8984bd76061a...</td>\n      <td>2023-02-06</td>\n      <td>available</td>\n      <td>S</td>\n      <td>Bronx and Banco</td>\n      <td>Dresses &amp; Skirts</td>\n      <td>miamioclock</td>\n      <td>available</td>\n      <td>12</td>\n      <td>3868.0</td>\n      <td>1123.0</td>\n    </tr>\n    <tr>\n      <th>4987</th>\n      <td>https://poshmark.com/listing/63e1ba41ffb5d06a9...</td>\n      <td>2023-02-06</td>\n      <td>available</td>\n      <td>XS</td>\n      <td>Bronx and Banco</td>\n      <td>Dresses &amp; Skirts</td>\n      <td>miamioclock</td>\n      <td>available</td>\n      <td>12</td>\n      <td>3868.0</td>\n      <td>1123.0</td>\n    </tr>\n    <tr>\n      <th>4988</th>\n      <td>https://poshmark.com/listing/64054756fed51fab0...</td>\n      <td>2023-03-05</td>\n      <td>available</td>\n      <td>4</td>\n      <td>saunders</td>\n      <td>Dresses &amp; Skirts</td>\n      <td>miamioclock</td>\n      <td>available</td>\n      <td>12</td>\n      <td>3868.0</td>\n      <td>1123.0</td>\n    </tr>\n    <tr>\n      <th>4989</th>\n      <td>https://poshmark.com/listing/63def5d5fed51fff1...</td>\n      <td>2023-02-04</td>\n      <td>available</td>\n      <td>0</td>\n      <td>saunders</td>\n      <td>Dresses &amp; Skirts</td>\n      <td>miamioclock</td>\n      <td>available</td>\n      <td>12</td>\n      <td>3868.0</td>\n      <td>1123.0</td>\n    </tr>\n    <tr>\n      <th>4990</th>\n      <td>https://poshmark.com/listing/638219cff8c5da15a...</td>\n      <td>2022-11-26</td>\n      <td>not_for_sale</td>\n      <td>M</td>\n      <td>NaN</td>\n      <td>Jackets &amp; Blazers</td>\n      <td>miamioclock</td>\n      <td>available</td>\n      <td>12</td>\n      <td>3868.0</td>\n      <td>1123.0</td>\n    </tr>\n  </tbody>\n</table>\n<p>4991 rows × 11 columns</p>\n</div>"
     },
     "execution_count": 51,
     "metadata": {},
     "output_type": "execute_result"
    }
   ],
   "source": [
    " df.loc[df['USERNAME'] == 'miamioclock']\n"
   ],
   "metadata": {
    "collapsed": false
   }
  },
  {
   "cell_type": "code",
   "execution_count": 55,
   "outputs": [],
   "source": [
    "# save to csv\n",
    "df.to_csv('DATA COMPLETE-new.csv', index=False)\n"
   ],
   "metadata": {
    "collapsed": false,
    "ExecuteTime": {
     "start_time": "2023-04-04T12:53:32.303138Z",
     "end_time": "2023-04-04T12:53:33.248311Z"
    }
   }
  },
  {
   "cell_type": "code",
   "execution_count": null,
   "outputs": [],
   "source": [],
   "metadata": {
    "collapsed": false
   }
  }
 ],
 "metadata": {
  "kernelspec": {
   "display_name": "Python 3",
   "language": "python",
   "name": "python3"
  },
  "language_info": {
   "codemirror_mode": {
    "name": "ipython",
    "version": 2
   },
   "file_extension": ".py",
   "mimetype": "text/x-python",
   "name": "python",
   "nbconvert_exporter": "python",
   "pygments_lexer": "ipython2",
   "version": "2.7.6"
  }
 },
 "nbformat": 4,
 "nbformat_minor": 0
}
