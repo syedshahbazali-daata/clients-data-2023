{
 "cells": [
  {
   "cell_type": "code",
   "execution_count": 1,
   "metadata": {
    "collapsed": true,
    "ExecuteTime": {
     "end_time": "2023-07-03T00:00:54.402451500Z",
     "start_time": "2023-07-03T00:00:52.300253700Z"
    }
   },
   "outputs": [],
   "source": [
    "import os\n",
    "import time, csv\n",
    "from datetime import datetime\n",
    "\n",
    "import pyautogui\n",
    "from selenium import webdriver\n",
    "from selenium.webdriver import ActionChains\n",
    "from selenium.webdriver.common.by import By\n",
    "import undetected_chromedriver as uc\n",
    "from selenium.webdriver.support.wait import WebDriverWait\n",
    "from selenium.webdriver.support import expected_conditions as EC\n",
    "\n",
    "\n",
    "########################################################################################################################\n",
    "# Functions\n",
    "\n",
    "def get_file_data(file_name):\n",
    "    with open(file_name, 'r', encoding='utf-8') as file:\n",
    "        data = file.read().strip().split('\\n')\n",
    "    return data\n",
    "\n",
    "\n",
    "def find_element_send_text(ele, text, clear=True):\n",
    "    while True:\n",
    "        try:\n",
    "            input_field = driver.find_element(By.XPATH, ele)\n",
    "            if clear:\n",
    "                input_field.clear()\n",
    "            input_field.send_keys(text)\n",
    "\n",
    "            break\n",
    "        except:\n",
    "            time.sleep(0.1)\n",
    "\n",
    "\n",
    "def specific_clicker(ele):\n",
    "    while True:\n",
    "        try:\n",
    "            element = driver.find_element(By.XPATH, ele)\n",
    "            webdriver.ActionChains(driver).move_to_element_with_offset(element, 1, 0).click(element).perform()\n",
    "\n",
    "            break\n",
    "        except Exception as e:\n",
    "            # print(e)\n",
    "            pass\n",
    "\n",
    "\n",
    "def specific_clicker2(ele):\n",
    "    try:\n",
    "        element = driver.find_element(By.XPATH, ele)\n",
    "        webdriver.ActionChains(driver).move_to_element_with_offset(element, 1, 0).click(element).perform()\n",
    "\n",
    "    except Exception as e:\n",
    "        # print(e)\n",
    "        pass\n",
    "\n",
    "\n",
    "def get_text(ele):\n",
    "    while True:\n",
    "        try:\n",
    "            element = driver.find_elements(By.XPATH, ele)\n",
    "            texts = [str(x.text) for x in element]\n",
    "            return texts\n",
    "        except Exception as e:\n",
    "            # print(e)\n",
    "            pass\n",
    "\n",
    "\n",
    "def close_chrome():\n",
    "    import os\n",
    "    try:\n",
    "        os.system(\"taskkill /im chrome.exe /f\")\n",
    "    except:\n",
    "        pass\n",
    "\n",
    "\n",
    "def data_scraper(search_term):\n",
    "    url = \"\"\n",
    "    driver.get(url)\n",
    "    time.sleep(1)\n",
    "\n",
    "    specific_clicker(\"//button[@class='btn btn-primary']\")\n",
    "    time.sleep(1)\n",
    "    data = []\n",
    "    for i in range(1, 100):\n",
    "        try:\n",
    "            data.append(get_text(f\"//div[@class='col-md-12']//div[{i}]//div[@class='card-body']//h5\"))\n",
    "        except:\n",
    "            break\n",
    "    return data\n",
    "\n"
   ]
  },
  {
   "cell_type": "code",
   "execution_count": 15,
   "outputs": [],
   "source": [
    "#close_chrome()\n",
    "options = uc.ChromeOptions()\n",
    "\n",
    "options.add_argument(\"--headless\")\n",
    "# # use profile of chrome\n",
    "# proifle_path = os.path.join(os.environ['USERPROFILE'], 'AppData', 'Local', 'Google', 'Chrome', 'User Data')\n",
    "# options.add_argument(f\"--user-data-dir={proifle_path}\")\n",
    "# # select default profile\n",
    "# options.add_argument(\"--profile-directory=Profile 1\")\n",
    "# # remove extensions\n",
    "driver = uc.Chrome(options=options)\n",
    "driver.maximize_window()"
   ],
   "metadata": {
    "collapsed": false,
    "ExecuteTime": {
     "end_time": "2023-07-03T00:07:15.198818100Z",
     "start_time": "2023-07-03T00:07:04.317457400Z"
    }
   }
  },
  {
   "cell_type": "code",
   "execution_count": 32,
   "outputs": [],
   "source": [
    "# //div[@id=\"resultsColumn\"]//div[@data-hero-element-id]//a[@data-testid=\"property-card-link\"]"
   ],
   "metadata": {
    "collapsed": false,
    "ExecuteTime": {
     "end_time": "2023-06-29T19:57:56.191119600Z",
     "start_time": "2023-06-29T19:57:56.150288200Z"
    }
   }
  },
  {
   "cell_type": "code",
   "execution_count": 16,
   "outputs": [
    {
     "name": "stdout",
     "output_type": "stream",
     "text": [
      "https://www.trulia.com/p/dc/washington/1320-belmont-st-nw-101-washington-dc-20009--2709558787\n"
     ]
    }
   ],
   "source": [
    "driver.get(\"https://www.trulia.com/p/dc/washington/1320-belmont-st-nw-101-washington-dc-20009--2709558787\")\n",
    "print(driver.current_url)\n",
    "# scroll to bottom\n"
   ],
   "metadata": {
    "collapsed": false,
    "ExecuteTime": {
     "end_time": "2023-07-03T00:07:17.005618300Z",
     "start_time": "2023-07-03T00:07:15.202807300Z"
    }
   }
  },
  {
   "cell_type": "code",
   "execution_count": 12,
   "outputs": [],
   "source": [
    "driver.execute_script(\"window.scrollTo(0, document.body.scrollHeight);\")\n",
    "property_urls =driver.find_elements(By.XPATH, '//div[@id=\"resultsColumn\"]//div[@data-hero-element-id]//a[@data-testid=\"property-card-link\"]')\n",
    "property_urls = [x.get_attribute(\"href\") for x in property_urls]\n"
   ],
   "metadata": {
    "collapsed": false,
    "ExecuteTime": {
     "end_time": "2023-07-03T00:03:03.286273500Z",
     "start_time": "2023-07-03T00:03:03.011248Z"
    }
   }
  },
  {
   "cell_type": "code",
   "execution_count": 17,
   "outputs": [],
   "source": [
    "driver.quit()"
   ],
   "metadata": {
    "collapsed": false,
    "ExecuteTime": {
     "end_time": "2023-07-03T00:07:29.960540500Z",
     "start_time": "2023-07-03T00:07:29.311176300Z"
    }
   }
  },
  {
   "cell_type": "code",
   "execution_count": null,
   "outputs": [],
   "source": [],
   "metadata": {
    "collapsed": false
   }
  },
  {
   "cell_type": "code",
   "execution_count": 41,
   "outputs": [],
   "source": [
    "shadow_host1 = driver.find_element(By.CSS_SELECTOR, \"#b_sydConvCont > cib-serp\")\n",
    "shadow_root1 = driver.execute_script('return arguments[0].shadowRoot', shadow_host1)"
   ],
   "metadata": {
    "collapsed": false,
    "ExecuteTime": {
     "end_time": "2023-06-29T20:05:32.314049Z",
     "start_time": "2023-06-29T20:05:32.268862400Z"
    }
   }
  },
  {
   "cell_type": "code",
   "execution_count": 42,
   "outputs": [],
   "source": [
    "shadow_host2 = shadow_root1.find_element(By.CSS_SELECTOR, \"#cib-action-bar-main\")\n",
    "shadow_root2 = driver.execute_script('return arguments[0].shadowRoot', shadow_host2)\n",
    "\n"
   ],
   "metadata": {
    "collapsed": false,
    "ExecuteTime": {
     "end_time": "2023-06-29T20:05:33.323420600Z",
     "start_time": "2023-06-29T20:05:33.282578700Z"
    }
   }
  },
  {
   "cell_type": "code",
   "execution_count": null,
   "outputs": [],
   "source": [
    "\n",
    "\n"
   ],
   "metadata": {
    "collapsed": false
   }
  },
  {
   "cell_type": "code",
   "execution_count": 43,
   "outputs": [
    {
     "ename": "NoSuchElementException",
     "evalue": "Message: no such element: Unable to locate element: {\"method\":\"css selector\",\"selector\":\"#vs_fileinput\"}\n  (Session info: chrome=114.0.5735.199)\nStacktrace:\nBacktrace:\n\tGetHandleVerifier [0x00B6A813+48355]\n\t(No symbol) [0x00AFC4B1]\n\t(No symbol) [0x00A05358]\n\t(No symbol) [0x00A309A5]\n\t(No symbol) [0x00A30B8B]\n\t(No symbol) [0x00A29B11]\n\t(No symbol) [0x00A4A784]\n\t(No symbol) [0x00A29A36]\n\t(No symbol) [0x00A4AA94]\n\t(No symbol) [0x00A5C922]\n\t(No symbol) [0x00A4A536]\n\t(No symbol) [0x00A282DC]\n\t(No symbol) [0x00A293DD]\n\tGetHandleVerifier [0x00DCAABD+2539405]\n\tGetHandleVerifier [0x00E0A78F+2800735]\n\tGetHandleVerifier [0x00E0456C+2775612]\n\tGetHandleVerifier [0x00BF51E0+616112]\n\t(No symbol) [0x00B05F8C]\n\t(No symbol) [0x00B02328]\n\t(No symbol) [0x00B0240B]\n\t(No symbol) [0x00AF4FF7]\n\tBaseThreadInitThunk [0x756E00C9+25]\n\tRtlGetAppContainerNamedObjectPath [0x76FD7B4E+286]\n\tRtlGetAppContainerNamedObjectPath [0x76FD7B1E+238]\n",
     "output_type": "error",
     "traceback": [
      "\u001B[1;31m---------------------------------------------------------------------------\u001B[0m",
      "\u001B[1;31mNoSuchElementException\u001B[0m                    Traceback (most recent call last)",
      "Cell \u001B[1;32mIn[43], line 1\u001B[0m\n\u001B[1;32m----> 1\u001B[0m shadow_host3 \u001B[38;5;241m=\u001B[39m \u001B[43mshadow_root1\u001B[49m\u001B[38;5;241;43m.\u001B[39;49m\u001B[43mfind_element\u001B[49m\u001B[43m(\u001B[49m\u001B[43mBy\u001B[49m\u001B[38;5;241;43m.\u001B[39;49m\u001B[43mCSS_SELECTOR\u001B[49m\u001B[43m,\u001B[49m\u001B[43m \u001B[49m\u001B[38;5;124;43m'\u001B[39;49m\u001B[38;5;124;43m#vs_fileinput\u001B[39;49m\u001B[38;5;124;43m'\u001B[39;49m\u001B[43m)\u001B[49m\n\u001B[0;32m      2\u001B[0m shadow_root3 \u001B[38;5;241m=\u001B[39m driver\u001B[38;5;241m.\u001B[39mexecute_script(\u001B[38;5;124m'\u001B[39m\u001B[38;5;124mreturn arguments[0].shadowRoot\u001B[39m\u001B[38;5;124m'\u001B[39m, shadow_host3)\n",
      "File \u001B[1;32m~\\AppData\\Local\\Programs\\Python\\Python311\\Lib\\site-packages\\selenium\\webdriver\\remote\\shadowroot.py:53\u001B[0m, in \u001B[0;36mShadowRoot.find_element\u001B[1;34m(self, by, value)\u001B[0m\n\u001B[0;32m     50\u001B[0m     by \u001B[38;5;241m=\u001B[39m By\u001B[38;5;241m.\u001B[39mCSS_SELECTOR\n\u001B[0;32m     51\u001B[0m     value \u001B[38;5;241m=\u001B[39m \u001B[38;5;124mf\u001B[39m\u001B[38;5;124m'\u001B[39m\u001B[38;5;124m[name=\u001B[39m\u001B[38;5;124m\"\u001B[39m\u001B[38;5;132;01m{\u001B[39;00mvalue\u001B[38;5;132;01m}\u001B[39;00m\u001B[38;5;124m\"\u001B[39m\u001B[38;5;124m]\u001B[39m\u001B[38;5;124m'\u001B[39m\n\u001B[1;32m---> 53\u001B[0m \u001B[38;5;28;01mreturn\u001B[39;00m \u001B[38;5;28;43mself\u001B[39;49m\u001B[38;5;241;43m.\u001B[39;49m\u001B[43m_execute\u001B[49m\u001B[43m(\u001B[49m\u001B[43mCommand\u001B[49m\u001B[38;5;241;43m.\u001B[39;49m\u001B[43mFIND_ELEMENT_FROM_SHADOW_ROOT\u001B[49m\u001B[43m,\u001B[49m\u001B[43m \u001B[49m\u001B[43m{\u001B[49m\u001B[38;5;124;43m\"\u001B[39;49m\u001B[38;5;124;43musing\u001B[39;49m\u001B[38;5;124;43m\"\u001B[39;49m\u001B[43m:\u001B[49m\u001B[43m \u001B[49m\u001B[43mby\u001B[49m\u001B[43m,\u001B[49m\u001B[43m \u001B[49m\u001B[38;5;124;43m\"\u001B[39;49m\u001B[38;5;124;43mvalue\u001B[39;49m\u001B[38;5;124;43m\"\u001B[39;49m\u001B[43m:\u001B[49m\u001B[43m \u001B[49m\u001B[43mvalue\u001B[49m\u001B[43m}\u001B[49m\u001B[43m)\u001B[49m[\u001B[38;5;124m\"\u001B[39m\u001B[38;5;124mvalue\u001B[39m\u001B[38;5;124m\"\u001B[39m]\n",
      "File \u001B[1;32m~\\AppData\\Local\\Programs\\Python\\Python311\\Lib\\site-packages\\selenium\\webdriver\\remote\\shadowroot.py:82\u001B[0m, in \u001B[0;36mShadowRoot._execute\u001B[1;34m(self, command, params)\u001B[0m\n\u001B[0;32m     80\u001B[0m     params \u001B[38;5;241m=\u001B[39m {}\n\u001B[0;32m     81\u001B[0m params[\u001B[38;5;124m\"\u001B[39m\u001B[38;5;124mshadowId\u001B[39m\u001B[38;5;124m\"\u001B[39m] \u001B[38;5;241m=\u001B[39m \u001B[38;5;28mself\u001B[39m\u001B[38;5;241m.\u001B[39m_id\n\u001B[1;32m---> 82\u001B[0m \u001B[38;5;28;01mreturn\u001B[39;00m \u001B[38;5;28;43mself\u001B[39;49m\u001B[38;5;241;43m.\u001B[39;49m\u001B[43msession\u001B[49m\u001B[38;5;241;43m.\u001B[39;49m\u001B[43mexecute\u001B[49m\u001B[43m(\u001B[49m\u001B[43mcommand\u001B[49m\u001B[43m,\u001B[49m\u001B[43m \u001B[49m\u001B[43mparams\u001B[49m\u001B[43m)\u001B[49m\n",
      "File \u001B[1;32m~\\AppData\\Local\\Programs\\Python\\Python311\\Lib\\site-packages\\selenium\\webdriver\\remote\\webdriver.py:440\u001B[0m, in \u001B[0;36mWebDriver.execute\u001B[1;34m(self, driver_command, params)\u001B[0m\n\u001B[0;32m    438\u001B[0m response \u001B[38;5;241m=\u001B[39m \u001B[38;5;28mself\u001B[39m\u001B[38;5;241m.\u001B[39mcommand_executor\u001B[38;5;241m.\u001B[39mexecute(driver_command, params)\n\u001B[0;32m    439\u001B[0m \u001B[38;5;28;01mif\u001B[39;00m response:\n\u001B[1;32m--> 440\u001B[0m     \u001B[38;5;28;43mself\u001B[39;49m\u001B[38;5;241;43m.\u001B[39;49m\u001B[43merror_handler\u001B[49m\u001B[38;5;241;43m.\u001B[39;49m\u001B[43mcheck_response\u001B[49m\u001B[43m(\u001B[49m\u001B[43mresponse\u001B[49m\u001B[43m)\u001B[49m\n\u001B[0;32m    441\u001B[0m     response[\u001B[38;5;124m\"\u001B[39m\u001B[38;5;124mvalue\u001B[39m\u001B[38;5;124m\"\u001B[39m] \u001B[38;5;241m=\u001B[39m \u001B[38;5;28mself\u001B[39m\u001B[38;5;241m.\u001B[39m_unwrap_value(response\u001B[38;5;241m.\u001B[39mget(\u001B[38;5;124m\"\u001B[39m\u001B[38;5;124mvalue\u001B[39m\u001B[38;5;124m\"\u001B[39m, \u001B[38;5;28;01mNone\u001B[39;00m))\n\u001B[0;32m    442\u001B[0m     \u001B[38;5;28;01mreturn\u001B[39;00m response\n",
      "File \u001B[1;32m~\\AppData\\Local\\Programs\\Python\\Python311\\Lib\\site-packages\\selenium\\webdriver\\remote\\errorhandler.py:245\u001B[0m, in \u001B[0;36mErrorHandler.check_response\u001B[1;34m(self, response)\u001B[0m\n\u001B[0;32m    243\u001B[0m         alert_text \u001B[38;5;241m=\u001B[39m value[\u001B[38;5;124m\"\u001B[39m\u001B[38;5;124malert\u001B[39m\u001B[38;5;124m\"\u001B[39m]\u001B[38;5;241m.\u001B[39mget(\u001B[38;5;124m\"\u001B[39m\u001B[38;5;124mtext\u001B[39m\u001B[38;5;124m\"\u001B[39m)\n\u001B[0;32m    244\u001B[0m     \u001B[38;5;28;01mraise\u001B[39;00m exception_class(message, screen, stacktrace, alert_text)  \u001B[38;5;66;03m# type: ignore[call-arg]  # mypy is not smart enough here\u001B[39;00m\n\u001B[1;32m--> 245\u001B[0m \u001B[38;5;28;01mraise\u001B[39;00m exception_class(message, screen, stacktrace)\n",
      "\u001B[1;31mNoSuchElementException\u001B[0m: Message: no such element: Unable to locate element: {\"method\":\"css selector\",\"selector\":\"#vs_fileinput\"}\n  (Session info: chrome=114.0.5735.199)\nStacktrace:\nBacktrace:\n\tGetHandleVerifier [0x00B6A813+48355]\n\t(No symbol) [0x00AFC4B1]\n\t(No symbol) [0x00A05358]\n\t(No symbol) [0x00A309A5]\n\t(No symbol) [0x00A30B8B]\n\t(No symbol) [0x00A29B11]\n\t(No symbol) [0x00A4A784]\n\t(No symbol) [0x00A29A36]\n\t(No symbol) [0x00A4AA94]\n\t(No symbol) [0x00A5C922]\n\t(No symbol) [0x00A4A536]\n\t(No symbol) [0x00A282DC]\n\t(No symbol) [0x00A293DD]\n\tGetHandleVerifier [0x00DCAABD+2539405]\n\tGetHandleVerifier [0x00E0A78F+2800735]\n\tGetHandleVerifier [0x00E0456C+2775612]\n\tGetHandleVerifier [0x00BF51E0+616112]\n\t(No symbol) [0x00B05F8C]\n\t(No symbol) [0x00B02328]\n\t(No symbol) [0x00B0240B]\n\t(No symbol) [0x00AF4FF7]\n\tBaseThreadInitThunk [0x756E00C9+25]\n\tRtlGetAppContainerNamedObjectPath [0x76FD7B4E+286]\n\tRtlGetAppContainerNamedObjectPath [0x76FD7B1E+238]\n"
     ]
    }
   ],
   "source": [
    "shadow_host3 = shadow_root1.find_element(By.CSS_SELECTOR, '#vs_fileinput')\n",
    "shadow_root3 = driver.execute_script('return arguments[0].shadowRoot', shadow_host3)"
   ],
   "metadata": {
    "collapsed": false,
    "ExecuteTime": {
     "end_time": "2023-06-29T20:06:44.580535600Z",
     "start_time": "2023-06-29T20:06:44.477746300Z"
    }
   }
  },
  {
   "cell_type": "code",
   "execution_count": null,
   "outputs": [],
   "source": [],
   "metadata": {
    "collapsed": false
   }
  },
  {
   "cell_type": "code",
   "execution_count": null,
   "outputs": [],
   "source": [],
   "metadata": {
    "collapsed": false
   }
  },
  {
   "cell_type": "code",
   "execution_count": 3,
   "outputs": [],
   "source": [
    "\n",
    "driver.get(\"https://business.facebook.com/\")\n",
    "\n"
   ],
   "metadata": {
    "collapsed": false,
    "ExecuteTime": {
     "end_time": "2023-05-19T07:51:32.461994700Z",
     "start_time": "2023-05-19T07:51:32.285121300Z"
    }
   }
  },
  {
   "cell_type": "code",
   "execution_count": 3,
   "outputs": [],
   "source": [
    "time.sleep(1)\n",
    "specific_clicker(\"//*[text()='Create post']\")\n"
   ],
   "metadata": {
    "collapsed": false,
    "ExecuteTime": {
     "end_time": "2023-06-17T23:36:26.032404300Z",
     "start_time": "2023-06-17T23:36:24.026136200Z"
    }
   }
  },
  {
   "cell_type": "code",
   "execution_count": 5,
   "outputs": [],
   "source": [
    "specific_clicker(\"//*[text()='Schedule']\")\n"
   ],
   "metadata": {
    "collapsed": false,
    "ExecuteTime": {
     "end_time": "2023-06-17T23:37:33.454150800Z",
     "start_time": "2023-06-17T23:37:19.534521700Z"
    }
   }
  },
  {
   "cell_type": "code",
   "execution_count": 11,
   "outputs": [],
   "source": [
    "p_date = \"6/20/2023\"\n",
    "p_hour = \"12\"\n",
    "p_minute = \"00\"\n",
    "p_am_pm = \"am\"\n",
    "description = \"This is a test post\""
   ],
   "metadata": {
    "collapsed": false,
    "ExecuteTime": {
     "end_time": "2023-06-17T23:41:31.855620Z",
     "start_time": "2023-06-17T23:41:31.847636300Z"
    }
   }
  },
  {
   "cell_type": "code",
   "execution_count": 8,
   "outputs": [],
   "source": [
    "while True:\n",
    "    try:\n",
    "        driver.find_element(By.XPATH, '//*[@placeholder=\"mm/dd/yyyy\"]').clear()\n",
    "        driver.find_element(By.XPATH, '//*[@placeholder=\"mm/dd/yyyy\"]').send_keys(p_date)\n",
    "        break\n",
    "    except:\n",
    "        time.sleep(1)\n",
    "\n",
    "try:\n",
    "    driver.find_element(By.XPATH, '//input[@aria-label=\"hours\"]').send_keys(p_hour)\n",
    "    driver.find_element(By.XPATH, '//input[@aria-label=\"minutes\"]').send_keys(p_minute)\n",
    "    driver.find_element(By.XPATH, '//span[text()=\"AM\"]').send_keys(str(p_am_pm)[0].upper())\n",
    "except:\n",
    "    pass\n",
    "\n",
    "\n"
   ],
   "metadata": {
    "collapsed": false,
    "ExecuteTime": {
     "end_time": "2023-06-17T23:39:46.557351400Z",
     "start_time": "2023-06-17T23:39:45.011368Z"
    }
   }
  },
  {
   "cell_type": "code",
   "execution_count": 12,
   "outputs": [],
   "source": [
    "driver.find_element(By.XPATH,\n",
    "                    '//div[@aria-label=\"Write into the dialogue box to include text with your post.\"]').send_keys(\n",
    "    description)"
   ],
   "metadata": {
    "collapsed": false,
    "ExecuteTime": {
     "end_time": "2023-06-17T23:41:35.630504500Z",
     "start_time": "2023-06-17T23:41:34.843336Z"
    }
   }
  },
  {
   "cell_type": "code",
   "execution_count": 30,
   "outputs": [],
   "source": [
    "specific_clicker('//div[@aria-label=\"Select adding a video.\"]')\n",
    "specific_clicker(\"//*[text()='Upload from desktop']\")\n",
    "# search for file on desktop\n",
    "time.sleep(3)\n",
    "import pyautogui\n",
    "\n",
    "# open file explorer path\n",
    "\n",
    "path = r\"C:\\Users\\shahb\\PycharmProjects\\ClientsData\\tester\\test.mp4\"\n",
    "pyautogui.write(path)\n",
    "time.sleep(1)\n",
    "pyautogui.press('enter')\n",
    "\n",
    "specific_clicker(\"//*[@data-pagelet='BusinessComposerNonVideoFooterCard']//*[text()='Schedule']\")\n",
    "\n",
    "\n",
    "\n"
   ],
   "metadata": {
    "collapsed": false,
    "ExecuteTime": {
     "end_time": "2023-06-18T00:21:06.803024800Z",
     "start_time": "2023-06-18T00:21:01.120373600Z"
    }
   }
  },
  {
   "cell_type": "code",
   "execution_count": 26,
   "outputs": [],
   "source": [],
   "metadata": {
    "collapsed": false,
    "ExecuteTime": {
     "end_time": "2023-06-18T00:15:24.838019400Z",
     "start_time": "2023-06-18T00:15:22.575582900Z"
    }
   }
  },
  {
   "cell_type": "code",
   "execution_count": null,
   "outputs": [],
   "source": [],
   "metadata": {
    "collapsed": false
   }
  }
 ],
 "metadata": {
  "kernelspec": {
   "display_name": "Python 3",
   "language": "python",
   "name": "python3"
  },
  "language_info": {
   "codemirror_mode": {
    "name": "ipython",
    "version": 2
   },
   "file_extension": ".py",
   "mimetype": "text/x-python",
   "name": "python",
   "nbconvert_exporter": "python",
   "pygments_lexer": "ipython2",
   "version": "2.7.6"
  }
 },
 "nbformat": 4,
 "nbformat_minor": 0
}
